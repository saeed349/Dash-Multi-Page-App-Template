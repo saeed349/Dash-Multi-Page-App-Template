{
 "cells": [
  {
   "cell_type": "code",
   "execution_count": 39,
   "metadata": {},
   "outputs": [],
   "source": [
    "import pandas as pd\n",
    "import boto3\n",
    "import io"
   ]
  },
  {
   "cell_type": "code",
   "execution_count": 44,
   "metadata": {},
   "outputs": [
    {
     "name": "stdout",
     "output_type": "stream",
     "text": [
      "0\n",
      "python /usr/local/airflow/dags/q_pack/q_run/run_BT.py --fromdate='2016-1-1' --timeframe='d' --tickers=RELIANCE,TCS,HINDUNILVR,HDFCBANK,HDFC\n",
      "1\n",
      "python /usr/local/airflow/dags/q_pack/q_run/run_BT.py --fromdate='2016-1-1' --timeframe='d' --tickers=INFY,KOTAKBANK,BHARTIARTL,ITC,ICICIBANK\n",
      "2\n",
      "python /usr/local/airflow/dags/q_pack/q_run/run_BT.py --fromdate='2016-1-1' --timeframe='d' --tickers=SBIN,ASIANPAINT,DMART,BAJFINANCE,MARUTI\n",
      "3\n",
      "python /usr/local/airflow/dags/q_pack/q_run/run_BT.py --fromdate='2016-1-1' --timeframe='d' --tickers=HCLTECH,LT,WIPRO,AXISBANK,ULTRACEMCO\n",
      "4\n",
      "python /usr/local/airflow/dags/q_pack/q_run/run_BT.py --fromdate='2016-1-1' --timeframe='d' --tickers=HDFCLIFE,COALINDIA,ONGC,SUNPHARMA,NTPC\n",
      "5\n",
      "python /usr/local/airflow/dags/q_pack/q_run/run_BT.py --fromdate='2016-1-1' --timeframe='d' --tickers=POWERGRID,TITAN,DABUR,IOC,BAJAJFINSV\n",
      "6\n",
      "python /usr/local/airflow/dags/q_pack/q_run/run_BT.py --fromdate='2016-1-1' --timeframe='d' --tickers=PIDILITIND,BPCL,HINDZINC,BRITANNIA,SBILIFE\n",
      "7\n",
      "python /usr/local/airflow/dags/q_pack/q_run/run_BT.py --fromdate='2016-1-1' --timeframe='d' --tickers=SHREECEM,BAJAJ-AUTO,SBICARD,TECHM,GODREJCP\n",
      "8\n",
      "python /usr/local/airflow/dags/q_pack/q_run/run_BT.py --fromdate='2016-1-1' --timeframe='d' --tickers=DIVISLAB,DRREDDY,ICICIPRULI,ADANIPORTS,ICICIGI\n",
      "9\n",
      "python /usr/local/airflow/dags/q_pack/q_run/run_BT.py --fromdate='2016-1-1' --timeframe='d' --tickers=BERGEPAINT,HDFCAMC,GSKCONS,INDIGO,SIEMENS\n",
      "10\n",
      "python /usr/local/airflow/dags/q_pack/q_run/run_BT.py --fromdate='2016-1-1' --timeframe='d' --tickers=EICHERMOT,MARICO,M&M,JSWSTEEL,MCDOWELL-N\n",
      "11\n",
      "python /usr/local/airflow/dags/q_pack/q_run/run_BT.py --fromdate='2016-1-1' --timeframe='d' --tickers=GAIL,CIPLA,COLPAL,DLF,TORNTPHARM\n"
     ]
    },
    {
     "name": "stderr",
     "output_type": "stream",
     "text": [
      "/opt/conda/lib/python3.8/site-packages/ipykernel/ipkernel.py:287: DeprecationWarning: `should_run_async` will not call `transform_cell` automatically in the future. Please pass the result to `transformed_cell` argument and any exception that happen during thetransform in `preprocessing_exc_tuple` in IPython 7.17 and above.\n",
      "  and should_run_async(code)\n"
     ]
    }
   ],
   "source": [
    "number_of_dages = 4\n",
    "symbol_subset = 5\n",
    "\n",
    "list_ticker_list = [ticker_list[x:x+symbol_subset] for x in range(0, len(ticker_list), symbol_subset)]\n",
    "\n",
    "for i in range(len(list_ticker_list)):\n",
    "    print(i)\n",
    "    tickers=','.join(list_ticker_list[i])\n",
    "    final_command = \"\"\"python /usr/local/airflow/dags/q_pack/q_run/run_BT.py --fromdate='2016-1-1' --timeframe='d' --tickers={}\"\"\".format(tickers)\n",
    "    print(final_command)"
   ]
  },
  {
   "cell_type": "code",
   "execution_count": 40,
   "metadata": {},
   "outputs": [
    {
     "name": "stderr",
     "output_type": "stream",
     "text": [
      "/opt/conda/lib/python3.8/site-packages/xlrd/xlsx.py:266: DeprecationWarning: This method will be removed in future versions.  Use 'tree.iter()' or 'list(tree.iter())' instead.\n",
      "  for elem in self.tree.iter() if Element_has_iter else self.tree.getiterator():\n"
     ]
    }
   ],
   "source": [
    "universe='Indian Equity'\n",
    "s3 = boto3.client('s3',endpoint_url=\"http://minio-image:9000\",aws_access_key_id=\"minio-image\",aws_secret_access_key=\"minio-image-pass\")\n",
    "Bucket=\"airflow-files\"\n",
    "if universe=='US Equity':\n",
    "    Key=\"interested_tickers_alpaca.xlsx\"\n",
    "elif universe=='Forex':\n",
    "    Key=\"interested_tickers_oanda.xlsx\"\n",
    "elif universe=='Indian Equity':\n",
    "    Key=\"interested_tickers_india.xlsx\"\n",
    "read_file = s3.get_object(Bucket=Bucket, Key=Key)\n",
    "df = pd.read_excel(io.BytesIO(read_file['Body'].read()),sheet_name=\"d\") #,sep=','\n",
    "ticker_list = list(df['Tickers'])"
   ]
  },
  {
   "cell_type": "code",
   "execution_count": 83,
   "metadata": {},
   "outputs": [
    {
     "name": "stdout",
     "output_type": "stream",
     "text": [
      "Namespace(broker_account='101-001-5119662-001', broker_token='57b60f9ad08f186742dfe530689ef5ea-a9224276b7412a4cdbdb4414c41774ec', cash=10000, cerebro='', dargs='', fromdate='2016-1-1', load_indicator_db=True, load_symbol=False, ml_log=False, mode='backtest', plot=False, strat_name='simple_strategy_3', strat_param={'ml_serving': 'no', 'use_db': 'yes', 'use_level': 'yes'}, tickers=['RELIANCE', 'HDFC', 'ITC', 'DMART'], timeframe='d', todate='', universe='Forex')\n",
      "Namespace(broker_account='101-001-5119662-001', broker_token='57b60f9ad08f186742dfe530689ef5ea-a9224276b7412a4cdbdb4414c41774ec', cash=10000, cerebro='', dargs='', fromdate='2016-1-1', load_indicator_db=True, load_symbol=False, ml_log=False, mode='backtest', plot=False, strat_name='simple_strategy_3', strat_param={'ml_serving': 'no', 'use_db': 'yes', 'use_level': 'yes'}, tickers=['LT', 'HDFCLIFE', 'NTPC', 'IOC'], timeframe='d', todate='', universe='Forex')\n",
      "Namespace(broker_account='101-001-5119662-001', broker_token='57b60f9ad08f186742dfe530689ef5ea-a9224276b7412a4cdbdb4414c41774ec', cash=10000, cerebro='', dargs='', fromdate='2016-1-1', load_indicator_db=True, load_symbol=False, ml_log=False, mode='backtest', plot=False, strat_name='simple_strategy_3', strat_param={'ml_serving': 'no', 'use_db': 'yes', 'use_level': 'yes'}, tickers=['HINDZINC', 'BAJAJ-AUTO', 'DIVISLAB', 'ICICIGI'], timeframe='d', todate='', universe='Forex')\n",
      "Namespace(broker_account='101-001-5119662-001', broker_token='57b60f9ad08f186742dfe530689ef5ea-a9224276b7412a4cdbdb4414c41774ec', cash=10000, cerebro='', dargs='', fromdate='2016-1-1', load_indicator_db=True, load_symbol=False, ml_log=False, mode='backtest', plot=False, strat_name='simple_strategy_3', strat_param={'ml_serving': 'no', 'use_db': 'yes', 'use_level': 'yes'}, tickers=['INDIGO', 'M&M', 'CIPLA'], timeframe='d', todate='', universe='Forex')\n",
      "\n",
      "Namespace(broker_account='101-001-5119662-001', broker_token='57b60f9ad08f186742dfe530689ef5ea-a9224276b7412a4cdbdb4414c41774ec', cash=10000, cerebro='', dargs='', fromdate='2016-1-1', load_indicator_db=True, load_symbol=False, ml_log=False, mode='backtest', plot=False, strat_name='simple_strategy_3', strat_param={'ml_serving': 'no', 'use_db': 'yes', 'use_level': 'yes'}, tickers=['TCS', 'INFY', 'ICICIBANK', 'BAJFINANCE'], timeframe='d', todate='', universe='Forex')\n",
      "Namespace(broker_account='101-001-5119662-001', broker_token='57b60f9ad08f186742dfe530689ef5ea-a9224276b7412a4cdbdb4414c41774ec', cash=10000, cerebro='', dargs='', fromdate='2016-1-1', load_indicator_db=True, load_symbol=False, ml_log=False, mode='backtest', plot=False, strat_name='simple_strategy_3', strat_param={'ml_serving': 'no', 'use_db': 'yes', 'use_level': 'yes'}, tickers=['WIPRO', 'COALINDIA', 'POWERGRID', 'BAJAJFINSV'], timeframe='d', todate='', universe='Forex')\n",
      "Namespace(broker_account='101-001-5119662-001', broker_token='57b60f9ad08f186742dfe530689ef5ea-a9224276b7412a4cdbdb4414c41774ec', cash=10000, cerebro='', dargs='', fromdate='2016-1-1', load_indicator_db=True, load_symbol=False, ml_log=False, mode='backtest', plot=False, strat_name='simple_strategy_3', strat_param={'ml_serving': 'no', 'use_db': 'yes', 'use_level': 'yes'}, tickers=['BRITANNIA', 'SBICARD', 'DRREDDY', 'BERGEPAINT'], timeframe='d', todate='', universe='Forex')\n",
      "Namespace(broker_account='101-001-5119662-001', broker_token='57b60f9ad08f186742dfe530689ef5ea-a9224276b7412a4cdbdb4414c41774ec', cash=10000, cerebro='', dargs='', fromdate='2016-1-1', load_indicator_db=True, load_symbol=False, ml_log=False, mode='backtest', plot=False, strat_name='simple_strategy_3', strat_param={'ml_serving': 'no', 'use_db': 'yes', 'use_level': 'yes'}, tickers=['SIEMENS', 'JSWSTEEL', 'COLPAL'], timeframe='d', todate='', universe='Forex')\n",
      "\n",
      "Namespace(broker_account='101-001-5119662-001', broker_token='57b60f9ad08f186742dfe530689ef5ea-a9224276b7412a4cdbdb4414c41774ec', cash=10000, cerebro='', dargs='', fromdate='2016-1-1', load_indicator_db=True, load_symbol=False, ml_log=False, mode='backtest', plot=False, strat_name='simple_strategy_3', strat_param={'ml_serving': 'no', 'use_db': 'yes', 'use_level': 'yes'}, tickers=['HINDUNILVR', 'KOTAKBANK', 'SBIN', 'MARUTI'], timeframe='d', todate='', universe='Forex')\n",
      "Namespace(broker_account='101-001-5119662-001', broker_token='57b60f9ad08f186742dfe530689ef5ea-a9224276b7412a4cdbdb4414c41774ec', cash=10000, cerebro='', dargs='', fromdate='2016-1-1', load_indicator_db=True, load_symbol=False, ml_log=False, mode='backtest', plot=False, strat_name='simple_strategy_3', strat_param={'ml_serving': 'no', 'use_db': 'yes', 'use_level': 'yes'}, tickers=['AXISBANK', 'ONGC', 'TITAN', 'PIDILITIND'], timeframe='d', todate='', universe='Forex')\n",
      "Namespace(broker_account='101-001-5119662-001', broker_token='57b60f9ad08f186742dfe530689ef5ea-a9224276b7412a4cdbdb4414c41774ec', cash=10000, cerebro='', dargs='', fromdate='2016-1-1', load_indicator_db=True, load_symbol=False, ml_log=False, mode='backtest', plot=False, strat_name='simple_strategy_3', strat_param={'ml_serving': 'no', 'use_db': 'yes', 'use_level': 'yes'}, tickers=['SBILIFE', 'TECHM', 'ICICIPRULI', 'HDFCAMC'], timeframe='d', todate='', universe='Forex')\n",
      "Namespace(broker_account='101-001-5119662-001', broker_token='57b60f9ad08f186742dfe530689ef5ea-a9224276b7412a4cdbdb4414c41774ec', cash=10000, cerebro='', dargs='', fromdate='2016-1-1', load_indicator_db=True, load_symbol=False, ml_log=False, mode='backtest', plot=False, strat_name='simple_strategy_3', strat_param={'ml_serving': 'no', 'use_db': 'yes', 'use_level': 'yes'}, tickers=['EICHERMOT', 'MCDOWELL-N', 'DLF'], timeframe='d', todate='', universe='Forex')\n",
      "\n",
      "Namespace(broker_account='101-001-5119662-001', broker_token='57b60f9ad08f186742dfe530689ef5ea-a9224276b7412a4cdbdb4414c41774ec', cash=10000, cerebro='', dargs='', fromdate='2016-1-1', load_indicator_db=True, load_symbol=False, ml_log=False, mode='backtest', plot=False, strat_name='simple_strategy_3', strat_param={'ml_serving': 'no', 'use_db': 'yes', 'use_level': 'yes'}, tickers=['HDFCBANK', 'BHARTIARTL', 'ASIANPAINT', 'HCLTECH'], timeframe='d', todate='', universe='Forex')\n",
      "Namespace(broker_account='101-001-5119662-001', broker_token='57b60f9ad08f186742dfe530689ef5ea-a9224276b7412a4cdbdb4414c41774ec', cash=10000, cerebro='', dargs='', fromdate='2016-1-1', load_indicator_db=True, load_symbol=False, ml_log=False, mode='backtest', plot=False, strat_name='simple_strategy_3', strat_param={'ml_serving': 'no', 'use_db': 'yes', 'use_level': 'yes'}, tickers=['ULTRACEMCO', 'SUNPHARMA', 'DABUR', 'BPCL'], timeframe='d', todate='', universe='Forex')\n",
      "Namespace(broker_account='101-001-5119662-001', broker_token='57b60f9ad08f186742dfe530689ef5ea-a9224276b7412a4cdbdb4414c41774ec', cash=10000, cerebro='', dargs='', fromdate='2016-1-1', load_indicator_db=True, load_symbol=False, ml_log=False, mode='backtest', plot=False, strat_name='simple_strategy_3', strat_param={'ml_serving': 'no', 'use_db': 'yes', 'use_level': 'yes'}, tickers=['SHREECEM', 'GODREJCP', 'ADANIPORTS', 'GSKCONS'], timeframe='d', todate='', universe='Forex')\n",
      "Namespace(broker_account='101-001-5119662-001', broker_token='57b60f9ad08f186742dfe530689ef5ea-a9224276b7412a4cdbdb4414c41774ec', cash=10000, cerebro='', dargs='', fromdate='2016-1-1', load_indicator_db=True, load_symbol=False, ml_log=False, mode='backtest', plot=False, strat_name='simple_strategy_3', strat_param={'ml_serving': 'no', 'use_db': 'yes', 'use_level': 'yes'}, tickers=['MARICO', 'GAIL', 'TORNTPHARM'], timeframe='d', todate='', universe='Forex')\n",
      "\n"
     ]
    }
   ],
   "source": [
    "number_of_dages = 4\n",
    "symbol_subset = 5\n",
    "\n",
    "def chunker_list(seq, size):\n",
    "    return (seq[i::size] for i in range(size))\n",
    "symbol_chunks=list(chunker_list(ticker_list,number_of_dages))\n",
    "\n",
    "for symbols in symbol_chunks:\n",
    "    list_ticker_list = [symbols[x:x+symbol_subset] for x in range(0, len(symbols), symbol_subset)]\n",
    "    dag_function(list_ticker_list)\n",
    "    print()"
   ]
  },
  {
   "cell_type": "code",
   "execution_count": 81,
   "metadata": {},
   "outputs": [],
   "source": [
    "import q_run.run_BT as run_BT\n",
    "import argparse\n",
    "import q_tools.args_parse_other as args_parse_other\n",
    "import q_credentials.oanda_cred as oanda_cred\n",
    "\n",
    "def dag_function(list_ticker_list):\n",
    "    for ticker_list in list_ticker_list:\n",
    "        args=parse_args(fromdate='2016-1-1',tickers=ticker_list)\n",
    "        print(args)\n",
    "#         run_BT.run(args)\n",
    "        \n",
    "def parse_args(fromdate='2016-1-1',tickers=['RELIANCE']):\n",
    "    parser = argparse.ArgumentParser(   \n",
    "        formatter_class=argparse.ArgumentDefaultsHelpFormatter,\n",
    "        description=('Rebalancing with the Conservative Formula'),\n",
    "    )\n",
    "    parser.add_argument('--tickers', nargs='*' ,required=False,default=tickers, type=str,  #['PZZA'] #['BOM500010,BOM500034,BOM500087']\n",
    "                        help='Pass the tickers with space')\n",
    "    \n",
    "    parser.add_argument('--timeframe', required=False, default='d',\n",
    "                        help='Timeframe at whic the strategy needs to be run at')\n",
    "\n",
    "    parser.add_argument('--dargs', default='',\n",
    "                        metavar='kwargs', help='kwargs in k1=v1,k2=v2 format')\n",
    "\n",
    "    parser.add_argument('--fromdate', required=False, default=fromdate,\n",
    "                        help='Date[time] in YYYY-MM-DD[THH:MM:SS] format')\n",
    "\n",
    "    parser.add_argument('--todate', required=False, default='',\n",
    "                        help='Date[time] in YYYY-MM-DD[THH:MM:SS] format')\n",
    "\n",
    "    parser.add_argument('--cerebro', required=False, default='',\n",
    "                        metavar='kwargs', help='kwargs in k1=v1,k2=v2 format')\n",
    "\n",
    "    parser.add_argument('--cash', default=10000, type=float,\n",
    "                        metavar='kwargs', help='kwargs in k1=v1,k2=v2 format')\n",
    "\n",
    "    parser.add_argument('--strat_name', required=False, default='simple_strategy_3', \n",
    "                        metavar='kwargs', help='kwargs in k1=v1,k2=v2 format')\n",
    "\n",
    "    parser.add_argument('--strat_param', required=False, default=dict(ml_serving='no',use_db='yes', use_level='yes'), #--strat_param \"use_level=yes,use_db=yes,ml_serving=no\"\n",
    "                        action=args_parse_other.StoreDictKeyPair, metavar='kwargs', help='kwargs in k1=v1,k2=v2 format')\n",
    "\n",
    "    parser.add_argument('--ml_log', required=False, default=False, type=args_parse_other.str2bool, const=True, nargs='?',\n",
    "                        help='To save ML log or not')\n",
    "    \n",
    "    parser.add_argument('--mode', required=False, default='backtest',   \n",
    "                        help='Live or Backtest')\n",
    "\n",
    "    parser.add_argument('--broker_token', required=False, default=oanda_cred.token_practice,\n",
    "                        help='Oanda Broker Token id')\n",
    "\n",
    "    parser.add_argument('--broker_account', required=False, default=oanda_cred.acc_id_practice,\n",
    "                        help='Oanda Broker Account id')\n",
    "\n",
    "    parser.add_argument('--plot', required=False, default=False, type=args_parse_other.str2bool, const=True, nargs='?',\n",
    "                    help='Plot the results')\n",
    "\n",
    "    parser.add_argument('--load_indicator_db', required=False, default=True, type=args_parse_other.str2bool, const=True, nargs='?',\n",
    "                    help='load the indicator data into DB')\n",
    "\n",
    "    parser.add_argument('--load_symbol', required=False, default=False, type=args_parse_other.str2bool, const=True, nargs='?',\n",
    "                    help='load the symbols from excel file')\n",
    "\n",
    "    parser.add_argument('--universe', required=False, default='Forex',\n",
    "                        help='Select the Universe - Currently US Equity, Forex Majors')\n",
    "\n",
    "    # return parser.parse_args(pargs)\n",
    "    args, unknown = parser.parse_known_args()\n",
    "    return args"
   ]
  },
  {
   "cell_type": "code",
   "execution_count": null,
   "metadata": {},
   "outputs": [],
   "source": [
    "python /usr/local/airflow/dags/q_pack/q_run/run_BT.py --fromdate='2016-1-1' --timeframe='d' --load_symbol='True' --univer='Indian Equity'"
   ]
  },
  {
   "cell_type": "code",
   "execution_count": 21,
   "metadata": {},
   "outputs": [
    {
     "name": "stdout",
     "output_type": "stream",
     "text": [
      "['INFY', 'KOTAKBANK']\n",
      "{'fromdate': datetime.datetime(2016, 1, 1, 0, 0)}\n",
      "no indicator data for INFY\n",
      "no indicator data for KOTAKBANK\n",
      "/opt/conda/lib/python3.8/site-packages/numpy/core/fromnumeric.py:3372: RuntimeWarning: Mean of empty slice.\n",
      "  return _methods._mean(a, axis=axis, dtype=dtype,\n",
      "/opt/conda/lib/python3.8/site-packages/numpy/core/_methods.py:170: RuntimeWarning: invalid value encountered in double_scalars\n",
      "  ret = ret.dtype.type(ret / rcount)\n",
      "Strategy run finished with Run ID: None\n",
      "d_data 1 6 INFY\n",
      "SELECT max(date_price) FROM d_data WHERE indicator_id = 1 and symbol_id = 6\n",
      "d_data 2 6 INFY\n",
      "SELECT max(date_price) FROM d_data WHERE indicator_id = 2 and symbol_id = 6\n",
      "d_data 3 6 INFY\n",
      "SELECT max(date_price) FROM d_data WHERE indicator_id = 3 and symbol_id = 6\n",
      "d_data 4 6 INFY\n",
      "SELECT max(date_price) FROM d_data WHERE indicator_id = 4 and symbol_id = 6\n",
      "d_data 5 6 INFY\n",
      "SELECT max(date_price) FROM d_data WHERE indicator_id = 5 and symbol_id = 6\n",
      "d_data 1 7 KOTAKBANK\n",
      "SELECT max(date_price) FROM d_data WHERE indicator_id = 1 and symbol_id = 7\n",
      "d_data 2 7 KOTAKBANK\n",
      "SELECT max(date_price) FROM d_data WHERE indicator_id = 2 and symbol_id = 7\n",
      "d_data 3 7 KOTAKBANK\n",
      "SELECT max(date_price) FROM d_data WHERE indicator_id = 3 and symbol_id = 7\n",
      "d_data 4 7 KOTAKBANK\n",
      "SELECT max(date_price) FROM d_data WHERE indicator_id = 4 and symbol_id = 7\n",
      "d_data 5 7 KOTAKBANK\n",
      "SELECT max(date_price) FROM d_data WHERE indicator_id = 5 and symbol_id = 7\n",
      "Profit ... or Loss: 0.00\n"
     ]
    }
   ],
   "source": [
    "!python q_pack/q_run/run_BT.py --fromdate='2016-1-1' --timeframe='d' --tickers=INFY,KOTAKBANK"
   ]
  },
  {
   "cell_type": "code",
   "execution_count": 1,
   "metadata": {},
   "outputs": [],
   "source": []
  },
  {
   "cell_type": "code",
   "execution_count": 8,
   "metadata": {},
   "outputs": [
    {
     "name": "stdout",
     "output_type": "stream",
     "text": [
      "['EUR_USD', 'GBP_USD']\n",
      "{'fromdate': datetime.datetime(2015, 7, 1, 0, 0)}\n",
      "Profit ... or Loss: 0.00\n"
     ]
    }
   ],
   "source": [
    "run_BT.run(args)"
   ]
  },
  {
   "cell_type": "code",
   "execution_count": 9,
   "metadata": {},
   "outputs": [
    {
     "name": "stderr",
     "output_type": "stream",
     "text": [
      "usage: ipykernel_launcher.py [-h] [--tickers [TICKERS [TICKERS ...]]]\n",
      "                             [--timeframe TIMEFRAME] [--dargs kwargs]\n",
      "                             [--fromdate FROMDATE] [--todate TODATE]\n",
      "                             [--cerebro kwargs] [--cash kwargs]\n",
      "                             [--strat_name kwargs] [--strat_param kwargs]\n",
      "                             [--ml_log [ML_LOG]] [--mode MODE]\n",
      "                             [--broker_token BROKER_TOKEN]\n",
      "                             [--broker_account BROKER_ACCOUNT] [--plot [PLOT]]\n",
      "                             [--load_indicator_db [LOAD_INDICATOR_DB]]\n",
      "                             [--load_symbol [LOAD_SYMBOL]]\n",
      "                             [--universe UNIVERSE]\n",
      "ipykernel_launcher.py: error: unrecognized arguments: -f /home/jovyan/.local/share/jupyter/runtime/kernel-27a48ecd-0263-4564-85bd-f7e64b3e63fa.json\n"
     ]
    },
    {
     "ename": "SystemExit",
     "evalue": "2",
     "output_type": "error",
     "traceback": [
      "An exception has occurred, use %tb to see the full traceback.\n",
      "\u001b[0;31mSystemExit\u001b[0m\u001b[0;31m:\u001b[0m 2\n"
     ]
    }
   ],
   "source": [
    "parser.parse_args()"
   ]
  },
  {
   "cell_type": "code",
   "execution_count": 10,
   "metadata": {},
   "outputs": [
    {
     "name": "stdout",
     "output_type": "stream",
     "text": [
      "['EUR_USD', 'GBP_USD']\n",
      "{'fromdate': datetime.datetime(2015, 7, 1, 0, 0)}\n",
      "Profit ... or Loss: 0.00\n"
     ]
    }
   ],
   "source": [
    "!python q_pack/q_run/run_BT.py"
   ]
  },
  {
   "cell_type": "code",
   "execution_count": 37,
   "metadata": {},
   "outputs": [],
   "source": []
  },
  {
   "cell_type": "code",
   "execution_count": 38,
   "metadata": {},
   "outputs": [
    {
     "name": "stdout",
     "output_type": "stream",
     "text": [
      "['RELIANCE']\n",
      "{'fromdate': datetime.datetime(2016, 1, 1, 0, 0)}\n",
      "no indicator data for RELIANCE\n",
      "Strategy run finished with Run ID: None\n",
      "d_data 1 1 RELIANCE\n",
      "SELECT max(date_price) FROM d_data WHERE indicator_id = 1 and symbol_id = 1\n"
     ]
    },
    {
     "name": "stderr",
     "output_type": "stream",
     "text": [
      "/home/jovyan/work/q_pack/q_analyzers/bt_indicator_analyzer.py:93: SettingWithCopyWarning: \n",
      "A value is trying to be set on a copy of a slice from a DataFrame.\n",
      "Try using .loc[row_indexer,col_indexer] = value instead\n",
      "\n",
      "See the caveats in the documentation: https://pandas.pydata.org/pandas-docs/stable/user_guide/indexing.html#returning-a-view-versus-a-copy\n",
      "  ind_df['symbol_id'] = symbol_id\n",
      "/home/jovyan/work/q_pack/q_analyzers/bt_indicator_analyzer.py:94: SettingWithCopyWarning: \n",
      "A value is trying to be set on a copy of a slice from a DataFrame.\n",
      "Try using .loc[row_indexer,col_indexer] = value instead\n",
      "\n",
      "See the caveats in the documentation: https://pandas.pydata.org/pandas-docs/stable/user_guide/indexing.html#returning-a-view-versus-a-copy\n",
      "  ind_df['indicator_id'] = ind_id\n",
      "/home/jovyan/work/q_pack/q_analyzers/bt_indicator_analyzer.py:95: SettingWithCopyWarning: \n",
      "A value is trying to be set on a copy of a slice from a DataFrame.\n",
      "Try using .loc[row_indexer,col_indexer] = value instead\n",
      "\n",
      "See the caveats in the documentation: https://pandas.pydata.org/pandas-docs/stable/user_guide/indexing.html#returning-a-view-versus-a-copy\n",
      "  ind_df['created_date'] = datetime.datetime.now().strftime(\"%Y-%m-%d %H:%M:%S\")\n"
     ]
    },
    {
     "name": "stdout",
     "output_type": "stream",
     "text": [
      "d_data 2 1 RELIANCE\n",
      "SELECT max(date_price) FROM d_data WHERE indicator_id = 2 and symbol_id = 1\n",
      "d_data 3 1 RELIANCE\n",
      "SELECT max(date_price) FROM d_data WHERE indicator_id = 3 and symbol_id = 1\n",
      "d_data 4 1 RELIANCE\n",
      "SELECT max(date_price) FROM d_data WHERE indicator_id = 4 and symbol_id = 1\n",
      "d_data 5 1 RELIANCE\n",
      "SELECT max(date_price) FROM d_data WHERE indicator_id = 5 and symbol_id = 1\n",
      "Profit ... or Loss: 0.00\n"
     ]
    }
   ],
   "source": [
    "run_BT.run(parse_args())"
   ]
  },
  {
   "cell_type": "code",
   "execution_count": null,
   "metadata": {},
   "outputs": [],
   "source": [
    "run_BT.run()"
   ]
  }
 ],
 "metadata": {
  "kernelspec": {
   "display_name": "Python 3",
   "language": "python",
   "name": "python3"
  },
  "language_info": {
   "codemirror_mode": {
    "name": "ipython",
    "version": 3
   },
   "file_extension": ".py",
   "mimetype": "text/x-python",
   "name": "python",
   "nbconvert_exporter": "python",
   "pygments_lexer": "ipython3",
   "version": "3.8.5"
  }
 },
 "nbformat": 4,
 "nbformat_minor": 4
}
