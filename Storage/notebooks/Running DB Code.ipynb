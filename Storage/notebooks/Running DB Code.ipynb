{
 "cells": [
  {
   "cell_type": "markdown",
   "metadata": {},
   "source": [
    "# Running the DB code"
   ]
  },
  {
   "cell_type": "code",
   "execution_count": 13,
   "metadata": {},
   "outputs": [],
   "source": [
    "import q_credentials.quandl_cred as quandl_cred\n",
    "import quandl\n",
    "import datetime"
   ]
  },
  {
   "cell_type": "code",
   "execution_count": 14,
   "metadata": {},
   "outputs": [],
   "source": [
    "api = quandl.ApiConfig.api_key = quandl_cred.quandl_api"
   ]
  },
  {
   "cell_type": "code",
   "execution_count": 31,
   "metadata": {},
   "outputs": [],
   "source": [
    "start_date = datetime.datetime(2020,3,31)\n",
    "end_date = datetime.datetime(2020,4,2)\n",
    "# end_date = datetime.datetime.now()\n",
    "symbol='BOM500010'"
   ]
  },
  {
   "cell_type": "code",
   "execution_count": 32,
   "metadata": {},
   "outputs": [],
   "source": [
    "data = quandl.get(('BSE/'+symbol), \n",
    "            returns='pandas', \n",
    "            start_date=start_date,\n",
    "            end_date=end_date,\n",
    "            collapse='daily',\n",
    "            order='asc'\n",
    "            )"
   ]
  },
  {
   "cell_type": "code",
   "execution_count": 33,
   "metadata": {},
   "outputs": [
    {
     "data": {
      "text/html": [
       "<div>\n",
       "<style scoped>\n",
       "    .dataframe tbody tr th:only-of-type {\n",
       "        vertical-align: middle;\n",
       "    }\n",
       "\n",
       "    .dataframe tbody tr th {\n",
       "        vertical-align: top;\n",
       "    }\n",
       "\n",
       "    .dataframe thead th {\n",
       "        text-align: right;\n",
       "    }\n",
       "</style>\n",
       "<table border=\"1\" class=\"dataframe\">\n",
       "  <thead>\n",
       "    <tr style=\"text-align: right;\">\n",
       "      <th></th>\n",
       "      <th>Open</th>\n",
       "      <th>High</th>\n",
       "      <th>Low</th>\n",
       "      <th>Close</th>\n",
       "      <th>WAP</th>\n",
       "      <th>No. of Shares</th>\n",
       "      <th>No. of Trades</th>\n",
       "      <th>Total Turnover</th>\n",
       "      <th>Deliverable Quantity</th>\n",
       "      <th>% Deli. Qty to Traded Qty</th>\n",
       "      <th>Spread H-L</th>\n",
       "      <th>Spread C-O</th>\n",
       "    </tr>\n",
       "    <tr>\n",
       "      <th>Date</th>\n",
       "      <th></th>\n",
       "      <th></th>\n",
       "      <th></th>\n",
       "      <th></th>\n",
       "      <th></th>\n",
       "      <th></th>\n",
       "      <th></th>\n",
       "      <th></th>\n",
       "      <th></th>\n",
       "      <th></th>\n",
       "      <th></th>\n",
       "      <th></th>\n",
       "    </tr>\n",
       "  </thead>\n",
       "  <tbody>\n",
       "    <tr>\n",
       "      <th>2020-03-31</th>\n",
       "      <td>1625.1</td>\n",
       "      <td>1666.55</td>\n",
       "      <td>1582.0</td>\n",
       "      <td>1630.45</td>\n",
       "      <td>1610.3</td>\n",
       "      <td>1153088.0</td>\n",
       "      <td>14905.0</td>\n",
       "      <td>1.856814e+09</td>\n",
       "      <td>473028.0</td>\n",
       "      <td>41.02</td>\n",
       "      <td>84.55</td>\n",
       "      <td>5.35</td>\n",
       "    </tr>\n",
       "  </tbody>\n",
       "</table>\n",
       "</div>"
      ],
      "text/plain": [
       "              Open     High     Low    Close     WAP  No. of Shares  \\\n",
       "Date                                                                  \n",
       "2020-03-31  1625.1  1666.55  1582.0  1630.45  1610.3      1153088.0   \n",
       "\n",
       "            No. of Trades  Total Turnover  Deliverable Quantity  \\\n",
       "Date                                                              \n",
       "2020-03-31        14905.0    1.856814e+09              473028.0   \n",
       "\n",
       "            % Deli. Qty to Traded Qty  Spread H-L  Spread C-O  \n",
       "Date                                                           \n",
       "2020-03-31                      41.02       84.55        5.35  "
      ]
     },
     "execution_count": 33,
     "metadata": {},
     "output_type": "execute_result"
    }
   ],
   "source": [
    "data"
   ]
  },
  {
   "cell_type": "code",
   "execution_count": 8,
   "metadata": {},
   "outputs": [
    {
     "name": "stdout",
     "output_type": "stream",
     "text": [
      "Loaded Symbols= 88\n"
     ]
    }
   ],
   "source": [
    "! python q_pack/db_pack/quandl/bse_quandl_symbol_loader.py"
   ]
  },
  {
   "cell_type": "code",
   "execution_count": 35,
   "metadata": {},
   "outputs": [
    {
     "name": "stdout",
     "output_type": "stream",
     "text": [
      "Traceback (most recent call last):\n",
      "  File \"q_pack/db_pack/quandl/bse_quandl_daily.py\", line 164, in <module>\n",
      "    main()\n",
      "  File \"q_pack/db_pack/quandl/bse_quandl_daily.py\", line 115, in main\n",
      "    read_file = s3.get_object(Bucket=Bucket, Key=Key)\n",
      "  File \"/opt/conda/lib/python3.7/site-packages/botocore/client.py\", line 316, in _api_call\n",
      "    return self._make_api_call(operation_name, kwargs)\n",
      "  File \"/opt/conda/lib/python3.7/site-packages/botocore/client.py\", line 626, in _make_api_call\n",
      "    raise error_class(parsed_response, operation_name)\n",
      "botocore.exceptions.ClientError: An error occurred (InternalError) when calling the GetObject operation (reached max retries: 4): We encountered an internal error, please try again.\n"
     ]
    }
   ],
   "source": [
    "! python q_pack/db_pack/quandl/bse_quandl_daily.py"
   ]
  },
  {
   "cell_type": "code",
   "execution_count": 4,
   "metadata": {},
   "outputs": [
    {
     "name": "stdout",
     "output_type": "stream",
     "text": [
      "no indicator data for BOM500124\n",
      "no indicator data for BOM500182\n",
      "no indicator data for BOM500290\n",
      "88\n",
      "/opt/conda/lib/python3.7/site-packages/numpy/core/fromnumeric.py:3335: RuntimeWarning: Mean of empty slice.\n",
      "  out=out, **kwargs)\n",
      "/opt/conda/lib/python3.7/site-packages/numpy/core/_methods.py:161: RuntimeWarning: invalid value encountered in double_scalars\n",
      "  ret = ret.dtype.type(ret / rcount)\n",
      "Strategy run finished with Run ID: None\n",
      "/home/jovyan/work/q_pack/q_analyzers/bt_indicator_analyzer.py:75: SettingWithCopyWarning: \n",
      "A value is trying to be set on a copy of a slice from a DataFrame.\n",
      "Try using .loc[row_indexer,col_indexer] = value instead\n",
      "\n",
      "See the caveats in the documentation: https://pandas.pydata.org/pandas-docs/stable/user_guide/indexing.html#returning-a-view-versus-a-copy\n",
      "  ind_df['symbol_id'] = symbol_id\n",
      "/home/jovyan/work/q_pack/q_analyzers/bt_indicator_analyzer.py:76: SettingWithCopyWarning: \n",
      "A value is trying to be set on a copy of a slice from a DataFrame.\n",
      "Try using .loc[row_indexer,col_indexer] = value instead\n",
      "\n",
      "See the caveats in the documentation: https://pandas.pydata.org/pandas-docs/stable/user_guide/indexing.html#returning-a-view-versus-a-copy\n",
      "  ind_df['indicator_id'] = ind_id\n",
      "/home/jovyan/work/q_pack/q_analyzers/bt_indicator_analyzer.py:77: SettingWithCopyWarning: \n",
      "A value is trying to be set on a copy of a slice from a DataFrame.\n",
      "Try using .loc[row_indexer,col_indexer] = value instead\n",
      "\n",
      "See the caveats in the documentation: https://pandas.pydata.org/pandas-docs/stable/user_guide/indexing.html#returning-a-view-versus-a-copy\n",
      "  ind_df['created_date'] = datetime.datetime.now().strftime(\"%Y-%m-%d %H:%M:%S\")\n",
      "done\n",
      "done\n",
      "done\n",
      "level is here\n",
      "done\n",
      "done\n",
      "done\n",
      "done\n",
      "done\n",
      "level is here\n",
      "done\n",
      "done\n",
      "done\n",
      "done\n",
      "done\n",
      "level is here\n",
      "done\n",
      "done\n",
      "done\n",
      "done\n",
      "done\n",
      "level is here\n",
      "done\n",
      "done\n",
      "done\n",
      "done\n",
      "done\n",
      "level is here\n",
      "done\n",
      "done\n",
      "done\n",
      "done\n",
      "done\n",
      "level is here\n",
      "done\n",
      "done\n",
      "done\n",
      "done\n",
      "done\n",
      "level is here\n",
      "done\n",
      "done\n",
      "done\n",
      "done\n",
      "done\n",
      "level is here\n",
      "done\n",
      "done\n",
      "done\n",
      "done\n",
      "done\n",
      "level is here\n",
      "done\n",
      "done\n",
      "done\n",
      "done\n",
      "done\n",
      "level is here\n",
      "done\n",
      "done\n",
      "done\n",
      "done\n",
      "done\n",
      "level is here\n",
      "done\n",
      "done\n",
      "done\n",
      "done\n",
      "done\n",
      "level is here\n",
      "done\n",
      "done\n",
      "done\n",
      "done\n",
      "done\n",
      "level is here\n",
      "done\n",
      "done\n",
      "done\n",
      "done\n",
      "done\n",
      "level is here\n",
      "done\n",
      "done\n",
      "done\n",
      "done\n",
      "done\n",
      "level is here\n",
      "done\n",
      "done\n",
      "done\n",
      "done\n",
      "done\n",
      "level is here\n",
      "done\n",
      "done\n",
      "done\n",
      "done\n",
      "done\n",
      "level is here\n",
      "done\n",
      "done\n",
      "done\n",
      "done\n",
      "done\n",
      "level is here\n",
      "done\n",
      "done\n",
      "done\n",
      "done\n",
      "done\n",
      "level is here\n",
      "done\n",
      "done\n",
      "done\n",
      "done\n",
      "done\n",
      "level is here\n",
      "done\n",
      "done\n",
      "Profit ... or Loss: 0.00\n"
     ]
    }
   ],
   "source": [
    "!python q_pack/q_run/run_BT.py --todate='2020-03-31'"
   ]
  },
  {
   "cell_type": "code",
   "execution_count": 17,
   "metadata": {},
   "outputs": [],
   "source": [
    "# !python 12_Clean_Strategy_BT_original.py --strat_name=simple_strategy_2 --mode=backtest --tickers=GBP_USD"
   ]
  },
  {
   "cell_type": "code",
   "execution_count": null,
   "metadata": {},
   "outputs": [],
   "source": []
  }
 ],
 "metadata": {
  "kernelspec": {
   "display_name": "Python 3",
   "language": "python",
   "name": "python3"
  },
  "language_info": {
   "codemirror_mode": {
    "name": "ipython",
    "version": 3
   },
   "file_extension": ".py",
   "mimetype": "text/x-python",
   "name": "python",
   "nbconvert_exporter": "python",
   "pygments_lexer": "ipython3",
   "version": "3.7.6"
  }
 },
 "nbformat": 4,
 "nbformat_minor": 4
}
