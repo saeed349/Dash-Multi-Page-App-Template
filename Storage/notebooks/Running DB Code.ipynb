{
 "cells": [
  {
   "cell_type": "markdown",
   "metadata": {},
   "source": [
    "# Running the DB code"
   ]
  },
  {
   "cell_type": "code",
   "execution_count": 2,
   "metadata": {},
   "outputs": [],
   "source": [
    "# !.\\starter_script.bat"
   ]
  },
  {
   "cell_type": "code",
   "execution_count": 1,
   "metadata": {},
   "outputs": [],
   "source": [
    "import q_pack.db_pack.oanda.oanda_symbol_loader as oanda_symbol_loader\n",
    "import q_pack.db_pack.oanda.oanda_historical as oanda_historical\n",
    "import datetime"
   ]
  },
  {
   "cell_type": "code",
   "execution_count": 2,
   "metadata": {},
   "outputs": [
    {
     "name": "stdout",
     "output_type": "stream",
     "text": [
      "Adding new Vendor  Oanda\n",
      "number of symbols loaded =  70\n"
     ]
    },
    {
     "name": "stderr",
     "output_type": "stream",
     "text": [
      "/home/jovyan/work/q_pack/db_pack/oanda/oanda_symbol_loader.py:37: FutureWarning: pandas.io.json.json_normalize is deprecated, use pandas.json_normalize instead\n",
      "  df=pd.io.json.json_normalize(data=df['instruments'])\n"
     ]
    }
   ],
   "source": [
    "oanda_symbol_loader.main()"
   ]
  },
  {
   "cell_type": "code",
   "execution_count": 20,
   "metadata": {},
   "outputs": [
    {
     "name": "stdout",
     "output_type": "stream",
     "text": [
      "0:00:00.000012\n",
      "select a.last_date, b.id as stock_id, b.ticker from\n",
      "            (select max(date_price) as last_date, stock_id\n",
      "            from h4_data \n",
      "            group by stock_id) a right join symbol b on a.stock_id = b.id \n",
      "            where b.ticker in ('EUR_USD', 'GBP_USD') and b.data_vendor_id=1\n",
      "            last_date  stock_id   ticker\n",
      "0 2020-05-01 00:01:00        47  EUR_USD\n",
      "1 2020-05-01 00:01:00        60  GBP_USD\n",
      "EUR_USD\n",
      "2020-05-01T00:01:00Z 2020-06-24T12:20:44Z\n",
      "{'from': '2020-05-01T00:01:00Z', 'to': '2020-06-24T12:20:44Z', 'granularity': 'H4', 'count': 2500}\n",
      "232\n",
      "[47]\n",
      "2020-04-30 21:00:00+00:00\n",
      "2020-06-24 09:00:00+00:00\n",
      "\n",
      "EUR_USD complete!\n",
      "GBP_USD\n",
      "2020-05-01T00:01:00Z 2020-06-24T12:20:45Z\n",
      "{'from': '2020-05-01T00:01:00Z', 'to': '2020-06-24T12:20:45Z', 'granularity': 'H4', 'count': 2500}\n",
      "232\n",
      "[60]\n",
      "2020-04-30 21:00:00+00:00\n",
      "2020-06-24 09:00:00+00:00\n",
      "\n",
      "GBP_USD complete!\n",
      "0:00:00.513478\n"
     ]
    }
   ],
   "source": [
    "oanda_historical.main(freq='h4',initial_start_date=datetime.datetime(2020,5,1))"
   ]
  },
  {
   "cell_type": "code",
   "execution_count": 4,
   "metadata": {},
   "outputs": [],
   "source": [
    "# oanda_historical.main(freq='d')"
   ]
  },
  {
   "cell_type": "code",
   "execution_count": 5,
   "metadata": {},
   "outputs": [],
   "source": [
    "# ! python q_pack/db_pack/oanda/oanda_symbol_loader.py"
   ]
  },
  {
   "cell_type": "code",
   "execution_count": 6,
   "metadata": {},
   "outputs": [],
   "source": [
    "# ! python q_pack/db_pack/oanda/oanda_minute.py --fromdate='2020-6-10'"
   ]
  },
  {
   "cell_type": "code",
   "execution_count": 7,
   "metadata": {},
   "outputs": [],
   "source": [
    "# ! python q_pack/db_pack/oanda/oanda_daily.py"
   ]
  },
  {
   "cell_type": "code",
   "execution_count": 15,
   "metadata": {},
   "outputs": [],
   "source": [
    "# ! python q_pack/db_pack/alpaca/alpaca_symbol_loader.py"
   ]
  },
  {
   "cell_type": "code",
   "execution_count": 3,
   "metadata": {},
   "outputs": [],
   "source": [
    "# ! python q_pack/db_pack/alpaca/alpaca_daily.py"
   ]
  },
  {
   "cell_type": "code",
   "execution_count": 11,
   "metadata": {},
   "outputs": [
    {
     "name": "stdout",
     "output_type": "stream",
     "text": [
      "['EUR_USD', 'GBP_USD']\n",
      "{'fromdate': datetime.datetime(2020, 6, 15, 0, 0), 'todate': datetime.datetime(2020, 6, 25, 0, 0)}\n",
      "/opt/conda/lib/python3.7/site-packages/numpy/core/fromnumeric.py:3335: RuntimeWarning: Mean of empty slice.\n",
      "  out=out, **kwargs)\n",
      "/opt/conda/lib/python3.7/site-packages/numpy/core/_methods.py:161: RuntimeWarning: invalid value encountered in double_scalars\n",
      "  ret = ret.dtype.type(ret / rcount)\n",
      "EUR_USD --time: 2020-06-16 17:00:00 --Open: 1.12682  High: 1.12724  Low: 1.12567  Close: 1.12632\n",
      "GBP_USD --time: 2020-06-16 17:00:00 --Open: 1.25928  High: 1.25938  Low: 1.25612  Close: 1.25724\n",
      "EUR_USD --time: 2020-06-16 21:00:00 --Open: 1.12636  High: 1.12732  Low: 1.12535  Close: 1.12674\n",
      "GBP_USD --time: 2020-06-16 21:00:00 --Open: 1.25709  High: 1.25873  Low: 1.25524  Close: 1.25648\n",
      "EUR_USD --time: 2020-06-17 01:00:00 --Open: 1.12673  High: 1.12732  Low: 1.12548  Close: 1.12714\n",
      "GBP_USD --time: 2020-06-17 01:00:00 --Open: 1.2565  High: 1.257  Low: 1.25413  Close: 1.25589\n",
      "EUR_USD --time: 2020-06-17 05:00:00 --Open: 1.12713  High: 1.12942  Low: 1.12511  Close: 1.12579\n",
      "GBP_USD --time: 2020-06-17 05:00:00 --Open: 1.25586  High: 1.25886  Low: 1.25487  Close: 1.25581\n",
      "EUR_USD --time: 2020-06-17 09:00:00 --Open: 1.12578  High: 1.12603  Low: 1.12232  Close: 1.1237\n",
      "GBP_USD --time: 2020-06-17 09:00:00 --Open: 1.25583  High: 1.25833  Low: 1.25236  Close: 1.2548\n",
      "EUR_USD --time: 2020-06-17 13:00:00 --Open: 1.12372  High: 1.12486  Low: 1.1207  Close: 1.12309\n",
      "GBP_USD --time: 2020-06-17 13:00:00 --Open: 1.25482  High: 1.256  Low: 1.25112  Close: 1.25416\n",
      "EUR_USD --time: 2020-06-17 17:00:00 --Open: 1.1231  High: 1.1246  Low: 1.12289  Close: 1.12436\n",
      "GBP_USD --time: 2020-06-17 17:00:00 --Open: 1.25418  High: 1.2558  Low: 1.25368  Close: 1.25552\n",
      "EUR_USD --time: 2020-06-17 21:00:00 --Open: 1.12427  High: 1.125  Low: 1.1238  Close: 1.12412\n",
      "GBP_USD --time: 2020-06-17 21:00:00 --Open: 1.254  High: 1.25673  Low: 1.25338  Close: 1.25488\n",
      "EUR_USD --time: 2020-06-18 01:00:00 --Open: 1.12413  High: 1.12612  Low: 1.12251  Close: 1.12554\n",
      "GBP_USD --time: 2020-06-18 01:00:00 --Open: 1.25492  High: 1.2561  Low: 1.25257  Close: 1.25524\n",
      "EUR_USD --time: 2020-06-18 05:00:00 --Open: 1.12552  High: 1.12601  Low: 1.12301  Close: 1.12492\n",
      "GBP_USD --time: 2020-06-18 05:00:00 --Open: 1.2552  High: 1.25606  Low: 1.25098  Close: 1.25158\n",
      "EUR_USD --time: 2020-06-18 09:00:00 --Open: 1.12493  High: 1.12615  Low: 1.12144  Close: 1.12275\n",
      "GBP_USD --time: 2020-06-18 09:00:00 --Open: 1.2516  High: 1.255  Low: 1.24433  Close: 1.24472\n",
      "EUR_USD --time: 2020-06-18 13:00:00 --Open: 1.12274  High: 1.12327  Low: 1.11926  Close: 1.11936\n",
      "GBP_USD --time: 2020-06-18 13:00:00 --Open: 1.24475  High: 1.246  Low: 1.2402  Close: 1.24116\n",
      "EUR_USD --time: 2020-06-18 17:00:00 --Open: 1.11934  High: 1.1213  Low: 1.11855  Close: 1.12049\n",
      "GBP_USD --time: 2020-06-18 17:00:00 --Open: 1.24114  High: 1.24305  Low: 1.2405  Close: 1.24223\n",
      "EUR_USD --time: 2020-06-18 21:00:00 --Open: 1.12049  High: 1.12135  Low: 1.11994  Close: 1.12038\n",
      "GBP_USD --time: 2020-06-18 21:00:00 --Open: 1.24194  High: 1.24323  Low: 1.24051  Close: 1.24132\n",
      "EUR_USD --time: 2020-06-19 01:00:00 --Open: 1.12036  High: 1.12164  Low: 1.11988  Close: 1.12133\n",
      "GBP_USD --time: 2020-06-19 01:00:00 --Open: 1.24134  High: 1.2437  Low: 1.24078  Close: 1.24274\n",
      "EUR_USD --time: 2020-06-19 05:00:00 --Open: 1.12134  High: 1.12219  Low: 1.12036  Close: 1.12162\n",
      "GBP_USD --time: 2020-06-19 05:00:00 --Open: 1.24272  High: 1.2456  Low: 1.2407  Close: 1.24129\n",
      "EUR_USD --time: 2020-06-19 09:00:00 --Open: 1.1216  High: 1.12544  Low: 1.11944  Close: 1.1238\n",
      "GBP_USD --time: 2020-06-19 09:00:00 --Open: 1.24132  High: 1.24234  Low: 1.23607  Close: 1.24048\n",
      "EUR_USD --time: 2020-06-19 13:00:00 --Open: 1.12382  High: 1.12424  Low: 1.11684  Close: 1.11924\n",
      "GBP_USD --time: 2020-06-19 13:00:00 --Open: 1.24046  High: 1.24114  Low: 1.23488  Close: 1.2368\n",
      "EUR_USD --time: 2020-06-19 17:00:00 --Open: 1.11923  High: 1.11938  Low: 1.11722  Close: 1.11776\n",
      "GBP_USD --time: 2020-06-19 17:00:00 --Open: 1.23682  High: 1.2369  Low: 1.23442  Close: 1.23484\n",
      "EUR_USD --time: 2020-06-21 21:00:00 --Open: 1.11822  High: 1.11868  Low: 1.11685  Close: 1.11804\n",
      "GBP_USD --time: 2020-06-21 21:00:00 --Open: 1.23416  High: 1.23605  Low: 1.23354  Close: 1.23476\n",
      "EUR_USD --time: 2020-06-22 01:00:00 --Open: 1.11805  High: 1.1204  Low: 1.11802  Close: 1.12035\n",
      "GBP_USD --time: 2020-06-22 01:00:00 --Open: 1.23478  High: 1.23903  Low: 1.23476  Close: 1.23897\n",
      "EUR_USD --time: 2020-06-22 05:00:00 --Open: 1.12033  High: 1.12253  Low: 1.11883  Close: 1.12246\n",
      "GBP_USD --time: 2020-06-22 05:00:00 --Open: 1.23894  High: 1.24342  Low: 1.23654  Close: 1.24273\n",
      "EUR_USD --time: 2020-06-22 09:00:00 --Open: 1.12244  High: 1.12267  Low: 1.12034  Close: 1.12208\n",
      "GBP_USD --time: 2020-06-22 09:00:00 --Open: 1.2427  High: 1.24338  Low: 1.238  Close: 1.24054\n",
      "EUR_USD --time: 2020-06-22 13:00:00 --Open: 1.12209  High: 1.127  Low: 1.12209  Close: 1.12611\n",
      "GBP_USD --time: 2020-06-22 13:00:00 --Open: 1.24057  High: 1.24703  Low: 1.23921  Close: 1.24644\n",
      "EUR_USD --time: 2020-06-22 17:00:00 --Open: 1.1261  High: 1.12666  Low: 1.12532  Close: 1.12616\n",
      "GBP_USD --time: 2020-06-22 17:00:00 --Open: 1.24642  High: 1.24772  Low: 1.24582  Close: 1.24696\n",
      "EUR_USD --time: 2020-06-22 21:00:00 --Open: 1.12625  High: 1.1281  Low: 1.1261  Close: 1.12672\n",
      "GBP_USD --time: 2020-06-22 21:00:00 --Open: 1.24707  High: 1.25072  Low: 1.24535  Close: 1.24822\n",
      "EUR_USD --time: 2020-06-23 01:00:00 --Open: 1.12673  High: 1.12764  Low: 1.12332  Close: 1.12616\n",
      "GBP_USD --time: 2020-06-23 01:00:00 --Open: 1.24825  High: 1.24956  Low: 1.24366  Close: 1.24664\n",
      "EUR_USD --time: 2020-06-23 05:00:00 --Open: 1.12618  High: 1.13064  Low: 1.12567  Close: 1.12904\n",
      "GBP_USD --time: 2020-06-23 05:00:00 --Open: 1.24667  High: 1.2513  Low: 1.24418  Close: 1.2484\n",
      "EUR_USD --time: 2020-06-23 09:00:00 --Open: 1.12906  High: 1.13333  Low: 1.12824  Close: 1.13298\n",
      "GBP_USD --time: 2020-06-23 09:00:00 --Open: 1.24842  High: 1.25015  Low: 1.24322  Close: 1.24972\n",
      "EUR_USD --time: 2020-06-23 13:00:00 --Open: 1.13299  High: 1.13487  Low: 1.13069  Close: 1.13086\n",
      "GBP_USD --time: 2020-06-23 13:00:00 --Open: 1.2497  High: 1.25316  Low: 1.24735  Close: 1.25155\n",
      "EUR_USD --time: 2020-06-23 17:00:00 --Open: 1.13088  High: 1.13212  Low: 1.1302  Close: 1.13088\n",
      "GBP_USD --time: 2020-06-23 17:00:00 --Open: 1.25158  High: 1.2532  Low: 1.2509  Close: 1.25206\n",
      "EUR_USD --time: 2020-06-23 21:00:00 --Open: 1.13095  High: 1.13222  Low: 1.13076  Close: 1.13176\n",
      "GBP_USD --time: 2020-06-23 21:00:00 --Open: 1.2516  High: 1.25428  Low: 1.25124  Close: 1.25296\n",
      "EUR_USD --time: 2020-06-24 01:00:00 --Open: 1.13178  High: 1.1326  Low: 1.13091  Close: 1.13148\n",
      "GBP_USD --time: 2020-06-24 01:00:00 --Open: 1.25298  High: 1.25384  Low: 1.25114  Close: 1.25138\n",
      "EUR_USD --time: 2020-06-24 05:00:00 --Open: 1.13146  High: 1.13254  Low: 1.12872  Close: 1.13013\n",
      "GBP_USD --time: 2020-06-24 05:00:00 --Open: 1.25136  High: 1.25272  Low: 1.2466  Close: 1.24998\n",
      "Strategy run finished with Run ID: None\n",
      "Profit ... or Loss: 0.00\n",
      "CPU times: user 133 ms, sys: 65.2 ms, total: 199 ms\n",
      "Wall time: 4.48 s\n"
     ]
    }
   ],
   "source": [
    "%%time\n",
    "!python q_pack/q_run/run_BT.py --fromdate='2020-06-15' --todate='2020-06-25' --timeframe='h4' --strat_param \"use_level=no,use_db=yes,ml_serving=no\""
   ]
  },
  {
   "cell_type": "code",
   "execution_count": 8,
   "metadata": {},
   "outputs": [
    {
     "name": "stdout",
     "output_type": "stream",
     "text": [
      "{'fromdate': datetime.datetime(2015, 7, 1, 0, 0)}\n",
      "/opt/conda/lib/python3.7/site-packages/numpy/core/fromnumeric.py:3335: RuntimeWarning: Mean of empty slice.\n",
      "  out=out, **kwargs)\n",
      "/opt/conda/lib/python3.7/site-packages/numpy/core/_methods.py:161: RuntimeWarning: invalid value encountered in double_scalars\n",
      "  ret = ret.dtype.type(ret / rcount)\n",
      "Strategy run finished with Run ID: None\n",
      "Profit ... or Loss: 0.00\n"
     ]
    }
   ],
   "source": [
    "! python q_pack/q_run/run_BT.py --strat_name=simple_strategy_3 --mode=backtest --tickers=AUD_USD,EUR_JPY,EUR_USD,GBP_JPY,GBP_USD,NZD_USD,USD_CAD,USD_CHF,USD_JPY --timeframe=daily --strat_param=use_level=no,use_db=yes"
   ]
  },
  {
   "cell_type": "code",
   "execution_count": 18,
   "metadata": {},
   "outputs": [
    {
     "name": "stdout",
     "output_type": "stream",
     "text": [
      "{'fromdate': datetime.datetime(2020, 6, 18, 0, 0)}\n",
      "using level indicator\n",
      "EUR_USD --time: 2020-06-18 10:00:00 --Open: 1.12485  High: 1.12615  Low: 1.12453  Close: 1.12492\n",
      "EUR_USD --time: 2020-06-18 11:00:00 --Open: 1.12494  High: 1.12565  Low: 1.12392  Close: 1.12546\n",
      "EUR_USD --time: 2020-06-18 12:00:00 --Open: 1.12547  High: 1.12586  Low: 1.123  Close: 1.1233\n",
      "EUR_USD --time: 2020-06-18 13:00:00 --Open: 1.1233  High: 1.12346  Low: 1.12144  Close: 1.12242\n",
      "EUR_USD --time: 2020-06-18 14:00:00 --Open: 1.12244  High: 1.1232  Low: 1.12111  Close: 1.12168\n",
      "EUR_USD --time: 2020-06-18 15:00:00 --Open: 1.12169  High: 1.12266  Low: 1.12027  Close: 1.122\n",
      "EUR_USD --time: 2020-06-18 16:00:00 --Open: 1.12201  High: 1.12327  Low: 1.12112  Close: 1.12174\n",
      "EUR_USD --time: 2020-06-18 17:00:00 --Open: 1.12173  High: 1.12174  Low: 1.11885  Close: 1.11899\n",
      "EUR_USD --time: 2020-06-18 18:00:00 --Open: 1.11898  High: 1.1205  Low: 1.11855  Close: 1.1204\n",
      "EUR_USD --time: 2020-06-18 19:00:00 --Open: 1.12038  High: 1.12089  Low: 1.11994  Close: 1.12068\n",
      "EUR_USD --time: 2020-06-18 20:00:00 --Open: 1.12066  High: 1.1213  Low: 1.12006  Close: 1.12006\n",
      "EUR_USD --time: 2020-06-18 20:59:00 --Open: 1.12005  High: 1.12102  Low: 1.11996  Close: 1.12049\n",
      "EUR_USD --time: 2020-06-18 22:00:00 --Open: 1.12049  High: 1.12071  Low: 1.12021  Close: 1.12068\n",
      "EUR_USD --time: 2020-06-18 23:00:00 --Open: 1.12066  High: 1.12098  Low: 1.12048  Close: 1.12094\n",
      "EUR_USD --time: 2020-06-19 00:00:00 --Open: 1.12096  High: 1.12135  Low: 1.12062  Close: 1.12062\n",
      "EUR_USD --time: 2020-06-19 01:00:00 --Open: 1.12063  High: 1.12065  Low: 1.11994  Close: 1.12045\n",
      "EUR_USD --time: 2020-06-19 02:00:00 --Open: 1.12044  High: 1.12106  Low: 1.11988  Close: 1.12051\n",
      "EUR_USD --time: 2020-06-19 03:00:00 --Open: 1.12052  High: 1.1211  Low: 1.12041  Close: 1.12088\n",
      "EUR_USD --time: 2020-06-19 04:00:00 --Open: 1.1209  High: 1.12148  Low: 1.12086  Close: 1.12134\n",
      "EUR_USD --time: 2020-06-19 05:00:00 --Open: 1.12132  High: 1.12164  Low: 1.12112  Close: 1.1213\n",
      "EUR_USD --time: 2020-06-19 06:00:00 --Open: 1.12132  High: 1.12171  Low: 1.12126  Close: 1.12157\n",
      "EUR_USD --time: 2020-06-19 07:00:00 --Open: 1.12155  High: 1.12219  Low: 1.12056  Close: 1.12161\n",
      "EUR_USD --time: 2020-06-19 08:00:00 --Open: 1.12162  High: 1.12186  Low: 1.1205  Close: 1.12112\n",
      "EUR_USD --time: 2020-06-19 09:00:00 --Open: 1.12113  High: 1.12196  Low: 1.12036  Close: 1.12166\n",
      "EUR_USD --time: 2020-06-19 10:00:00 --Open: 1.12164  High: 1.12186  Low: 1.121  Close: 1.12122\n",
      "EUR_USD --time: 2020-06-19 11:00:00 --Open: 1.12121  High: 1.12145  Low: 1.11944  Close: 1.12022\n",
      "EUR_USD --time: 2020-06-19 12:00:00 --Open: 1.1202  High: 1.12145  Low: 1.11954  Close: 1.1213\n",
      "EUR_USD --time: 2020-06-19 13:00:00 --Open: 1.12128  High: 1.12544  Low: 1.12015  Close: 1.12378\n",
      "EUR_USD --time: 2020-06-19 14:00:00 --Open: 1.12379  High: 1.12424  Low: 1.12166  Close: 1.12239\n",
      "EUR_USD --time: 2020-06-19 15:00:00 --Open: 1.1224  High: 1.12328  Low: 1.11684  Close: 1.11878\n",
      "EUR_USD --time: 2020-06-19 16:00:00 --Open: 1.11877  High: 1.1215  Low: 1.11799  Close: 1.11904\n",
      "EUR_USD --time: 2020-06-19 17:00:00 --Open: 1.11903  High: 1.11964  Low: 1.11816  Close: 1.11904\n",
      "EUR_USD --time: 2020-06-19 18:00:00 --Open: 1.11905  High: 1.11938  Low: 1.11865  Close: 1.1189\n",
      "EUR_USD --time: 2020-06-19 19:00:00 --Open: 1.11888  High: 1.11896  Low: 1.11748  Close: 1.11866\n",
      "EUR_USD --time: 2020-06-19 20:00:00 --Open: 1.11868  High: 1.11895  Low: 1.11835  Close: 1.1187\n",
      "EUR_USD --time: 2020-06-21 21:00:00 --Open: 1.11872  High: 1.11874  Low: 1.11722  Close: 1.11856\n",
      "EUR_USD --time: 2020-06-21 22:00:00 --Open: 1.11842  High: 1.11868  Low: 1.11799  Close: 1.11804\n",
      "EUR_USD --time: 2020-06-21 23:00:00 --Open: 1.11801  High: 1.1184  Low: 1.1175  Close: 1.11807\n",
      "EUR_USD --time: 2020-06-22 00:00:00 --Open: 1.11808  High: 1.11812  Low: 1.11685  Close: 1.11784\n",
      "EUR_USD --time: 2020-06-22 01:00:00 --Open: 1.11782  High: 1.11854  Low: 1.1174  Close: 1.11836\n",
      "EUR_USD --time: 2020-06-22 02:00:00 --Open: 1.11834  High: 1.11896  Low: 1.11813  Close: 1.11854\n",
      "EUR_USD --time: 2020-06-22 03:00:00 --Open: 1.11853  High: 1.1197  Low: 1.11848  Close: 1.1191\n",
      "EUR_USD --time: 2020-06-22 04:00:00 --Open: 1.11912  High: 1.11954  Low: 1.11888  Close: 1.11919\n",
      "EUR_USD --time: 2020-06-22 05:00:00 --Open: 1.1192  High: 1.1204  Low: 1.1192  Close: 1.12016\n",
      "EUR_USD --time: 2020-06-22 06:00:00 --Open: 1.12014  High: 1.12049  Low: 1.11918  Close: 1.1193\n",
      "EUR_USD --time: 2020-06-22 07:00:00 --Open: 1.11928  High: 1.12067  Low: 1.11897  Close: 1.11927\n",
      "EUR_USD --time: 2020-06-22 08:00:00 --Open: 1.11926  High: 1.12129  Low: 1.11883  Close: 1.12118\n",
      "EUR_USD --time: 2020-06-22 09:00:00 --Open: 1.12116  High: 1.12253  Low: 1.12061  Close: 1.12231\n",
      "EUR_USD --time: 2020-06-22 10:00:00 --Open: 1.12232  High: 1.12267  Low: 1.12116  Close: 1.12132\n",
      "EUR_USD --time: 2020-06-22 11:00:00 --Open: 1.12131  High: 1.12209  Low: 1.12108  Close: 1.12136\n",
      "EUR_USD --time: 2020-06-22 12:00:00 --Open: 1.12138  High: 1.12167  Low: 1.12034  Close: 1.12133\n",
      "EUR_USD --time: 2020-06-22 13:00:00 --Open: 1.12134  High: 1.12235  Low: 1.12068  Close: 1.12226\n",
      "EUR_USD --time: 2020-06-22 14:00:00 --Open: 1.12224  High: 1.12498  Low: 1.12216  Close: 1.12436\n",
      "EUR_USD --time: 2020-06-22 15:00:00 --Open: 1.12434  High: 1.127  Low: 1.12424  Close: 1.12493\n",
      "EUR_USD --time: 2020-06-22 16:00:00 --Open: 1.12492  High: 1.12617  Low: 1.12466  Close: 1.1261\n",
      "EUR_USD --time: 2020-06-22 17:00:00 --Open: 1.12612  High: 1.1264  Low: 1.12572  Close: 1.12604\n",
      "EUR_USD --time: 2020-06-22 18:00:00 --Open: 1.12604  High: 1.12637  Low: 1.1255  Close: 1.12577\n",
      "EUR_USD --time: 2020-06-22 19:00:00 --Open: 1.12576  High: 1.12634  Low: 1.12565  Close: 1.12599\n",
      "EUR_USD --time: 2020-06-22 20:00:00 --Open: 1.126  High: 1.12626  Low: 1.12532  Close: 1.12546\n",
      "EUR_USD --time: 2020-06-22 20:59:00 --Open: 1.12548  High: 1.12666  Low: 1.12544  Close: 1.12616\n",
      "EUR_USD --time: 2020-06-22 22:00:00 --Open: 1.12625  High: 1.12638  Low: 1.1261  Close: 1.12634\n",
      "EUR_USD --time: 2020-06-22 22:39:00 --Open: 1.12636  High: 1.1268  Low: 1.12633  Close: 1.1266\n",
      "Strategy run finished with Run ID: None\n",
      "level is here\n",
      "Profit ... or Loss: 0.00\n",
      "CPU times: user 218 ms, sys: 100 ms, total: 318 ms\n",
      "Wall time: 6.61 s\n"
     ]
    }
   ],
   "source": [
    "%%time\n",
    "!python q_pack/q_run/run_BT.py --fromdate='2020-06-18' --timeframe='1hour' --strat_param \"use_level=yes,use_db=yes,ml_serving=no\""
   ]
  },
  {
   "cell_type": "code",
   "execution_count": 1,
   "metadata": {},
   "outputs": [
    {
     "name": "stdout",
     "output_type": "stream",
     "text": [
      "{'fromdate': datetime.datetime(2020, 1, 1, 0, 0)}\n",
      "using level indicator\n",
      "/opt/conda/lib/python3.7/site-packages/numpy/core/fromnumeric.py:3335: RuntimeWarning: Mean of empty slice.\n",
      "  out=out, **kwargs)\n",
      "/opt/conda/lib/python3.7/site-packages/numpy/core/_methods.py:161: RuntimeWarning: invalid value encountered in double_scalars\n",
      "  ret = ret.dtype.type(ret / rcount)\n",
      "Strategy run finished with Run ID: None\n",
      "ML Log Saved in Minio Bucket: model-support-files as None_ml_log.csv\n",
      "level is here\n",
      "Profit ... or Loss: 0.00\n",
      "CPU times: user 47 ms, sys: 19.8 ms, total: 66.7 ms\n",
      "Wall time: 2.39 s\n"
     ]
    }
   ],
   "source": [
    "%%time\n",
    "!python q_pack/q_run/run_BT.py --fromdate='2020-01-01' --timeframe='daily'--strat_param \"use_level=yes,use_db=yes,ml_serving=no\""
   ]
  },
  {
   "cell_type": "code",
   "execution_count": 62,
   "metadata": {},
   "outputs": [
    {
     "data": {
      "text/plain": [
       "'2020-06-19'"
      ]
     },
     "execution_count": 62,
     "metadata": {},
     "output_type": "execute_result"
    }
   ],
   "source": [
    "import datetime\n",
    "str(datetime.datetime.now().date())"
   ]
  },
  {
   "cell_type": "code",
   "execution_count": 3,
   "metadata": {},
   "outputs": [
    {
     "name": "stdout",
     "output_type": "stream",
     "text": [
      "no indicator data for EUR_USD\n",
      "no indicator data for GBP_USD\n",
      "Strategy run finished with Run ID: None\n",
      "4 240 m240\n",
      "4 240 m240\n",
      "4 240 m240\n",
      "4 240 m240\n",
      "4 240 m240\n",
      "4 240 m240\n",
      "4 240 m240\n",
      "4 240 m240\n",
      "4 240 m240\n",
      "4 240 m240\n",
      "Profit ... or Loss: 0.00\n",
      "CPU times: user 2.86 s, sys: 1.3 s, total: 4.16 s\n",
      "Wall time: 1min 41s\n"
     ]
    }
   ],
   "source": [
    "%%time\n",
    "!python q_pack/q_run/run_BT.py --fromdate='2020-04-01' --todate='2020-05-01'"
   ]
  },
  {
   "cell_type": "code",
   "execution_count": 4,
   "metadata": {},
   "outputs": [
    {
     "data": {
      "text/plain": [
       "'no indicator data for MSFT\\nno indicator data for AAPL\\n0\\nStrategy run finished with Run ID: None\\ndone\\ndone\\ndone\\nlevel is here\\ndone\\ndone\\ndone\\ndone\\ndone\\nlevel is here\\ndone\\ndone\\nProfit ... or Loss: 0.00\\n'"
      ]
     },
     "execution_count": 4,
     "metadata": {},
     "output_type": "execute_result"
    }
   ],
   "source": [
    "import subprocess\n",
    "cmd_str=\"\"\"python q_pack/q_run/run_BT.py --todate='2020-03-31'\"\"\"\n",
    "process = subprocess.run(cmd_str, shell=True, check=True, stdout=subprocess.PIPE, universal_newlines=True)\n",
    "output = process.stdout\n",
    "\n",
    "output"
   ]
  },
  {
   "cell_type": "markdown",
   "metadata": {},
   "source": [
    "## Running the etl jobs via rest_api"
   ]
  },
  {
   "cell_type": "code",
   "execution_count": 6,
   "metadata": {},
   "outputs": [],
   "source": [
    "import requests"
   ]
  },
  {
   "cell_type": "code",
   "execution_count": 7,
   "metadata": {},
   "outputs": [
    {
     "name": "stdout",
     "output_type": "stream",
     "text": [
      "{\"Success\": \"Oanda Symbols Loaded\"}\n",
      "\n"
     ]
    }
   ],
   "source": [
    "url = \"http://etl-image:8060/load_symbols/oanda\"\n",
    "r = requests.get(url=url)\n",
    "print(r.text)"
   ]
  },
  {
   "cell_type": "code",
   "execution_count": 8,
   "metadata": {},
   "outputs": [
    {
     "name": "stdout",
     "output_type": "stream",
     "text": [
      "{\"Success\": \"Oanda Minute Data Loaded\"}\n",
      "\n"
     ]
    }
   ],
   "source": [
    "url = \"http://etl-image:8060/load_daily_data/oanda\"\n",
    "r = requests.get(url=url)\n",
    "print(r.text)"
   ]
  },
  {
   "cell_type": "code",
   "execution_count": 9,
   "metadata": {},
   "outputs": [
    {
     "name": "stdout",
     "output_type": "stream",
     "text": [
      "<!DOCTYPE HTML PUBLIC \"-//W3C//DTD HTML 3.2 Final//EN\">\n",
      "<title>404 Not Found</title>\n",
      "<h1>Not Found</h1>\n",
      "<p>The requested URL was not found on the server. If you entered the URL manually please check your spelling and try again.</p>\n",
      "\n"
     ]
    }
   ],
   "source": [
    "url = \"http://etl-image:8060/load_minute_data/oanda\"\n",
    "r = requests.get(url=url)\n",
    "print(r.text)"
   ]
  },
  {
   "cell_type": "code",
   "execution_count": 3,
   "metadata": {},
   "outputs": [
    {
     "name": "stdout",
     "output_type": "stream",
     "text": [
      "{\"Success\": \"Daily Data Loaded\"}\n",
      "\n"
     ]
    }
   ],
   "source": [
    "url = \"http://etl-image:8060/load_daily_data/alpaca\"\n",
    "r = requests.get(url=url)\n",
    "print(r.text)"
   ]
  },
  {
   "cell_type": "code",
   "execution_count": 4,
   "metadata": {},
   "outputs": [
    {
     "name": "stdout",
     "output_type": "stream",
     "text": [
      "{\"Success\": \"Test\"}\n",
      "\n"
     ]
    }
   ],
   "source": [
    "# url = \"http://etl-image:8060/test/alpaca\"\n",
    "# r = requests.get(url=url)\n",
    "# print(r.text)"
   ]
  },
  {
   "cell_type": "code",
   "execution_count": 5,
   "metadata": {},
   "outputs": [
    {
     "name": "stdout",
     "output_type": "stream",
     "text": [
      "{\"Success\": \"Indicator Data Loaded\"}\n",
      "\n"
     ]
    }
   ],
   "source": [
    "url = \"http://etl-image:8060/load_indicator_data/alpaca\"\n",
    "r = requests.get(url=url)\n",
    "print(r.text)"
   ]
  },
  {
   "cell_type": "code",
   "execution_count": 6,
   "metadata": {},
   "outputs": [],
   "source": [
    "# url = \"http://etl-image:8060/load_indicator_data/alpaca\"\n",
    "# r = requests.get(url=url)\n",
    "# print(r.text)"
   ]
  },
  {
   "cell_type": "code",
   "execution_count": null,
   "metadata": {},
   "outputs": [],
   "source": []
  }
 ],
 "metadata": {
  "kernelspec": {
   "display_name": "Python 3",
   "language": "python",
   "name": "python3"
  },
  "language_info": {
   "codemirror_mode": {
    "name": "ipython",
    "version": 3
   },
   "file_extension": ".py",
   "mimetype": "text/x-python",
   "name": "python",
   "nbconvert_exporter": "python",
   "pygments_lexer": "ipython3",
   "version": "3.7.6"
  }
 },
 "nbformat": 4,
 "nbformat_minor": 4
}
