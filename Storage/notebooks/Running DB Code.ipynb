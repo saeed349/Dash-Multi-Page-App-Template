{
 "cells": [
  {
   "cell_type": "markdown",
   "metadata": {},
   "source": [
    "# Running the DB code"
   ]
  },
  {
   "cell_type": "code",
   "execution_count": 1,
   "metadata": {},
   "outputs": [],
   "source": [
    "import q_pack.db_pack.schema.secmaster_db_schema_builder as secmaster_db_schema_builder\n",
    "import q_pack.db_pack.schema.indicator_db_schema_builder as indicator_db_schema_builder"
   ]
  },
  {
   "cell_type": "code",
   "execution_count": 2,
   "metadata": {},
   "outputs": [
    {
     "name": "stdout",
     "output_type": "stream",
     "text": [
      "Database exists.\n",
      "Database exists.\n",
      "Building tables.\n",
      "relation \"data_vendor\" already exists\n",
      "\n"
     ]
    }
   ],
   "source": [
    "secmaster_db_schema_builder.main()"
   ]
  },
  {
   "cell_type": "code",
   "execution_count": 3,
   "metadata": {},
   "outputs": [
    {
     "name": "stdout",
     "output_type": "stream",
     "text": [
      "Indicator Database does not exist.\n",
      "Creating new database.\n",
      "Database exists.\n",
      "Building tables.\n",
      "Building tables.\n",
      "Building tables.\n",
      "Building tables.\n",
      "Building tables.\n",
      "Building tables.\n",
      "Building tables.\n",
      "Building tables.\n",
      "Building tables.\n",
      "Building tables.\n",
      "Building tables.\n"
     ]
    }
   ],
   "source": [
    "indicator_db_schema_builder.main()"
   ]
  },
  {
   "cell_type": "code",
   "execution_count": 2,
   "metadata": {},
   "outputs": [],
   "source": [
    "# !.\\starter_script.bat"
   ]
  },
  {
   "cell_type": "code",
   "execution_count": 4,
   "metadata": {},
   "outputs": [
    {
     "name": "stdout",
     "output_type": "stream",
     "text": [
      "Adding new Vendor  Zerodha\n",
      "number of symbols loaded =  989\n"
     ]
    }
   ],
   "source": [
    "! python q_pack/db_pack/zerodha/zerodha_symbol_loader.py"
   ]
  },
  {
   "cell_type": "code",
   "execution_count": 4,
   "metadata": {},
   "outputs": [
    {
     "name": "stdout",
     "output_type": "stream",
     "text": [
      "HEREs you FUCKING ToKeNNN fgcECJZNOBDO1Fk5I1ZVjjOvPvj4d74r\n",
      "0:00:00.000005\n",
      "340481\n",
      "2020-10-01T00:00:00Z 2020-10-04T06:00:34Z\n",
      "DATE_DIFF= 3\n",
      "340481 complete!\n",
      "341249\n",
      "2020-10-01T00:00:00Z 2020-10-04T06:00:34Z\n",
      "DATE_DIFF= 3\n",
      "341249 complete!\n",
      "356865\n",
      "2020-10-01T00:00:00Z 2020-10-04T06:00:35Z\n",
      "DATE_DIFF= 3\n",
      "356865 complete!\n",
      "408065\n",
      "2020-10-01T00:00:00Z 2020-10-04T06:00:35Z\n",
      "DATE_DIFF= 3\n",
      "408065 complete!\n",
      "492033\n",
      "2020-10-01T00:00:00Z 2020-10-04T06:00:36Z\n",
      "DATE_DIFF= 3\n",
      "492033 complete!\n",
      "738561\n",
      "2020-10-01T00:00:00Z 2020-10-04T06:00:36Z\n",
      "DATE_DIFF= 3\n",
      "738561 complete!\n",
      "2953217\n",
      "2020-10-01T00:00:00Z 2020-10-04T06:00:37Z\n",
      "DATE_DIFF= 3\n",
      "2953217 complete!\n",
      "0:00:03.063152\n"
     ]
    }
   ],
   "source": [
    "! python q_pack/db_pack/zerodha/zerodha_historical.py"
   ]
  },
  {
   "cell_type": "code",
   "execution_count": 5,
   "metadata": {},
   "outputs": [],
   "source": [
    "import q_pack.db_pack.oanda.oanda_symbol_loader as oanda_symbol_loader\n",
    "import q_pack.db_pack.oanda.oanda_historical as oanda_historical\n",
    "import datetime"
   ]
  },
  {
   "cell_type": "code",
   "execution_count": 6,
   "metadata": {},
   "outputs": [
    {
     "name": "stdout",
     "output_type": "stream",
     "text": [
      "Adding new Vendor  Oanda\n",
      "number of symbols loaded =  70\n"
     ]
    },
    {
     "name": "stderr",
     "output_type": "stream",
     "text": [
      "/home/jovyan/work/q_pack/db_pack/oanda/oanda_symbol_loader.py:33: FutureWarning: pandas.io.json.json_normalize is deprecated, use pandas.json_normalize instead\n",
      "  df=pd.io.json.json_normalize(data=df['instruments'])\n"
     ]
    }
   ],
   "source": [
    "oanda_symbol_loader.main()"
   ]
  },
  {
   "cell_type": "code",
   "execution_count": 2,
   "metadata": {},
   "outputs": [],
   "source": [
    "import q_pack.db_pack.quandl.bse_quandl_symbol_loader as quandl_symbol_loader\n",
    "import q_pack.db_pack.quandl.bse_quandl_historical as quandl_historical\n",
    "import datetime"
   ]
  },
  {
   "cell_type": "code",
   "execution_count": 3,
   "metadata": {},
   "outputs": [],
   "source": [
    "# oanda_symbol_loader.main()\n",
    "# quandl_symbol_loader.main()"
   ]
  },
  {
   "cell_type": "code",
   "execution_count": 1,
   "metadata": {},
   "outputs": [],
   "source": [
    "# quandl_historical.main(freq='d',initial_start_date=datetime.datetime(2018,1,1))"
   ]
  },
  {
   "cell_type": "code",
   "execution_count": 2,
   "metadata": {},
   "outputs": [],
   "source": [
    "# oanda_historical.main(freq='h1',initial_start_date=datetime.datetime(2020,1,1))"
   ]
  },
  {
   "cell_type": "code",
   "execution_count": 3,
   "metadata": {},
   "outputs": [],
   "source": [
    "# oanda_historical.main(freq='h4',initial_start_date=datetime.datetime(2020,5,1))"
   ]
  },
  {
   "cell_type": "code",
   "execution_count": 17,
   "metadata": {},
   "outputs": [],
   "source": [
    "# ! python q_pack/db_pack/oanda/oanda_symbol_loader.py"
   ]
  },
  {
   "cell_type": "code",
   "execution_count": 6,
   "metadata": {},
   "outputs": [],
   "source": [
    "# ! python q_pack/db_pack/oanda/oanda_minute.py --fromdate='2020-6-10'"
   ]
  },
  {
   "cell_type": "code",
   "execution_count": 7,
   "metadata": {},
   "outputs": [],
   "source": [
    "# ! python q_pack/db_pack/oanda/oanda_daily.py"
   ]
  },
  {
   "cell_type": "code",
   "execution_count": 15,
   "metadata": {},
   "outputs": [],
   "source": [
    "# ! python q_pack/db_pack/alpaca/alpaca_symbol_loader.py"
   ]
  },
  {
   "cell_type": "code",
   "execution_count": 1,
   "metadata": {},
   "outputs": [
    {
     "name": "stdout",
     "output_type": "stream",
     "text": [
      "/opt/conda/lib/python3.8/site-packages/xlrd/xlsx.py:266: DeprecationWarning: This method will be removed in future versions.  Use 'tree.iter()' or 'list(tree.iter())' instead.\n",
      "  for elem in self.tree.iter() if Element_has_iter else self.tree.getiterator():\n",
      "{'fromdate': datetime.datetime(2016, 1, 1, 0, 0)}\n",
      "no indicator data for RELIANCE\n",
      "no indicator data for TCS\n",
      "no indicator data for HINDUNILVR\n",
      "no indicator data for HDFCBANK\n",
      "no indicator data for HDFC\n",
      "no indicator data for INFY\n",
      "no indicator data for KOTAKBANK\n",
      "no indicator data for BHARTIARTL\n",
      "/opt/conda/lib/python3.8/site-packages/numpy/core/fromnumeric.py:3372: RuntimeWarning: Mean of empty slice.\n",
      "  return _methods._mean(a, axis=axis, dtype=dtype,\n",
      "/opt/conda/lib/python3.8/site-packages/numpy/core/_methods.py:170: RuntimeWarning: invalid value encountered in double_scalars\n",
      "  ret = ret.dtype.type(ret / rcount)\n",
      "Strategy run finished with Run ID: None\n",
      "d_data 1 1 RELIANCE\n",
      "SELECT max(date_price) FROM d_data WHERE indicator_id = 1 and symbol_id = 1\n",
      "d_data 2 1 RELIANCE\n",
      "SELECT max(date_price) FROM d_data WHERE indicator_id = 2 and symbol_id = 1\n",
      "d_data 3 1 RELIANCE\n",
      "SELECT max(date_price) FROM d_data WHERE indicator_id = 3 and symbol_id = 1\n",
      "d_data 4 1 RELIANCE\n",
      "SELECT max(date_price) FROM d_data WHERE indicator_id = 4 and symbol_id = 1\n",
      "d_data 5 1 RELIANCE\n",
      "SELECT max(date_price) FROM d_data WHERE indicator_id = 5 and symbol_id = 1\n",
      "d_data 1 2 TCS\n",
      "SELECT max(date_price) FROM d_data WHERE indicator_id = 1 and symbol_id = 2\n",
      "d_data 2 2 TCS\n",
      "SELECT max(date_price) FROM d_data WHERE indicator_id = 2 and symbol_id = 2\n",
      "d_data 3 2 TCS\n",
      "SELECT max(date_price) FROM d_data WHERE indicator_id = 3 and symbol_id = 2\n",
      "d_data 4 2 TCS\n",
      "SELECT max(date_price) FROM d_data WHERE indicator_id = 4 and symbol_id = 2\n",
      "d_data 5 2 TCS\n",
      "SELECT max(date_price) FROM d_data WHERE indicator_id = 5 and symbol_id = 2\n",
      "d_data 1 3 HINDUNILVR\n",
      "SELECT max(date_price) FROM d_data WHERE indicator_id = 1 and symbol_id = 3\n",
      "d_data 2 3 HINDUNILVR\n",
      "SELECT max(date_price) FROM d_data WHERE indicator_id = 2 and symbol_id = 3\n",
      "d_data 3 3 HINDUNILVR\n",
      "SELECT max(date_price) FROM d_data WHERE indicator_id = 3 and symbol_id = 3\n",
      "d_data 4 3 HINDUNILVR\n",
      "SELECT max(date_price) FROM d_data WHERE indicator_id = 4 and symbol_id = 3\n",
      "d_data 5 3 HINDUNILVR\n",
      "SELECT max(date_price) FROM d_data WHERE indicator_id = 5 and symbol_id = 3\n",
      "d_data 1 4 HDFCBANK\n",
      "SELECT max(date_price) FROM d_data WHERE indicator_id = 1 and symbol_id = 4\n",
      "d_data 2 4 HDFCBANK\n",
      "SELECT max(date_price) FROM d_data WHERE indicator_id = 2 and symbol_id = 4\n",
      "d_data 3 4 HDFCBANK\n",
      "SELECT max(date_price) FROM d_data WHERE indicator_id = 3 and symbol_id = 4\n",
      "d_data 4 4 HDFCBANK\n",
      "SELECT max(date_price) FROM d_data WHERE indicator_id = 4 and symbol_id = 4\n",
      "d_data 5 4 HDFCBANK\n",
      "SELECT max(date_price) FROM d_data WHERE indicator_id = 5 and symbol_id = 4\n",
      "d_data 1 5 HDFC\n",
      "SELECT max(date_price) FROM d_data WHERE indicator_id = 1 and symbol_id = 5\n",
      "d_data 2 5 HDFC\n",
      "SELECT max(date_price) FROM d_data WHERE indicator_id = 2 and symbol_id = 5\n",
      "d_data 3 5 HDFC\n",
      "SELECT max(date_price) FROM d_data WHERE indicator_id = 3 and symbol_id = 5\n",
      "d_data 4 5 HDFC\n",
      "SELECT max(date_price) FROM d_data WHERE indicator_id = 4 and symbol_id = 5\n",
      "d_data 5 5 HDFC\n",
      "SELECT max(date_price) FROM d_data WHERE indicator_id = 5 and symbol_id = 5\n",
      "d_data 1 6 INFY\n",
      "SELECT max(date_price) FROM d_data WHERE indicator_id = 1 and symbol_id = 6\n",
      "d_data 2 6 INFY\n",
      "SELECT max(date_price) FROM d_data WHERE indicator_id = 2 and symbol_id = 6\n",
      "d_data 3 6 INFY\n",
      "SELECT max(date_price) FROM d_data WHERE indicator_id = 3 and symbol_id = 6\n",
      "d_data 4 6 INFY\n",
      "SELECT max(date_price) FROM d_data WHERE indicator_id = 4 and symbol_id = 6\n",
      "d_data 5 6 INFY\n",
      "SELECT max(date_price) FROM d_data WHERE indicator_id = 5 and symbol_id = 6\n",
      "d_data 1 7 KOTAKBANK\n",
      "SELECT max(date_price) FROM d_data WHERE indicator_id = 1 and symbol_id = 7\n",
      "d_data 2 7 KOTAKBANK\n",
      "SELECT max(date_price) FROM d_data WHERE indicator_id = 2 and symbol_id = 7\n",
      "d_data 3 7 KOTAKBANK\n",
      "SELECT max(date_price) FROM d_data WHERE indicator_id = 3 and symbol_id = 7\n",
      "d_data 4 7 KOTAKBANK\n",
      "SELECT max(date_price) FROM d_data WHERE indicator_id = 4 and symbol_id = 7\n",
      "d_data 5 7 KOTAKBANK\n",
      "SELECT max(date_price) FROM d_data WHERE indicator_id = 5 and symbol_id = 7\n",
      "d_data 1 8 BHARTIARTL\n",
      "SELECT max(date_price) FROM d_data WHERE indicator_id = 1 and symbol_id = 8\n",
      "d_data 2 8 BHARTIARTL\n",
      "SELECT max(date_price) FROM d_data WHERE indicator_id = 2 and symbol_id = 8\n",
      "d_data 3 8 BHARTIARTL\n",
      "SELECT max(date_price) FROM d_data WHERE indicator_id = 3 and symbol_id = 8\n",
      "d_data 4 8 BHARTIARTL\n",
      "SELECT max(date_price) FROM d_data WHERE indicator_id = 4 and symbol_id = 8\n",
      "d_data 5 8 BHARTIARTL\n",
      "SELECT max(date_price) FROM d_data WHERE indicator_id = 5 and symbol_id = 8\n",
      "Profit ... or Loss: 0.00\n",
      "CPU times: user 803 ms, sys: 292 ms, total: 1.1 s\n",
      "Wall time: 39.3 s\n"
     ]
    }
   ],
   "source": [
    "%%time\n",
    "!python q_pack/q_run/run_BT.py --fromdate='2016-1-1' --timeframe='d' --load_symbol='True' --strat_param \"use_level=yes,use_db=yes,ml_serving=no\" --univer=\"Indian Equity\""
   ]
  },
  {
   "cell_type": "code",
   "execution_count": 2,
   "metadata": {},
   "outputs": [
    {
     "name": "stdout",
     "output_type": "stream",
     "text": [
      "/opt/conda/lib/python3.8/site-packages/xlrd/xlsx.py:266: DeprecationWarning: This method will be removed in future versions.  Use 'tree.iter()' or 'list(tree.iter())' instead.\n",
      "  for elem in self.tree.iter() if Element_has_iter else self.tree.getiterator():\n",
      "{'fromdate': datetime.datetime(2020, 1, 1, 0, 0)}\n",
      "no indicator data for RELIANCE\n",
      "no indicator data for TCS\n",
      "no indicator data for HINDUNILVR\n",
      "no indicator data for HDFCBANK\n",
      "no indicator data for HDFC\n",
      "no indicator data for INFY\n",
      "no indicator data for KOTAKBANK\n",
      "no indicator data for BHARTIARTL\n",
      "/opt/conda/lib/python3.8/site-packages/numpy/core/fromnumeric.py:3372: RuntimeWarning: Mean of empty slice.\n",
      "  return _methods._mean(a, axis=axis, dtype=dtype,\n",
      "/opt/conda/lib/python3.8/site-packages/numpy/core/_methods.py:170: RuntimeWarning: invalid value encountered in double_scalars\n",
      "  ret = ret.dtype.type(ret / rcount)\n",
      "Strategy run finished with Run ID: None\n",
      "d_data 1 1 RELIANCE\n",
      "SELECT max(date_price) FROM d_data WHERE indicator_id = 1 and symbol_id = 1\n",
      "d_data 2 1 RELIANCE\n",
      "SELECT max(date_price) FROM d_data WHERE indicator_id = 2 and symbol_id = 1\n",
      "d_data 3 1 RELIANCE\n",
      "SELECT max(date_price) FROM d_data WHERE indicator_id = 3 and symbol_id = 1\n",
      "d_data 4 1 RELIANCE\n",
      "SELECT max(date_price) FROM d_data WHERE indicator_id = 4 and symbol_id = 1\n",
      "d_data 5 1 RELIANCE\n",
      "SELECT max(date_price) FROM d_data WHERE indicator_id = 5 and symbol_id = 1\n",
      "d_data 1 2 TCS\n",
      "SELECT max(date_price) FROM d_data WHERE indicator_id = 1 and symbol_id = 2\n",
      "d_data 2 2 TCS\n",
      "SELECT max(date_price) FROM d_data WHERE indicator_id = 2 and symbol_id = 2\n",
      "d_data 3 2 TCS\n",
      "SELECT max(date_price) FROM d_data WHERE indicator_id = 3 and symbol_id = 2\n",
      "d_data 4 2 TCS\n",
      "SELECT max(date_price) FROM d_data WHERE indicator_id = 4 and symbol_id = 2\n",
      "d_data 5 2 TCS\n",
      "SELECT max(date_price) FROM d_data WHERE indicator_id = 5 and symbol_id = 2\n",
      "d_data 1 3 HINDUNILVR\n",
      "SELECT max(date_price) FROM d_data WHERE indicator_id = 1 and symbol_id = 3\n",
      "d_data 2 3 HINDUNILVR\n",
      "SELECT max(date_price) FROM d_data WHERE indicator_id = 2 and symbol_id = 3\n",
      "d_data 3 3 HINDUNILVR\n",
      "SELECT max(date_price) FROM d_data WHERE indicator_id = 3 and symbol_id = 3\n",
      "d_data 4 3 HINDUNILVR\n",
      "SELECT max(date_price) FROM d_data WHERE indicator_id = 4 and symbol_id = 3\n",
      "d_data 5 3 HINDUNILVR\n",
      "SELECT max(date_price) FROM d_data WHERE indicator_id = 5 and symbol_id = 3\n",
      "d_data 1 4 HDFCBANK\n",
      "SELECT max(date_price) FROM d_data WHERE indicator_id = 1 and symbol_id = 4\n",
      "d_data 2 4 HDFCBANK\n",
      "SELECT max(date_price) FROM d_data WHERE indicator_id = 2 and symbol_id = 4\n",
      "d_data 3 4 HDFCBANK\n",
      "SELECT max(date_price) FROM d_data WHERE indicator_id = 3 and symbol_id = 4\n",
      "d_data 4 4 HDFCBANK\n",
      "SELECT max(date_price) FROM d_data WHERE indicator_id = 4 and symbol_id = 4\n",
      "d_data 5 4 HDFCBANK\n",
      "SELECT max(date_price) FROM d_data WHERE indicator_id = 5 and symbol_id = 4\n",
      "d_data 1 5 HDFC\n",
      "SELECT max(date_price) FROM d_data WHERE indicator_id = 1 and symbol_id = 5\n",
      "d_data 2 5 HDFC\n",
      "SELECT max(date_price) FROM d_data WHERE indicator_id = 2 and symbol_id = 5\n",
      "d_data 3 5 HDFC\n",
      "SELECT max(date_price) FROM d_data WHERE indicator_id = 3 and symbol_id = 5\n",
      "d_data 4 5 HDFC\n",
      "SELECT max(date_price) FROM d_data WHERE indicator_id = 4 and symbol_id = 5\n",
      "d_data 5 5 HDFC\n",
      "SELECT max(date_price) FROM d_data WHERE indicator_id = 5 and symbol_id = 5\n",
      "d_data 1 6 INFY\n",
      "SELECT max(date_price) FROM d_data WHERE indicator_id = 1 and symbol_id = 6\n",
      "d_data 2 6 INFY\n",
      "SELECT max(date_price) FROM d_data WHERE indicator_id = 2 and symbol_id = 6\n",
      "d_data 3 6 INFY\n",
      "SELECT max(date_price) FROM d_data WHERE indicator_id = 3 and symbol_id = 6\n",
      "d_data 4 6 INFY\n",
      "SELECT max(date_price) FROM d_data WHERE indicator_id = 4 and symbol_id = 6\n",
      "d_data 5 6 INFY\n",
      "SELECT max(date_price) FROM d_data WHERE indicator_id = 5 and symbol_id = 6\n",
      "d_data 1 7 KOTAKBANK\n",
      "SELECT max(date_price) FROM d_data WHERE indicator_id = 1 and symbol_id = 7\n",
      "d_data 2 7 KOTAKBANK\n",
      "SELECT max(date_price) FROM d_data WHERE indicator_id = 2 and symbol_id = 7\n",
      "d_data 3 7 KOTAKBANK\n",
      "SELECT max(date_price) FROM d_data WHERE indicator_id = 3 and symbol_id = 7\n",
      "d_data 4 7 KOTAKBANK\n",
      "SELECT max(date_price) FROM d_data WHERE indicator_id = 4 and symbol_id = 7\n",
      "d_data 5 7 KOTAKBANK\n",
      "SELECT max(date_price) FROM d_data WHERE indicator_id = 5 and symbol_id = 7\n",
      "d_data 1 8 BHARTIARTL\n",
      "SELECT max(date_price) FROM d_data WHERE indicator_id = 1 and symbol_id = 8\n",
      "d_data 2 8 BHARTIARTL\n",
      "SELECT max(date_price) FROM d_data WHERE indicator_id = 2 and symbol_id = 8\n",
      "d_data 3 8 BHARTIARTL\n",
      "SELECT max(date_price) FROM d_data WHERE indicator_id = 3 and symbol_id = 8\n",
      "d_data 4 8 BHARTIARTL\n",
      "SELECT max(date_price) FROM d_data WHERE indicator_id = 4 and symbol_id = 8\n",
      "d_data 5 8 BHARTIARTL\n",
      "SELECT max(date_price) FROM d_data WHERE indicator_id = 5 and symbol_id = 8\n",
      "Profit ... or Loss: 0.00\n",
      "CPU times: user 399 ms, sys: 139 ms, total: 538 ms\n",
      "Wall time: 17 s\n"
     ]
    }
   ],
   "source": [
    "%%time\n",
    "!python q_pack/q_run/run_BT.py --fromdate='2020-1-1' --timeframe='d' --load_symbol='True' --strat_param \"use_level=yes,use_db=yes,ml_serving=no\" --univer=\"Indian Equity\""
   ]
  },
  {
   "cell_type": "code",
   "execution_count": 20,
   "metadata": {},
   "outputs": [
    {
     "name": "stdout",
     "output_type": "stream",
     "text": [
      "{'fromdate': datetime.datetime(2016, 1, 1, 0, 0), 'todate': datetime.datetime(2020, 7, 5, 0, 0)}\n",
      "no indicator data for AUD_USD\n",
      "no indicator data for EUR_JPY\n",
      "no indicator data for EUR_USD\n",
      "no indicator data for GBP_JPY\n",
      "no indicator data for GBP_USD\n",
      "no indicator data for NZD_USD\n",
      "no indicator data for USD_CAD\n",
      "no indicator data for USD_CHF\n",
      "no indicator data for USD_JPY\n",
      "AUD_USD --time: 2016-11-30 00:00:00 --Open: 0.76136  High: 0.77783  Low: 0.7311  Close: 0.73839\n",
      "EUR_JPY --time: 2016-11-30 00:00:00 --Open: 115.096  High: 121.312  Low: 113.728  Close: 121.202\n",
      "EUR_USD --time: 2016-11-30 00:00:00 --Open: 1.09808  High: 1.12998  Low: 1.05181  Close: 1.05894\n",
      "GBP_JPY --time: 2016-11-30 00:00:00 --Open: 128.322  High: 143.264  Low: 126.494  Close: 143.142\n",
      "GBP_USD --time: 2016-11-30 00:00:00 --Open: 1.22396  High: 1.26742  Low: 1.22056  Close: 1.25061\n",
      "NZD_USD --time: 2016-11-30 00:00:00 --Open: 0.71529  High: 0.74034  Low: 0.69715  Close: 0.70829\n",
      "USD_CAD --time: 2016-11-30 00:00:00 --Open: 1.34112  High: 1.3589  Low: 1.32647  Close: 1.34376\n",
      "USD_CHF --time: 2016-11-30 00:00:00 --Open: 0.98879  High: 1.0205  Low: 0.95498  Close: 1.01742\n",
      "USD_JPY --time: 2016-11-30 00:00:00 --Open: 104.835  High: 114.544  Low: 101.193  Close: 114.462\n",
      "AUD_USD --time: 2016-12-30 00:00:00 --Open: 0.73827  High: 0.75248  Low: 0.71602  Close: 0.72012\n",
      "EUR_JPY --time: 2016-12-30 00:00:00 --Open: 121.213  High: 124.096  Low: 118.729  Close: 123.091\n",
      "EUR_USD --time: 2016-12-30 00:00:00 --Open: 1.05924  High: 1.08745  Low: 1.03524  Close: 1.05198\n",
      "GBP_JPY --time: 2016-12-30 00:00:00 --Open: 143.1  High: 148.458  Low: 142.178  Close: 144.409\n",
      "GBP_USD --time: 2016-12-30 00:00:00 --Open: 1.25041  High: 1.27748  Low: 1.2201  Close: 1.23418\n",
      "NZD_USD --time: 2016-12-30 00:00:00 --Open: 0.70832  High: 0.72388  Low: 0.68622  Close: 0.69256\n",
      "USD_CAD --time: 2016-12-30 00:00:00 --Open: 1.34352  High: 1.35984  Low: 1.30807  Close: 1.34423\n",
      "USD_CHF --time: 2016-12-30 00:00:00 --Open: 1.01687  High: 1.03436  Low: 1.00203  Close: 1.01893\n",
      "USD_JPY --time: 2016-12-30 00:00:00 --Open: 114.428  High: 118.666  Low: 112.876  Close: 117.017\n",
      "AUD_USD --time: 2017-01-31 00:00:00 --Open: 0.7198  High: 0.76092  Low: 0.71927  Close: 0.75847\n",
      "EUR_JPY --time: 2017-01-31 00:00:00 --Open: 122.774  High: 123.729  Low: 120.544  Close: 121.794\n",
      "EUR_USD --time: 2017-01-31 00:00:00 --Open: 1.04684  High: 1.08124  Low: 1.03406  Close: 1.07975\n",
      "GBP_JPY --time: 2017-01-31 00:00:00 --Open: 144.04  High: 145.402  Low: 136.469  Close: 141.886\n",
      "GBP_USD --time: 2017-01-31 00:00:00 --Open: 1.22819  High: 1.26739  Low: 1.1987  Close: 1.25785\n",
      "NZD_USD --time: 2017-01-31 00:00:00 --Open: 0.69294  High: 0.73503  Low: 0.6885  Close: 0.73106\n",
      "USD_CAD --time: 2017-01-31 00:00:00 --Open: 1.34458  High: 1.34612  Low: 1.29689  Close: 1.30316\n",
      "USD_CHF --time: 2017-01-31 00:00:00 --Open: 1.02382  High: 1.03352  Low: 0.98615  Close: 0.98943\n",
      "USD_JPY --time: 2017-01-31 00:00:00 --Open: 117.282  High: 118.614  Low: 112.082  Close: 112.802\n",
      "AUD_USD --time: 2017-02-28 00:00:00 --Open: 0.75875  High: 0.77406  Low: 0.75515  Close: 0.7657\n",
      "EUR_JPY --time: 2017-02-28 00:00:00 --Open: 121.779  High: 122.52  Low: 118.24  Close: 119.286\n",
      "EUR_USD --time: 2017-02-28 00:00:00 --Open: 1.0798  High: 1.0829  Low: 1.04938  Close: 1.05764\n",
      "GBP_JPY --time: 2017-02-28 00:00:00 --Open: 141.951  High: 144.137  Low: 138.548  Close: 139.606\n",
      "GBP_USD --time: 2017-02-28 00:00:00 --Open: 1.25845  High: 1.27064  Low: 1.2347  Close: 1.23784\n",
      "NZD_USD --time: 2017-02-28 00:00:00 --Open: 0.73132  High: 0.73758  Low: 0.71298  Close: 0.71926\n",
      "USD_CAD --time: 2017-02-28 00:00:00 --Open: 1.30304  High: 1.33148  Low: 1.29803  Close: 1.32998\n",
      "USD_CHF --time: 2017-02-28 00:00:00 --Open: 0.98921  High: 1.01412  Low: 0.98701  Close: 1.00586\n",
      "USD_JPY --time: 2017-02-28 00:00:00 --Open: 112.795  High: 114.955  Low: 111.594  Close: 112.789\n",
      "AUD_USD --time: 2017-03-31 00:00:00 --Open: 0.7656  High: 0.77497  Low: 0.74912  Close: 0.7629\n",
      "EUR_JPY --time: 2017-03-31 00:00:00 --Open: 119.341  High: 122.887  Low: 118.632  Close: 118.696\n",
      "EUR_USD --time: 2017-03-31 00:00:00 --Open: 1.05755  High: 1.0906  Low: 1.0495  Close: 1.06548\n",
      "GBP_JPY --time: 2017-03-31 00:00:00 --Open: 139.574  High: 140.76  Low: 137.528  Close: 139.778\n",
      "GBP_USD --time: 2017-03-31 00:00:00 --Open: 1.23781  High: 1.26155  Low: 1.21092  Close: 1.25497\n",
      "NZD_USD --time: 2017-03-31 00:00:00 --Open: 0.71911  High: 0.71949  Low: 0.689  Close: 0.70109\n",
      "USD_CAD --time: 2017-03-31 00:00:00 --Open: 1.32977  High: 1.35344  Low: 1.32639  Close: 1.3317\n",
      "USD_CHF --time: 2017-03-31 00:00:00 --Open: 1.0057  High: 1.01709  Low: 0.98138  Close: 1.00315\n",
      "USD_JPY --time: 2017-03-31 00:00:00 --Open: 112.747  High: 115.504  Low: 110.114  Close: 111.388\n",
      "AUD_USD --time: 2017-04-28 00:00:00 --Open: 0.7634  High: 0.76404  Low: 0.74402  Close: 0.74886\n",
      "EUR_JPY --time: 2017-04-28 00:00:00 --Open: 118.821  High: 121.998  Low: 114.854  Close: 121.506\n",
      "EUR_USD --time: 2017-04-28 00:00:00 --Open: 1.06624  High: 1.09508  Low: 1.05698  Close: 1.08962\n",
      "GBP_JPY --time: 2017-04-28 00:00:00 --Open: 139.767  High: 144.506  Low: 135.61  Close: 144.414\n",
      "GBP_USD --time: 2017-04-28 00:00:00 --Open: 1.25476  High: 1.29658  Low: 1.23655  Close: 1.2948\n",
      "NZD_USD --time: 2017-04-28 00:00:00 --Open: 0.69989  High: 0.7057  Low: 0.68481  Close: 0.68616\n",
      "USD_CAD --time: 2017-04-28 00:00:00 --Open: 1.33106  High: 1.36975  Low: 1.32232  Close: 1.365\n",
      "USD_CHF --time: 2017-04-28 00:00:00 --Open: 1.00219  High: 1.01082  Low: 0.98936  Close: 0.99527\n",
      "USD_JPY --time: 2017-04-28 00:00:00 --Open: 111.444  High: 111.782  Low: 108.129  Close: 111.509\n",
      "AUD_USD --time: 2017-05-31 00:00:00 --Open: 0.74718  High: 0.75562  Low: 0.73294  Close: 0.74305\n",
      "EUR_JPY --time: 2017-05-31 00:00:00 --Open: 121.526  High: 125.816  Low: 121.313  Close: 124.546\n",
      "EUR_USD --time: 2017-05-31 00:00:00 --Open: 1.0913  High: 1.12684  Low: 1.08393  Close: 1.12433\n",
      "GBP_JPY --time: 2017-05-31 00:00:00 --Open: 143.96  High: 148.118  Low: 141.48  Close: 142.788\n",
      "GBP_USD --time: 2017-05-31 00:00:00 --Open: 1.29304  High: 1.30481  Low: 1.2769  Close: 1.28897\n",
      "NZD_USD --time: 2017-05-31 00:00:00 --Open: 0.68598  High: 0.71224  Low: 0.68186  Close: 0.70856\n",
      "USD_CAD --time: 2017-05-31 00:00:00 --Open: 1.3664  High: 1.3793  Low: 1.33872  Close: 1.35004\n",
      "USD_CHF --time: 2017-05-31 00:00:00 --Open: 0.99418  High: 1.01002  Low: 0.96696  Close: 0.96786\n",
      "USD_JPY --time: 2017-05-31 00:00:00 --Open: 111.281  High: 114.379  Low: 110.24  Close: 110.778\n",
      "AUD_USD --time: 2017-06-30 00:00:00 --Open: 0.74312  High: 0.77123  Low: 0.73728  Close: 0.76888\n",
      "EUR_JPY --time: 2017-06-30 00:00:00 --Open: 124.571  High: 128.832  Low: 122.4  Close: 128.409\n",
      "EUR_USD --time: 2017-06-30 00:00:00 --Open: 1.12466  High: 1.14454  Low: 1.11191  Close: 1.14252\n",
      "GBP_JPY --time: 2017-06-30 00:00:00 --Open: 142.77  High: 146.553  Low: 138.671  Close: 146.397\n",
      "GBP_USD --time: 2017-06-30 00:00:00 --Open: 1.28926  High: 1.30303  Low: 1.25896  Close: 1.3024\n",
      "NZD_USD --time: 2017-06-30 00:00:00 --Open: 0.70876  High: 0.73468  Low: 0.70582  Close: 0.73318\n",
      "USD_CAD --time: 2017-06-30 00:00:00 --Open: 1.34984  High: 1.3547  Low: 1.29458  Close: 1.2961\n",
      "USD_CHF --time: 2017-06-30 00:00:00 --Open: 0.96732  High: 0.9771  Low: 0.9553  Close: 0.95861\n",
      "USD_JPY --time: 2017-06-30 00:00:00 --Open: 110.742  High: 112.928  Low: 108.815  Close: 112.412\n",
      "AUD_USD --time: 2017-07-31 00:00:00 --Open: 0.76847  High: 0.80658  Low: 0.75712  Close: 0.80039\n",
      "EUR_JPY --time: 2017-07-31 00:00:00 --Open: 128.026  High: 130.766  Low: 128.001  Close: 130.564\n",
      "EUR_USD --time: 2017-07-31 00:00:00 --Open: 1.14186  High: 1.1846  Low: 1.13126  Close: 1.18424\n",
      "GBP_JPY --time: 2017-07-31 00:00:00 --Open: 145.814  High: 147.775  Low: 144.032  Close: 145.711\n",
      "GBP_USD --time: 2017-07-31 00:00:00 --Open: 1.30078  High: 1.32254  Low: 1.28116  Close: 1.3214\n",
      "NZD_USD --time: 2017-07-31 00:00:00 --Open: 0.73279  High: 0.75587  Low: 0.72024  Close: 0.75107\n",
      "USD_CAD --time: 2017-07-31 00:00:00 --Open: 1.29733  High: 1.30158  Low: 1.24137  Close: 1.24802\n",
      "USD_CHF --time: 2017-07-31 00:00:00 --Open: 0.95842  High: 0.97269  Low: 0.94384  Close: 0.96699\n",
      "USD_JPY --time: 2017-07-31 00:00:00 --Open: 112.102  High: 114.498  Low: 110.216  Close: 110.256\n",
      "AUD_USD --time: 2017-08-31 00:00:00 --Open: 0.80026  High: 0.80432  Low: 0.78076  Close: 0.79457\n",
      "EUR_JPY --time: 2017-08-31 00:00:00 --Open: 130.561  High: 131.706  Low: 127.564  Close: 130.966\n",
      "EUR_USD --time: 2017-08-31 00:00:00 --Open: 1.18414  High: 1.20705  Low: 1.16622  Close: 1.1909\n",
      "GBP_JPY --time: 2017-08-31 00:00:00 --Open: 145.68  High: 146.805  Low: 139.298  Close: 142.201\n",
      "GBP_USD --time: 2017-08-31 00:00:00 --Open: 1.32113  High: 1.32692  Low: 1.27746  Close: 1.29316\n",
      "NZD_USD --time: 2017-08-31 00:00:00 --Open: 0.75104  High: 0.75252  Low: 0.71312  Close: 0.7178\n",
      "USD_CAD --time: 2017-08-31 00:00:00 --Open: 1.24742  High: 1.27784  Low: 1.24406  Close: 1.24822\n",
      "USD_CHF --time: 2017-08-31 00:00:00 --Open: 0.96653  High: 0.97734  Low: 0.9428  Close: 0.9588\n",
      "USD_JPY --time: 2017-08-31 00:00:00 --Open: 110.258  High: 111.052  Low: 108.266  Close: 109.974\n",
      "AUD_USD --time: 2017-09-29 00:00:00 --Open: 0.79474  High: 0.81252  Low: 0.77997  Close: 0.78346\n",
      "EUR_JPY --time: 2017-09-29 00:00:00 --Open: 130.981  High: 134.408  Low: 129.372  Close: 132.91\n",
      "EUR_USD --time: 2017-09-29 00:00:00 --Open: 1.1909  High: 1.20928  Low: 1.1717  Close: 1.1815\n",
      "GBP_JPY --time: 2017-09-29 00:00:00 --Open: 142.107  High: 152.866  Low: 141.196  Close: 150.763\n",
      "GBP_USD --time: 2017-09-29 00:00:00 --Open: 1.29316  High: 1.36596  Low: 1.29054  Close: 1.3399\n",
      "NZD_USD --time: 2017-09-29 00:00:00 --Open: 0.71804  High: 0.74372  Low: 0.71441  Close: 0.72162\n",
      "USD_CAD --time: 2017-09-29 00:00:00 --Open: 1.24866  High: 1.2533  Low: 1.2062  Close: 1.24737\n",
      "USD_CHF --time: 2017-09-29 00:00:00 --Open: 0.9588  High: 0.977  Low: 0.94208  Close: 0.968\n",
      "USD_JPY --time: 2017-09-29 00:00:00 --Open: 109.99  High: 113.258  Low: 107.319  Close: 112.502\n",
      "AUD_USD --time: 2017-10-31 00:00:00 --Open: 0.78359  High: 0.78974  Low: 0.76254  Close: 0.76556\n",
      "EUR_JPY --time: 2017-10-31 00:00:00 --Open: 132.834  High: 134.5  Low: 131.457  Close: 132.342\n",
      "EUR_USD --time: 2017-10-31 00:00:00 --Open: 1.17919  High: 1.188  Low: 1.15741  Close: 1.16458\n",
      "GBP_JPY --time: 2017-10-31 00:00:00 --Open: 150.719  High: 151.402  Low: 146.942  Close: 150.956\n",
      "GBP_USD --time: 2017-10-31 00:00:00 --Open: 1.33763  High: 1.34022  Low: 1.30274  Close: 1.32848\n",
      "NZD_USD --time: 2017-10-31 00:00:00 --Open: 0.72151  High: 0.72268  Low: 0.68188  Close: 0.68482\n",
      "USD_CAD --time: 2017-10-31 00:00:00 --Open: 1.24868  High: 1.29172  Low: 1.24328  Close: 1.28894\n",
      "USD_CHF --time: 2017-10-31 00:00:00 --Open: 0.96897  High: 1.00388  Low: 0.96803  Close: 0.99778\n",
      "USD_JPY --time: 2017-10-31 00:00:00 --Open: 112.661  High: 114.453  Low: 111.652  Close: 113.638\n",
      "AUD_USD --time: 2017-11-30 00:00:00 --Open: 0.76557  High: 0.77301  Low: 0.75322  Close: 0.75663\n",
      "EUR_JPY --time: 2017-11-30 00:00:00 --Open: 132.354  High: 134.145  Low: 131.174  Close: 133.958\n",
      "EUR_USD --time: 2017-11-30 00:00:00 --Open: 1.16457  High: 1.19612  Low: 1.15539  Close: 1.19041\n",
      "GBP_JPY --time: 2017-11-30 00:00:00 --Open: 151.013  High: 152.413  Low: 146.981  Close: 152.226\n",
      "GBP_USD --time: 2017-11-30 00:00:00 --Open: 1.32812  High: 1.3549  Low: 1.30392  Close: 1.35283\n",
      "NZD_USD --time: 2017-11-30 00:00:00 --Open: 0.68458  High: 0.69804  Low: 0.67804  Close: 0.68309\n",
      "USD_CAD --time: 2017-11-30 00:00:00 --Open: 1.28907  High: 1.29102  Low: 1.26658  Close: 1.28969\n",
      "USD_CHF --time: 2017-11-30 00:00:00 --Open: 0.99733  High: 1.0038  Low: 0.97789  Close: 0.98368\n",
      "USD_JPY --time: 2017-11-30 00:00:00 --Open: 113.644  High: 114.734  Low: 110.844  Close: 112.533\n",
      "AUD_USD --time: 2017-12-29 00:00:00 --Open: 0.75664  High: 0.78251  Low: 0.75014  Close: 0.78069\n",
      "EUR_JPY --time: 2017-12-29 00:00:00 --Open: 133.964  High: 135.516  Low: 132.054  Close: 135.229\n",
      "EUR_USD --time: 2017-12-29 00:00:00 --Open: 1.19041  High: 1.20256  Low: 1.17177  Close: 1.20039\n",
      "GBP_JPY --time: 2017-12-29 00:00:00 --Open: 152.254  High: 153.413  Low: 149.419  Close: 152.245\n",
      "GBP_USD --time: 2017-12-29 00:00:00 --Open: 1.35283  High: 1.35498  Low: 1.33008  Close: 1.35045\n",
      "NZD_USD --time: 2017-12-29 00:00:00 --Open: 0.68328  High: 0.71243  Low: 0.68167  Close: 0.70888\n",
      "USD_CAD --time: 2017-12-29 00:00:00 --Open: 1.28947  High: 1.29206  Low: 1.25148  Close: 1.25799\n",
      "USD_CHF --time: 2017-12-29 00:00:00 --Open: 0.98327  High: 0.99779  Low: 0.97099  Close: 0.97425\n",
      "USD_JPY --time: 2017-12-29 00:00:00 --Open: 112.548  High: 113.752  Low: 111.404  Close: 112.696\n",
      "AUD_USD --time: 2018-01-31 00:00:00 --Open: 0.78067  High: 0.81357  Low: 0.77937  Close: 0.80568\n",
      "EUR_JPY --time: 2018-01-31 00:00:00 --Open: 135.236  High: 136.637  Low: 133.06  Close: 135.532\n",
      "EUR_USD --time: 2018-01-31 00:00:00 --Open: 1.20071  High: 1.25374  Low: 1.19159  Close: 1.24138\n",
      "GBP_JPY --time: 2018-01-31 00:00:00 --Open: 152.14  High: 156.091  Low: 150.2  Close: 154.956\n",
      "GBP_USD --time: 2018-01-31 00:00:00 --Open: 1.35021  High: 1.43459  Low: 1.34585  Close: 1.41932\n",
      "NZD_USD --time: 2018-01-31 00:00:00 --Open: 0.7103  High: 0.74402  Low: 0.70249  Close: 0.73646\n",
      "USD_CAD --time: 2018-01-31 00:00:00 --Open: 1.25412  High: 1.25909  Low: 1.22484  Close: 1.23162\n",
      "USD_CHF --time: 2018-01-31 00:00:00 --Open: 0.97489  High: 0.9846  Low: 0.92892  Close: 0.93112\n",
      "USD_JPY --time: 2018-01-31 00:00:00 --Open: 112.666  High: 113.387  Low: 108.284  Close: 109.18\n",
      "AUD_USD --time: 2018-02-28 00:00:00 --Open: 0.80568  High: 0.80672  Low: 0.77592  Close: 0.77614\n",
      "EUR_JPY --time: 2018-02-28 00:00:00 --Open: 135.526  High: 137.506  Low: 130.046  Close: 130.082\n",
      "EUR_USD --time: 2018-02-28 00:00:00 --Open: 1.24098  High: 1.2556  Low: 1.21874  Close: 1.21946\n",
      "GBP_JPY --time: 2018-02-28 00:00:00 --Open: 154.966  High: 156.612  Low: 146.728  Close: 146.784\n",
      "GBP_USD --time: 2018-02-28 00:00:00 --Open: 1.41889  High: 1.42784  Low: 1.37564  Close: 1.37603\n",
      "NZD_USD --time: 2018-02-28 00:00:00 --Open: 0.73614  High: 0.74378  Low: 0.71763  Close: 0.7209\n",
      "USD_CAD --time: 2018-02-28 00:00:00 --Open: 1.23166  High: 1.28416  Low: 1.22565  Close: 1.28325\n",
      "USD_CHF --time: 2018-02-28 00:00:00 --Open: 0.93175  High: 0.94702  Low: 0.91872  Close: 0.94474\n",
      "USD_JPY --time: 2018-02-28 00:00:00 --Open: 109.203  High: 110.484  Low: 105.548  Close: 106.671\n",
      "AUD_USD --time: 2018-03-30 00:00:00 --Open: 0.77586  High: 0.79164  Low: 0.76428  Close: 0.76822\n",
      "EUR_JPY --time: 2018-03-30 00:00:00 --Open: 130.082  High: 132.432  Low: 128.95  Close: 130.95\n",
      "EUR_USD --time: 2018-03-30 00:00:00 --Open: 1.21932  High: 1.24767  Low: 1.21542  Close: 1.23241\n",
      "GBP_JPY --time: 2018-03-30 00:00:00 --Open: 146.775  High: 150.598  Low: 144.994  Close: 148.904\n",
      "GBP_USD --time: 2018-03-30 00:00:00 --Open: 1.37575  High: 1.42444  Low: 1.37122  Close: 1.40121\n",
      "NZD_USD --time: 2018-03-30 00:00:00 --Open: 0.72073  High: 0.7355  Low: 0.71538  Close: 0.72353\n",
      "USD_CAD --time: 2018-03-30 00:00:00 --Open: 1.28293  High: 1.3125  Low: 1.28032  Close: 1.28976\n",
      "USD_CHF --time: 2018-03-30 00:00:00 --Open: 0.94433  High: 0.95838  Low: 0.93388  Close: 0.95382\n",
      "USD_JPY --time: 2018-03-30 00:00:00 --Open: 106.675  High: 107.296  Low: 104.638  Close: 106.284\n",
      "AUD_USD --time: 2018-04-30 00:00:00 --Open: 0.76917  High: 0.78128  Low: 0.75254  Close: 0.75292\n",
      "EUR_JPY --time: 2018-04-30 00:00:00 --Open: 130.911  High: 133.486  Low: 129.982  Close: 132.067\n",
      "EUR_USD --time: 2018-04-30 00:00:00 --Open: 1.23213  High: 1.2414  Low: 1.20556  Close: 1.2079\n",
      "GBP_JPY --time: 2018-04-30 00:00:00 --Open: 149.039  High: 153.857  Low: 148.392  Close: 150.506\n",
      "GBP_USD --time: 2018-04-30 00:00:00 --Open: 1.40283  High: 1.43769  Low: 1.37124  Close: 1.37635\n",
      "NZD_USD --time: 2018-04-30 00:00:00 --Open: 0.72354  High: 0.73952  Low: 0.70336  Close: 0.7034\n",
      "USD_CAD --time: 2018-04-30 00:00:00 --Open: 1.28966  High: 1.29435  Low: 1.25279  Close: 1.28442\n",
      "USD_CHF --time: 2018-04-30 00:00:00 --Open: 0.9535  High: 0.99229  Low: 0.95272  Close: 0.99086\n",
      "USD_JPY --time: 2018-04-30 00:00:00 --Open: 106.239  High: 109.54  Low: 105.662  Close: 109.342\n",
      "AUD_USD --time: 2018-05-31 00:00:00 --Open: 0.75314  High: 0.76057  Low: 0.74126  Close: 0.75677\n",
      "EUR_JPY --time: 2018-05-31 00:00:00 --Open: 132.061  High: 132.137  Low: 124.622  Close: 127.234\n",
      "EUR_USD --time: 2018-05-31 00:00:00 --Open: 1.20775  High: 1.20842  Low: 1.151  Close: 1.16941\n",
      "GBP_JPY --time: 2018-05-31 00:00:00 --Open: 150.493  High: 150.636  Low: 143.2  Close: 144.662\n",
      "GBP_USD --time: 2018-05-31 00:00:00 --Open: 1.37628  High: 1.37736  Low: 1.32046  Close: 1.32962\n",
      "NZD_USD --time: 2018-05-31 00:00:00 --Open: 0.70368  High: 0.70531  Low: 0.68516  Close: 0.69982\n",
      "USD_CAD --time: 2018-05-31 00:00:00 --Open: 1.28419  High: 1.30468  Low: 1.2729  Close: 1.29545\n",
      "USD_CHF --time: 2018-05-31 00:00:00 --Open: 0.99012  High: 1.00571  Low: 0.98261  Close: 0.9857\n",
      "USD_JPY --time: 2018-05-31 00:00:00 --Open: 109.32  High: 111.397  Low: 108.114  Close: 108.814\n",
      "AUD_USD --time: 2018-06-29 00:00:00 --Open: 0.75664  High: 0.7677  Low: 0.73236  Close: 0.7407\n",
      "EUR_JPY --time: 2018-06-29 00:00:00 --Open: 127.227  High: 130.356  Low: 126.643  Close: 129.354\n",
      "EUR_USD --time: 2018-06-29 00:00:00 --Open: 1.16902  High: 1.18518  Low: 1.1508  Close: 1.16847\n",
      "GBP_JPY --time: 2018-06-29 00:00:00 --Open: 144.705  High: 148.12  Low: 143.774  Close: 146.229\n",
      "GBP_USD --time: 2018-06-29 00:00:00 --Open: 1.32974  High: 1.34728  Low: 1.305  Close: 1.32097\n",
      "NZD_USD --time: 2018-06-29 00:00:00 --Open: 0.69962  High: 0.70605  Low: 0.67367  Close: 0.67709\n",
      "USD_CAD --time: 2018-06-29 00:00:00 --Open: 1.29584  High: 1.3387  Low: 1.28576  Close: 1.31323\n",
      "USD_CHF --time: 2018-06-29 00:00:00 --Open: 0.9862  High: 0.99922  Low: 0.9788  Close: 0.99034\n",
      "USD_JPY --time: 2018-06-29 00:00:00 --Open: 108.825  High: 110.944  Low: 108.724  Close: 110.728\n",
      "AUD_USD --time: 2018-07-31 00:00:00 --Open: 0.74128  High: 0.74838  Low: 0.73107  Close: 0.74299\n",
      "EUR_JPY --time: 2018-07-31 00:00:00 --Open: 129.174  High: 131.986  Low: 128.419  Close: 130.789\n",
      "EUR_USD --time: 2018-07-31 00:00:00 --Open: 1.16803  High: 1.17908  Low: 1.15748  Close: 1.16908\n",
      "GBP_JPY --time: 2018-07-31 00:00:00 --Open: 145.949  High: 149.32  Low: 145.191  Close: 146.83\n",
      "GBP_USD --time: 2018-07-31 00:00:00 --Open: 1.31888  High: 1.33625  Low: 1.29572  Close: 1.31233\n",
      "NZD_USD --time: 2018-07-31 00:00:00 --Open: 0.67911  High: 0.68595  Low: 0.66876  Close: 0.68218\n",
      "USD_CAD --time: 2018-07-31 00:00:00 --Open: 1.31498  High: 1.32898  Low: 1.29813  Close: 1.30075\n",
      "USD_CHF --time: 2018-07-31 00:00:00 --Open: 0.9915  High: 1.00678  Low: 0.98578  Close: 0.99027\n",
      "USD_JPY --time: 2018-07-31 00:00:00 --Open: 110.675  High: 113.178  Low: 110.278  Close: 111.874\n",
      "AUD_USD --time: 2018-08-31 00:00:00 --Open: 0.74247  High: 0.7453  Low: 0.71762  Close: 0.71907\n",
      "EUR_JPY --time: 2018-08-31 00:00:00 --Open: 130.812  High: 131.104  Low: 124.902  Close: 128.904\n",
      "EUR_USD --time: 2018-08-31 00:00:00 --Open: 1.1693  High: 1.17337  Low: 1.1301  Close: 1.16019\n",
      "GBP_JPY --time: 2018-08-31 00:00:00 --Open: 146.749  High: 147.148  Low: 139.902  Close: 143.931\n",
      "GBP_USD --time: 2018-08-31 00:00:00 --Open: 1.31194  High: 1.31448  Low: 1.26618  Close: 1.29603\n",
      "NZD_USD --time: 2018-08-31 00:00:00 --Open: 0.68141  High: 0.68221  Low: 0.65443  Close: 0.66244\n",
      "USD_CAD --time: 2018-08-31 00:00:00 --Open: 1.30132  High: 1.31754  Low: 1.28871  Close: 1.30429\n",
      "USD_CHF --time: 2018-08-31 00:00:00 --Open: 0.99027  High: 0.99852  Low: 0.96523  Close: 0.9687\n",
      "USD_JPY --time: 2018-08-31 00:00:00 --Open: 111.84  High: 112.152  Low: 109.774  Close: 111.081\n",
      "AUD_USD --time: 2018-09-28 00:00:00 --Open: 0.7194  High: 0.7316  Low: 0.70854  Close: 0.72195\n",
      "EUR_JPY --time: 2018-09-28 00:00:00 --Open: 128.945  High: 133.128  Low: 127.866  Close: 131.926\n",
      "EUR_USD --time: 2018-09-28 00:00:00 --Open: 1.15982  High: 1.18151  Low: 1.1526  Close: 1.16027\n",
      "GBP_JPY --time: 2018-09-28 00:00:00 --Open: 143.487  High: 149.72  Low: 142.597  Close: 148.154\n",
      "GBP_USD --time: 2018-09-28 00:00:00 --Open: 1.2913  High: 1.32988  Low: 1.27861  Close: 1.30325\n",
      "NZD_USD --time: 2018-09-28 00:00:00 --Open: 0.66202  High: 0.6699  Low: 0.65009  Close: 0.66241\n",
      "USD_CAD --time: 2018-09-28 00:00:00 --Open: 1.30803  High: 1.32269  Low: 1.28849  Close: 1.29112\n",
      "USD_CHF --time: 2018-09-28 00:00:00 --Open: 0.97032  High: 0.98206  Low: 0.9542  Close: 0.98152\n",
      "USD_JPY --time: 2018-09-28 00:00:00 --Open: 111.106  High: 113.709  Low: 110.382  Close: 113.693\n",
      "AUD_USD --time: 2018-10-31 00:00:00 --Open: 0.72272  High: 0.72384  Low: 0.7021  Close: 0.70729\n",
      "EUR_JPY --time: 2018-10-31 00:00:00 --Open: 132.151  High: 132.462  Low: 126.636  Close: 127.78\n",
      "EUR_USD --time: 2018-10-31 00:00:00 --Open: 1.16182  High: 1.16253  Low: 1.1302  Close: 1.13117\n",
      "GBP_JPY --time: 2018-10-31 00:00:00 --Open: 148.327  High: 149.514  Low: 142.776  Close: 144.186\n",
      "GBP_USD --time: 2018-10-31 00:00:00 --Open: 1.30391  High: 1.32584  Low: 1.2696  Close: 1.27666\n",
      "NZD_USD --time: 2018-10-31 00:00:00 --Open: 0.6618  High: 0.66287  Low: 0.64244  Close: 0.65167\n",
      "USD_CAD --time: 2018-10-31 00:00:00 --Open: 1.285  High: 1.31706  Low: 1.27822  Close: 1.31578\n",
      "USD_CHF --time: 2018-10-31 00:00:00 --Open: 0.98074  High: 1.00953  Low: 0.98009  Close: 1.00856\n",
      "USD_JPY --time: 2018-10-31 00:00:00 --Open: 113.74  High: 114.552  Low: 111.378  Close: 112.944\n",
      "AUD_USD --time: 2018-11-30 00:00:00 --Open: 0.70738  High: 0.73445  Low: 0.70722  Close: 0.73102\n",
      "EUR_JPY --time: 2018-11-30 00:00:00 --Open: 127.82  High: 130.147  Low: 127.503  Close: 128.43\n",
      "EUR_USD --time: 2018-11-30 00:00:00 --Open: 1.13114  High: 1.15004  Low: 1.12155  Close: 1.13159\n",
      "GBP_JPY --time: 2018-11-30 00:00:00 --Open: 144.19  High: 149.49  Low: 144.027  Close: 144.706\n",
      "GBP_USD --time: 2018-11-30 00:00:00 --Open: 1.27668  High: 1.31751  Low: 1.27234  Close: 1.27486\n",
      "NZD_USD --time: 2018-11-30 00:00:00 --Open: 0.65156  High: 0.68875  Low: 0.65142  Close: 0.68857\n",
      "USD_CAD --time: 2018-11-30 00:00:00 --Open: 1.31556  High: 1.33599  Low: 1.3049  Close: 1.32889\n",
      "USD_CHF --time: 2018-11-30 00:00:00 --Open: 1.00883  High: 1.0129  Low: 0.99092  Close: 0.99908\n",
      "USD_JPY --time: 2018-11-30 00:00:00 --Open: 112.939  High: 114.209  Low: 112.306  Close: 113.498\n",
      "AUD_USD --time: 2018-12-31 00:00:00 --Open: 0.73785  High: 0.73934  Low: 0.7017  Close: 0.70506\n",
      "EUR_JPY --time: 2018-12-31 00:00:00 --Open: 129.026  High: 129.254  Low: 125.408  Close: 125.682\n",
      "EUR_USD --time: 2018-12-31 00:00:00 --Open: 1.1352  High: 1.14856  Low: 1.12701  Close: 1.14649\n",
      "GBP_JPY --time: 2018-12-31 00:00:00 --Open: 145.152  High: 145.516  Low: 139.502  Close: 139.822\n",
      "GBP_USD --time: 2018-12-31 00:00:00 --Open: 1.27684  High: 1.28404  Low: 1.24764  Close: 1.27583\n",
      "NZD_USD --time: 2018-12-31 00:00:00 --Open: 0.69168  High: 0.69693  Low: 0.66912  Close: 0.67138\n",
      "USD_CAD --time: 2018-12-31 00:00:00 --Open: 1.3235  High: 1.36654  Low: 1.316  Close: 1.36404\n",
      "USD_CHF --time: 2018-12-31 00:00:00 --Open: 0.99926  High: 1.00085  Low: 0.97904  Close: 0.98134\n",
      "USD_JPY --time: 2018-12-31 00:00:00 --Open: 113.655  High: 113.821  Low: 109.561  Close: 109.59\n",
      "AUD_USD --time: 2019-01-31 00:00:00 --Open: 0.70506  High: 0.7295  Low: 0.67268  Close: 0.72744\n",
      "EUR_JPY --time: 2019-01-31 00:00:00 --Open: 125.682  High: 125.848  Low: 118.484  Close: 124.617\n",
      "EUR_USD --time: 2019-01-31 00:00:00 --Open: 1.14649  High: 1.15702  Low: 1.12894  Close: 1.14474\n",
      "GBP_JPY --time: 2019-01-31 00:00:00 --Open: 139.822  High: 144.844  Low: 131.132  Close: 142.718\n",
      "GBP_USD --time: 2019-01-31 00:00:00 --Open: 1.27583  High: 1.32179  Low: 1.24555  Close: 1.31092\n",
      "NZD_USD --time: 2019-01-31 00:00:00 --Open: 0.67138  High: 0.6939  Low: 0.65779  Close: 0.69175\n",
      "USD_CAD --time: 2019-01-31 00:00:00 --Open: 1.36404  High: 1.3663  Low: 1.31188  Close: 1.31256\n",
      "USD_CHF --time: 2019-01-31 00:00:00 --Open: 0.98134  High: 0.99951  Low: 0.9716  Close: 0.99437\n",
      "USD_JPY --time: 2019-01-31 00:00:00 --Open: 109.59  High: 110.0  Low: 104.819  Close: 108.868\n",
      "AUD_USD --time: 2019-02-28 00:00:00 --Open: 0.72754  High: 0.72841  Low: 0.70542  Close: 0.7094\n",
      "EUR_JPY --time: 2019-02-28 00:00:00 --Open: 124.658  High: 126.906  Low: 124.176  Close: 126.706\n",
      "EUR_USD --time: 2019-02-28 00:00:00 --Open: 1.14478  High: 1.14884  Low: 1.12343  Close: 1.13706\n",
      "GBP_JPY --time: 2019-02-28 00:00:00 --Open: 142.71  High: 148.268  Low: 141.013  Close: 147.724\n",
      "GBP_USD --time: 2019-02-28 00:00:00 --Open: 1.31056  High: 1.33502  Low: 1.27733  Close: 1.32622\n",
      "NZD_USD --time: 2019-02-28 00:00:00 --Open: 0.69182  High: 0.6942  Low: 0.672  Close: 0.68072\n",
      "USD_CAD --time: 2019-02-28 00:00:00 --Open: 1.31242  High: 1.33402  Low: 1.30688  Close: 1.31746\n",
      "USD_CHF --time: 2019-02-28 00:00:00 --Open: 0.99388  High: 1.00996  Low: 0.99222  Close: 0.99812\n",
      "USD_JPY --time: 2019-02-28 00:00:00 --Open: 108.89  High: 111.494  Low: 108.726  Close: 111.384\n",
      "AUD_USD --time: 2019-03-29 00:00:00 --Open: 0.70953  High: 0.71682  Low: 0.70034  Close: 0.70964\n",
      "EUR_JPY --time: 2019-03-29 00:00:00 --Open: 126.672  High: 127.504  Low: 123.658  Close: 124.345\n",
      "EUR_USD --time: 2019-03-29 00:00:00 --Open: 1.13706  High: 1.14482  Low: 1.11764  Close: 1.12178\n",
      "GBP_JPY --time: 2019-03-29 00:00:00 --Open: 147.732  High: 148.88  Low: 143.731  Close: 144.472\n",
      "GBP_USD --time: 2019-03-29 00:00:00 --Open: 1.32622  High: 1.33822  Low: 1.29607  Close: 1.30326\n",
      "NZD_USD --time: 2019-03-29 00:00:00 --Open: 0.68098  High: 0.69387  Low: 0.67452  Close: 0.68049\n",
      "USD_CAD --time: 2019-03-29 00:00:00 --Open: 1.31696  High: 1.34676  Low: 1.31302  Close: 1.33504\n",
      "USD_CHF --time: 2019-03-29 00:00:00 --Open: 0.9982  High: 1.01243  Low: 0.98946  Close: 0.99522\n",
      "USD_JPY --time: 2019-03-29 00:00:00 --Open: 111.392  High: 112.136  Low: 109.708  Close: 110.85\n",
      "AUD_USD --time: 2019-04-30 00:00:00 --Open: 0.71216  High: 0.72056  Low: 0.69884  Close: 0.70498\n",
      "EUR_JPY --time: 2019-04-30 00:00:00 --Open: 124.694  High: 126.806  Low: 124.092  Close: 125.022\n",
      "EUR_USD --time: 2019-04-30 00:00:00 --Open: 1.12296  High: 1.13239  Low: 1.11115  Close: 1.12151\n",
      "GBP_JPY --time: 2019-04-30 00:00:00 --Open: 144.802  High: 147.197  Low: 143.764  Close: 145.286\n",
      "GBP_USD --time: 2019-04-30 00:00:00 --Open: 1.30419  High: 1.3196  Low: 1.2866  Close: 1.30344\n",
      "NZD_USD --time: 2019-04-30 00:00:00 --Open: 0.68239  High: 0.68374  Low: 0.65804  Close: 0.66763\n",
      "USD_CAD --time: 2019-04-30 00:00:00 --Open: 1.33498  High: 1.35216  Low: 1.32747  Close: 1.33904\n",
      "USD_CHF --time: 2019-04-30 00:00:00 --Open: 0.99516  High: 1.02378  Low: 0.99326  Close: 1.0192\n",
      "USD_JPY --time: 2019-04-30 00:00:00 --Open: 111.028  High: 112.4  Low: 110.814  Close: 111.429\n",
      "AUD_USD --time: 2019-05-31 00:00:00 --Open: 0.70476  High: 0.7061  Low: 0.6865  Close: 0.69368\n",
      "EUR_JPY --time: 2019-05-31 00:00:00 --Open: 125.022  High: 125.234  Low: 120.922  Close: 120.958\n",
      "EUR_USD --time: 2019-05-31 00:00:00 --Open: 1.12151  High: 1.12649  Low: 1.11072  Close: 1.11688\n",
      "GBP_JPY --time: 2019-05-31 00:00:00 --Open: 145.276  High: 146.509  Low: 136.638  Close: 136.788\n",
      "GBP_USD --time: 2019-05-31 00:00:00 --Open: 1.30327  High: 1.31767  Low: 1.2559  Close: 1.26316\n",
      "NZD_USD --time: 2019-05-31 00:00:00 --Open: 0.66746  High: 0.66802  Low: 0.64818  Close: 0.65356\n",
      "USD_CAD --time: 2019-05-31 00:00:00 --Open: 1.33898  High: 1.3565  Low: 1.33576  Close: 1.35171\n",
      "USD_CHF --time: 2019-05-31 00:00:00 --Open: 1.01952  High: 1.02262  Low: 1.00012  Close: 1.00088\n",
      "USD_JPY --time: 2019-05-31 00:00:00 --Open: 111.425  High: 111.695  Low: 108.279  Close: 108.304\n",
      "AUD_USD --time: 2019-06-28 00:00:00 --Open: 0.693  High: 0.70228  Low: 0.68318  Close: 0.70214\n",
      "EUR_JPY --time: 2019-06-28 00:00:00 --Open: 120.901  High: 123.176  Low: 120.786  Close: 122.697\n",
      "EUR_USD --time: 2019-06-28 00:00:00 --Open: 1.11664  High: 1.14122  Low: 1.11603  Close: 1.13721\n",
      "GBP_JPY --time: 2019-06-28 00:00:00 --Open: 136.811  High: 138.328  Low: 135.38  Close: 137.017\n",
      "GBP_USD --time: 2019-06-28 00:00:00 --Open: 1.26315  High: 1.2784  Low: 1.25062  Close: 1.26972\n",
      "NZD_USD --time: 2019-06-28 00:00:00 --Open: 0.65294  High: 0.6721  Low: 0.64885  Close: 0.67178\n",
      "USD_CAD --time: 2019-05-31 00:00:00 --Open: 1.33898  High: 1.3565  Low: 1.33576  Close: 1.35171\n",
      "USD_CHF --time: 2019-06-28 00:00:00 --Open: 1.0008  High: 1.0021  Low: 0.96942  Close: 0.97624\n",
      "USD_JPY --time: 2019-05-31 00:00:00 --Open: 111.425  High: 111.695  Low: 108.279  Close: 108.304\n",
      "AUD_USD --time: 2019-06-28 00:00:00 --Open: 0.693  High: 0.70228  Low: 0.68318  Close: 0.70214\n",
      "EUR_JPY --time: 2019-06-28 00:00:00 --Open: 120.901  High: 123.176  Low: 120.786  Close: 122.697\n",
      "EUR_USD --time: 2019-06-28 00:00:00 --Open: 1.11664  High: 1.14122  Low: 1.11603  Close: 1.13721\n",
      "GBP_JPY --time: 2019-06-28 00:00:00 --Open: 136.811  High: 138.328  Low: 135.38  Close: 137.017\n",
      "GBP_USD --time: 2019-06-28 00:00:00 --Open: 1.26315  High: 1.2784  Low: 1.25062  Close: 1.26972\n",
      "NZD_USD --time: 2019-06-28 00:00:00 --Open: 0.65294  High: 0.6721  Low: 0.64885  Close: 0.67178\n",
      "USD_CAD --time: 2019-06-29 00:00:00 --Open: 1.35167  High: 1.3527  Low: 1.30599  Close: 1.30937\n",
      "USD_CHF --time: 2019-06-28 00:00:00 --Open: 1.0008  High: 1.0021  Low: 0.96942  Close: 0.97624\n",
      "USD_JPY --time: 2019-06-29 00:00:00 --Open: 108.312  High: 108.802  Low: 106.78  Close: 107.912\n",
      "AUD_USD --time: 2019-07-31 00:00:00 --Open: 0.70314  High: 0.70822  Low: 0.68322  Close: 0.68452\n",
      "EUR_JPY --time: 2019-07-31 00:00:00 --Open: 122.897  High: 123.356  Low: 120.054  Close: 120.477\n",
      "EUR_USD --time: 2019-07-31 00:00:00 --Open: 1.13614  High: 1.13711  Low: 1.10604  Close: 1.10766\n",
      "GBP_JPY --time: 2019-07-31 00:00:00 --Open: 137.424  High: 137.792  Low: 131.616  Close: 132.268\n",
      "GBP_USD --time: 2019-07-31 00:00:00 --Open: 1.27008  High: 1.27058  Low: 1.21195  Close: 1.2161\n",
      "NZD_USD --time: 2019-07-31 00:00:00 --Open: 0.67292  High: 0.67908  Low: 0.65431  Close: 0.65606\n",
      "USD_CAD --time: 2019-07-31 00:00:00 --Open: 1.30794  High: 1.32148  Low: 1.30161  Close: 1.31906\n",
      "USD_CHF --time: 2019-07-31 00:00:00 --Open: 0.97915  High: 0.99516  Low: 0.97806  Close: 0.99392\n",
      "USD_JPY --time: 2019-07-31 00:00:00 --Open: 108.201  High: 109.0  Low: 107.212  Close: 108.764\n",
      "AUD_USD --time: 2019-08-30 00:00:00 --Open: 0.68446  High: 0.6868  Low: 0.66774  Close: 0.67358\n",
      "EUR_JPY --time: 2019-08-30 00:00:00 --Open: 120.485  High: 120.711  Low: 116.57  Close: 116.827\n",
      "EUR_USD --time: 2019-08-30 00:00:00 --Open: 1.10766  High: 1.12496  Low: 1.09632  Close: 1.09905\n",
      "GBP_JPY --time: 2019-08-30 00:00:00 --Open: 132.263  High: 132.558  Low: 126.556  Close: 129.259\n",
      "GBP_USD --time: 2019-08-30 00:00:00 --Open: 1.21588  High: 1.231  Low: 1.20154  Close: 1.21638\n",
      "NZD_USD --time: 2019-07-31 00:00:00 --Open: 0.67292  High: 0.67908  Low: 0.65431  Close: 0.65606\n",
      "USD_CAD --time: 2019-08-30 00:00:00 --Open: 1.31898  High: 1.33458  Low: 1.31778  Close: 1.33122\n",
      "USD_CHF --time: 2019-07-31 00:00:00 --Open: 0.97915  High: 0.99516  Low: 0.97806  Close: 0.99392\n",
      "USD_JPY --time: 2019-07-31 00:00:00 --Open: 108.201  High: 109.0  Low: 107.212  Close: 108.764\n",
      "AUD_USD --time: 2019-08-30 00:00:00 --Open: 0.68446  High: 0.6868  Low: 0.66774  Close: 0.67358\n",
      "EUR_JPY --time: 2019-08-30 00:00:00 --Open: 120.485  High: 120.711  Low: 116.57  Close: 116.827\n",
      "EUR_USD --time: 2019-08-30 00:00:00 --Open: 1.10766  High: 1.12496  Low: 1.09632  Close: 1.09905\n",
      "GBP_JPY --time: 2019-08-30 00:00:00 --Open: 132.263  High: 132.558  Low: 126.556  Close: 129.259\n",
      "GBP_USD --time: 2019-08-30 00:00:00 --Open: 1.21588  High: 1.231  Low: 1.20154  Close: 1.21638\n",
      "NZD_USD --time: 2019-08-31 00:00:00 --Open: 0.65606  High: 0.65899  Low: 0.62835  Close: 0.63113\n",
      "USD_CAD --time: 2019-08-30 00:00:00 --Open: 1.31898  High: 1.33458  Low: 1.31778  Close: 1.33122\n",
      "USD_CHF --time: 2019-08-31 00:00:00 --Open: 0.99386  High: 0.99758  Low: 0.96598  Close: 0.99008\n",
      "USD_JPY --time: 2019-08-31 00:00:00 --Open: 108.784  High: 109.32  Low: 104.454  Close: 106.277\n",
      "AUD_USD --time: 2019-09-30 00:00:00 --Open: 0.67286  High: 0.68948  Low: 0.66876  Close: 0.67499\n",
      "EUR_JPY --time: 2019-09-30 00:00:00 --Open: 116.601  High: 120.01  Low: 115.867  Close: 117.786\n",
      "EUR_USD --time: 2019-09-30 00:00:00 --Open: 1.09894  High: 1.11096  Low: 1.08847  Close: 1.08986\n",
      "GBP_JPY --time: 2019-09-30 00:00:00 --Open: 128.883  High: 135.76  Low: 126.675  Close: 132.877\n",
      "GBP_USD --time: 2019-09-30 00:00:00 --Open: 1.21524  High: 1.25826  Low: 1.19588  Close: 1.22954\n",
      "NZD_USD --time: 2019-09-30 00:00:00 --Open: 0.63027  High: 0.64506  Low: 0.62496  Close: 0.62638\n",
      "USD_CAD --time: 2019-09-30 00:00:00 --Open: 1.33204  High: 1.33827  Low: 1.3134  Close: 1.32406\n",
      "USD_CHF --time: 2019-09-30 00:00:00 --Open: 0.98994  High: 0.99878  Low: 0.97985  Close: 0.99792\n",
      "USD_JPY --time: 2019-09-30 00:00:00 --Open: 106.059  High: 108.476  Low: 105.74  Close: 108.074\n",
      "AUD_USD --time: 2019-10-31 00:00:00 --Open: 0.67494  High: 0.69296  Low: 0.66708  Close: 0.68942\n",
      "EUR_JPY --time: 2019-10-31 00:00:00 --Open: 117.778  High: 121.476  Low: 117.074  Close: 120.476\n",
      "EUR_USD --time: 2019-10-31 00:00:00 --Open: 1.09002  High: 1.11794  Low: 1.08792  Close: 1.11514\n",
      "GBP_JPY --time: 2019-10-31 00:00:00 --Open: 132.87  High: 141.518  Low: 130.434  Close: 139.814\n",
      "GBP_USD --time: 2019-10-31 00:00:00 --Open: 1.229  High: 1.30126  Low: 1.21956  Close: 1.29411\n",
      "NZD_USD --time: 2019-10-31 00:00:00 --Open: 0.62576  High: 0.6436  Low: 0.62038  Close: 0.64136\n",
      "USD_CAD --time: 2019-10-31 00:00:00 --Open: 1.32436  High: 1.3348  Low: 1.30423  Close: 1.31634\n",
      "USD_CHF --time: 2019-10-31 00:00:00 --Open: 0.99758  High: 1.00278  Low: 0.98418  Close: 0.98643\n",
      "USD_JPY --time: 2019-10-31 00:00:00 --Open: 108.086  High: 109.287  Low: 106.484  Close: 108.028\n",
      "AUD_USD --time: 2019-11-29 00:00:00 --Open: 0.68938  High: 0.6928  Low: 0.67544  Close: 0.67618\n",
      "EUR_JPY --time: 2019-11-29 00:00:00 --Open: 120.49  High: 121.3  Low: 119.253  Close: 120.62\n",
      "EUR_USD --time: 2019-11-29 00:00:00 --Open: 1.11514  High: 1.11756  Low: 1.09812  Close: 1.10191\n",
      "GBP_JPY --time: 2019-11-29 00:00:00 --Open: 139.846  High: 141.858  Low: 139.325  Close: 141.643\n",
      "GBP_USD --time: 2019-11-29 00:00:00 --Open: 1.29447  High: 1.29854  Low: 1.2769  Close: 1.29374\n",
      "NZD_USD --time: 2019-11-29 00:00:00 --Open: 0.6414  High: 0.6466  Low: 0.63222  Close: 0.64232\n",
      "USD_CAD --time: 2019-11-29 00:00:00 --Open: 1.31656  High: 1.33279  Low: 1.31156  Close: 1.32782\n",
      "USD_CHF --time: 2019-11-29 00:00:00 --Open: 0.98638  High: 1.00233  Low: 0.98512  Close: 1.00006\n",
      "USD_JPY --time: 2019-11-29 00:00:00 --Open: 108.036  High: 109.669  Low: 107.888  Close: 109.5\n",
      "AUD_USD --time: 2019-12-31 00:00:00 --Open: 0.67691  High: 0.7032  Low: 0.67617  Close: 0.70165\n",
      "EUR_JPY --time: 2019-12-31 00:00:00 --Open: 120.671  High: 122.65  Low: 119.994  Close: 121.845\n",
      "EUR_USD --time: 2019-12-31 00:00:00 --Open: 1.10242  High: 1.12392  Low: 1.10031  Close: 1.1212\n",
      "GBP_JPY --time: 2019-12-31 00:00:00 --Open: 141.402  High: 147.958  Low: 140.838  Close: 144.117\n",
      "GBP_USD --time: 2019-12-31 00:00:00 --Open: 1.29098  High: 1.35152  Low: 1.28966  Close: 1.32606\n",
      "NZD_USD --time: 2019-12-31 00:00:00 --Open: 0.64324  High: 0.67558  Low: 0.64242  Close: 0.67292\n",
      "USD_CAD --time: 2019-12-31 00:00:00 --Open: 1.32742  High: 1.33208  Low: 1.29517  Close: 1.29904\n",
      "USD_CHF --time: 2019-12-31 00:00:00 --Open: 1.00016  High: 1.00086  Low: 0.96467  Close: 0.9677\n",
      "USD_JPY --time: 2019-12-31 00:00:00 --Open: 109.538  High: 109.726  Low: 108.43  Close: 108.628\n",
      "AUD_USD --time: 2020-01-31 00:00:00 --Open: 0.70162  High: 0.702  Low: 0.6683  Close: 0.6687\n",
      "EUR_JPY --time: 2020-01-31 00:00:00 --Open: 121.82  High: 122.872  Low: 119.778  Close: 120.224\n",
      "EUR_USD --time: 2020-01-31 00:00:00 --Open: 1.12124  High: 1.12247  Low: 1.09924  Close: 1.10945\n",
      "GBP_JPY --time: 2020-01-31 00:00:00 --Open: 144.107  High: 144.61  Low: 140.838  Close: 143.099\n",
      "GBP_USD --time: 2020-01-31 00:00:00 --Open: 1.32607  High: 1.32666  Low: 1.29546  Close: 1.32055\n",
      "NZD_USD --time: 2020-01-31 00:00:00 --Open: 0.67303  High: 0.67394  Low: 0.64539  Close: 0.64656\n",
      "USD_CAD --time: 2020-01-31 00:00:00 --Open: 1.29908  High: 1.32534  Low: 1.29572  Close: 1.32366\n",
      "USD_CHF --time: 2020-01-31 00:00:00 --Open: 0.96776  High: 0.97667  Low: 0.96132  Close: 0.96348\n",
      "USD_JPY --time: 2020-01-31 00:00:00 --Open: 108.651  High: 110.289  Low: 107.65  Close: 108.358\n",
      "AUD_USD --time: 2020-02-28 00:00:00 --Open: 0.66846  High: 0.67742  Low: 0.64339  Close: 0.65099\n",
      "EUR_JPY --time: 2020-02-28 00:00:00 --Open: 120.229  High: 121.396  Low: 118.381  Close: 119.143\n",
      "EUR_USD --time: 2020-02-28 00:00:00 --Open: 1.10956  High: 1.10956  Low: 1.0778  Close: 1.10277\n",
      "GBP_JPY --time: 2020-02-28 00:00:00 --Open: 142.897  High: 144.961  Low: 137.533  Close: 138.533\n",
      "GBP_USD --time: 2020-02-28 00:00:00 --Open: 1.31769  High: 1.31844  Low: 1.2726  Close: 1.28192\n",
      "NZD_USD --time: 2020-02-28 00:00:00 --Open: 0.64692  High: 0.6503  Low: 0.61914  Close: 0.62483\n",
      "USD_CAD --time: 2020-02-28 00:00:00 --Open: 1.32398  High: 1.34647  Low: 1.32024  Close: 1.33968\n",
      "USD_CHF --time: 2020-02-28 00:00:00 --Open: 0.96374  High: 0.98487  Low: 0.961  Close: 0.9654\n",
      "USD_JPY --time: 2020-02-28 00:00:00 --Open: 108.432  High: 112.228  Low: 107.512  Close: 108.064\n",
      "AUD_USD --time: 2020-03-31 00:00:00 --Open: 0.64661  High: 0.6685  Low: 0.55084  Close: 0.61345\n",
      "EUR_JPY --time: 2020-03-31 00:00:00 --Open: 118.653  High: 121.148  Low: 116.128  Close: 118.692\n",
      "EUR_USD --time: 2020-03-31 00:00:00 --Open: 1.10446  High: 1.14963  Low: 1.0636  Close: 1.10336\n",
      "GBP_JPY --time: 2020-03-31 00:00:00 --Open: 139.017  High: 139.188  Low: 124.044  Close: 133.542\n",
      "GBP_USD --time: 2020-03-31 00:00:00 --Open: 1.27793  High: 1.32008  Low: 1.14117  Close: 1.24158\n",
      "NZD_USD --time: 2020-03-31 00:00:00 --Open: 0.61857  High: 0.64484  Low: 0.54694  Close: 0.59616\n",
      "USD_CAD --time: 2020-03-31 00:00:00 --Open: 1.34386  High: 1.46685  Low: 1.33152  Close: 1.4061\n",
      "USD_CHF --time: 2020-03-31 00:00:00 --Open: 0.96326  High: 0.9902  Low: 0.9182  Close: 0.96108\n",
      "USD_JPY --time: 2020-03-31 00:00:00 --Open: 107.413  High: 111.717  Low: 101.18  Close: 107.557\n",
      "AUD_USD --time: 2020-04-30 00:00:00 --Open: 0.61345  High: 0.657  Low: 0.59803  Close: 0.65127\n",
      "EUR_JPY --time: 2020-04-30 00:00:00 --Open: 118.692  High: 119.038  Low: 115.45  Close: 117.375\n",
      "EUR_USD --time: 2020-04-30 00:00:00 --Open: 1.10336  High: 1.10387  Low: 1.07272  Close: 1.0952\n",
      "GBP_JPY --time: 2020-04-30 00:00:00 --Open: 133.542  High: 135.752  Low: 131.912  Close: 134.948\n",
      "GBP_USD --time: 2020-04-30 00:00:00 --Open: 1.24158  High: 1.26479  Low: 1.21656  Close: 1.2595\n",
      "NZD_USD --time: 2020-04-30 00:00:00 --Open: 0.59616  High: 0.61758  Low: 0.58435  Close: 0.6127\n",
      "USD_CAD --time: 2020-04-30 00:00:00 --Open: 1.4061  High: 1.4299  Low: 1.38502  Close: 1.3946\n",
      "USD_CHF --time: 2020-04-30 00:00:00 --Open: 0.96108  High: 0.98026  Low: 0.95963  Close: 0.96564\n",
      "USD_JPY --time: 2020-04-30 00:00:00 --Open: 107.557  High: 109.383  Low: 106.36  Close: 107.199\n",
      "AUD_USD --time: 2020-05-29 00:00:00 --Open: 0.65138  High: 0.66833  Low: 0.6373  Close: 0.66689\n",
      "EUR_JPY --time: 2020-05-29 00:00:00 --Open: 117.365  High: 119.898  Low: 114.43  Close: 119.737\n",
      "EUR_USD --time: 2020-05-29 00:00:00 --Open: 1.09548  High: 1.11454  Low: 1.07667  Close: 1.11053\n",
      "GBP_JPY --time: 2020-05-29 00:00:00 --Open: 134.925  High: 135.086  Low: 129.326  Close: 133.165\n",
      "GBP_USD --time: 2020-05-29 00:00:00 --Open: 1.25937  High: 1.2601  Low: 1.20761  Close: 1.23504\n",
      "NZD_USD --time: 2020-05-29 00:00:00 --Open: 0.61262  High: 0.62398  Low: 0.5921  Close: 0.62051\n",
      "USD_CAD --time: 2020-05-29 00:00:00 --Open: 1.3941  High: 1.41734  Low: 1.37147  Close: 1.37708\n",
      "USD_CHF --time: 2020-05-29 00:00:00 --Open: 0.96543  High: 0.97843  Low: 0.95888  Close: 0.96137\n",
      "USD_JPY --time: 2020-05-29 00:00:00 --Open: 107.192  High: 108.088  Low: 105.988  Close: 107.821\n",
      "AUD_USD --time: 2020-06-30 00:00:00 --Open: 0.66602  High: 0.70644  Low: 0.66534  Close: 0.6903\n",
      "EUR_JPY --time: 2020-06-30 00:00:00 --Open: 119.724  High: 124.432  Low: 119.316  Close: 121.244\n",
      "EUR_USD --time: 2020-06-30 00:00:00 --Open: 1.1112  High: 1.14224  Low: 1.11004  Close: 1.12331\n",
      "GBP_JPY --time: 2020-06-30 00:00:00 --Open: 133.006  High: 139.743  Low: 131.77  Close: 133.848\n",
      "GBP_USD --time: 2020-06-30 00:00:00 --Open: 1.23454  High: 1.28132  Low: 1.22519  Close: 1.24011\n",
      "NZD_USD --time: 2020-06-30 00:00:00 --Open: 0.61964  High: 0.65848  Low: 0.6193  Close: 0.64547\n",
      "USD_CAD --time: 2020-06-30 00:00:00 --Open: 1.37806  High: 1.3787  Low: 1.33158  Close: 1.35762\n",
      "USD_CHF --time: 2020-06-30 00:00:00 --Open: 0.9608  High: 0.96504  Low: 0.93762  Close: 0.94732\n",
      "USD_JPY --time: 2020-06-30 00:00:00 --Open: 107.74  High: 109.85  Low: 106.074  Close: 107.933\n",
      "AUD_USD --time: 2020-07-02 00:00:00 --Open: 0.69024  High: 0.69523  Low: 0.68771  Close: 0.69269\n",
      "EUR_JPY --time: 2020-07-02 00:00:00 --Open: 121.267  High: 121.482  Low: 120.262  Close: 120.824\n",
      "EUR_USD --time: 2020-07-02 00:00:00 --Open: 1.12343  High: 1.13026  Low: 1.11848  Close: 1.12394\n",
      "GBP_JPY --time: 2020-07-02 00:00:00 --Open: 133.828  High: 134.707  Low: 132.95  Close: 134.033\n",
      "GBP_USD --time: 2020-07-02 00:00:00 --Open: 1.23995  High: 1.25299  Low: 1.23596  Close: 1.24679\n",
      "NZD_USD --time: 2020-07-02 00:00:00 --Open: 0.64543  High: 0.65368  Low: 0.64402  Close: 0.65106\n",
      "USD_CAD --time: 2020-07-02 00:00:00 --Open: 1.3577  High: 1.36242  Low: 1.35457  Close: 1.35634\n",
      "USD_CHF --time: 2020-07-02 00:00:00 --Open: 0.94698  High: 0.94938  Low: 0.94268  Close: 0.94531\n",
      "USD_JPY --time: 2020-07-02 00:00:00 --Open: 107.928  High: 108.165  Low: 107.334  Close: 107.502\n",
      "Strategy run finished with Run ID: None\n",
      "Profit ... or Loss: 0.00\n",
      "CPU times: user 142 ms, sys: 43.4 ms, total: 185 ms\n",
      "Wall time: 5.5 s\n"
     ]
    }
   ],
   "source": [
    "%%time\n",
    "!python q_pack/q_run/run_BT.py --fromdate='2016-1-1' --todate='2020-07-05' --timeframe='m' --load_symbol='True' --strat_param \"use_level=yes,use_db=yes,ml_serving=no\""
   ]
  },
  {
   "cell_type": "code",
   "execution_count": 16,
   "metadata": {},
   "outputs": [
    {
     "name": "stdout",
     "output_type": "stream",
     "text": [
      "{'fromdate': datetime.datetime(2016, 1, 1, 0, 0), 'todate': datetime.datetime(2020, 7, 5, 0, 0)}\n",
      "using level indicator\n",
      "no indicator data for AUD_USD\n",
      "no indicator data for EUR_JPY\n",
      "no indicator data for EUR_USD\n",
      "no indicator data for GBP_JPY\n",
      "no indicator data for GBP_USD\n",
      "no indicator data for NZD_USD\n",
      "no indicator data for USD_CAD\n",
      "no indicator data for USD_CHF\n",
      "no indicator data for USD_JPY\n",
      "Strategy run finished with Run ID: None\n",
      "Level data is being recorded\n",
      "Level data is being recorded\n",
      "Level data is being recorded\n",
      "Level data is being recorded\n",
      "Level data is being recorded\n",
      "Level data is being recorded\n",
      "Level data is being recorded\n",
      "Level data is being recorded\n",
      "Level data is being recorded\n",
      "Profit ... or Loss: 0.00\n",
      "CPU times: user 286 ms, sys: 102 ms, total: 389 ms\n",
      "Wall time: 15.3 s\n"
     ]
    }
   ],
   "source": [
    "%%time\n",
    "!python q_pack/q_run/run_BT.py --fromdate='2016-1-1' --todate='2020-07-05' --timeframe='w' --load_symbol='True' --strat_param \"use_level=yes,use_db=yes,ml_serving=no\""
   ]
  },
  {
   "cell_type": "code",
   "execution_count": 11,
   "metadata": {},
   "outputs": [
    {
     "name": "stdout",
     "output_type": "stream",
     "text": [
      "{'fromdate': datetime.datetime(2020, 5, 15, 0, 0), 'todate': datetime.datetime(2020, 7, 5, 0, 0)}\n",
      "using level indicator\n",
      "no indicator data for AUD_USD\n",
      "no indicator data for EUR_JPY\n",
      "no indicator data for EUR_USD\n",
      "no indicator data for GBP_JPY\n",
      "no indicator data for GBP_USD\n",
      "no indicator data for NZD_USD\n",
      "no indicator data for USD_CAD\n",
      "no indicator data for USD_CHF\n",
      "no indicator data for USD_JPY\n",
      "/opt/conda/lib/python3.7/site-packages/numpy/core/fromnumeric.py:3335: RuntimeWarning: Mean of empty slice.\n",
      "  out=out, **kwargs)\n",
      "/opt/conda/lib/python3.7/site-packages/numpy/core/_methods.py:161: RuntimeWarning: invalid value encountered in double_scalars\n",
      "  ret = ret.dtype.type(ret / rcount)\n",
      "Strategy run finished with Run ID: None\n",
      "level is here\n",
      "level is here\n",
      "level is here\n",
      "level is here\n",
      "level is here\n",
      "level is here\n",
      "level is here\n",
      "level is here\n",
      "level is here\n",
      "Profit ... or Loss: 0.00\n",
      "CPU times: user 153 ms, sys: 54.6 ms, total: 208 ms\n",
      "Wall time: 7.58 s\n"
     ]
    }
   ],
   "source": [
    "%%time\n",
    "!python q_pack/q_run/run_BT.py --fromdate='2020-05-15' --todate='2020-07-05' --timeframe='h4' --load_symbol='True' --strat_param \"use_level=yes,use_db=yes,ml_serving=no\""
   ]
  },
  {
   "cell_type": "code",
   "execution_count": 13,
   "metadata": {},
   "outputs": [
    {
     "name": "stdout",
     "output_type": "stream",
     "text": [
      "{'fromdate': datetime.datetime(2020, 5, 15, 0, 0), 'todate': datetime.datetime(2020, 7, 5, 0, 0)}\n",
      "using level indicator\n",
      "no indicator data for AUD_USD\n",
      "no indicator data for EUR_JPY\n",
      "no indicator data for EUR_USD\n",
      "no indicator data for GBP_JPY\n",
      "no indicator data for GBP_USD\n",
      "no indicator data for NZD_USD\n",
      "no indicator data for USD_CAD\n",
      "no indicator data for USD_CHF\n",
      "no indicator data for USD_JPY\n",
      "/opt/conda/lib/python3.7/site-packages/numpy/core/fromnumeric.py:3335: RuntimeWarning: Mean of empty slice.\n",
      "  out=out, **kwargs)\n",
      "/opt/conda/lib/python3.7/site-packages/numpy/core/_methods.py:161: RuntimeWarning: invalid value encountered in double_scalars\n",
      "  ret = ret.dtype.type(ret / rcount)\n",
      "Strategy run finished with Run ID: None\n",
      "level is here\n",
      "level is here\n",
      "level is here\n",
      "level is here\n",
      "level is here\n",
      "level is here\n",
      "level is here\n",
      "level is here\n",
      "level is here\n",
      "Profit ... or Loss: 0.00\n",
      "CPU times: user 733 ms, sys: 224 ms, total: 957 ms\n",
      "Wall time: 38.5 s\n"
     ]
    }
   ],
   "source": [
    "%%time\n",
    "!python q_pack/q_run/run_BT.py --fromdate='2020-05-15' --todate='2020-07-05' --timeframe='h1' --load_symbol='True' --strat_param \"use_level=yes,use_db=yes,ml_serving=no\""
   ]
  },
  {
   "cell_type": "code",
   "execution_count": 8,
   "metadata": {},
   "outputs": [
    {
     "name": "stdout",
     "output_type": "stream",
     "text": [
      "{'fromdate': datetime.datetime(2015, 7, 1, 0, 0)}\n",
      "/opt/conda/lib/python3.7/site-packages/numpy/core/fromnumeric.py:3335: RuntimeWarning: Mean of empty slice.\n",
      "  out=out, **kwargs)\n",
      "/opt/conda/lib/python3.7/site-packages/numpy/core/_methods.py:161: RuntimeWarning: invalid value encountered in double_scalars\n",
      "  ret = ret.dtype.type(ret / rcount)\n",
      "Strategy run finished with Run ID: None\n",
      "Profit ... or Loss: 0.00\n"
     ]
    }
   ],
   "source": [
    "! python q_pack/q_run/run_BT.py --strat_name=simple_strategy_3 --mode=backtest --tickers=AUD_USD,EUR_JPY,EUR_USD,GBP_JPY,GBP_USD,NZD_USD,USD_CAD,USD_CHF,USD_JPY --timeframe=daily --strat_param=use_level=no,use_db=yes"
   ]
  },
  {
   "cell_type": "code",
   "execution_count": 3,
   "metadata": {},
   "outputs": [
    {
     "name": "stdout",
     "output_type": "stream",
     "text": [
      "['EUR_USD', 'GBP_USD']\n",
      "{'fromdate': datetime.datetime(2020, 6, 18, 0, 0)}\n",
      "Profit ... or Loss: 0.00\n",
      "CPU times: user 40.2 ms, sys: 17.4 ms, total: 57.6 ms\n",
      "Wall time: 2.33 s\n"
     ]
    }
   ],
   "source": [
    "%%time\n",
    "!python q_pack/q_run/run_BT.py --fromdate='2020-06-18' --timeframe='1hour' --strat_param \"use_level=yes,use_db=yes,ml_serving=no\""
   ]
  },
  {
   "cell_type": "code",
   "execution_count": 1,
   "metadata": {},
   "outputs": [
    {
     "name": "stdout",
     "output_type": "stream",
     "text": [
      "{'fromdate': datetime.datetime(2020, 1, 1, 0, 0)}\n",
      "using level indicator\n",
      "/opt/conda/lib/python3.7/site-packages/numpy/core/fromnumeric.py:3335: RuntimeWarning: Mean of empty slice.\n",
      "  out=out, **kwargs)\n",
      "/opt/conda/lib/python3.7/site-packages/numpy/core/_methods.py:161: RuntimeWarning: invalid value encountered in double_scalars\n",
      "  ret = ret.dtype.type(ret / rcount)\n",
      "Strategy run finished with Run ID: None\n",
      "ML Log Saved in Minio Bucket: model-support-files as None_ml_log.csv\n",
      "level is here\n",
      "Profit ... or Loss: 0.00\n",
      "CPU times: user 47 ms, sys: 19.8 ms, total: 66.7 ms\n",
      "Wall time: 2.39 s\n"
     ]
    }
   ],
   "source": [
    "%%time\n",
    "!python q_pack/q_run/run_BT.py --fromdate='2020-01-01' --timeframe='daily'--strat_param \"use_level=yes,use_db=yes,ml_serving=no\""
   ]
  },
  {
   "cell_type": "code",
   "execution_count": 62,
   "metadata": {},
   "outputs": [
    {
     "data": {
      "text/plain": [
       "'2020-06-19'"
      ]
     },
     "execution_count": 62,
     "metadata": {},
     "output_type": "execute_result"
    }
   ],
   "source": [
    "import datetime\n",
    "str(datetime.datetime.now().date())"
   ]
  },
  {
   "cell_type": "code",
   "execution_count": 3,
   "metadata": {},
   "outputs": [
    {
     "name": "stdout",
     "output_type": "stream",
     "text": [
      "no indicator data for EUR_USD\n",
      "no indicator data for GBP_USD\n",
      "Strategy run finished with Run ID: None\n",
      "4 240 m240\n",
      "4 240 m240\n",
      "4 240 m240\n",
      "4 240 m240\n",
      "4 240 m240\n",
      "4 240 m240\n",
      "4 240 m240\n",
      "4 240 m240\n",
      "4 240 m240\n",
      "4 240 m240\n",
      "Profit ... or Loss: 0.00\n",
      "CPU times: user 2.86 s, sys: 1.3 s, total: 4.16 s\n",
      "Wall time: 1min 41s\n"
     ]
    }
   ],
   "source": [
    "%%time\n",
    "!python q_pack/q_run/run_BT.py --fromdate='2020-04-01' --todate='2020-05-01'"
   ]
  },
  {
   "cell_type": "code",
   "execution_count": 4,
   "metadata": {},
   "outputs": [
    {
     "data": {
      "text/plain": [
       "'no indicator data for MSFT\\nno indicator data for AAPL\\n0\\nStrategy run finished with Run ID: None\\ndone\\ndone\\ndone\\nlevel is here\\ndone\\ndone\\ndone\\ndone\\ndone\\nlevel is here\\ndone\\ndone\\nProfit ... or Loss: 0.00\\n'"
      ]
     },
     "execution_count": 4,
     "metadata": {},
     "output_type": "execute_result"
    }
   ],
   "source": [
    "import subprocess\n",
    "cmd_str=\"\"\"python q_pack/q_run/run_BT.py --todate='2020-03-31'\"\"\"\n",
    "process = subprocess.run(cmd_str, shell=True, check=True, stdout=subprocess.PIPE, universal_newlines=True)\n",
    "output = process.stdout\n",
    "\n",
    "output"
   ]
  },
  {
   "cell_type": "markdown",
   "metadata": {},
   "source": [
    "## Running the etl jobs via rest_api"
   ]
  },
  {
   "cell_type": "code",
   "execution_count": 6,
   "metadata": {},
   "outputs": [],
   "source": [
    "import requests"
   ]
  },
  {
   "cell_type": "code",
   "execution_count": 7,
   "metadata": {},
   "outputs": [
    {
     "name": "stdout",
     "output_type": "stream",
     "text": [
      "{\"Success\": \"Oanda Symbols Loaded\"}\n",
      "\n"
     ]
    }
   ],
   "source": [
    "url = \"http://etl-image:8060/load_symbols/oanda\"\n",
    "r = requests.get(url=url)\n",
    "print(r.text)"
   ]
  },
  {
   "cell_type": "code",
   "execution_count": 8,
   "metadata": {},
   "outputs": [
    {
     "name": "stdout",
     "output_type": "stream",
     "text": [
      "{\"Success\": \"Oanda Minute Data Loaded\"}\n",
      "\n"
     ]
    }
   ],
   "source": [
    "url = \"http://etl-image:8060/load_daily_data/oanda\"\n",
    "r = requests.get(url=url)\n",
    "print(r.text)"
   ]
  },
  {
   "cell_type": "code",
   "execution_count": 9,
   "metadata": {},
   "outputs": [
    {
     "name": "stdout",
     "output_type": "stream",
     "text": [
      "<!DOCTYPE HTML PUBLIC \"-//W3C//DTD HTML 3.2 Final//EN\">\n",
      "<title>404 Not Found</title>\n",
      "<h1>Not Found</h1>\n",
      "<p>The requested URL was not found on the server. If you entered the URL manually please check your spelling and try again.</p>\n",
      "\n"
     ]
    }
   ],
   "source": [
    "url = \"http://etl-image:8060/load_minute_data/oanda\"\n",
    "r = requests.get(url=url)\n",
    "print(r.text)"
   ]
  },
  {
   "cell_type": "code",
   "execution_count": 3,
   "metadata": {},
   "outputs": [
    {
     "name": "stdout",
     "output_type": "stream",
     "text": [
      "{\"Success\": \"Daily Data Loaded\"}\n",
      "\n"
     ]
    }
   ],
   "source": [
    "url = \"http://etl-image:8060/load_daily_data/alpaca\"\n",
    "r = requests.get(url=url)\n",
    "print(r.text)"
   ]
  },
  {
   "cell_type": "code",
   "execution_count": 4,
   "metadata": {},
   "outputs": [
    {
     "name": "stdout",
     "output_type": "stream",
     "text": [
      "{\"Success\": \"Test\"}\n",
      "\n"
     ]
    }
   ],
   "source": [
    "# url = \"http://etl-image:8060/test/alpaca\"\n",
    "# r = requests.get(url=url)\n",
    "# print(r.text)"
   ]
  },
  {
   "cell_type": "code",
   "execution_count": 5,
   "metadata": {},
   "outputs": [
    {
     "name": "stdout",
     "output_type": "stream",
     "text": [
      "{\"Success\": \"Indicator Data Loaded\"}\n",
      "\n"
     ]
    }
   ],
   "source": [
    "url = \"http://etl-image:8060/load_indicator_data/alpaca\"\n",
    "r = requests.get(url=url)\n",
    "print(r.text)"
   ]
  },
  {
   "cell_type": "code",
   "execution_count": 6,
   "metadata": {},
   "outputs": [],
   "source": [
    "# url = \"http://etl-image:8060/load_indicator_data/alpaca\"\n",
    "# r = requests.get(url=url)\n",
    "# print(r.text)"
   ]
  },
  {
   "cell_type": "code",
   "execution_count": null,
   "metadata": {},
   "outputs": [],
   "source": []
  }
 ],
 "metadata": {
  "kernelspec": {
   "display_name": "Python 3",
   "language": "python",
   "name": "python3"
  },
  "language_info": {
   "codemirror_mode": {
    "name": "ipython",
    "version": 3
   },
   "file_extension": ".py",
   "mimetype": "text/x-python",
   "name": "python",
   "nbconvert_exporter": "python",
   "pygments_lexer": "ipython3",
   "version": "3.8.5"
  }
 },
 "nbformat": 4,
 "nbformat_minor": 4
}
