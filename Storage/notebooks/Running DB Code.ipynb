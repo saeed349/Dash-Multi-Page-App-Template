{
 "cells": [
  {
   "cell_type": "markdown",
   "metadata": {},
   "source": [
    "# Running the DB code"
   ]
  },
  {
   "cell_type": "code",
   "execution_count": 8,
   "metadata": {},
   "outputs": [
    {
     "name": "stdout",
     "output_type": "stream",
     "text": [
      "Loaded Symbols= 88\n"
     ]
    }
   ],
   "source": [
    "! python q_pack/db_pack/quandl/bse_quandl_symbol_loader.py"
   ]
  },
  {
   "cell_type": "code",
   "execution_count": 9,
   "metadata": {},
   "outputs": [
    {
     "name": "stdout",
     "output_type": "stream",
     "text": [
      "0:00:00.000019\n",
      "[423]\n",
      "2015-12-31\n",
      "2020-03-27\n",
      "\n",
      "BOM500010 complete!\n",
      "[424]\n",
      "2015-12-31\n",
      "2020-03-27\n",
      "\n",
      "BOM500034 complete!\n",
      "[425]\n",
      "2015-12-31\n",
      "2020-03-27\n",
      "\n",
      "BOM500087 complete!\n",
      "0:00:04.066409\n"
     ]
    }
   ],
   "source": [
    "! python q_pack/db_pack/quandl/bse_quandl_daily.py"
   ]
  },
  {
   "cell_type": "code",
   "execution_count": 13,
   "metadata": {},
   "outputs": [
    {
     "name": "stdout",
     "output_type": "stream",
     "text": [
      "Min period= 3\n",
      "Min period= 3\n",
      "Min period= 3\n",
      "Min period= 3\n",
      "Min period= 3\n",
      "Min period= 3\n",
      "Min period= 3\n",
      "Min period= 3\n",
      "Min period= 3\n",
      "Min period= 1\n",
      "no indicator data\n",
      "Min period= 1\n",
      "no indicator data\n",
      "Min period= 1\n",
      "no indicator data\n",
      "0\n",
      "/opt/conda/lib/python3.7/site-packages/numpy/core/fromnumeric.py:3335: RuntimeWarning: Mean of empty slice.\n",
      "  out=out, **kwargs)\n",
      "/opt/conda/lib/python3.7/site-packages/numpy/core/_methods.py:161: RuntimeWarning: invalid value encountered in double_scalars\n",
      "  ret = ret.dtype.type(ret / rcount)\n",
      "Strategy run finished with Run ID: None\n",
      "done\n",
      "done\n",
      "done\n",
      "level is here\n",
      "done\n",
      "done\n",
      "done\n",
      "done\n",
      "done\n",
      "level is here\n",
      "done\n",
      "done\n",
      "done\n",
      "done\n",
      "done\n",
      "level is here\n",
      "done\n",
      "done\n",
      "Profit ... or Loss: 0.00\n"
     ]
    }
   ],
   "source": [
    "!python q_pack/q_run/run_BT.py"
   ]
  },
  {
   "cell_type": "code",
   "execution_count": 17,
   "metadata": {},
   "outputs": [],
   "source": [
    "# !python 12_Clean_Strategy_BT_original.py --strat_name=simple_strategy_2 --mode=backtest --tickers=GBP_USD"
   ]
  },
  {
   "cell_type": "code",
   "execution_count": null,
   "metadata": {},
   "outputs": [],
   "source": []
  }
 ],
 "metadata": {
  "kernelspec": {
   "display_name": "Python 3",
   "language": "python",
   "name": "python3"
  },
  "language_info": {
   "codemirror_mode": {
    "name": "ipython",
    "version": 3
   },
   "file_extension": ".py",
   "mimetype": "text/x-python",
   "name": "python",
   "nbconvert_exporter": "python",
   "pygments_lexer": "ipython3",
   "version": "3.7.6"
  }
 },
 "nbformat": 4,
 "nbformat_minor": 4
}
