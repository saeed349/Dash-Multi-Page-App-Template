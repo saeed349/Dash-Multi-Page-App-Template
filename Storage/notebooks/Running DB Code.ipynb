{
 "cells": [
  {
   "cell_type": "markdown",
   "metadata": {},
   "source": [
    "# Running the DB code"
   ]
  },
  {
   "cell_type": "code",
   "execution_count": 2,
   "metadata": {},
   "outputs": [],
   "source": [
    "# !.\\starter_script.bat"
   ]
  },
  {
   "cell_type": "code",
   "execution_count": 5,
   "metadata": {},
   "outputs": [
    {
     "name": "stdout",
     "output_type": "stream",
     "text": [
      "Traceback (most recent call last):\n",
      "  File \"q_pack/db_pack/oanda/oanda_symbol_loader.py\", line 66, in <module>\n",
      "    main()   \n",
      "  File \"q_pack/db_pack/oanda/oanda_symbol_loader.py\", line 50, in main\n",
      "    conn = psycopg2.connect(host=db_host, database=db_name, user=db_user, password=db_password)\n",
      "  File \"/opt/conda/lib/python3.7/site-packages/psycopg2/__init__.py\", line 127, in connect\n",
      "    conn = _connect(dsn, connection_factory=connection_factory, **kwasync)\n",
      "psycopg2.OperationalError: FATAL:  database \"securities_master\" does not exist\n",
      "\n"
     ]
    }
   ],
   "source": [
    "! python q_pack/db_pack/oanda/oanda_symbol_loader.py"
   ]
  },
  {
   "cell_type": "code",
   "execution_count": 10,
   "metadata": {},
   "outputs": [
    {
     "name": "stdout",
     "output_type": "stream",
     "text": [
      "0:00:00.000008\n",
      "select a.last_date, b.id as stock_id, b.ticker from\n",
      "            (select max(date_price) as last_date, stock_id\n",
      "            from minute_data \n",
      "            group by stock_id) a right join symbol b on a.stock_id = b.id \n",
      "            where b.ticker in ('EUR_USD', 'GBP_USD') and b.data_vendor_id=1\n",
      "            last_date  stock_id   ticker\n",
      "0 2020-06-17 23:14:00        22  EUR_USD\n",
      "1 2020-06-17 23:15:00        35  GBP_USD\n",
      "EUR_USD\n",
      "[22]\n",
      "2020-06-17 23:14:00\n",
      "2020-06-17 23:17:00\n",
      "\n",
      "EUR_USD complete!\n",
      "GBP_USD\n",
      "[35]\n",
      "2020-06-17 23:15:00\n",
      "2020-06-17 23:17:00\n",
      "\n",
      "GBP_USD complete!\n",
      "0:00:00.456905\n"
     ]
    }
   ],
   "source": [
    "! python q_pack/db_pack/oanda/oanda_minute.py"
   ]
  },
  {
   "cell_type": "code",
   "execution_count": 10,
   "metadata": {},
   "outputs": [
    {
     "name": "stdout",
     "output_type": "stream",
     "text": [
      "0:00:00.000010\n",
      "select a.last_date, b.id as stock_id, b.ticker from\n",
      "            (select max(date_price) as last_date, stock_id\n",
      "            from daily_data \n",
      "            group by stock_id) a right join symbol b on a.stock_id = b.id \n",
      "            where b.ticker in ('GBP_USD', 'USD_JPY', 'EUR_USD') and b.data_vendor_id=1\n",
      "   last_date  stock_id   ticker\n",
      "0 2015-12-31         6  USD_JPY\n",
      "1 2015-12-31        22  EUR_USD\n",
      "2 2015-12-31        35  GBP_USD\n",
      "USD_JPY\n",
      "[6]\n",
      "2015-12-31\n",
      "2020-06-18\n",
      "\n",
      "USD_JPY complete!\n",
      "EUR_USD\n",
      "[22]\n",
      "2015-12-31\n",
      "2020-06-18\n",
      "\n",
      "EUR_USD complete!\n",
      "GBP_USD\n",
      "[35]\n",
      "2015-12-31\n",
      "2020-06-18\n",
      "\n",
      "GBP_USD complete!\n",
      "0:00:01.787688\n"
     ]
    }
   ],
   "source": [
    "! python q_pack/db_pack/oanda/oanda_daily.py"
   ]
  },
  {
   "cell_type": "code",
   "execution_count": 15,
   "metadata": {},
   "outputs": [],
   "source": [
    "# ! python q_pack/db_pack/alpaca/alpaca_symbol_loader.py"
   ]
  },
  {
   "cell_type": "code",
   "execution_count": 3,
   "metadata": {},
   "outputs": [],
   "source": [
    "# ! python q_pack/db_pack/alpaca/alpaca_daily.py"
   ]
  },
  {
   "cell_type": "code",
   "execution_count": 12,
   "metadata": {},
   "outputs": [
    {
     "name": "stdout",
     "output_type": "stream",
     "text": [
      "Strategy run finished with Run ID: None\n",
      "4 240 m240\n",
      "done\n",
      "4 240 m240\n",
      "done\n",
      "4 240 m240\n",
      "done\n",
      "4 240 m240\n",
      "level is here\n",
      "done\n",
      "4 240 m240\n",
      "done\n",
      "4 240 m240\n",
      "done\n",
      "4 240 m240\n",
      "done\n",
      "4 240 m240\n",
      "done\n",
      "4 240 m240\n",
      "level is here\n",
      "done\n",
      "4 240 m240\n",
      "done\n",
      "Profit ... or Loss: 0.00\n",
      "CPU times: user 1.62 s, sys: 710 ms, total: 2.33 s\n",
      "Wall time: 1min 15s\n"
     ]
    }
   ],
   "source": [
    "%%time\n",
    "!python q_pack/q_run/run_BT.py --fromdate='2020-01-01' --todate='2020-05-01' --timeframe='4hour'"
   ]
  },
  {
   "cell_type": "code",
   "execution_count": 3,
   "metadata": {},
   "outputs": [
    {
     "name": "stdout",
     "output_type": "stream",
     "text": [
      "no indicator data for EUR_USD\n",
      "no indicator data for GBP_USD\n",
      "Strategy run finished with Run ID: None\n",
      "4 240 m240\n",
      "4 240 m240\n",
      "4 240 m240\n",
      "4 240 m240\n",
      "4 240 m240\n",
      "4 240 m240\n",
      "4 240 m240\n",
      "4 240 m240\n",
      "4 240 m240\n",
      "4 240 m240\n",
      "Profit ... or Loss: 0.00\n",
      "CPU times: user 2.86 s, sys: 1.3 s, total: 4.16 s\n",
      "Wall time: 1min 41s\n"
     ]
    }
   ],
   "source": [
    "%%time\n",
    "!python q_pack/q_run/run_BT.py --fromdate='2020-04-01' --todate='2020-05-01'"
   ]
  },
  {
   "cell_type": "code",
   "execution_count": 4,
   "metadata": {},
   "outputs": [
    {
     "data": {
      "text/plain": [
       "'no indicator data for MSFT\\nno indicator data for AAPL\\n0\\nStrategy run finished with Run ID: None\\ndone\\ndone\\ndone\\nlevel is here\\ndone\\ndone\\ndone\\ndone\\ndone\\nlevel is here\\ndone\\ndone\\nProfit ... or Loss: 0.00\\n'"
      ]
     },
     "execution_count": 4,
     "metadata": {},
     "output_type": "execute_result"
    }
   ],
   "source": [
    "import subprocess\n",
    "cmd_str=\"\"\"python q_pack/q_run/run_BT.py --todate='2020-03-31'\"\"\"\n",
    "process = subprocess.run(cmd_str, shell=True, check=True, stdout=subprocess.PIPE, universal_newlines=True)\n",
    "output = process.stdout\n",
    "\n",
    "output"
   ]
  },
  {
   "cell_type": "markdown",
   "metadata": {},
   "source": [
    "## Running the etl jobs via rest_api"
   ]
  },
  {
   "cell_type": "code",
   "execution_count": 6,
   "metadata": {},
   "outputs": [],
   "source": [
    "import requests"
   ]
  },
  {
   "cell_type": "code",
   "execution_count": 7,
   "metadata": {},
   "outputs": [
    {
     "name": "stdout",
     "output_type": "stream",
     "text": [
      "{\"Success\": \"Oanda Symbols Loaded\"}\n",
      "\n"
     ]
    }
   ],
   "source": [
    "url = \"http://etl-image:8060/load_symbols/oanda\"\n",
    "r = requests.get(url=url)\n",
    "print(r.text)"
   ]
  },
  {
   "cell_type": "code",
   "execution_count": 8,
   "metadata": {},
   "outputs": [
    {
     "name": "stdout",
     "output_type": "stream",
     "text": [
      "{\"Success\": \"Oanda Minute Data Loaded\"}\n",
      "\n"
     ]
    }
   ],
   "source": [
    "url = \"http://etl-image:8060/load_daily_data/oanda\"\n",
    "r = requests.get(url=url)\n",
    "print(r.text)"
   ]
  },
  {
   "cell_type": "code",
   "execution_count": 9,
   "metadata": {},
   "outputs": [
    {
     "name": "stdout",
     "output_type": "stream",
     "text": [
      "<!DOCTYPE HTML PUBLIC \"-//W3C//DTD HTML 3.2 Final//EN\">\n",
      "<title>404 Not Found</title>\n",
      "<h1>Not Found</h1>\n",
      "<p>The requested URL was not found on the server. If you entered the URL manually please check your spelling and try again.</p>\n",
      "\n"
     ]
    }
   ],
   "source": [
    "url = \"http://etl-image:8060/load_minute_data/oanda\"\n",
    "r = requests.get(url=url)\n",
    "print(r.text)"
   ]
  },
  {
   "cell_type": "code",
   "execution_count": 3,
   "metadata": {},
   "outputs": [
    {
     "name": "stdout",
     "output_type": "stream",
     "text": [
      "{\"Success\": \"Daily Data Loaded\"}\n",
      "\n"
     ]
    }
   ],
   "source": [
    "url = \"http://etl-image:8060/load_daily_data/alpaca\"\n",
    "r = requests.get(url=url)\n",
    "print(r.text)"
   ]
  },
  {
   "cell_type": "code",
   "execution_count": 4,
   "metadata": {},
   "outputs": [
    {
     "name": "stdout",
     "output_type": "stream",
     "text": [
      "{\"Success\": \"Test\"}\n",
      "\n"
     ]
    }
   ],
   "source": [
    "# url = \"http://etl-image:8060/test/alpaca\"\n",
    "# r = requests.get(url=url)\n",
    "# print(r.text)"
   ]
  },
  {
   "cell_type": "code",
   "execution_count": 5,
   "metadata": {},
   "outputs": [
    {
     "name": "stdout",
     "output_type": "stream",
     "text": [
      "{\"Success\": \"Indicator Data Loaded\"}\n",
      "\n"
     ]
    }
   ],
   "source": [
    "url = \"http://etl-image:8060/load_indicator_data/alpaca\"\n",
    "r = requests.get(url=url)\n",
    "print(r.text)"
   ]
  },
  {
   "cell_type": "code",
   "execution_count": 6,
   "metadata": {},
   "outputs": [],
   "source": [
    "# url = \"http://etl-image:8060/load_indicator_data/alpaca\"\n",
    "# r = requests.get(url=url)\n",
    "# print(r.text)"
   ]
  },
  {
   "cell_type": "code",
   "execution_count": null,
   "metadata": {},
   "outputs": [],
   "source": []
  }
 ],
 "metadata": {
  "kernelspec": {
   "display_name": "Python 3",
   "language": "python",
   "name": "python3"
  },
  "language_info": {
   "codemirror_mode": {
    "name": "ipython",
    "version": 3
   },
   "file_extension": ".py",
   "mimetype": "text/x-python",
   "name": "python",
   "nbconvert_exporter": "python",
   "pygments_lexer": "ipython3",
   "version": "3.7.6"
  }
 },
 "nbformat": 4,
 "nbformat_minor": 4
}
