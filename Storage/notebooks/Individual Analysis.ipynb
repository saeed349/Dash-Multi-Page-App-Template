{
 "cells": [
  {
   "cell_type": "code",
   "execution_count": 19,
   "metadata": {},
   "outputs": [],
   "source": [
    "import psycopg2\n",
    "import pandas as pd\n",
    "from plotly.offline import init_notebook_mode, iplot\n",
    "from plotly.offline import plot \n",
    "import plotly.graph_objects as go\n",
    "import warnings\n",
    "import datetime\n",
    "warnings.filterwarnings('ignore')\n",
    "\n",
    "# import q_credentials.db_secmaster_cloud_cred as db_secmaster_cred\n",
    "import q_credentials.db_secmaster_cred as db_secmaster_cred\n",
    "import q_credentials.db_indicator_cred as db_indicator_cred\n"
   ]
  },
  {
   "cell_type": "code",
   "execution_count": 11,
   "metadata": {},
   "outputs": [],
   "source": [
    "# connect to our securities_master database\n",
    "conn_secmaster = psycopg2.connect(host=db_secmaster_cred.dbHost , database=db_secmaster_cred.dbName, user=db_secmaster_cred.dbUser, password=db_secmaster_cred.dbPWD)"
   ]
  },
  {
   "cell_type": "code",
   "execution_count": 12,
   "metadata": {},
   "outputs": [],
   "source": [
    "conn_indicator = psycopg2.connect(host=db_indicator_cred.dbHost , database=db_indicator_cred.dbName, user=db_indicator_cred.dbUser, password=db_indicator_cred.dbPWD)"
   ]
  },
  {
   "cell_type": "code",
   "execution_count": 13,
   "metadata": {},
   "outputs": [],
   "source": [
    "sql=\"\"\"SELECT s.ticker, max(d.stock_id), max(d.date_price)\n",
    "FROM public.symbol s inner join daily_data d on s.id= d.stock_id\n",
    "group by s.ticker\"\"\"\n",
    "df_ticker_last_day=pd.read_sql(sql,con=conn_secmaster)"
   ]
  },
  {
   "cell_type": "code",
   "execution_count": 14,
   "metadata": {},
   "outputs": [
    {
     "data": {
      "text/html": [
       "<div>\n",
       "<style scoped>\n",
       "    .dataframe tbody tr th:only-of-type {\n",
       "        vertical-align: middle;\n",
       "    }\n",
       "\n",
       "    .dataframe tbody tr th {\n",
       "        vertical-align: top;\n",
       "    }\n",
       "\n",
       "    .dataframe thead th {\n",
       "        text-align: right;\n",
       "    }\n",
       "</style>\n",
       "<table border=\"1\" class=\"dataframe\">\n",
       "  <thead>\n",
       "    <tr style=\"text-align: right;\">\n",
       "      <th></th>\n",
       "      <th>ticker</th>\n",
       "      <th>max</th>\n",
       "      <th>max</th>\n",
       "    </tr>\n",
       "  </thead>\n",
       "  <tbody>\n",
       "    <tr>\n",
       "      <th>0</th>\n",
       "      <td>AAPL</td>\n",
       "      <td>13200</td>\n",
       "      <td>2020-05-01</td>\n",
       "    </tr>\n",
       "    <tr>\n",
       "      <th>1</th>\n",
       "      <td>MSFT</td>\n",
       "      <td>13205</td>\n",
       "      <td>2020-05-01</td>\n",
       "    </tr>\n",
       "  </tbody>\n",
       "</table>\n",
       "</div>"
      ],
      "text/plain": [
       "  ticker    max        max\n",
       "0   AAPL  13200 2020-05-01\n",
       "1   MSFT  13205 2020-05-01"
      ]
     },
     "execution_count": 14,
     "metadata": {},
     "output_type": "execute_result"
    }
   ],
   "source": [
    "df_ticker_last_day"
   ]
  },
  {
   "cell_type": "code",
   "execution_count": 15,
   "metadata": {},
   "outputs": [],
   "source": [
    "# sql=\"\"\"select date_price as date, open_price as open, high_price as high, low_price as low , close_price as close,volume from daily_data where stock_id=71\"\"\"\n",
    "# df_stock=pd.read_sql(sql,con=conn_secmaster)"
   ]
  },
  {
   "cell_type": "code",
   "execution_count": 16,
   "metadata": {},
   "outputs": [],
   "source": [
    "# import datetime"
   ]
  },
  {
   "cell_type": "code",
   "execution_count": 17,
   "metadata": {},
   "outputs": [
    {
     "data": {
      "text/plain": [
       "['candle_1', 'candle_2', 'candle_3', 'level', 'anomaly']"
      ]
     },
     "execution_count": 17,
     "metadata": {},
     "output_type": "execute_result"
    }
   ],
   "source": [
    "sql=\"select * from indicator\"\n",
    "ind_list=list(pd.read_sql(sql,con=conn_indicator)['name'])\n",
    "ind_list"
   ]
  },
  {
   "cell_type": "code",
   "execution_count": 20,
   "metadata": {},
   "outputs": [],
   "source": [
    "symbol_id='AAPL'#'BOM500114'\n",
    "start_date=datetime.datetime(2018,1,1).strftime(\"%Y-%m-%d\")\n",
    "indicator_name = 'candle_1'"
   ]
  },
  {
   "cell_type": "code",
   "execution_count": 21,
   "metadata": {},
   "outputs": [],
   "source": [
    "sql=\"select d.date_price as date, open_price as open, high_price as high, low_price as low , close_price as close,volume from daily_data d join symbol s on d.stock_id = s.id where s.ticker='%s' and d.date_price > '%s'\" %(symbol_id, start_date)\n",
    "df_price=pd.read_sql(sql,con=conn_secmaster)"
   ]
  },
  {
   "cell_type": "code",
   "execution_count": 22,
   "metadata": {},
   "outputs": [],
   "source": [
    "sql=\"select d.date_price as date, d.value from daily_data d join symbol s on d.symbol_id = s.id join indicator i on i.id=d.indicator_id where s.ticker='%s' and i.name = '%s' and d.date_price > '%s'\" %(symbol_id, indicator_name, start_date)\n",
    "df_indicator=pd.read_sql(sql,con=conn_indicator)"
   ]
  },
  {
   "cell_type": "code",
   "execution_count": 23,
   "metadata": {},
   "outputs": [],
   "source": [
    "df_indicator.set_index('date',inplace=True)"
   ]
  },
  {
   "cell_type": "code",
   "execution_count": 24,
   "metadata": {},
   "outputs": [
    {
     "name": "stdout",
     "output_type": "stream",
     "text": [
      "candle_1\n",
      "candle_2\n",
      "candle_3\n",
      "level\n",
      "anomaly\n"
     ]
    }
   ],
   "source": [
    "df_all_ind=pd.DataFrame()\n",
    "for ind in ind_list:\n",
    "    print(ind)\n",
    "    sql=\"select d.date_price as date, d.value from daily_data d join symbol s on d.symbol_id = s.id join indicator i on i.id=d.indicator_id where s.ticker='%s' and i.name = '%s' and d.date_price > '%s'\" %(symbol_id, ind, start_date)\n",
    "    df_indicator=pd.read_sql(sql,con=conn_indicator)\n",
    "    df_indicator.set_index('date',inplace=True)\n",
    "    df_indicator=pd.concat([df_indicator.drop(['value'], axis=1), df_indicator['value'].apply(pd.Series)], axis=1)\n",
    "    df_indicator.columns=[ind+\"_\"+col for col in df_indicator.columns]\n",
    "    if df_all_ind.empty:\n",
    "        df_all_ind=pd.merge(left=df_price, right=df_indicator,on='date')\n",
    "    else:\n",
    "        df_all_ind=pd.merge(left=df_all_ind, right=df_indicator,on='date')"
   ]
  },
  {
   "cell_type": "code",
   "execution_count": 25,
   "metadata": {},
   "outputs": [],
   "source": [
    "pd.options.display.max_columns = None"
   ]
  },
  {
   "cell_type": "code",
   "execution_count": 26,
   "metadata": {},
   "outputs": [],
   "source": [
    "def level_plot(df):\n",
    "    support_ls = [[ls[0],ls[1],datetime.datetime.strptime(ls[2],'%Y-%m-%d %H:%M:%S'),ls[3]] for ls in df.iloc[-1]['level_support']]\n",
    "    resistance_ls = [[ls[0],ls[1],datetime.datetime.strptime(ls[2],'%Y-%m-%d %H:%M:%S'),ls[3]] for ls in df.iloc[-1]['level_resistance']]\n",
    "    end_dt=df.index[-1]\n",
    "    res_plot_ls=[]\n",
    "    sup_plot_ls=[]\n",
    "    for res in resistance_ls[:5]:\n",
    "        res_plot_ls.append(dict(x0=res[2],x1=end_dt,y0=res[0],y1=res[1],yref='y1',opacity=.2,fillcolor='Red',line=dict(color=\"black\",width=1)))\n",
    "    for sup in support_ls[:5]:\n",
    "        sup_plot_ls.append(dict(x0=sup[2],x1=end_dt,y0=sup[0],y1=sup[1],yref='y1',opacity=.2,fillcolor='green',line=dict(color=\"black\",width=1)))\n",
    "    return (res_plot_ls+sup_plot_ls)"
   ]
  },
  {
   "cell_type": "code",
   "execution_count": 27,
   "metadata": {},
   "outputs": [],
   "source": [
    "# df.columns"
   ]
  },
  {
   "cell_type": "code",
   "execution_count": 28,
   "metadata": {},
   "outputs": [
    {
     "ename": "NameError",
     "evalue": "name 'df' is not defined",
     "output_type": "error",
     "traceback": [
      "\u001b[0;31m---------------------------------------------------------------------------\u001b[0m",
      "\u001b[0;31mNameError\u001b[0m                                 Traceback (most recent call last)",
      "\u001b[0;32m<ipython-input-28-255761777000>\u001b[0m in \u001b[0;36m<module>\u001b[0;34m\u001b[0m\n\u001b[1;32m      1\u001b[0m \u001b[0mcandle1_plot_ls\u001b[0m\u001b[0;34m=\u001b[0m\u001b[0;34m[\u001b[0m\u001b[0;34m]\u001b[0m\u001b[0;34m\u001b[0m\u001b[0;34m\u001b[0m\u001b[0m\n\u001b[0;32m----> 2\u001b[0;31m \u001b[0;32mfor\u001b[0m \u001b[0mi\u001b[0m\u001b[0;34m,\u001b[0m\u001b[0mrow\u001b[0m \u001b[0;32min\u001b[0m \u001b[0mdf\u001b[0m\u001b[0;34m.\u001b[0m\u001b[0mtail\u001b[0m\u001b[0;34m(\u001b[0m\u001b[0;36m10\u001b[0m\u001b[0;34m)\u001b[0m\u001b[0;34m.\u001b[0m\u001b[0miterrows\u001b[0m\u001b[0;34m(\u001b[0m\u001b[0;34m)\u001b[0m\u001b[0;34m:\u001b[0m\u001b[0;34m\u001b[0m\u001b[0;34m\u001b[0m\u001b[0m\n\u001b[0m\u001b[1;32m      3\u001b[0m     \u001b[0;32mif\u001b[0m\u001b[0;34m(\u001b[0m\u001b[0mrow\u001b[0m\u001b[0;34m[\u001b[0m\u001b[0;34m'candle_1_pattern_name'\u001b[0m\u001b[0;34m]\u001b[0m\u001b[0;34m)\u001b[0m\u001b[0;34m:\u001b[0m\u001b[0;34m\u001b[0m\u001b[0;34m\u001b[0m\u001b[0m\n\u001b[1;32m      4\u001b[0m \u001b[0;31m#         print(row['candle_1_pattern_name'])\u001b[0m\u001b[0;34m\u001b[0m\u001b[0;34m\u001b[0m\u001b[0;34m\u001b[0m\u001b[0m\n\u001b[1;32m      5\u001b[0m         \u001b[0mprint\u001b[0m\u001b[0;34m(\u001b[0m\u001b[0mpd\u001b[0m\u001b[0;34m.\u001b[0m\u001b[0mto_datetime\u001b[0m\u001b[0;34m(\u001b[0m\u001b[0mi\u001b[0m\u001b[0;34m)\u001b[0m\u001b[0;34m,\u001b[0m \u001b[0;34m(\u001b[0m\u001b[0mi\u001b[0m\u001b[0;34m+\u001b[0m\u001b[0mdatetime\u001b[0m\u001b[0;34m.\u001b[0m\u001b[0mtimedelta\u001b[0m\u001b[0;34m(\u001b[0m\u001b[0mdays\u001b[0m\u001b[0;34m=\u001b[0m\u001b[0;36m1\u001b[0m\u001b[0;34m)\u001b[0m\u001b[0;34m)\u001b[0m\u001b[0;34m)\u001b[0m\u001b[0;34m\u001b[0m\u001b[0;34m\u001b[0m\u001b[0m\n",
      "\u001b[0;31mNameError\u001b[0m: name 'df' is not defined"
     ]
    }
   ],
   "source": [
    "candle1_plot_ls=[]\n",
    "for i,row in df.tail(10).iterrows():\n",
    "    if(row['candle_1_pattern_name']):\n",
    "#         print(row['candle_1_pattern_name'])\n",
    "        print(pd.to_datetime(i), (i+datetime.timedelta(days=1)))\n",
    "        candle1_plot_ls.append(dict(x0=i,x1=(i+datetime.timedelta(days=2)),y0=row['high'],y1=row['low'],yref='y1',opacity=.2,fillcolor='blue',line=dict(color=\"black\",width=1)))"
   ]
  },
  {
   "cell_type": "code",
   "execution_count": 29,
   "metadata": {},
   "outputs": [],
   "source": [
    "df=df_all_ind.set_index('date')\n",
    "interested_feature='anomaly_vol_anomaly'"
   ]
  },
  {
   "cell_type": "code",
   "execution_count": 30,
   "metadata": {},
   "outputs": [],
   "source": [
    "df_candle_1=df[-10:]\n",
    "df_candle_1=df_candle_1[df_candle_1['candle_1_pattern_name']!='']\n",
    "df_candle_1['pattern']='1'\n",
    "\n",
    "df_candle_2=df[-10:]\n",
    "df_candle_2=df_candle_2[df_candle_2['candle_2_pattern_name']!='']\n",
    "df_candle_2['pattern']='2'\n",
    "\n",
    "df_candle_3=df[-10:]\n",
    "df_candle_3=df_candle_3[df_candle_3['candle_3_pattern_name']!='']\n",
    "df_candle_3['pattern']='3'"
   ]
  },
  {
   "cell_type": "code",
   "execution_count": 31,
   "metadata": {},
   "outputs": [],
   "source": [
    "# Plotting\n",
    "data = [ dict(\n",
    "    type = 'candlestick',\n",
    "    open = df.open,\n",
    "    high = df.high,\n",
    "    low = df.low,\n",
    "    close = df.close,\n",
    "    x = df.index,\n",
    "    yaxis = 'y1',\n",
    "    name = 'price'\n",
    ")]\n",
    "\n",
    "\n",
    "data.append( dict( x=df.index, y=df.volume,                         \n",
    "                         marker=dict( color='blue' ),\n",
    "                         type='bar', yaxis='y2', name='Volume'))\n",
    "\n",
    "data.append( dict( x=df.index, y=df[interested_feature],                         \n",
    "                         marker=dict( color='red' ),\n",
    "                         type='scatter', yaxis='y3', name=interested_feature))\n",
    "\n",
    "data.append( dict( x=df_candle_1.index, y=df_candle_1['high'],\n",
    "                         text=df_candle_1['pattern'],\n",
    "                         mode=\"markers+text\",textfont_size=15,textposition=\"top center\",\n",
    "                         marker=dict( color='blue' ),\n",
    "                         type='scatter', yaxis='y1', name='candle_patter_1'))\n",
    "\n",
    "data.append( dict( x=df_candle_2.index, y=df_candle_2['high'],\n",
    "                         text=df_candle_2['pattern'],\n",
    "                         mode=\"markers+text\",textfont_size=15,textposition=\"top center\",\n",
    "                         marker=dict( color='red' ),\n",
    "                         type='scatter', yaxis='y1', name='candle_patter_2'))\n",
    "\n",
    "\n",
    "data.append( dict( x=df_candle_3.index, y=df_candle_3['high'],\n",
    "                         text=df_candle_3['pattern'],\n",
    "                         mode=\"markers+text\",textfont_size=15,textposition=\"top center\",\n",
    "                         marker=dict( color='red' ),\n",
    "                         type='scatter', yaxis='y1', name='candle_patter_3'))\n",
    "\n",
    "\n",
    "layout=dict()    \n",
    "layout['xaxis'] = dict( rangeslider = dict( visible = False ),autorange=True,fixedrange=False,visible=False,type='category')#type='category',\n",
    "layout['yaxis'] = dict( domain = [0.2, 1],autorange = True,fixedrange=False)\n",
    "layout['yaxis2'] = dict( domain = [0.0, 0.1],autorange = True,fixedrange=False)\n",
    "layout['yaxis3'] = dict( domain = [0.1, 0.2],autorange = True,fixedrange=False)\n",
    "# layout['shapes'] = [dict(x0=start_dt, x1=end_dt, y0=3057.9, y1=3060.85, yref='y1',opacity=.2,line=dict(color=\"Red\",width=1))]#fillcolor='green',line_width=2\n",
    "layout['shapes'] = level_plot(df)\n",
    "# layout['shapes'] = candle1_plot_ls\n",
    "\n",
    "df.to_csv(\"stock_price_indicator.csv\",index=True)\n",
    "\n",
    "fig = dict( data=data, layout=layout )"
   ]
  },
  {
   "cell_type": "code",
   "execution_count": 32,
   "metadata": {},
   "outputs": [],
   "source": [
    "figure=go.FigureWidget(data=data, layout=layout)"
   ]
  },
  {
   "cell_type": "code",
   "execution_count": 33,
   "metadata": {},
   "outputs": [],
   "source": [
    "def zoom(layout, x_range):\n",
    "    print(x_range)\n",
    "    in_view = df.iloc[int(figure.layout.xaxis.range[0]):int(figure.layout.xaxis.range[1])]\n",
    "    figure.layout.yaxis2.range = [in_view.volume.min(), in_view.volume.max()]\n",
    "    figure.layout.yaxis3.range = [in_view[interested_feature].min(), in_view[interested_feature].max()]"
   ]
  },
  {
   "cell_type": "code",
   "execution_count": 34,
   "metadata": {},
   "outputs": [],
   "source": [
    "figure.layout.on_change(zoom, 'xaxis.range')"
   ]
  },
  {
   "cell_type": "code",
   "execution_count": 35,
   "metadata": {},
   "outputs": [
    {
     "data": {
      "application/vnd.jupyter.widget-view+json": {
       "model_id": "e3ccea5a809f4712be31b35fd6393049",
       "version_major": 2,
       "version_minor": 0
      },
      "text/plain": [
       "FigureWidget({\n",
       "    'data': [{'close': array([172.26, 172.23, 173.03, ..., 247.74, 254.81, 254.29]),\n",
       "          …"
      ]
     },
     "metadata": {},
     "output_type": "display_data"
    }
   ],
   "source": [
    "figure.update_layout(margin=dict(l=20, r=10),paper_bgcolor=\"LightSteelBlue\",width=2200, height=1000)"
   ]
  },
  {
   "cell_type": "code",
   "execution_count": null,
   "metadata": {},
   "outputs": [],
   "source": []
  },
  {
   "cell_type": "code",
   "execution_count": null,
   "metadata": {},
   "outputs": [],
   "source": []
  }
 ],
 "metadata": {
  "kernelspec": {
   "display_name": "Python 3",
   "language": "python",
   "name": "python3"
  },
  "language_info": {
   "codemirror_mode": {
    "name": "ipython",
    "version": 3
   },
   "file_extension": ".py",
   "mimetype": "text/x-python",
   "name": "python",
   "nbconvert_exporter": "python",
   "pygments_lexer": "ipython3",
   "version": "3.7.6"
  }
 },
 "nbformat": 4,
 "nbformat_minor": 4
}
