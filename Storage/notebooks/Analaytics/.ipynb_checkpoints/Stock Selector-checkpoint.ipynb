{
 "cells": [
  {
   "cell_type": "code",
   "execution_count": 123,
   "metadata": {},
   "outputs": [],
   "source": [
    "import psycopg2\n",
    "import pandas as pd\n",
    "from plotly.offline import init_notebook_mode, iplot\n",
    "from plotly.offline import plot \n",
    "import plotly.graph_objects as go\n",
    "import warnings\n",
    "warnings.filterwarnings('ignore')\n",
    "import datetime\n",
    "\n",
    "import q_credentials.db_secmaster_cred as db_secmaster_cred\n",
    "import q_credentials.db_indicator_cred as db_indicator_cred"
   ]
  },
  {
   "cell_type": "code",
   "execution_count": 124,
   "metadata": {},
   "outputs": [],
   "source": [
    "# connect to our securities_master database\n",
    "conn_secmaster = psycopg2.connect(host=db_secmaster_cred.dbHost , database=db_secmaster_cred.dbName, user=db_secmaster_cred.dbUser, password=db_secmaster_cred.dbPWD)\n",
    "conn_indicator = psycopg2.connect(host=db_indicator_cred.dbHost , database=db_indicator_cred.dbName, user=db_indicator_cred.dbUser, password=db_indicator_cred.dbPWD)"
   ]
  },
  {
   "cell_type": "code",
   "execution_count": 125,
   "metadata": {},
   "outputs": [],
   "source": [
    "sql=\"\"\"SELECT s.ticker, max(d.symbol_id), max(d.date_price)\n",
    "FROM public.symbol s inner join daily_data d on s.id= d.symbol_id\n",
    "group by s.ticker\"\"\"\n",
    "df_ticker_last_day=pd.read_sql(sql,con=conn_indicator)"
   ]
  },
  {
   "cell_type": "code",
   "execution_count": 126,
   "metadata": {},
   "outputs": [
    {
     "data": {
      "text/html": [
       "<div>\n",
       "<style scoped>\n",
       "    .dataframe tbody tr th:only-of-type {\n",
       "        vertical-align: middle;\n",
       "    }\n",
       "\n",
       "    .dataframe tbody tr th {\n",
       "        vertical-align: top;\n",
       "    }\n",
       "\n",
       "    .dataframe thead th {\n",
       "        text-align: right;\n",
       "    }\n",
       "</style>\n",
       "<table border=\"1\" class=\"dataframe\">\n",
       "  <thead>\n",
       "    <tr style=\"text-align: right;\">\n",
       "      <th></th>\n",
       "      <th>ticker</th>\n",
       "      <th>max</th>\n",
       "      <th>max</th>\n",
       "    </tr>\n",
       "  </thead>\n",
       "  <tbody>\n",
       "    <tr>\n",
       "      <th>0</th>\n",
       "      <td>BOM500087</td>\n",
       "      <td>9468</td>\n",
       "      <td>2019-04-30</td>\n",
       "    </tr>\n",
       "    <tr>\n",
       "      <th>1</th>\n",
       "      <td>BOM500010</td>\n",
       "      <td>9466</td>\n",
       "      <td>2019-04-30</td>\n",
       "    </tr>\n",
       "    <tr>\n",
       "      <th>2</th>\n",
       "      <td>BOM500034</td>\n",
       "      <td>9467</td>\n",
       "      <td>2019-04-30</td>\n",
       "    </tr>\n",
       "  </tbody>\n",
       "</table>\n",
       "</div>"
      ],
      "text/plain": [
       "      ticker   max        max\n",
       "0  BOM500087  9468 2019-04-30\n",
       "1  BOM500010  9466 2019-04-30\n",
       "2  BOM500034  9467 2019-04-30"
      ]
     },
     "execution_count": 126,
     "metadata": {},
     "output_type": "execute_result"
    }
   ],
   "source": [
    "df_ticker_last_day"
   ]
  },
  {
   "cell_type": "code",
   "execution_count": 127,
   "metadata": {},
   "outputs": [],
   "source": [
    "sql=\"\"\"select date_price as date, open_price as open, high_price as high, low_price as low , close_price as close,volume from daily_data where stock_id=71\"\"\"\n",
    "df_stock=pd.read_sql(sql,con=conn_secmaster)"
   ]
  },
  {
   "cell_type": "code",
   "execution_count": 128,
   "metadata": {},
   "outputs": [],
   "source": [
    "import datetime"
   ]
  },
  {
   "cell_type": "code",
   "execution_count": 129,
   "metadata": {},
   "outputs": [
    {
     "data": {
      "text/plain": [
       "['candle_1', 'candle_2', 'candle_3', 'level', 'anomaly']"
      ]
     },
     "execution_count": 129,
     "metadata": {},
     "output_type": "execute_result"
    }
   ],
   "source": [
    "sql=\"select * from indicator\"\n",
    "ind_list=list(pd.read_sql(sql,con=conn_indicator)['name'])\n",
    "ind_list"
   ]
  },
  {
   "cell_type": "code",
   "execution_count": 130,
   "metadata": {},
   "outputs": [],
   "source": [
    "symbol_id='BOM500034'\n",
    "start_date=datetime.datetime(2019,4,30).strftime(\"%Y-%m-%d\")"
   ]
  },
  {
   "cell_type": "code",
   "execution_count": 131,
   "metadata": {},
   "outputs": [],
   "source": [
    "sql=\"select s.ticker, s.name, d.date_price as date, open_price as open, high_price as high, low_price as low , close_price as close,volume from daily_data d join symbol s on d.stock_id = s.id where d.date_price = '%s'\" %(start_date)\n",
    "df_price=pd.read_sql(sql,con=conn_secmaster)"
   ]
  },
  {
   "cell_type": "code",
   "execution_count": 132,
   "metadata": {},
   "outputs": [],
   "source": [
    "sql=\"select s.ticker, s.name, d.date_price as date, d.value from daily_data d join symbol s on d.symbol_id = s.id join indicator i on i.id=d.indicator_id where i.name = '%s' and d.date_price = '%s'\" %(indicator_name, start_date)\n",
    "df_indicator=pd.read_sql(sql,con=conn_indicator)"
   ]
  },
  {
   "cell_type": "code",
   "execution_count": 135,
   "metadata": {},
   "outputs": [
    {
     "name": "stdout",
     "output_type": "stream",
     "text": [
      "candle_1\n",
      "candle_2\n",
      "candle_3\n",
      "level\n",
      "anomaly\n"
     ]
    }
   ],
   "source": [
    "df_all_ind=pd.DataFrame()\n",
    "for ind in ind_list:\n",
    "    print(ind)\n",
    "    sql=\"select s.ticker, d.date_price as date, d.value from daily_data d join symbol s on d.symbol_id = s.id join indicator i on i.id=d.indicator_id where i.name = '%s' and d.date_price >= '%s'\" %(ind, start_date)\n",
    "    df_indicator=pd.read_sql(sql,con=conn_indicator)\n",
    "    df_indicator=pd.concat([df_indicator.drop(['value'], axis=1), df_indicator['value'].apply(pd.Series)], axis=1)\n",
    "    interested_columns=list(set(df_indicator.columns)-set(['date','ticker','name']))\n",
    "    new_column=[ind+\"_\"+col for col in interested_columns]\n",
    "    df_indicator.rename(columns=dict(zip(interested_columns,new_column)),inplace=True)\n",
    "    if df_all_ind.empty:\n",
    "        df_all_ind=pd.merge(left=df_price, right=df_indicator,left_on=['date','ticker'],right_on=['date','ticker'])\n",
    "    else:\n",
    "        df_all_ind=pd.merge(left=df_all_ind, right=df_indicator,left_on=['date','ticker'],right_on=['date','ticker'])"
   ]
  },
  {
   "cell_type": "code",
   "execution_count": 136,
   "metadata": {},
   "outputs": [
    {
     "data": {
      "text/plain": [
       "Index(['ticker', 'name', 'date', 'open', 'high', 'low', 'close', 'volume',\n",
       "       'candle_1_level', 'candle_1_pattern_name', 'candle_2_level',\n",
       "       'candle_2_pattern_name', 'candle_3_level', 'candle_3_pattern_name',\n",
       "       'level_level', 'level_nearest_resistance_atr_range',\n",
       "       'level_nearest_resistance_duration', 'level_nearest_resistance_range',\n",
       "       'level_nearest_support_atr_range', 'level_nearest_support_duration',\n",
       "       'level_nearest_support_range', 'level_resistance', 'level_support',\n",
       "       'anomaly_bear', 'anomaly_body_size', 'anomaly_body_size_dev',\n",
       "       'anomaly_body_size_ema', 'anomaly_bull', 'anomaly_gap',\n",
       "       'anomaly_gap_dev', 'anomaly_gap_ema', 'anomaly_gap_signal',\n",
       "       'anomaly_vol_anomaly', 'anomaly_vol_anomaly_2', 'anomaly_vol_dev',\n",
       "       'anomaly_vol_ema', 'anomaly_wick_bear', 'anomaly_wick_bear_dev',\n",
       "       'anomaly_wick_bear_ema', 'anomaly_wick_bear_signal',\n",
       "       'anomaly_wick_bull', 'anomaly_wick_bull_dev', 'anomaly_wick_bull_ema',\n",
       "       'anomaly_wick_bull_signal'],\n",
       "      dtype='object')"
      ]
     },
     "execution_count": 136,
     "metadata": {},
     "output_type": "execute_result"
    }
   ],
   "source": [
    "df_all_ind.columns"
   ]
  },
  {
   "cell_type": "code",
   "execution_count": 137,
   "metadata": {},
   "outputs": [],
   "source": [
    "pd.options.display.max_columns = None"
   ]
  },
  {
   "cell_type": "code",
   "execution_count": 138,
   "metadata": {},
   "outputs": [
    {
     "data": {
      "text/html": [
       "<div>\n",
       "<style scoped>\n",
       "    .dataframe tbody tr th:only-of-type {\n",
       "        vertical-align: middle;\n",
       "    }\n",
       "\n",
       "    .dataframe tbody tr th {\n",
       "        vertical-align: top;\n",
       "    }\n",
       "\n",
       "    .dataframe thead th {\n",
       "        text-align: right;\n",
       "    }\n",
       "</style>\n",
       "<table border=\"1\" class=\"dataframe\">\n",
       "  <thead>\n",
       "    <tr style=\"text-align: right;\">\n",
       "      <th></th>\n",
       "      <th>ticker</th>\n",
       "      <th>name</th>\n",
       "      <th>candle_1_pattern_name</th>\n",
       "      <th>candle_2_pattern_name</th>\n",
       "      <th>anomaly_vol_anomaly</th>\n",
       "      <th>level_nearest_resistance_duration</th>\n",
       "      <th>level_nearest_support_duration</th>\n",
       "    </tr>\n",
       "  </thead>\n",
       "  <tbody>\n",
       "    <tr>\n",
       "      <th>0</th>\n",
       "      <td>BOM500010</td>\n",
       "      <td>HOUSING DEVELOPMENT FINANCE CORP.LTD.</td>\n",
       "      <td></td>\n",
       "      <td></td>\n",
       "      <td>0.150522</td>\n",
       "      <td>12</td>\n",
       "      <td>7</td>\n",
       "    </tr>\n",
       "    <tr>\n",
       "      <th>1</th>\n",
       "      <td>BOM500034</td>\n",
       "      <td>Bajaj Finance Limited</td>\n",
       "      <td>DOJI_SPINOFF</td>\n",
       "      <td></td>\n",
       "      <td>0.366491</td>\n",
       "      <td>5</td>\n",
       "      <td>18</td>\n",
       "    </tr>\n",
       "    <tr>\n",
       "      <th>2</th>\n",
       "      <td>BOM500087</td>\n",
       "      <td>CIPLA LTD.</td>\n",
       "      <td></td>\n",
       "      <td></td>\n",
       "      <td>0.047670</td>\n",
       "      <td>14</td>\n",
       "      <td>5</td>\n",
       "    </tr>\n",
       "  </tbody>\n",
       "</table>\n",
       "</div>"
      ],
      "text/plain": [
       "      ticker                                   name candle_1_pattern_name  \\\n",
       "0  BOM500010  HOUSING DEVELOPMENT FINANCE CORP.LTD.                         \n",
       "1  BOM500034                  Bajaj Finance Limited          DOJI_SPINOFF   \n",
       "2  BOM500087                             CIPLA LTD.                         \n",
       "\n",
       "  candle_2_pattern_name  anomaly_vol_anomaly  \\\n",
       "0                                   0.150522   \n",
       "1                                   0.366491   \n",
       "2                                   0.047670   \n",
       "\n",
       "   level_nearest_resistance_duration  level_nearest_support_duration  \n",
       "0                                 12                               7  \n",
       "1                                  5                              18  \n",
       "2                                 14                               5  "
      ]
     },
     "execution_count": 138,
     "metadata": {},
     "output_type": "execute_result"
    }
   ],
   "source": [
    "df_all_ind[['ticker','name','candle_1_pattern_name','candle_2_pattern_name','anomaly_vol_anomaly','level_nearest_resistance_duration','level_nearest_support_duration']]"
   ]
  },
  {
   "cell_type": "code",
   "execution_count": null,
   "metadata": {},
   "outputs": [],
   "source": []
  }
 ],
 "metadata": {
  "kernelspec": {
   "display_name": "Python 3",
   "language": "python",
   "name": "python3"
  },
  "language_info": {
   "codemirror_mode": {
    "name": "ipython",
    "version": 3
   },
   "file_extension": ".py",
   "mimetype": "text/x-python",
   "name": "python",
   "nbconvert_exporter": "python",
   "pygments_lexer": "ipython3",
   "version": "3.7.6"
  }
 },
 "nbformat": 4,
 "nbformat_minor": 4
}
