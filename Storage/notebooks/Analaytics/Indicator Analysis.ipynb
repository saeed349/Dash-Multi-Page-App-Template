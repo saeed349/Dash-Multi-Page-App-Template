{
 "cells": [
  {
   "cell_type": "code",
   "execution_count": 1,
   "metadata": {},
   "outputs": [],
   "source": [
    "import psycopg2\n",
    "import pandas as pd\n",
    "from plotly.offline import init_notebook_mode, iplot\n",
    "from plotly.offline import plot \n",
    "import plotly.graph_objects as go\n",
    "import warnings\n",
    "import datetime\n",
    "warnings.filterwarnings('ignore')\n",
    "\n",
    "# import q_credentials.db_secmaster_cloud_cred as db_secmaster_cred\n",
    "import q_credentials.db_secmaster_cred as db_secmaster_cred\n",
    "import q_credentials.db_indicator_cred as db_indicator_cred\n"
   ]
  },
  {
   "cell_type": "code",
   "execution_count": 2,
   "metadata": {},
   "outputs": [],
   "source": [
    "# connect to our securities_master database\n",
    "conn_secmaster = psycopg2.connect(host=db_secmaster_cred.dbHost , database=db_secmaster_cred.dbName, user=db_secmaster_cred.dbUser, password=db_secmaster_cred.dbPWD)"
   ]
  },
  {
   "cell_type": "code",
   "execution_count": 3,
   "metadata": {},
   "outputs": [],
   "source": [
    "conn_indicator = psycopg2.connect(host=db_indicator_cred.dbHost , database=db_indicator_cred.dbName, user=db_indicator_cred.dbUser, password=db_indicator_cred.dbPWD)"
   ]
  },
  {
   "cell_type": "code",
   "execution_count": 4,
   "metadata": {},
   "outputs": [
    {
     "data": {
      "text/plain": [
       "['candle_1', 'candle_2', 'candle_3', 'anomaly', 'level']"
      ]
     },
     "execution_count": 4,
     "metadata": {},
     "output_type": "execute_result"
    }
   ],
   "source": [
    "sql=\"select * from indicator\"\n",
    "ind_list=list(pd.read_sql(sql,con=conn_indicator)['name'])\n",
    "ind_list"
   ]
  },
  {
   "cell_type": "code",
   "execution_count": 243,
   "metadata": {},
   "outputs": [],
   "source": [
    "symbol_id='TSI'#'BOM500114'\n",
    "start_date=datetime.datetime(2016,1,1).strftime(\"%Y-%m-%d\")\n",
    "indicator_name = 'candle_1'"
   ]
  },
  {
   "cell_type": "code",
   "execution_count": 244,
   "metadata": {},
   "outputs": [
    {
     "name": "stdout",
     "output_type": "stream",
     "text": [
      "candle_1\n",
      "candle_2\n",
      "candle_3\n",
      "anomaly\n",
      "level\n"
     ]
    }
   ],
   "source": [
    "df_all_ind=pd.DataFrame()\n",
    "for ind in ind_list:\n",
    "    print(ind)\n",
    "    sql=\"select d.date_price as date, d.value from w_data d join symbol s on d.symbol_id = s.id join indicator i on i.id=d.indicator_id where s.ticker='%s' and i.name = '%s' and d.date_price > '%s' order by date\" %(symbol_id, ind, start_date)\n",
    "    df_indicator=pd.read_sql(sql,con=conn_indicator)\n",
    "    df_indicator.set_index('date',inplace=True)\n",
    "    df_indicator=pd.concat([df_indicator.drop(['value'], axis=1), df_indicator['value'].apply(pd.Series)], axis=1)\n",
    "    df_indicator.columns=[ind+\"_\"+col for col in df_indicator.columns]\n",
    "    if df_all_ind.empty:\n",
    "#         df_all_ind=pd.merge(left=df_price, right=df_indicator,on='date')\n",
    "        df_all_ind=df_indicator\n",
    "    else:\n",
    "        df_all_ind=pd.merge(left=df_all_ind, right=df_indicator,on='date')"
   ]
  },
  {
   "cell_type": "code",
   "execution_count": 245,
   "metadata": {},
   "outputs": [],
   "source": [
    "# df_all_ind.head()"
   ]
  },
  {
   "cell_type": "code",
   "execution_count": 246,
   "metadata": {},
   "outputs": [],
   "source": [
    "df_all_ind.rename(columns={'anomaly_close':'close','anomaly_low':'low','anomaly_high':'high','anomaly_open':'open','anomaly_volume':'volume'},inplace=True)"
   ]
  },
  {
   "cell_type": "code",
   "execution_count": 247,
   "metadata": {},
   "outputs": [],
   "source": [
    "pd.options.display.max_columns = None"
   ]
  },
  {
   "cell_type": "code",
   "execution_count": 248,
   "metadata": {},
   "outputs": [],
   "source": [
    "# df.iloc[-1]"
   ]
  },
  {
   "cell_type": "code",
   "execution_count": 249,
   "metadata": {},
   "outputs": [],
   "source": [
    "# [[ls[0],ls[1],datetime.datetime.strptime(ls[2],'%Y-%m-%d %H:%M:%S'),ls[3]] for ls in df.loc[df.index[-1]]['level_support']]"
   ]
  },
  {
   "cell_type": "code",
   "execution_count": 250,
   "metadata": {},
   "outputs": [],
   "source": [
    "def level_plot(df):\n",
    "    try:\n",
    "        support_ls = [[ls[0],ls[1],datetime.datetime.strptime(ls[2],'%Y-%m-%d %H:%M:%S'),ls[3]] for ls in df.iloc[-1]['level_support']]\n",
    "    except:\n",
    "        support_ls =[]\n",
    "    try:\n",
    "        resistance_ls = [[ls[0],ls[1],datetime.datetime.strptime(ls[2],'%Y-%m-%d %H:%M:%S'),ls[3]] for ls in df.iloc[-1]['level_resistance']]\n",
    "    except:\n",
    "        resistance_ls =[]\n",
    "    end_dt=df.index[-1]\n",
    "    res_plot_ls=[]\n",
    "    sup_plot_ls=[]\n",
    "    for res in resistance_ls[:5]:\n",
    "        res_plot_ls.append(dict(x0=res[2],x1=end_dt,y0=res[0],y1=res[1],yref='y1',opacity=.2,fillcolor='Red',line=dict(color=\"black\",width=1)))\n",
    "    for sup in support_ls[:5]:\n",
    "        sup_plot_ls.append(dict(x0=sup[2],x1=end_dt,y0=sup[0],y1=sup[1],yref='y1',opacity=.2,fillcolor='green',line=dict(color=\"black\",width=1)))\n",
    "    return (res_plot_ls+sup_plot_ls)"
   ]
  },
  {
   "cell_type": "code",
   "execution_count": 251,
   "metadata": {},
   "outputs": [
    {
     "data": {
      "text/plain": [
       "Index(['candle_1_high', 'candle_1_level', 'candle_1_low',\n",
       "       'candle_1_pattern_name', 'candle_2_high', 'candle_2_level',\n",
       "       'candle_2_low', 'candle_2_pattern_name', 'candle_3_high',\n",
       "       'candle_3_level', 'candle_3_low', 'candle_3_pattern_name',\n",
       "       'anomaly_atr', 'anomaly_bear', 'anomaly_body_size',\n",
       "       'anomaly_body_size_dev', 'anomaly_body_size_ema', 'anomaly_bull',\n",
       "       'close', 'anomaly_gap', 'anomaly_gap_dev', 'anomaly_gap_ema',\n",
       "       'anomaly_gap_signal', 'high', 'low', 'open', 'anomaly_vol_anomaly',\n",
       "       'anomaly_vol_anomaly_2', 'anomaly_vol_dev', 'anomaly_vol_ema', 'volume',\n",
       "       'anomaly_wick_bear', 'anomaly_wick_bear_dev', 'anomaly_wick_bear_ema',\n",
       "       'anomaly_wick_bear_signal', 'anomaly_wick_bull',\n",
       "       'anomaly_wick_bull_dev', 'anomaly_wick_bull_ema',\n",
       "       'anomaly_wick_bull_signal', 'level_level',\n",
       "       'level_nearest_resistance_atr_range',\n",
       "       'level_nearest_resistance_duration', 'level_nearest_resistance_range',\n",
       "       'level_nearest_support_atr_range', 'level_nearest_support_duration',\n",
       "       'level_nearest_support_range', 'level_resistance', 'level_support'],\n",
       "      dtype='object')"
      ]
     },
     "execution_count": 251,
     "metadata": {},
     "output_type": "execute_result"
    }
   ],
   "source": [
    "df.columns"
   ]
  },
  {
   "cell_type": "code",
   "execution_count": 252,
   "metadata": {},
   "outputs": [],
   "source": [
    "# candle1_plot_ls=[]\n",
    "# for i,row in df.tail(10).iterrows():\n",
    "#     if(row['candle_1_pattern_name']):\n",
    "# #         print(row['candle_1_pattern_name'])\n",
    "#         print(pd.to_datetime(i), (i+datetime.timedelta(days=1)))\n",
    "#         candle1_plot_ls.append(dict(x0=i,x1=(i+datetime.timedelta(days=2)),y0=row['high'],y1=row['low'],yref='y1',opacity=.2,fillcolor='blue',line=dict(color=\"black\",width=1)))"
   ]
  },
  {
   "cell_type": "code",
   "execution_count": 253,
   "metadata": {},
   "outputs": [],
   "source": [
    "# df=df_all_ind.set_index('date')\n",
    "df=df_all_ind\n",
    "interested_feature='anomaly_vol_anomaly'"
   ]
  },
  {
   "cell_type": "code",
   "execution_count": 254,
   "metadata": {},
   "outputs": [],
   "source": [
    "df_candle_1=df\n",
    "df_candle_1=df_candle_1[df_candle_1['candle_1_pattern_name']!='']\n",
    "df_candle_1=df_candle_1[~df_candle_1['candle_1_pattern_name'].isin(['long', 'short'])]\n",
    "# df_candle_1=df_candle_1[df_candle_1['candle_1_pattern_name'].isin(['HAMMER', 'INV_HAMMER'])]\n",
    "df_candle_1['pattern']='1'\n",
    "\n",
    "df_candle_2=df\n",
    "df_candle_2=df_candle_2[df_candle_2['candle_2_pattern_name']!='']\n",
    "# df_candle_2=df_candle_2[df_candle_2['candle_2_pattern_name'].isin(['BULLISH ENGULFING', 'BEARISH ENGULFING'])]\n",
    "df_candle_2=df_candle_2[df_candle_2['candle_2_pattern_name'].isin(['BEARISH (Dark Cloud Cover)', 'BULLISH (Piercing Pattern)'])]\n",
    "df_candle_2['pattern']='2'\n",
    "\n",
    "df_candle_3=df\n",
    "df_candle_3=df_candle_3[df_candle_3['candle_3_pattern_name']!='']\n",
    "df_candle_3['pattern']='3'"
   ]
  },
  {
   "cell_type": "code",
   "execution_count": 255,
   "metadata": {},
   "outputs": [
    {
     "data": {
      "text/plain": [
       "Index(['candle_1_high', 'candle_1_level', 'candle_1_low',\n",
       "       'candle_1_pattern_name', 'candle_2_high', 'candle_2_level',\n",
       "       'candle_2_low', 'candle_2_pattern_name', 'candle_3_high',\n",
       "       'candle_3_level', 'candle_3_low', 'candle_3_pattern_name',\n",
       "       'anomaly_atr', 'anomaly_bear', 'anomaly_body_size',\n",
       "       'anomaly_body_size_dev', 'anomaly_body_size_ema', 'anomaly_bull',\n",
       "       'close', 'anomaly_gap', 'anomaly_gap_dev', 'anomaly_gap_ema',\n",
       "       'anomaly_gap_signal', 'high', 'low', 'open', 'anomaly_vol_anomaly',\n",
       "       'anomaly_vol_anomaly_2', 'anomaly_vol_dev', 'anomaly_vol_ema', 'volume',\n",
       "       'anomaly_wick_bear', 'anomaly_wick_bear_dev', 'anomaly_wick_bear_ema',\n",
       "       'anomaly_wick_bear_signal', 'anomaly_wick_bull',\n",
       "       'anomaly_wick_bull_dev', 'anomaly_wick_bull_ema',\n",
       "       'anomaly_wick_bull_signal', 'level_level',\n",
       "       'level_nearest_resistance_atr_range',\n",
       "       'level_nearest_resistance_duration', 'level_nearest_resistance_range',\n",
       "       'level_resistance', 'level_nearest_support_atr_range',\n",
       "       'level_nearest_support_duration', 'level_nearest_support_range',\n",
       "       'level_support'],\n",
       "      dtype='object')"
      ]
     },
     "execution_count": 255,
     "metadata": {},
     "output_type": "execute_result"
    }
   ],
   "source": [
    "df.columns"
   ]
  },
  {
   "cell_type": "code",
   "execution_count": 262,
   "metadata": {},
   "outputs": [],
   "source": [
    "# Plotting\n",
    "data = [ dict(\n",
    "    type = 'candlestick',\n",
    "    open = df.open,\n",
    "    high = df.high,\n",
    "    low = df.low,\n",
    "    close = df.close,\n",
    "    x = df.index,\n",
    "    yaxis = 'y1',\n",
    "    name = 'price'\n",
    ")]\n",
    "\n",
    "\n",
    "# data.append( dict( x=df.index, y=df.volume,                         \n",
    "#                          marker=dict( color='blue' ),\n",
    "#                          type='bar', yaxis='y2', name='Volume'))\n",
    "\n",
    "# data.append( dict( x=df.index, y=df[interested_feature],                         \n",
    "#                          marker=dict( color='red' ),\n",
    "#                          type='scatter', yaxis='y3', name=interested_feature))\n",
    "\n",
    "data.append( dict( x=df.index, y=df['anomaly_wick_bear_signal'],                         \n",
    "                         marker=dict( color='blue' ),\n",
    "                         type='scatter', yaxis='y2', name='anomaly_wick_bear_signal'))\n",
    "\n",
    "data.append( dict( x=df.index, y=df['anomaly_wick_bull_signal'],                         \n",
    "                         marker=dict( color='red' ),\n",
    "                         type='scatter', yaxis='y3', name='anomaly_wick_bull_signal'))\n",
    "\n",
    "# data.append( dict( x=df_candle_.index, y=df_candle_1['high'],\n",
    "#                          text=df_candle_1['candle_1_pattern_name'],\n",
    "#                          mode=\"markers\",\n",
    "# #                          mode=\"markers+text\",textfont_size=15,textposition=\"top center\",\n",
    "#                          marker=dict( color='blue' ),\n",
    "#                          type='scatter', yaxis='y1', name='candle_patter_1'))\n",
    "\n",
    "data.append( dict( x=df_candle_2.index, y=df_candle_2['high'],\n",
    "                         text=df_candle_2['candle_2_pattern_name'],\n",
    "                         mode=\"markers\",\n",
    "                         marker=dict( color='blue' ),\n",
    "                         type='scatter', yaxis='y1', name='candle_patter_2'))\n",
    "\n",
    "# data.append( dict( x=df_candle_2.index, y=df_candle_2['high'],\n",
    "#                          text=df_candle_2['candle_2_pattern_name'],\n",
    "# #                          mode=\"markers+text\",textfont_size=15,textposition=\"top center\",\n",
    "#                          marker=dict( color='red' ),\n",
    "#                          type='scatter', yaxis='y1', name='candle_patter_2'))\n",
    "\n",
    "\n",
    "# data.append( dict( x=df_candle_2.index, y=df_candle_2['high'],\n",
    "#                          text=df_candle_2['candle_2_pattern_name'],\n",
    "#                          mode=\"markers+text\",textfont_size=15,textposition=\"top center\",\n",
    "#                          marker=dict( color='red' ),\n",
    "#                          type='scatter', yaxis='y1', name='candle_patter_2'))\n",
    "\n",
    "\n",
    "# data.append( dict( x=df_candle_3.index, y=df_candle_3['high'],\n",
    "#                          text=df_candle_3['pattern'],\n",
    "#                          mode=\"markers+text\",textfont_size=15,textposition=\"top center\",\n",
    "#                          marker=dict( color='red' ),\n",
    "#                          type='scatter', yaxis='y1', name='candle_patter_3'))\n",
    "\n",
    "\n",
    "\n",
    "layout=dict()    \n",
    "layout['xaxis'] = dict( rangeslider = dict( visible = False ),autorange=True,fixedrange=False,visible=False,type='category')#type='category',\n",
    "layout['yaxis'] = dict( domain = [0.2, 1],autorange = True,fixedrange=False)\n",
    "layout['yaxis2'] = dict( domain = [0.0, 0.1],autorange = True,fixedrange=False)\n",
    "layout['yaxis3'] = dict( domain = [0.1, 0.2],autorange = True,fixedrange=False)\n",
    "# layout['hovermode']  = 'x'\n",
    "layout['xaxis']['showspikes']=True\n",
    "layout['xaxis']['spikemode']  = 'across'\n",
    "layout['xaxis']['spikesnap'] = 'cursor'\n",
    "# layout['shapes'] = [dict(x0=start_dt, x1=end_dt, y0=3057.9, y1=3060.85, yref='y1',opacity=.2,line=dict(color=\"Red\",width=1))]#fillcolor='green',line_width=2\n",
    "layout['shapes'] = level_plot(df)\n",
    "# layout['shapes'] = candle1_plot_ls\n",
    "\n",
    "# df.to_csv(\"stock_price_indicator.csv\",index=True)\n",
    "\n",
    "fig = dict( data=data, layout=layout )"
   ]
  },
  {
   "cell_type": "code",
   "execution_count": 263,
   "metadata": {},
   "outputs": [],
   "source": [
    "# for i in range(4):\n",
    "#     figure.add_annotation(x=i,\n",
    "#             y=5,\n",
    "#             xref=\"x\",\n",
    "#             yref=\"y\",\n",
    "#             text=\"max=\"+str(i),\n",
    "#             showarrow=True\n",
    "#                      )"
   ]
  },
  {
   "cell_type": "code",
   "execution_count": 264,
   "metadata": {},
   "outputs": [
    {
     "data": {
      "application/vnd.jupyter.widget-view+json": {
       "model_id": "553846131f024ea6afd78516834c842b",
       "version_major": 2,
       "version_minor": 0
      },
      "text/plain": [
       "FigureWidget({\n",
       "    'data': [{'close': array([5.32  , 5.28  , 5.31  , ..., 5.64  , 5.71  , 5.7056]),\n",
       "          …"
      ]
     },
     "metadata": {},
     "output_type": "display_data"
    }
   ],
   "source": [
    "figure=go.FigureWidget(data=data, layout=layout)\n",
    "def zoom(layout, x_range):\n",
    "    print(x_range)\n",
    "    in_view = df.iloc[int(figure.layout.xaxis.range[0]):int(figure.layout.xaxis.range[1])]\n",
    "    figure.layout.yaxis2.range = [in_view.volume.min(), in_view.volume.max()]\n",
    "    figure.layout.yaxis3.range = [in_view[interested_feature].min(), in_view[interested_feature].max()]\n",
    "figure.layout.on_change(zoom, 'xaxis.range')\n",
    "figure.update_layout(margin=dict(l=20, r=10),paper_bgcolor=\"LightSteelBlue\",width=2200, height=1000)"
   ]
  },
  {
   "cell_type": "code",
   "execution_count": 205,
   "metadata": {},
   "outputs": [
    {
     "data": {
      "application/vnd.jupyter.widget-view+json": {
       "model_id": "4274fa54da0b4c45bcdbc9307712d169",
       "version_major": 2,
       "version_minor": 0
      },
      "text/plain": [
       "FigureWidget({\n",
       "    'data': [{'close': array([ 43.75  ,  44.2725,  44.615 ,  42.8775,  40.125 ,  39.1025,  43.1…"
      ]
     },
     "metadata": {},
     "output_type": "display_data"
    }
   ],
   "source": [
    "figure=go.FigureWidget(data=data, layout=layout)\n",
    "def zoom(layout, x_range):\n",
    "    print(x_range)\n",
    "    in_view = df.iloc[int(figure.layout.xaxis.range[0]):int(figure.layout.xaxis.range[1])]\n",
    "    figure.layout.yaxis2.range = [in_view.volume.min(), in_view.volume.max()]\n",
    "    figure.layout.yaxis3.range = [in_view[interested_feature].min(), in_view[interested_feature].max()]\n",
    "figure.layout.on_change(zoom, 'xaxis.range')\n",
    "figure.update_layout(margin=dict(l=20, r=10),paper_bgcolor=\"LightSteelBlue\",width=1200, height=800)"
   ]
  },
  {
   "cell_type": "code",
   "execution_count": null,
   "metadata": {},
   "outputs": [],
   "source": []
  },
  {
   "cell_type": "code",
   "execution_count": null,
   "metadata": {},
   "outputs": [],
   "source": []
  }
 ],
 "metadata": {
  "kernelspec": {
   "display_name": "Python 3",
   "language": "python",
   "name": "python3"
  },
  "language_info": {
   "codemirror_mode": {
    "name": "ipython",
    "version": 3
   },
   "file_extension": ".py",
   "mimetype": "text/x-python",
   "name": "python",
   "nbconvert_exporter": "python",
   "pygments_lexer": "ipython3",
   "version": "3.8.5"
  }
 },
 "nbformat": 4,
 "nbformat_minor": 4
}
