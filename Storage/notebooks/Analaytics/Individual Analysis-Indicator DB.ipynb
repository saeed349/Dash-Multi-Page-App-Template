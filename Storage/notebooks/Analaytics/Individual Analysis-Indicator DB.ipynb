{
 "cells": [
  {
   "cell_type": "code",
   "execution_count": 1,
   "metadata": {},
   "outputs": [],
   "source": [
    "import psycopg2\n",
    "import pandas as pd\n",
    "from plotly.offline import init_notebook_mode, iplot\n",
    "from plotly.offline import plot \n",
    "import plotly.graph_objects as go\n",
    "import warnings\n",
    "import datetime\n",
    "warnings.filterwarnings('ignore')\n",
    "\n",
    "# import q_credentials.db_secmaster_cloud_cred as db_secmaster_cred\n",
    "import q_credentials.db_secmaster_cred as db_secmaster_cred\n",
    "import q_credentials.db_indicator_cred as db_indicator_cred\n"
   ]
  },
  {
   "cell_type": "code",
   "execution_count": 2,
   "metadata": {},
   "outputs": [],
   "source": [
    "# connect to our securities_master database\n",
    "conn_secmaster = psycopg2.connect(host=db_secmaster_cred.dbHost , database=db_secmaster_cred.dbName, user=db_secmaster_cred.dbUser, password=db_secmaster_cred.dbPWD)"
   ]
  },
  {
   "cell_type": "code",
   "execution_count": 3,
   "metadata": {},
   "outputs": [],
   "source": [
    "conn_indicator = psycopg2.connect(host=db_indicator_cred.dbHost , database=db_indicator_cred.dbName, user=db_indicator_cred.dbUser, password=db_indicator_cred.dbPWD)"
   ]
  },
  {
   "cell_type": "code",
   "execution_count": 4,
   "metadata": {},
   "outputs": [
    {
     "data": {
      "text/plain": [
       "['candle_1', 'candle_2', 'candle_3', 'anomaly', 'level']"
      ]
     },
     "execution_count": 4,
     "metadata": {},
     "output_type": "execute_result"
    }
   ],
   "source": [
    "sql=\"select * from indicator\"\n",
    "ind_list=list(pd.read_sql(sql,con=conn_indicator)['name'])\n",
    "ind_list"
   ]
  },
  {
   "cell_type": "code",
   "execution_count": 5,
   "metadata": {},
   "outputs": [],
   "source": [
    "symbol_id='AAPL'#'BOM500114'\n",
    "start_date=datetime.datetime(2018,1,1).strftime(\"%Y-%m-%d\")\n",
    "indicator_name = 'candle_1'"
   ]
  },
  {
   "cell_type": "code",
   "execution_count": 6,
   "metadata": {},
   "outputs": [
    {
     "name": "stdout",
     "output_type": "stream",
     "text": [
      "candle_1\n",
      "candle_2\n",
      "candle_3\n",
      "anomaly\n",
      "level\n"
     ]
    }
   ],
   "source": [
    "df_all_ind=pd.DataFrame()\n",
    "for ind in ind_list:\n",
    "    print(ind)\n",
    "    sql=\"select d.date_price as date, d.value from w_data d join symbol s on d.symbol_id = s.id join indicator i on i.id=d.indicator_id where s.ticker='%s' and i.name = '%s' and d.date_price > '%s'\" %(symbol_id, ind, start_date)\n",
    "    df_indicator=pd.read_sql(sql,con=conn_indicator)\n",
    "    df_indicator.set_index('date',inplace=True)\n",
    "    df_indicator=pd.concat([df_indicator.drop(['value'], axis=1), df_indicator['value'].apply(pd.Series)], axis=1)\n",
    "    df_indicator.columns=[ind+\"_\"+col for col in df_indicator.columns]\n",
    "    if df_all_ind.empty:\n",
    "#         df_all_ind=pd.merge(left=df_price, right=df_indicator,on='date')\n",
    "        df_all_ind=df_indicator\n",
    "    else:\n",
    "        df_all_ind=pd.merge(left=df_all_ind, right=df_indicator,on='date')"
   ]
  },
  {
   "cell_type": "code",
   "execution_count": 7,
   "metadata": {},
   "outputs": [
    {
     "data": {
      "text/html": [
       "<div>\n",
       "<style scoped>\n",
       "    .dataframe tbody tr th:only-of-type {\n",
       "        vertical-align: middle;\n",
       "    }\n",
       "\n",
       "    .dataframe tbody tr th {\n",
       "        vertical-align: top;\n",
       "    }\n",
       "\n",
       "    .dataframe thead th {\n",
       "        text-align: right;\n",
       "    }\n",
       "</style>\n",
       "<table border=\"1\" class=\"dataframe\">\n",
       "  <thead>\n",
       "    <tr style=\"text-align: right;\">\n",
       "      <th></th>\n",
       "      <th>candle_1_high</th>\n",
       "      <th>candle_1_level</th>\n",
       "      <th>candle_1_low</th>\n",
       "      <th>candle_1_pattern_name</th>\n",
       "      <th>candle_2_high</th>\n",
       "      <th>candle_2_level</th>\n",
       "      <th>candle_2_low</th>\n",
       "      <th>candle_2_pattern_name</th>\n",
       "      <th>candle_3_high</th>\n",
       "      <th>candle_3_level</th>\n",
       "      <th>...</th>\n",
       "      <th>anomaly_wick_bull_signal</th>\n",
       "      <th>level_level</th>\n",
       "      <th>level_nearest_resistance_atr_range</th>\n",
       "      <th>level_nearest_resistance_duration</th>\n",
       "      <th>level_nearest_resistance_range</th>\n",
       "      <th>level_nearest_support_atr_range</th>\n",
       "      <th>level_nearest_support_duration</th>\n",
       "      <th>level_nearest_support_range</th>\n",
       "      <th>level_resistance</th>\n",
       "      <th>level_support</th>\n",
       "    </tr>\n",
       "    <tr>\n",
       "      <th>date</th>\n",
       "      <th></th>\n",
       "      <th></th>\n",
       "      <th></th>\n",
       "      <th></th>\n",
       "      <th></th>\n",
       "      <th></th>\n",
       "      <th></th>\n",
       "      <th></th>\n",
       "      <th></th>\n",
       "      <th></th>\n",
       "      <th></th>\n",
       "      <th></th>\n",
       "      <th></th>\n",
       "      <th></th>\n",
       "      <th></th>\n",
       "      <th></th>\n",
       "      <th></th>\n",
       "      <th></th>\n",
       "      <th></th>\n",
       "      <th></th>\n",
       "      <th></th>\n",
       "    </tr>\n",
       "  </thead>\n",
       "  <tbody>\n",
       "    <tr>\n",
       "      <th>2018-01-05</th>\n",
       "      <td>43.8425</td>\n",
       "      <td>0.0</td>\n",
       "      <td>42.3150</td>\n",
       "      <td></td>\n",
       "      <td>43.8425</td>\n",
       "      <td>0.0</td>\n",
       "      <td>42.3050</td>\n",
       "      <td></td>\n",
       "      <td>44.3000</td>\n",
       "      <td>0.0</td>\n",
       "      <td>...</td>\n",
       "      <td>0.000000</td>\n",
       "      <td>1.0</td>\n",
       "      <td>0.158406</td>\n",
       "      <td>56.0</td>\n",
       "      <td>[44.3, 43.6675]</td>\n",
       "      <td>1.200327</td>\n",
       "      <td>28</td>\n",
       "      <td>[41.615, 42.3425]</td>\n",
       "      <td>[[44.3, 43.6675, 2017-11-10 00:00:00, True]]</td>\n",
       "      <td>[[41.615, 42.3425, 2017-12-08 00:00:00, True],...</td>\n",
       "    </tr>\n",
       "    <tr>\n",
       "      <th>2018-01-12</th>\n",
       "      <td>44.3400</td>\n",
       "      <td>0.0</td>\n",
       "      <td>43.2500</td>\n",
       "      <td></td>\n",
       "      <td>44.3400</td>\n",
       "      <td>0.0</td>\n",
       "      <td>42.3150</td>\n",
       "      <td></td>\n",
       "      <td>44.3400</td>\n",
       "      <td>0.0</td>\n",
       "      <td>...</td>\n",
       "      <td>0.000000</td>\n",
       "      <td>1.0</td>\n",
       "      <td>0.206469</td>\n",
       "      <td>63.0</td>\n",
       "      <td>[44.3, 43.6675]</td>\n",
       "      <td>1.640136</td>\n",
       "      <td>35</td>\n",
       "      <td>[41.615, 42.3425]</td>\n",
       "      <td>[[44.3, 43.6675, 2017-11-10 00:00:00, True]]</td>\n",
       "      <td>[[41.615, 42.3425, 2017-12-08 00:00:00, True],...</td>\n",
       "    </tr>\n",
       "    <tr>\n",
       "      <th>2018-04-06</th>\n",
       "      <td>43.5576</td>\n",
       "      <td>5.0</td>\n",
       "      <td>41.1175</td>\n",
       "      <td>DOJI_SPINOFF</td>\n",
       "      <td>43.7875</td>\n",
       "      <td>0.0</td>\n",
       "      <td>41.1175</td>\n",
       "      <td></td>\n",
       "      <td>44.3675</td>\n",
       "      <td>0.0</td>\n",
       "      <td>...</td>\n",
       "      <td>0.836814</td>\n",
       "      <td>0.0</td>\n",
       "      <td>1.169751</td>\n",
       "      <td>77.0</td>\n",
       "      <td>[45.025, 44.615]</td>\n",
       "      <td>1.615651</td>\n",
       "      <td>56</td>\n",
       "      <td>[37.56, 39.1025]</td>\n",
       "      <td>[[45.025, 44.615, 2018-01-19 00:00:00, True], ...</td>\n",
       "      <td>[[37.56, 39.1025, 2018-02-09 00:00:00, True], ...</td>\n",
       "    </tr>\n",
       "    <tr>\n",
       "      <th>2018-01-19</th>\n",
       "      <td>45.0250</td>\n",
       "      <td>5.0</td>\n",
       "      <td>43.7675</td>\n",
       "      <td>DOJI_SPINOFF</td>\n",
       "      <td>45.0250</td>\n",
       "      <td>0.0</td>\n",
       "      <td>43.2500</td>\n",
       "      <td></td>\n",
       "      <td>45.0250</td>\n",
       "      <td>0.0</td>\n",
       "      <td>...</td>\n",
       "      <td>0.758168</td>\n",
       "      <td>0.0</td>\n",
       "      <td>NaN</td>\n",
       "      <td>NaN</td>\n",
       "      <td>NaN</td>\n",
       "      <td>0.460662</td>\n",
       "      <td>70</td>\n",
       "      <td>[43.6675, 44.3]</td>\n",
       "      <td>NaN</td>\n",
       "      <td>[[43.6675, 44.3, 2017-11-10 00:00:00, False], ...</td>\n",
       "    </tr>\n",
       "    <tr>\n",
       "      <th>2018-01-26</th>\n",
       "      <td>44.8600</td>\n",
       "      <td>0.0</td>\n",
       "      <td>42.5150</td>\n",
       "      <td></td>\n",
       "      <td>45.0250</td>\n",
       "      <td>0.0</td>\n",
       "      <td>42.5150</td>\n",
       "      <td></td>\n",
       "      <td>45.0250</td>\n",
       "      <td>0.0</td>\n",
       "      <td>...</td>\n",
       "      <td>0.857184</td>\n",
       "      <td>0.0</td>\n",
       "      <td>NaN</td>\n",
       "      <td>NaN</td>\n",
       "      <td>NaN</td>\n",
       "      <td>0.574190</td>\n",
       "      <td>49</td>\n",
       "      <td>[41.615, 42.3425]</td>\n",
       "      <td>NaN</td>\n",
       "      <td>[[41.615, 42.3425, 2017-12-08 00:00:00, True],...</td>\n",
       "    </tr>\n",
       "  </tbody>\n",
       "</table>\n",
       "<p>5 rows × 48 columns</p>\n",
       "</div>"
      ],
      "text/plain": [
       "            candle_1_high  candle_1_level  candle_1_low candle_1_pattern_name  \\\n",
       "date                                                                            \n",
       "2018-01-05        43.8425             0.0       42.3150                         \n",
       "2018-01-12        44.3400             0.0       43.2500                         \n",
       "2018-04-06        43.5576             5.0       41.1175          DOJI_SPINOFF   \n",
       "2018-01-19        45.0250             5.0       43.7675          DOJI_SPINOFF   \n",
       "2018-01-26        44.8600             0.0       42.5150                         \n",
       "\n",
       "            candle_2_high  candle_2_level  candle_2_low candle_2_pattern_name  \\\n",
       "date                                                                            \n",
       "2018-01-05        43.8425             0.0       42.3050                         \n",
       "2018-01-12        44.3400             0.0       42.3150                         \n",
       "2018-04-06        43.7875             0.0       41.1175                         \n",
       "2018-01-19        45.0250             0.0       43.2500                         \n",
       "2018-01-26        45.0250             0.0       42.5150                         \n",
       "\n",
       "            candle_3_high  candle_3_level  ...  anomaly_wick_bull_signal  \\\n",
       "date                                       ...                             \n",
       "2018-01-05        44.3000             0.0  ...                  0.000000   \n",
       "2018-01-12        44.3400             0.0  ...                  0.000000   \n",
       "2018-04-06        44.3675             0.0  ...                  0.836814   \n",
       "2018-01-19        45.0250             0.0  ...                  0.758168   \n",
       "2018-01-26        45.0250             0.0  ...                  0.857184   \n",
       "\n",
       "           level_level  level_nearest_resistance_atr_range  \\\n",
       "date                                                         \n",
       "2018-01-05         1.0                            0.158406   \n",
       "2018-01-12         1.0                            0.206469   \n",
       "2018-04-06         0.0                            1.169751   \n",
       "2018-01-19         0.0                                 NaN   \n",
       "2018-01-26         0.0                                 NaN   \n",
       "\n",
       "            level_nearest_resistance_duration  level_nearest_resistance_range  \\\n",
       "date                                                                            \n",
       "2018-01-05                               56.0                 [44.3, 43.6675]   \n",
       "2018-01-12                               63.0                 [44.3, 43.6675]   \n",
       "2018-04-06                               77.0                [45.025, 44.615]   \n",
       "2018-01-19                                NaN                             NaN   \n",
       "2018-01-26                                NaN                             NaN   \n",
       "\n",
       "            level_nearest_support_atr_range  level_nearest_support_duration  \\\n",
       "date                                                                          \n",
       "2018-01-05                         1.200327                              28   \n",
       "2018-01-12                         1.640136                              35   \n",
       "2018-04-06                         1.615651                              56   \n",
       "2018-01-19                         0.460662                              70   \n",
       "2018-01-26                         0.574190                              49   \n",
       "\n",
       "            level_nearest_support_range  \\\n",
       "date                                      \n",
       "2018-01-05            [41.615, 42.3425]   \n",
       "2018-01-12            [41.615, 42.3425]   \n",
       "2018-04-06             [37.56, 39.1025]   \n",
       "2018-01-19              [43.6675, 44.3]   \n",
       "2018-01-26            [41.615, 42.3425]   \n",
       "\n",
       "                                             level_resistance  \\\n",
       "date                                                            \n",
       "2018-01-05       [[44.3, 43.6675, 2017-11-10 00:00:00, True]]   \n",
       "2018-01-12       [[44.3, 43.6675, 2017-11-10 00:00:00, True]]   \n",
       "2018-04-06  [[45.025, 44.615, 2018-01-19 00:00:00, True], ...   \n",
       "2018-01-19                                                NaN   \n",
       "2018-01-26                                                NaN   \n",
       "\n",
       "                                                level_support  \n",
       "date                                                           \n",
       "2018-01-05  [[41.615, 42.3425, 2017-12-08 00:00:00, True],...  \n",
       "2018-01-12  [[41.615, 42.3425, 2017-12-08 00:00:00, True],...  \n",
       "2018-04-06  [[37.56, 39.1025, 2018-02-09 00:00:00, True], ...  \n",
       "2018-01-19  [[43.6675, 44.3, 2017-11-10 00:00:00, False], ...  \n",
       "2018-01-26  [[41.615, 42.3425, 2017-12-08 00:00:00, True],...  \n",
       "\n",
       "[5 rows x 48 columns]"
      ]
     },
     "execution_count": 7,
     "metadata": {},
     "output_type": "execute_result"
    }
   ],
   "source": [
    "df_all_ind.head()"
   ]
  },
  {
   "cell_type": "code",
   "execution_count": 8,
   "metadata": {},
   "outputs": [],
   "source": [
    "df_all_ind.rename(columns={'anomaly_close':'close','anomaly_low':'low','anomaly_high':'high','anomaly_open':'open','anomaly_volume':'volume'},inplace=True)"
   ]
  },
  {
   "cell_type": "code",
   "execution_count": 9,
   "metadata": {},
   "outputs": [],
   "source": [
    "pd.options.display.max_columns = None"
   ]
  },
  {
   "cell_type": "code",
   "execution_count": 10,
   "metadata": {},
   "outputs": [
    {
     "ename": "NameError",
     "evalue": "name 'df' is not defined",
     "output_type": "error",
     "traceback": [
      "\u001b[0;31m---------------------------------------------------------------------------\u001b[0m",
      "\u001b[0;31mNameError\u001b[0m                                 Traceback (most recent call last)",
      "\u001b[0;32m<ipython-input-10-440d8d3e6722>\u001b[0m in \u001b[0;36m<module>\u001b[0;34m\u001b[0m\n\u001b[0;32m----> 1\u001b[0;31m \u001b[0mdf\u001b[0m\u001b[0;34m.\u001b[0m\u001b[0miloc\u001b[0m\u001b[0;34m[\u001b[0m\u001b[0;34m-\u001b[0m\u001b[0;36m1\u001b[0m\u001b[0;34m]\u001b[0m\u001b[0;34m\u001b[0m\u001b[0;34m\u001b[0m\u001b[0m\n\u001b[0m",
      "\u001b[0;31mNameError\u001b[0m: name 'df' is not defined"
     ]
    }
   ],
   "source": [
    "df.iloc[-1]"
   ]
  },
  {
   "cell_type": "code",
   "execution_count": 85,
   "metadata": {},
   "outputs": [
    {
     "ename": "TypeError",
     "evalue": "'float' object is not iterable",
     "output_type": "error",
     "traceback": [
      "\u001b[0;31m---------------------------------------------------------------------------\u001b[0m",
      "\u001b[0;31mTypeError\u001b[0m                                 Traceback (most recent call last)",
      "\u001b[0;32m<ipython-input-85-94b5fb8891d3>\u001b[0m in \u001b[0;36m<module>\u001b[0;34m\u001b[0m\n\u001b[0;32m----> 1\u001b[0;31m \u001b[0;34m[\u001b[0m\u001b[0;34m[\u001b[0m\u001b[0mls\u001b[0m\u001b[0;34m[\u001b[0m\u001b[0;36m0\u001b[0m\u001b[0;34m]\u001b[0m\u001b[0;34m,\u001b[0m\u001b[0mls\u001b[0m\u001b[0;34m[\u001b[0m\u001b[0;36m1\u001b[0m\u001b[0;34m]\u001b[0m\u001b[0;34m,\u001b[0m\u001b[0mdatetime\u001b[0m\u001b[0;34m.\u001b[0m\u001b[0mdatetime\u001b[0m\u001b[0;34m.\u001b[0m\u001b[0mstrptime\u001b[0m\u001b[0;34m(\u001b[0m\u001b[0mls\u001b[0m\u001b[0;34m[\u001b[0m\u001b[0;36m2\u001b[0m\u001b[0;34m]\u001b[0m\u001b[0;34m,\u001b[0m\u001b[0;34m'%Y-%m-%d %H:%M:%S'\u001b[0m\u001b[0;34m)\u001b[0m\u001b[0;34m,\u001b[0m\u001b[0mls\u001b[0m\u001b[0;34m[\u001b[0m\u001b[0;36m3\u001b[0m\u001b[0;34m]\u001b[0m\u001b[0;34m]\u001b[0m \u001b[0;32mfor\u001b[0m \u001b[0mls\u001b[0m \u001b[0;32min\u001b[0m \u001b[0mdf\u001b[0m\u001b[0;34m.\u001b[0m\u001b[0miloc\u001b[0m\u001b[0;34m[\u001b[0m\u001b[0;34m-\u001b[0m\u001b[0;36m1\u001b[0m\u001b[0;34m]\u001b[0m\u001b[0;34m[\u001b[0m\u001b[0;34m'level_support'\u001b[0m\u001b[0;34m]\u001b[0m\u001b[0;34m]\u001b[0m\u001b[0;34m\u001b[0m\u001b[0;34m\u001b[0m\u001b[0m\n\u001b[0m",
      "\u001b[0;31mTypeError\u001b[0m: 'float' object is not iterable"
     ]
    }
   ],
   "source": [
    "[[ls[0],ls[1],datetime.datetime.strptime(ls[2],'%Y-%m-%d %H:%M:%S'),ls[3]] for ls in df.iloc[-1]['level_support']]"
   ]
  },
  {
   "cell_type": "code",
   "execution_count": 11,
   "metadata": {},
   "outputs": [],
   "source": [
    "def level_plot(df):\n",
    "    try:\n",
    "        support_ls = [[ls[0],ls[1],datetime.datetime.strptime(ls[2],'%Y-%m-%d %H:%M:%S'),ls[3]] for ls in df.iloc[-1]['level_support']]\n",
    "    except:\n",
    "        support_ls =[]\n",
    "    try:\n",
    "        resistance_ls = [[ls[0],ls[1],datetime.datetime.strptime(ls[2],'%Y-%m-%d %H:%M:%S'),ls[3]] for ls in df.iloc[-1]['level_resistance']]\n",
    "    except:\n",
    "        resistance_ls =[]\n",
    "    end_dt=df.index[-1]\n",
    "    res_plot_ls=[]\n",
    "    sup_plot_ls=[]\n",
    "    for res in resistance_ls[:5]:\n",
    "        res_plot_ls.append(dict(x0=res[2],x1=end_dt,y0=res[0],y1=res[1],yref='y1',opacity=.2,fillcolor='Red',line=dict(color=\"black\",width=1)))\n",
    "    for sup in support_ls[:5]:\n",
    "        sup_plot_ls.append(dict(x0=sup[2],x1=end_dt,y0=sup[0],y1=sup[1],yref='y1',opacity=.2,fillcolor='green',line=dict(color=\"black\",width=1)))\n",
    "    return (res_plot_ls+sup_plot_ls)"
   ]
  },
  {
   "cell_type": "code",
   "execution_count": 12,
   "metadata": {},
   "outputs": [],
   "source": [
    "# df.columns"
   ]
  },
  {
   "cell_type": "code",
   "execution_count": 13,
   "metadata": {},
   "outputs": [],
   "source": [
    "# candle1_plot_ls=[]\n",
    "# for i,row in df.tail(10).iterrows():\n",
    "#     if(row['candle_1_pattern_name']):\n",
    "# #         print(row['candle_1_pattern_name'])\n",
    "#         print(pd.to_datetime(i), (i+datetime.timedelta(days=1)))\n",
    "#         candle1_plot_ls.append(dict(x0=i,x1=(i+datetime.timedelta(days=2)),y0=row['high'],y1=row['low'],yref='y1',opacity=.2,fillcolor='blue',line=dict(color=\"black\",width=1)))"
   ]
  },
  {
   "cell_type": "code",
   "execution_count": 14,
   "metadata": {},
   "outputs": [],
   "source": [
    "# df=df_all_ind.set_index('date')\n",
    "df=df_all_ind\n",
    "interested_feature='anomaly_vol_anomaly'"
   ]
  },
  {
   "cell_type": "code",
   "execution_count": 15,
   "metadata": {},
   "outputs": [],
   "source": [
    "df_candle_1=df[-10:]\n",
    "df_candle_1=df_candle_1[df_candle_1['candle_1_pattern_name']!='']\n",
    "df_candle_1['pattern']='1'\n",
    "\n",
    "df_candle_2=df[-10:]\n",
    "df_candle_2=df_candle_2[df_candle_2['candle_2_pattern_name']!='']\n",
    "df_candle_2['pattern']='2'\n",
    "\n",
    "df_candle_3=df[-10:]\n",
    "df_candle_3=df_candle_3[df_candle_3['candle_3_pattern_name']!='']\n",
    "df_candle_3['pattern']='3'"
   ]
  },
  {
   "cell_type": "code",
   "execution_count": 16,
   "metadata": {},
   "outputs": [],
   "source": [
    "# Plotting\n",
    "data = [ dict(\n",
    "    type = 'candlestick',\n",
    "    open = df.open,\n",
    "    high = df.high,\n",
    "    low = df.low,\n",
    "    close = df.close,\n",
    "    x = df.index,\n",
    "    yaxis = 'y1',\n",
    "    name = 'price'\n",
    ")]\n",
    "\n",
    "\n",
    "data.append( dict( x=df.index, y=df.volume,                         \n",
    "                         marker=dict( color='blue' ),\n",
    "                         type='bar', yaxis='y2', name='Volume'))\n",
    "\n",
    "data.append( dict( x=df.index, y=df[interested_feature],                         \n",
    "                         marker=dict( color='red' ),\n",
    "                         type='scatter', yaxis='y3', name=interested_feature))\n",
    "\n",
    "data.append( dict( x=df_candle_1.index, y=df_candle_1['high'],\n",
    "                         text=df_candle_1['pattern'],\n",
    "                         mode=\"markers+text\",textfont_size=15,textposition=\"top center\",\n",
    "                         marker=dict( color='blue' ),\n",
    "                         type='scatter', yaxis='y1', name='candle_patter_1'))\n",
    "\n",
    "data.append( dict( x=df_candle_2.index, y=df_candle_2['high'],\n",
    "                         text=df_candle_2['pattern'],\n",
    "                         mode=\"markers+text\",textfont_size=15,textposition=\"top center\",\n",
    "                         marker=dict( color='red' ),\n",
    "                         type='scatter', yaxis='y1', name='candle_patter_2'))\n",
    "\n",
    "\n",
    "data.append( dict( x=df_candle_3.index, y=df_candle_3['high'],\n",
    "                         text=df_candle_3['pattern'],\n",
    "                         mode=\"markers+text\",textfont_size=15,textposition=\"top center\",\n",
    "                         marker=dict( color='red' ),\n",
    "                         type='scatter', yaxis='y1', name='candle_patter_3'))\n",
    "\n",
    "\n",
    "layout=dict()    \n",
    "layout['xaxis'] = dict( rangeslider = dict( visible = False ),autorange=True,fixedrange=False,visible=False,type='category')#type='category',\n",
    "layout['yaxis'] = dict( domain = [0.2, 1],autorange = True,fixedrange=False)\n",
    "layout['yaxis2'] = dict( domain = [0.0, 0.1],autorange = True,fixedrange=False)\n",
    "layout['yaxis3'] = dict( domain = [0.1, 0.2],autorange = True,fixedrange=False)\n",
    "# layout['shapes'] = [dict(x0=start_dt, x1=end_dt, y0=3057.9, y1=3060.85, yref='y1',opacity=.2,line=dict(color=\"Red\",width=1))]#fillcolor='green',line_width=2\n",
    "layout['shapes'] = level_plot(df)\n",
    "# layout['shapes'] = candle1_plot_ls\n",
    "\n",
    "# df.to_csv(\"stock_price_indicator.csv\",index=True)\n",
    "\n",
    "fig = dict( data=data, layout=layout )"
   ]
  },
  {
   "cell_type": "code",
   "execution_count": 17,
   "metadata": {},
   "outputs": [],
   "source": [
    "figure=go.FigureWidget(data=data, layout=layout)"
   ]
  },
  {
   "cell_type": "code",
   "execution_count": 18,
   "metadata": {},
   "outputs": [],
   "source": [
    "def zoom(layout, x_range):\n",
    "    print(x_range)\n",
    "    in_view = df.iloc[int(figure.layout.xaxis.range[0]):int(figure.layout.xaxis.range[1])]\n",
    "    figure.layout.yaxis2.range = [in_view.volume.min(), in_view.volume.max()]\n",
    "    figure.layout.yaxis3.range = [in_view[interested_feature].min(), in_view[interested_feature].max()]"
   ]
  },
  {
   "cell_type": "code",
   "execution_count": 19,
   "metadata": {},
   "outputs": [],
   "source": [
    "figure.layout.on_change(zoom, 'xaxis.range')"
   ]
  },
  {
   "cell_type": "code",
   "execution_count": 20,
   "metadata": {},
   "outputs": [
    {
     "data": {
      "application/vnd.jupyter.widget-view+json": {
       "model_id": "5a0fb762ce404920835360fd8ba856db",
       "version_major": 2,
       "version_minor": 0
      },
      "text/plain": [
       "FigureWidget({\n",
       "    'data': [{'close': array([ 43.75  ,  44.2725,  42.095 ,  44.615 ,  42.8775,  40.125 ,  43.6…"
      ]
     },
     "metadata": {},
     "output_type": "display_data"
    }
   ],
   "source": [
    "figure.update_layout(margin=dict(l=20, r=10),paper_bgcolor=\"LightSteelBlue\",width=2200, height=1000)"
   ]
  },
  {
   "cell_type": "code",
   "execution_count": null,
   "metadata": {},
   "outputs": [],
   "source": []
  },
  {
   "cell_type": "code",
   "execution_count": null,
   "metadata": {},
   "outputs": [],
   "source": []
  }
 ],
 "metadata": {
  "kernelspec": {
   "display_name": "Python 3",
   "language": "python",
   "name": "python3"
  },
  "language_info": {
   "codemirror_mode": {
    "name": "ipython",
    "version": 3
   },
   "file_extension": ".py",
   "mimetype": "text/x-python",
   "name": "python",
   "nbconvert_exporter": "python",
   "pygments_lexer": "ipython3",
   "version": "3.8.5"
  }
 },
 "nbformat": 4,
 "nbformat_minor": 4
}
