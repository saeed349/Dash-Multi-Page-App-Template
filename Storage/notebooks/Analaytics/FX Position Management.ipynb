{
 "cells": [
  {
   "cell_type": "code",
   "execution_count": 28,
   "metadata": {},
   "outputs": [],
   "source": [
    "import boto3\n",
    "import pandas as pd\n",
    "import io\n",
    "import datetime\n",
    "import psycopg2\n",
    "from io import StringIO, BytesIO \n",
    "from twilio.rest import Client\n",
    "\n",
    "import q_credentials.db_secmaster_cred as db_secmaster_cred\n",
    "import q_credentials.db_indicator_cred as db_indicator_cred\n",
    "conn_indicator = psycopg2.connect(host=db_indicator_cred.dbHost , database=db_indicator_cred.dbName, user=db_indicator_cred.dbUser, password=db_indicator_cred.dbPWD)\n",
    "conn_secmaster = psycopg2.connect(host=db_secmaster_cred.dbHost , database=db_secmaster_cred.dbName, user=db_secmaster_cred.dbUser, password=db_secmaster_cred.dbPWD)\n",
    "\n",
    "import json\n"
   ]
  },
  {
   "cell_type": "code",
   "execution_count": 38,
   "metadata": {},
   "outputs": [],
   "source": [
    "import oandapyV20.endpoints.pricing as pricing\n",
    "import oandapyV20.endpoints.accounts as accounts\n",
    "import q_credentials.oanda_cred as oanda_cred\n",
    "import oandapyV20\n"
   ]
  },
  {
   "cell_type": "code",
   "execution_count": 13,
   "metadata": {},
   "outputs": [
    {
     "data": {
      "text/html": [
       "<div>\n",
       "<style scoped>\n",
       "    .dataframe tbody tr th:only-of-type {\n",
       "        vertical-align: middle;\n",
       "    }\n",
       "\n",
       "    .dataframe tbody tr th {\n",
       "        vertical-align: top;\n",
       "    }\n",
       "\n",
       "    .dataframe thead th {\n",
       "        text-align: right;\n",
       "    }\n",
       "</style>\n",
       "<table border=\"1\" class=\"dataframe\">\n",
       "  <thead>\n",
       "    <tr style=\"text-align: right;\">\n",
       "      <th></th>\n",
       "      <th>Instrument</th>\n",
       "      <th>Long rate</th>\n",
       "      <th>Short rate</th>\n",
       "      <th>Long cost</th>\n",
       "      <th>Short cost</th>\n",
       "    </tr>\n",
       "  </thead>\n",
       "  <tbody>\n",
       "    <tr>\n",
       "      <th>0</th>\n",
       "      <td>AUD_CAD</td>\n",
       "      <td>-0.0115</td>\n",
       "      <td>-0.0104</td>\n",
       "      <td>-2.19</td>\n",
       "      <td>-1.98</td>\n",
       "    </tr>\n",
       "    <tr>\n",
       "      <th>1</th>\n",
       "      <td>AUD_CHF</td>\n",
       "      <td>-0.0027</td>\n",
       "      <td>-0.0195</td>\n",
       "      <td>-0.51</td>\n",
       "      <td>-3.71</td>\n",
       "    </tr>\n",
       "    <tr>\n",
       "      <th>2</th>\n",
       "      <td>AUD_HKD</td>\n",
       "      <td>-0.0193</td>\n",
       "      <td>-0.0169</td>\n",
       "      <td>-3.68</td>\n",
       "      <td>-3.22</td>\n",
       "    </tr>\n",
       "    <tr>\n",
       "      <th>3</th>\n",
       "      <td>AUD_JPY</td>\n",
       "      <td>-0.0090</td>\n",
       "      <td>-0.0134</td>\n",
       "      <td>-1.71</td>\n",
       "      <td>-2.55</td>\n",
       "    </tr>\n",
       "    <tr>\n",
       "      <th>4</th>\n",
       "      <td>AUD_NZD</td>\n",
       "      <td>-0.0124</td>\n",
       "      <td>-0.0103</td>\n",
       "      <td>-2.36</td>\n",
       "      <td>-1.96</td>\n",
       "    </tr>\n",
       "    <tr>\n",
       "      <th>...</th>\n",
       "      <td>...</td>\n",
       "      <td>...</td>\n",
       "      <td>...</td>\n",
       "      <td>...</td>\n",
       "      <td>...</td>\n",
       "    </tr>\n",
       "    <tr>\n",
       "      <th>65</th>\n",
       "      <td>USD_SGD</td>\n",
       "      <td>-0.0131</td>\n",
       "      <td>-0.0160</td>\n",
       "      <td>-3.59</td>\n",
       "      <td>-4.38</td>\n",
       "    </tr>\n",
       "    <tr>\n",
       "      <th>66</th>\n",
       "      <td>USD_THB</td>\n",
       "      <td>-0.0818</td>\n",
       "      <td>-0.0701</td>\n",
       "      <td>-22.41</td>\n",
       "      <td>-19.21</td>\n",
       "    </tr>\n",
       "    <tr>\n",
       "      <th>67</th>\n",
       "      <td>USD_TRY</td>\n",
       "      <td>-0.2343</td>\n",
       "      <td>0.0315</td>\n",
       "      <td>-64.19</td>\n",
       "      <td>8.63</td>\n",
       "    </tr>\n",
       "    <tr>\n",
       "      <th>68</th>\n",
       "      <td>USD_ZAR</td>\n",
       "      <td>-0.0655</td>\n",
       "      <td>0.0155</td>\n",
       "      <td>-17.95</td>\n",
       "      <td>4.25</td>\n",
       "    </tr>\n",
       "    <tr>\n",
       "      <th>69</th>\n",
       "      <td>ZAR_JPY</td>\n",
       "      <td>0.0194</td>\n",
       "      <td>-0.0702</td>\n",
       "      <td>0.32</td>\n",
       "      <td>-1.15</td>\n",
       "    </tr>\n",
       "  </tbody>\n",
       "</table>\n",
       "<p>70 rows × 5 columns</p>\n",
       "</div>"
      ],
      "text/plain": [
       "   Instrument  Long rate  Short rate  Long cost  Short cost\n",
       "0     AUD_CAD    -0.0115     -0.0104      -2.19       -1.98\n",
       "1     AUD_CHF    -0.0027     -0.0195      -0.51       -3.71\n",
       "2     AUD_HKD    -0.0193     -0.0169      -3.68       -3.22\n",
       "3     AUD_JPY    -0.0090     -0.0134      -1.71       -2.55\n",
       "4     AUD_NZD    -0.0124     -0.0103      -2.36       -1.96\n",
       "..        ...        ...         ...        ...         ...\n",
       "65    USD_SGD    -0.0131     -0.0160      -3.59       -4.38\n",
       "66    USD_THB    -0.0818     -0.0701     -22.41      -19.21\n",
       "67    USD_TRY    -0.2343      0.0315     -64.19        8.63\n",
       "68    USD_ZAR    -0.0655      0.0155     -17.95        4.25\n",
       "69    ZAR_JPY     0.0194     -0.0702       0.32       -1.15\n",
       "\n",
       "[70 rows x 5 columns]"
      ]
     },
     "execution_count": 13,
     "metadata": {},
     "output_type": "execute_result"
    }
   ],
   "source": [
    "s3 = boto3.client('s3', endpoint_url=\"http://minio-image:9000\",aws_access_key_id=\"minio-image\",aws_secret_access_key=\"minio-image-pass\")\n",
    "Bucket=\"airflow-files\"\n",
    "Key=\"financing_cost.csv\"\n",
    "read_file = s3.get_object(Bucket=Bucket, Key=Key)\n",
    "df = pd.read_csv(read_file['Body'],sep=',')\n",
    "df"
   ]
  },
  {
   "cell_type": "markdown",
   "metadata": {},
   "source": [
    "## Direct Rates"
   ]
  },
  {
   "cell_type": "code",
   "execution_count": 3,
   "metadata": {},
   "outputs": [],
   "source": [
    "margin=100\n",
    "risk_perc=0.05\n",
    "symbol=\"EUR_USD\"\n",
    "entry_price=1.0005\n",
    "exit_price=1.0003\n",
    "leverage=50"
   ]
  },
  {
   "cell_type": "code",
   "execution_count": 4,
   "metadata": {},
   "outputs": [
    {
     "data": {
      "text/plain": [
       "500.2500000000551"
      ]
     },
     "execution_count": 4,
     "metadata": {},
     "output_type": "execute_result"
    }
   ],
   "source": [
    "loss=margin*risk_perc\n",
    "quantity=loss/(entry_price-exit_price)\n",
    "margin_required=entry_price*quantity/leverage\n",
    "margin_required"
   ]
  },
  {
   "cell_type": "markdown",
   "metadata": {},
   "source": [
    "## Indirect Rates"
   ]
  },
  {
   "cell_type": "code",
   "execution_count": 5,
   "metadata": {},
   "outputs": [],
   "source": [
    "margin=100\n",
    "risk_perc=0.05\n",
    "symbol=\"USD_JPY\"\n",
    "entry_price=120.50\n",
    "exit_price=120.30\n",
    "leverage=50"
   ]
  },
  {
   "cell_type": "code",
   "execution_count": 6,
   "metadata": {},
   "outputs": [
    {
     "name": "stdout",
     "output_type": "stream",
     "text": [
      "20.000000000000284\n",
      "8.309999999999881\n"
     ]
    },
    {
     "data": {
      "text/plain": [
       "100135.49999999857"
      ]
     },
     "execution_count": 6,
     "metadata": {},
     "output_type": "execute_result"
    }
   ],
   "source": [
    "# loss=margin*risk_perc\n",
    "loss = 166.20\n",
    "tick_size=0.01\n",
    "pip = (entry_price-exit_price) / tick_size\n",
    "print(pip)\n",
    "pip_value = loss / pip\n",
    "print(pip_value)\n",
    "quantity = pip_value * entry_price / tick_size\n",
    "quantity"
   ]
  },
  {
   "cell_type": "code",
   "execution_count": 58,
   "metadata": {},
   "outputs": [
    {
     "name": "stdout",
     "output_type": "stream",
     "text": [
      "0.20000000000000284\n",
      "830.9999999999882\n"
     ]
    },
    {
     "data": {
      "text/plain": [
       "100135.49999999857"
      ]
     },
     "execution_count": 58,
     "metadata": {},
     "output_type": "execute_result"
    }
   ],
   "source": [
    "# loss=margin*risk_perc\n",
    "loss = 166.20\n",
    "tick_size=0.01\n",
    "pip = (entry_price-exit_price)\n",
    "print(pip)\n",
    "pip_value = loss / pip\n",
    "print(pip_value)\n",
    "quantity = pip_value * entry_price\n",
    "quantity"
   ]
  },
  {
   "cell_type": "markdown",
   "metadata": {},
   "source": [
    "## Cross Rates"
   ]
  },
  {
   "cell_type": "code",
   "execution_count": 60,
   "metadata": {},
   "outputs": [],
   "source": [
    "margin=100\n",
    "risk_perc=0.05\n",
    "symbol=\"EUR_GBP\"\n",
    "entry_price=.6760\n",
    "exit_price=.6750\n",
    "leverage=50"
   ]
  },
  {
   "cell_type": "code",
   "execution_count": 63,
   "metadata": {},
   "outputs": [
    {
     "name": "stdout",
     "output_type": "stream",
     "text": [
      "0.0010000000000000009\n",
      "144037.16216216204\n"
     ]
    },
    {
     "data": {
      "text/plain": [
       "97369.12162162155"
      ]
     },
     "execution_count": 63,
     "metadata": {},
     "output_type": "execute_result"
    }
   ],
   "source": [
    "# loss=margin*risk_perc\n",
    "loss = 170.54\n",
    "tick_size=0.01\n",
    "base_rate=1.1840\n",
    "pip = (entry_price-exit_price)\n",
    "print(pip)\n",
    "pip_value = loss / (pip * base_rate)\n",
    "print(pip_value)\n",
    "quantity = pip_value * entry_price \n",
    "quantity"
   ]
  },
  {
   "cell_type": "markdown",
   "metadata": {},
   "source": []
  },
  {
   "cell_type": "code",
   "execution_count": 7,
   "metadata": {},
   "outputs": [],
   "source": []
  },
  {
   "cell_type": "code",
   "execution_count": 194,
   "metadata": {},
   "outputs": [],
   "source": [
    "# Logic from \n",
    "# http://www.fxtrademaker.com/fx_calculation.htm\n",
    "# Checked with \n",
    "# https://www.forextime.com/trading-tools/trading-calculator/profit-calculator\n",
    "# Margins and PnL checked on the oanda web trading platform - do the same before placing orders\n",
    "   \n",
    "def oanda_data(instruments):\n",
    "    client = oandapyV20.API(access_token=oanda_cred.token_practice)\n",
    "    \n",
    "    r = pricing.PricingInfo(accountID=oanda_cred.acc_id_practice,params=instruments)\n",
    "    rv = client.request(r)\n",
    "    df_price=pd.read_json(json.dumps(rv, indent=2))\n",
    "    df_price=pd.io.json.json_normalize(data=df_price['prices'])\n",
    "    df_price=df_price[['instrument','closeoutBid','closeoutAsk']]\n",
    "    df_price.set_index('instrument',drop=True,inplace=True)\n",
    "    \n",
    "    r = accounts.AccountInstruments(accountID=oanda_cred.acc_id_practice,params=instruments)\n",
    "    rv = client.request(r)\n",
    "    df_info=pd.read_json(json.dumps(rv, indent=2))\n",
    "    df_info=pd.io.json.json_normalize(data=df_info['instruments'])\n",
    "    df_info=df_info[['name','pipLocation','financing.longRate','financing.shortRate','marginRate']]\n",
    "    df_info.set_index('name',drop=True,inplace=True)\n",
    "    \n",
    "    return pd.concat([df_price, df_info], axis=1, sort=False)\n",
    "\n",
    "\n",
    "\n",
    "def risk_calculator(symbol,entry_price,sl_price,purchase_currency=\"USD\",free_margin=100,risk_perc=0.05,sep=\"_\"):\n",
    "    max_loss=free_margin*risk_perc\n",
    "    type=\"BUY\" if entry_price>exit_price else \"SELL\"\n",
    "    bid_or_ask = \"closeoutAsk\" if type==\"BUY\" else \"closeoutBid\"\n",
    "    price_diff = entry_price - sl_price\n",
    "\n",
    "    price_multiplier = 1 # value in USD per 1 quantity\n",
    "\n",
    "    symbol_ls=symbol.split(sep)\n",
    "    if purchase_currency not in symbol_ls: #EUR_GBP\n",
    "        try:\n",
    "            base_currency=symbol_ls[0]+sep+purchase_currency #EUR_USD\n",
    "            params={'instruments':','.join([base_currency,symbol])}\n",
    "            df = oanda_data(params)\n",
    "        except:\n",
    "            base_currency=purchase+sep+symbol_ls[0] #USD_EUR which is wrong \n",
    "            params={'instruments':','.join([base_currency,symbol])}\n",
    "            print(params)\n",
    "            df = oanda_data(params)\n",
    "\n",
    "        if base_currency[-3:]==purchase_currency:\n",
    "            price_multiplier = float(df.loc[base_currency][bid_or_ask])/float(df.loc[symbol][bid_or_ask])\n",
    "        else:\n",
    "            price_multiplier = float(df.loc[base_currency][bid_or_ask]) * float(df.loc[symbol][bid_or_ask])\n",
    "\n",
    "    else:\n",
    "        params={'instruments':symbol}\n",
    "        df = oanda_data(params)\n",
    "        if purchase_currency == symbol_ls[0]:\n",
    "            price_multiplier = 1/ float(df.loc[symbol][bid_or_ask]) \n",
    "\n",
    "            \n",
    "    \n",
    "    quantity=max_loss/(price_diff*price_multiplier)\n",
    "    loss_per_std_lot=price_multiplier * price_diff * 100000\n",
    "    position_value = price_multiplier * entry_price * quantity\n",
    "    margin_requirement = position_value*float(df.loc[symbol]['marginRate'])\n",
    "    margin_for_std_lot=price_multiplier * entry_price * 100000*float(df.loc[symbol]['marginRate'])\n",
    "    financing_rate = float(df.loc[symbol]['financing.longRate']) if type==\"BUY\" else float(df.loc[symbol]['financing.shortRate'])\n",
    "    financing_cost = position_value * financing_rate / 365  \n",
    "    print(\"Quantity =\",quantity)\n",
    "    print(\"Position Value=\",position_value)\n",
    "    print(\"Financing Cost=\",financing_cost)\n",
    "    print(\"Margin Requirement\",margin_requirement)\n",
    "    print(max_loss,price_multiplier,price_diff)\n",
    "    display(df)"
   ]
  },
  {
   "cell_type": "code",
   "execution_count": 198,
   "metadata": {},
   "outputs": [
    {
     "name": "stdout",
     "output_type": "stream",
     "text": [
      "Quantity = -794.6515679442399\n",
      "Position Value= -794.6515679442399\n",
      "Financing Cost= 0.043542551668177526\n",
      "Margin Requirement -31.786062717769596\n",
      "5.0 1.0961787209786684 -0.005740000000000078\n"
     ]
    },
    {
     "name": "stderr",
     "output_type": "stream",
     "text": [
      "/opt/conda/lib/python3.7/site-packages/ipykernel_launcher.py:13: FutureWarning: pandas.io.json.json_normalize is deprecated, use pandas.json_normalize instead\n",
      "  del sys.path[0]\n",
      "/opt/conda/lib/python3.7/site-packages/ipykernel_launcher.py:20: FutureWarning: pandas.io.json.json_normalize is deprecated, use pandas.json_normalize instead\n"
     ]
    },
    {
     "data": {
      "text/html": [
       "<div>\n",
       "<style scoped>\n",
       "    .dataframe tbody tr th:only-of-type {\n",
       "        vertical-align: middle;\n",
       "    }\n",
       "\n",
       "    .dataframe tbody tr th {\n",
       "        vertical-align: top;\n",
       "    }\n",
       "\n",
       "    .dataframe thead th {\n",
       "        text-align: right;\n",
       "    }\n",
       "</style>\n",
       "<table border=\"1\" class=\"dataframe\">\n",
       "  <thead>\n",
       "    <tr style=\"text-align: right;\">\n",
       "      <th></th>\n",
       "      <th>closeoutBid</th>\n",
       "      <th>closeoutAsk</th>\n",
       "      <th>pipLocation</th>\n",
       "      <th>financing.longRate</th>\n",
       "      <th>financing.shortRate</th>\n",
       "      <th>marginRate</th>\n",
       "    </tr>\n",
       "  </thead>\n",
       "  <tbody>\n",
       "    <tr>\n",
       "      <th>USD_CHF</th>\n",
       "      <td>0.91226</td>\n",
       "      <td>0.91276</td>\n",
       "      <td>-4</td>\n",
       "      <td>-0.00040</td>\n",
       "      <td>-0.02</td>\n",
       "      <td>0.04</td>\n",
       "    </tr>\n",
       "  </tbody>\n",
       "</table>\n",
       "</div>"
      ],
      "text/plain": [
       "        closeoutBid closeoutAsk  pipLocation financing.longRate  \\\n",
       "USD_CHF     0.91226     0.91276           -4           -0.00040   \n",
       "\n",
       "        financing.shortRate marginRate  \n",
       "USD_CHF               -0.02       0.04  "
      ]
     },
     "metadata": {},
     "output_type": "display_data"
    }
   ],
   "source": [
    "free_margin=100\n",
    "risk_perc=0.05\n",
    "\n",
    "entry_price=0.91226\n",
    "sl_price=0.91800\n",
    "purchase_currency=\"USD\"\n",
    "symbol=\"USD_CHF\"\n",
    "\n",
    "risk_calculator(symbol=symbol,entry_price=entry_price,sl_price=sl_price,free_margin=free_margin,risk_perc=risk_perc)\n"
   ]
  },
  {
   "cell_type": "code",
   "execution_count": 195,
   "metadata": {},
   "outputs": [
    {
     "name": "stdout",
     "output_type": "stream",
     "text": [
      "Quantity = -300.30030030029934\n",
      "Position Value= -353.85885885885773\n",
      "Financing Cost= 0.0031023242420502597\n",
      "Margin Requirement -7.0771771771771546\n",
      "5.0 1 -0.016650000000000054\n"
     ]
    },
    {
     "name": "stderr",
     "output_type": "stream",
     "text": [
      "/opt/conda/lib/python3.7/site-packages/ipykernel_launcher.py:13: FutureWarning: pandas.io.json.json_normalize is deprecated, use pandas.json_normalize instead\n",
      "  del sys.path[0]\n",
      "/opt/conda/lib/python3.7/site-packages/ipykernel_launcher.py:20: FutureWarning: pandas.io.json.json_normalize is deprecated, use pandas.json_normalize instead\n"
     ]
    },
    {
     "data": {
      "text/html": [
       "<div>\n",
       "<style scoped>\n",
       "    .dataframe tbody tr th:only-of-type {\n",
       "        vertical-align: middle;\n",
       "    }\n",
       "\n",
       "    .dataframe tbody tr th {\n",
       "        vertical-align: top;\n",
       "    }\n",
       "\n",
       "    .dataframe thead th {\n",
       "        text-align: right;\n",
       "    }\n",
       "</style>\n",
       "<table border=\"1\" class=\"dataframe\">\n",
       "  <thead>\n",
       "    <tr style=\"text-align: right;\">\n",
       "      <th></th>\n",
       "      <th>closeoutBid</th>\n",
       "      <th>closeoutAsk</th>\n",
       "      <th>pipLocation</th>\n",
       "      <th>financing.longRate</th>\n",
       "      <th>financing.shortRate</th>\n",
       "      <th>marginRate</th>\n",
       "    </tr>\n",
       "  </thead>\n",
       "  <tbody>\n",
       "    <tr>\n",
       "      <th>EUR_USD</th>\n",
       "      <td>1.17835</td>\n",
       "      <td>1.17886</td>\n",
       "      <td>-4</td>\n",
       "      <td>-0.018</td>\n",
       "      <td>-0.0032</td>\n",
       "      <td>0.02</td>\n",
       "    </tr>\n",
       "  </tbody>\n",
       "</table>\n",
       "</div>"
      ],
      "text/plain": [
       "        closeoutBid closeoutAsk  pipLocation financing.longRate  \\\n",
       "EUR_USD     1.17835     1.17886           -4             -0.018   \n",
       "\n",
       "        financing.shortRate marginRate  \n",
       "EUR_USD             -0.0032       0.02  "
      ]
     },
     "metadata": {},
     "output_type": "display_data"
    }
   ],
   "source": [
    "free_margin=100\n",
    "risk_perc=0.05\n",
    "\n",
    "entry_price=1.17835\n",
    "sl_price=1.19500\n",
    "purchase_currency=\"USD\"\n",
    "symbol=\"EUR_USD\"\n",
    "\n",
    "risk_calculator(symbol=symbol,entry_price=entry_price,sl_price=sl_price,free_margin=free_margin,risk_perc=risk_perc)\n"
   ]
  },
  {
   "cell_type": "code",
   "execution_count": 196,
   "metadata": {},
   "outputs": [
    {
     "name": "stdout",
     "output_type": "stream",
     "text": [
      "Quantity = 781.7312863109322\n",
      "Position Value= 921.1530612244869\n",
      "Financing Cost= -0.011861422980150929\n",
      "Margin Requirement 46.05765306122435\n",
      "5.0 1.305318312230678 0.0049000000000000155\n"
     ]
    },
    {
     "name": "stderr",
     "output_type": "stream",
     "text": [
      "/opt/conda/lib/python3.7/site-packages/ipykernel_launcher.py:13: FutureWarning: pandas.io.json.json_normalize is deprecated, use pandas.json_normalize instead\n",
      "  del sys.path[0]\n",
      "/opt/conda/lib/python3.7/site-packages/ipykernel_launcher.py:20: FutureWarning: pandas.io.json.json_normalize is deprecated, use pandas.json_normalize instead\n"
     ]
    },
    {
     "data": {
      "text/html": [
       "<div>\n",
       "<style scoped>\n",
       "    .dataframe tbody tr th:only-of-type {\n",
       "        vertical-align: middle;\n",
       "    }\n",
       "\n",
       "    .dataframe tbody tr th {\n",
       "        vertical-align: top;\n",
       "    }\n",
       "\n",
       "    .dataframe thead th {\n",
       "        text-align: right;\n",
       "    }\n",
       "</style>\n",
       "<table border=\"1\" class=\"dataframe\">\n",
       "  <thead>\n",
       "    <tr style=\"text-align: right;\">\n",
       "      <th></th>\n",
       "      <th>closeoutBid</th>\n",
       "      <th>closeoutAsk</th>\n",
       "      <th>pipLocation</th>\n",
       "      <th>financing.longRate</th>\n",
       "      <th>financing.shortRate</th>\n",
       "      <th>marginRate</th>\n",
       "    </tr>\n",
       "  </thead>\n",
       "  <tbody>\n",
       "    <tr>\n",
       "      <th>EUR_USD</th>\n",
       "      <td>1.17835</td>\n",
       "      <td>1.17886</td>\n",
       "      <td>-4</td>\n",
       "      <td>-0.018</td>\n",
       "      <td>-0.0032</td>\n",
       "      <td>0.02</td>\n",
       "    </tr>\n",
       "    <tr>\n",
       "      <th>EUR_GBP</th>\n",
       "      <td>0.90273</td>\n",
       "      <td>0.90334</td>\n",
       "      <td>-4</td>\n",
       "      <td>-0.0173</td>\n",
       "      <td>-0.0047</td>\n",
       "      <td>0.05</td>\n",
       "    </tr>\n",
       "  </tbody>\n",
       "</table>\n",
       "</div>"
      ],
      "text/plain": [
       "        closeoutBid closeoutAsk  pipLocation financing.longRate  \\\n",
       "EUR_USD     1.17835     1.17886           -4             -0.018   \n",
       "EUR_GBP     0.90273     0.90334           -4            -0.0173   \n",
       "\n",
       "        financing.shortRate marginRate  \n",
       "EUR_USD             -0.0032       0.02  \n",
       "EUR_GBP             -0.0047       0.05  "
      ]
     },
     "metadata": {},
     "output_type": "display_data"
    }
   ],
   "source": [
    "free_margin=100\n",
    "risk_perc=0.05\n",
    "\n",
    "entry_price=0.90273\n",
    "sl_price=0.89783\n",
    "purchase_currency=\"USD\"\n",
    "symbol=\"EUR_GBP\"\n",
    "\n",
    "risk_calculator(symbol=symbol,entry_price=entry_price,sl_price=sl_price,free_margin=free_margin,risk_perc=risk_perc)\n"
   ]
  },
  {
   "cell_type": "code",
   "execution_count": 197,
   "metadata": {},
   "outputs": [
    {
     "name": "stdout",
     "output_type": "stream",
     "text": [
      "Quantity = 445.1554621848748\n",
      "Position Value= 444.99159663865635\n",
      "Financing Cost= 0.0\n",
      "Margin Requirement 17.799663865546254\n",
      "5.0 0.00943868160495342 1.1899999999999977\n"
     ]
    },
    {
     "name": "stderr",
     "output_type": "stream",
     "text": [
      "/opt/conda/lib/python3.7/site-packages/ipykernel_launcher.py:13: FutureWarning: pandas.io.json.json_normalize is deprecated, use pandas.json_normalize instead\n",
      "  del sys.path[0]\n",
      "/opt/conda/lib/python3.7/site-packages/ipykernel_launcher.py:20: FutureWarning: pandas.io.json.json_normalize is deprecated, use pandas.json_normalize instead\n"
     ]
    },
    {
     "data": {
      "text/html": [
       "<div>\n",
       "<style scoped>\n",
       "    .dataframe tbody tr th:only-of-type {\n",
       "        vertical-align: middle;\n",
       "    }\n",
       "\n",
       "    .dataframe tbody tr th {\n",
       "        vertical-align: top;\n",
       "    }\n",
       "\n",
       "    .dataframe thead th {\n",
       "        text-align: right;\n",
       "    }\n",
       "</style>\n",
       "<table border=\"1\" class=\"dataframe\">\n",
       "  <thead>\n",
       "    <tr style=\"text-align: right;\">\n",
       "      <th></th>\n",
       "      <th>closeoutBid</th>\n",
       "      <th>closeoutAsk</th>\n",
       "      <th>pipLocation</th>\n",
       "      <th>financing.longRate</th>\n",
       "      <th>financing.shortRate</th>\n",
       "      <th>marginRate</th>\n",
       "    </tr>\n",
       "  </thead>\n",
       "  <tbody>\n",
       "    <tr>\n",
       "      <th>USD_JPY</th>\n",
       "      <td>105.908</td>\n",
       "      <td>105.947</td>\n",
       "      <td>-2</td>\n",
       "      <td>0</td>\n",
       "      <td>0</td>\n",
       "      <td>0.04</td>\n",
       "    </tr>\n",
       "  </tbody>\n",
       "</table>\n",
       "</div>"
      ],
      "text/plain": [
       "        closeoutBid closeoutAsk  pipLocation financing.longRate  \\\n",
       "USD_JPY     105.908     105.947           -2                  0   \n",
       "\n",
       "        financing.shortRate marginRate  \n",
       "USD_JPY                   0       0.04  "
      ]
     },
     "metadata": {},
     "output_type": "display_data"
    }
   ],
   "source": [
    "free_margin=100\n",
    "risk_perc=0.05\n",
    "\n",
    "entry_price=105.908\n",
    "sl_price=104.718\n",
    "purchase_currency=\"USD\"\n",
    "symbol=\"USD_JPY\"\n",
    "\n",
    "risk_calculator(symbol=symbol,entry_price=entry_price,sl_price=sl_price,free_margin=free_margin,risk_perc=risk_perc)\n"
   ]
  },
  {
   "cell_type": "code",
   "execution_count": null,
   "metadata": {},
   "outputs": [],
   "source": []
  }
 ],
 "metadata": {
  "kernelspec": {
   "display_name": "Python 3",
   "language": "python",
   "name": "python3"
  },
  "language_info": {
   "codemirror_mode": {
    "name": "ipython",
    "version": 3
   },
   "file_extension": ".py",
   "mimetype": "text/x-python",
   "name": "python",
   "nbconvert_exporter": "python",
   "pygments_lexer": "ipython3",
   "version": "3.8.5"
  }
 },
 "nbformat": 4,
 "nbformat_minor": 4
}
