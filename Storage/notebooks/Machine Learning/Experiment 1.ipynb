{
 "cells": [
  {
   "cell_type": "code",
   "execution_count": 1,
   "metadata": {},
   "outputs": [],
   "source": [
    "import psycopg2\n",
    "import pandas as pd\n",
    "from plotly.offline import init_notebook_mode, iplot\n",
    "from plotly.offline import plot \n",
    "import plotly.graph_objects as go\n",
    "import warnings\n",
    "import datetime\n",
    "warnings.filterwarnings('ignore')\n",
    "\n",
    "# import q_credentials.db_secmaster_cloud_cred as db_secmaster_cred\n",
    "import q_credentials.db_secmaster_cred as db_secmaster_cred\n",
    "import q_credentials.db_indicator_cred as db_indicator_cred\n"
   ]
  },
  {
   "cell_type": "code",
   "execution_count": 2,
   "metadata": {},
   "outputs": [],
   "source": [
    "# connect to our securities_master database\n",
    "# conn_secmaster = psycopg2.connect(host=db_secmaster_cred.dbHost , database=db_secmaster_cred.dbName, user=db_secmaster_cred.dbUser, password=db_secmaster_cred.dbPWD)"
   ]
  },
  {
   "cell_type": "code",
   "execution_count": 3,
   "metadata": {},
   "outputs": [],
   "source": [
    "conn_indicator = psycopg2.connect(host=db_indicator_cred.dbHost , database=db_indicator_cred.dbName, user=db_indicator_cred.dbUser, password=db_indicator_cred.dbPWD)"
   ]
  },
  {
   "cell_type": "code",
   "execution_count": 6,
   "metadata": {},
   "outputs": [],
   "source": [
    "# sql=\"\"\"SELECT s.ticker, max(d.symbol_id), max(d.date_price)\n",
    "# FROM public.symbol s inner join d_data d on s.id= d.symbol_id\n",
    "# group by s.ticker\"\"\"\n",
    "# df_ticker_last_day=pd.read_sql(sql,con=conn_secmaster)"
   ]
  },
  {
   "cell_type": "code",
   "execution_count": 7,
   "metadata": {},
   "outputs": [],
   "source": [
    "# df_ticker_last_day"
   ]
  },
  {
   "cell_type": "code",
   "execution_count": 8,
   "metadata": {},
   "outputs": [],
   "source": [
    "# sql=\"\"\"select date_price as date, open_price as open, high_price as high, low_price as low , close_price as close,volume from daily_data where stock_id=71\"\"\"\n",
    "# df_stock=pd.read_sql(sql,con=conn_secmaster)"
   ]
  },
  {
   "cell_type": "code",
   "execution_count": 9,
   "metadata": {},
   "outputs": [],
   "source": [
    "# import datetime"
   ]
  },
  {
   "cell_type": "code",
   "execution_count": 10,
   "metadata": {},
   "outputs": [
    {
     "data": {
      "text/plain": [
       "['candle_1', 'candle_2', 'candle_3', 'anomaly', 'level', '', 'alpa_ind']"
      ]
     },
     "execution_count": 10,
     "metadata": {},
     "output_type": "execute_result"
    }
   ],
   "source": [
    "sql=\"select * from indicator\"\n",
    "ind_list=list(pd.read_sql(sql,con=conn_indicator)['name'])\n",
    "ind_list"
   ]
  },
  {
   "cell_type": "code",
   "execution_count": 11,
   "metadata": {},
   "outputs": [],
   "source": [
    "symbol_id='AAPL'#'BOM500114'\n",
    "start_date=datetime.datetime(2018,1,1).strftime(\"%Y-%m-%d\")\n",
    "# indicator_name = 'candle_1'"
   ]
  },
  {
   "cell_type": "code",
   "execution_count": 12,
   "metadata": {},
   "outputs": [],
   "source": [
    "# sql=\"select d.date_price as date, open_price as open, high_price as high, low_price as low , close_price as close,volume from daily_data d join symbol s on d.stock_id = s.id where s.ticker='%s' and d.date_price > '%s'\" %(symbol_id, start_date)\n",
    "# df_price=pd.read_sql(sql,con=conn_secmaster)"
   ]
  },
  {
   "cell_type": "code",
   "execution_count": 13,
   "metadata": {},
   "outputs": [],
   "source": [
    "# sql=\"select d.date_price as date, d.value from daily_data d join symbol s on d.symbol_id = s.id join indicator i on i.id=d.indicator_id where s.ticker='%s' and i.name = '%s' and d.date_price > '%s'\" %(symbol_id, indicator_name, start_date)\n",
    "# df_indicator=pd.read_sql(sql,con=conn_indicator)"
   ]
  },
  {
   "cell_type": "code",
   "execution_count": 14,
   "metadata": {},
   "outputs": [],
   "source": [
    "# df_indicator.set_index('date',inplace=True)"
   ]
  },
  {
   "cell_type": "code",
   "execution_count": 15,
   "metadata": {},
   "outputs": [],
   "source": [
    "# df_indicator.head()"
   ]
  },
  {
   "cell_type": "code",
   "execution_count": 16,
   "metadata": {},
   "outputs": [],
   "source": [
    "pd.options.display.max_columns = None"
   ]
  },
  {
   "cell_type": "code",
   "execution_count": 17,
   "metadata": {},
   "outputs": [
    {
     "name": "stdout",
     "output_type": "stream",
     "text": [
      "candle_1\n",
      "candle_2\n",
      "candle_3\n",
      "anomaly\n",
      "level\n",
      "\n",
      "alpa_ind\n"
     ]
    }
   ],
   "source": [
    "df_all_ind=pd.DataFrame()\n",
    "for ind in ind_list:\n",
    "    print(ind)\n",
    "    sql=\"select d.date_price as date, d.value from d_data d join symbol s on d.symbol_id = s.id join indicator i on i.id=d.indicator_id where s.ticker='%s' and i.name = '%s' and d.date_price > '%s'\" %(symbol_id, ind, start_date)\n",
    "    df_indicator=pd.read_sql(sql,con=conn_indicator)\n",
    "    if df_indicator.empty:\n",
    "        continue\n",
    "    df_indicator.set_index('date',inplace=True)\n",
    "    df_indicator=pd.concat([df_indicator.drop(['value'], axis=1), df_indicator['value'].apply(pd.Series)], axis=1)\n",
    "    df_indicator.columns=[ind+\"_\"+col for col in df_indicator.columns]\n",
    "    if df_all_ind.empty:\n",
    "#         df_all_ind=pd.merge(left=df_price, right=df_indicator,on='date')\n",
    "        df_all_ind=df_indicator\n",
    "    else:\n",
    "        df_all_ind=pd.merge(left=df_all_ind, right=df_indicator,on='date')"
   ]
  },
  {
   "cell_type": "code",
   "execution_count": 21,
   "metadata": {},
   "outputs": [],
   "source": [
    "df_all_ind.reset_index(inplace=True)\n",
    "df_all_ind.rename(columns={'anomaly_close':'close','anomaly_low':'low','anomaly_high':'high','anomaly_open':'open','anomaly_volume':'volume'},inplace=True)"
   ]
  },
  {
   "cell_type": "code",
   "execution_count": 22,
   "metadata": {},
   "outputs": [],
   "source": [
    "# df_level=df_all_ind[['date','high','low']]\n",
    "# df_level['res_outer']=df_all_ind['level_nearest_resistance_range'].str[0]\n",
    "# df_level['res_inner']=df_all_ind['level_nearest_resistance_range'].str[1]\n",
    "# df_level['sup_outer']=df_all_ind['level_nearest_support_range'].str[0]\n",
    "# df_level['sup_inner']=df_all_ind['level_nearest_support_range'].str[1]\n",
    "# df_level['target']=''\n",
    "# # df_level['target_support']=0"
   ]
  },
  {
   "cell_type": "code",
   "execution_count": 31,
   "metadata": {},
   "outputs": [
    {
     "data": {
      "text/plain": [
       "array(['', 'BULLISH (Matching Low)', 'BULLISH HARAMI CROSS',\n",
       "       'BEARISH ENGULFING', 'BEARISH (Dark Cloud Cover)',\n",
       "       'BULLISH HARAMI', 'BEARISH HARAMI CROSS', 'BULLISH ENGULFING',\n",
       "       'BEARISH HARAMI  ', 'BULLISH (Piercing Pattern)',\n",
       "       'BEARISH (Meeting Lines)'], dtype=object)"
      ]
     },
     "execution_count": 31,
     "metadata": {},
     "output_type": "execute_result"
    }
   ],
   "source": [
    "df_all_ind['candle_2_pattern_name'].unique()"
   ]
  },
  {
   "cell_type": "code",
   "execution_count": null,
   "metadata": {},
   "outputs": [],
   "source": [
    "for i, row in df_all_ind.iterrows():\n",
    "    if row['candle_2_pattern_name']=='BULLISH ENGULFING':\n",
    "        sl=row['close']-row['low']\n",
    "        tp=2*row['close']\n",
    "    elif row['candle_2_pattern_name']=='BEARISH ENGULFING':"
   ]
  },
  {
   "cell_type": "code",
   "execution_count": null,
   "metadata": {},
   "outputs": [],
   "source": [
    "'BEARISH ENGULFING'"
   ]
  },
  {
   "cell_type": "code",
   "execution_count": 24,
   "metadata": {},
   "outputs": [],
   "source": [
    "# df_level.head()"
   ]
  },
  {
   "cell_type": "code",
   "execution_count": 50,
   "metadata": {},
   "outputs": [],
   "source": [
    "# Taking a forward look into the future and looking if the levels have been broken\n",
    "for i, row in df_level.iterrows():\n",
    "    for j in range(i+1,len(df_level)):\n",
    "        if df_level.iloc[j]['high']>=df_level.iloc[i]['res_inner']:\n",
    "            df_level.at[i,'target']='Resistance'\n",
    "            break\n",
    "        if df_level.iloc[j]['low']<=df_level.iloc[i]['sup_inner']:\n",
    "            df_level.at[i,'target']='Support'\n",
    "            break"
   ]
  },
  {
   "cell_type": "code",
   "execution_count": 34,
   "metadata": {},
   "outputs": [
    {
     "data": {
      "text/plain": [
       "1"
      ]
     },
     "execution_count": 34,
     "metadata": {},
     "output_type": "execute_result"
    }
   ],
   "source": [
    "# len(df_level[df_level['target_resistance']==1])\n",
    "# len(df_level[df_level['target_support']==1])\n",
    "# len(df_level[(df_level['target_support']==0) & (df_level['target_resistance']==0)])"
   ]
  },
  {
   "cell_type": "code",
   "execution_count": 39,
   "metadata": {},
   "outputs": [
    {
     "data": {
      "text/html": [
       "<div>\n",
       "<style scoped>\n",
       "    .dataframe tbody tr th:only-of-type {\n",
       "        vertical-align: middle;\n",
       "    }\n",
       "\n",
       "    .dataframe tbody tr th {\n",
       "        vertical-align: top;\n",
       "    }\n",
       "\n",
       "    .dataframe thead th {\n",
       "        text-align: right;\n",
       "    }\n",
       "</style>\n",
       "<table border=\"1\" class=\"dataframe\">\n",
       "  <thead>\n",
       "    <tr style=\"text-align: right;\">\n",
       "      <th></th>\n",
       "      <th>date</th>\n",
       "      <th>high</th>\n",
       "      <th>low</th>\n",
       "      <th>res_outer</th>\n",
       "      <th>res_inner</th>\n",
       "      <th>sup_outer</th>\n",
       "      <th>sup_inner</th>\n",
       "      <th>target</th>\n",
       "    </tr>\n",
       "  </thead>\n",
       "  <tbody>\n",
       "    <tr>\n",
       "      <th>0</th>\n",
       "      <td>2018-01-02</td>\n",
       "      <td>43.0750</td>\n",
       "      <td>42.3150</td>\n",
       "      <td>43.5875</td>\n",
       "      <td>43.3125</td>\n",
       "      <td>41.3200</td>\n",
       "      <td>42.3700</td>\n",
       "      <td>-1</td>\n",
       "    </tr>\n",
       "    <tr>\n",
       "      <th>1</th>\n",
       "      <td>2018-03-14</td>\n",
       "      <td>45.1300</td>\n",
       "      <td>44.4525</td>\n",
       "      <td>NaN</td>\n",
       "      <td>NaN</td>\n",
       "      <td>44.4775</td>\n",
       "      <td>44.5625</td>\n",
       "      <td>1</td>\n",
       "    </tr>\n",
       "    <tr>\n",
       "      <th>2</th>\n",
       "      <td>2018-03-15</td>\n",
       "      <td>45.0600</td>\n",
       "      <td>44.5175</td>\n",
       "      <td>45.8750</td>\n",
       "      <td>45.6475</td>\n",
       "      <td>44.4775</td>\n",
       "      <td>44.5625</td>\n",
       "      <td>1</td>\n",
       "    </tr>\n",
       "    <tr>\n",
       "      <th>3</th>\n",
       "      <td>2018-03-16</td>\n",
       "      <td>44.7800</td>\n",
       "      <td>44.4050</td>\n",
       "      <td>45.8750</td>\n",
       "      <td>45.6475</td>\n",
       "      <td>44.4775</td>\n",
       "      <td>44.5625</td>\n",
       "      <td>1</td>\n",
       "    </tr>\n",
       "    <tr>\n",
       "      <th>4</th>\n",
       "      <td>2018-03-19</td>\n",
       "      <td>44.3675</td>\n",
       "      <td>43.4150</td>\n",
       "      <td>45.8750</td>\n",
       "      <td>45.6475</td>\n",
       "      <td>43.5675</td>\n",
       "      <td>43.7350</td>\n",
       "      <td>1</td>\n",
       "    </tr>\n",
       "  </tbody>\n",
       "</table>\n",
       "</div>"
      ],
      "text/plain": [
       "        date     high      low  res_outer  res_inner  sup_outer  sup_inner  \\\n",
       "0 2018-01-02  43.0750  42.3150    43.5875    43.3125    41.3200    42.3700   \n",
       "1 2018-03-14  45.1300  44.4525        NaN        NaN    44.4775    44.5625   \n",
       "2 2018-03-15  45.0600  44.5175    45.8750    45.6475    44.4775    44.5625   \n",
       "3 2018-03-16  44.7800  44.4050    45.8750    45.6475    44.4775    44.5625   \n",
       "4 2018-03-19  44.3675  43.4150    45.8750    45.6475    43.5675    43.7350   \n",
       "\n",
       "   target  \n",
       "0      -1  \n",
       "1       1  \n",
       "2       1  \n",
       "3       1  \n",
       "4       1  "
      ]
     },
     "execution_count": 39,
     "metadata": {},
     "output_type": "execute_result"
    }
   ],
   "source": [
    "df_level.head()"
   ]
  },
  {
   "cell_type": "code",
   "execution_count": 51,
   "metadata": {},
   "outputs": [],
   "source": [
    "df_feature_target=pd.merge(left=df_level[df_level.columns.difference(['low', 'high'])], right=df_all_ind,on='date')"
   ]
  },
  {
   "cell_type": "code",
   "execution_count": 52,
   "metadata": {},
   "outputs": [],
   "source": [
    "columns=['date','target', \n",
    "'candle_1_pattern_name','candle_2_pattern_name', 'candle_3_pattern_name',\n",
    "'level_nearest_support_atr_range','level_nearest_support_duration','level_nearest_resistance_atr_range','level_nearest_resistance_duration',\n",
    "'anomaly_gap_signal', 'anomaly_vol_anomaly', 'anomaly_vol_anomaly_2','anomaly_wick_bear_signal','anomaly_wick_bull_signal']"
   ]
  },
  {
   "cell_type": "code",
   "execution_count": 57,
   "metadata": {},
   "outputs": [],
   "source": [
    "columns=['date','target', \n",
    "'candle_1_pattern_name','candle_2_pattern_name', 'candle_3_pattern_name','level_nearest_support_duration','level_nearest_resistance_duration',\n",
    "'anomaly_gap_signal', 'anomaly_vol_anomaly', 'anomaly_vol_anomaly_2','anomaly_wick_bear_signal','anomaly_wick_bull_signal']"
   ]
  },
  {
   "cell_type": "code",
   "execution_count": 58,
   "metadata": {},
   "outputs": [],
   "source": [
    "df_feature_target[columns].to_csv('feature_target.csv',index=False)"
   ]
  },
  {
   "cell_type": "code",
   "execution_count": 59,
   "metadata": {},
   "outputs": [
    {
     "data": {
      "text/html": [
       "<div>\n",
       "<style scoped>\n",
       "    .dataframe tbody tr th:only-of-type {\n",
       "        vertical-align: middle;\n",
       "    }\n",
       "\n",
       "    .dataframe tbody tr th {\n",
       "        vertical-align: top;\n",
       "    }\n",
       "\n",
       "    .dataframe thead th {\n",
       "        text-align: right;\n",
       "    }\n",
       "</style>\n",
       "<table border=\"1\" class=\"dataframe\">\n",
       "  <thead>\n",
       "    <tr style=\"text-align: right;\">\n",
       "      <th></th>\n",
       "      <th>date</th>\n",
       "      <th>target</th>\n",
       "      <th>candle_1_pattern_name</th>\n",
       "      <th>candle_2_pattern_name</th>\n",
       "      <th>candle_3_pattern_name</th>\n",
       "      <th>level_nearest_support_duration</th>\n",
       "      <th>level_nearest_resistance_duration</th>\n",
       "      <th>anomaly_gap_signal</th>\n",
       "      <th>anomaly_vol_anomaly</th>\n",
       "      <th>anomaly_vol_anomaly_2</th>\n",
       "      <th>anomaly_wick_bear_signal</th>\n",
       "      <th>anomaly_wick_bull_signal</th>\n",
       "    </tr>\n",
       "  </thead>\n",
       "  <tbody>\n",
       "    <tr>\n",
       "      <th>0</th>\n",
       "      <td>2018-01-02</td>\n",
       "      <td>Resistance</td>\n",
       "      <td>long</td>\n",
       "      <td></td>\n",
       "      <td></td>\n",
       "      <td>61</td>\n",
       "      <td>13.0</td>\n",
       "      <td>0.008986</td>\n",
       "      <td>1.204958</td>\n",
       "      <td>0.0</td>\n",
       "      <td>0.760492</td>\n",
       "      <td>0.000000</td>\n",
       "    </tr>\n",
       "    <tr>\n",
       "      <th>1</th>\n",
       "      <td>2018-03-14</td>\n",
       "      <td>Support</td>\n",
       "      <td></td>\n",
       "      <td>BULLISH (Matching Low)</td>\n",
       "      <td></td>\n",
       "      <td>8</td>\n",
       "      <td>NaN</td>\n",
       "      <td>0.000000</td>\n",
       "      <td>0.027358</td>\n",
       "      <td>0.0</td>\n",
       "      <td>0.132932</td>\n",
       "      <td>0.000000</td>\n",
       "    </tr>\n",
       "    <tr>\n",
       "      <th>2</th>\n",
       "      <td>2018-03-15</td>\n",
       "      <td>Support</td>\n",
       "      <td>DOJI_SPINOFF</td>\n",
       "      <td>BULLISH HARAMI CROSS</td>\n",
       "      <td></td>\n",
       "      <td>9</td>\n",
       "      <td>2.0</td>\n",
       "      <td>0.000000</td>\n",
       "      <td>0.676625</td>\n",
       "      <td>0.0</td>\n",
       "      <td>0.000000</td>\n",
       "      <td>1.105611</td>\n",
       "    </tr>\n",
       "    <tr>\n",
       "      <th>3</th>\n",
       "      <td>2018-03-16</td>\n",
       "      <td>Support</td>\n",
       "      <td>short</td>\n",
       "      <td>BEARISH ENGULFING</td>\n",
       "      <td></td>\n",
       "      <td>10</td>\n",
       "      <td>3.0</td>\n",
       "      <td>0.000000</td>\n",
       "      <td>0.411342</td>\n",
       "      <td>0.0</td>\n",
       "      <td>0.000000</td>\n",
       "      <td>0.000000</td>\n",
       "    </tr>\n",
       "    <tr>\n",
       "      <th>4</th>\n",
       "      <td>2018-03-19</td>\n",
       "      <td>Support</td>\n",
       "      <td></td>\n",
       "      <td></td>\n",
       "      <td></td>\n",
       "      <td>12</td>\n",
       "      <td>6.0</td>\n",
       "      <td>-0.226364</td>\n",
       "      <td>0.351835</td>\n",
       "      <td>0.0</td>\n",
       "      <td>1.295017</td>\n",
       "      <td>0.000000</td>\n",
       "    </tr>\n",
       "    <tr>\n",
       "      <th>...</th>\n",
       "      <td>...</td>\n",
       "      <td>...</td>\n",
       "      <td>...</td>\n",
       "      <td>...</td>\n",
       "      <td>...</td>\n",
       "      <td>...</td>\n",
       "      <td>...</td>\n",
       "      <td>...</td>\n",
       "      <td>...</td>\n",
       "      <td>...</td>\n",
       "      <td>...</td>\n",
       "      <td>...</td>\n",
       "    </tr>\n",
       "    <tr>\n",
       "      <th>714</th>\n",
       "      <td>2018-03-07</td>\n",
       "      <td>Resistance</td>\n",
       "      <td>DOJI_SPINOFF</td>\n",
       "      <td></td>\n",
       "      <td></td>\n",
       "      <td>5</td>\n",
       "      <td>48.0</td>\n",
       "      <td>-0.484049</td>\n",
       "      <td>0.853939</td>\n",
       "      <td>0.0</td>\n",
       "      <td>0.054158</td>\n",
       "      <td>0.003319</td>\n",
       "    </tr>\n",
       "    <tr>\n",
       "      <th>715</th>\n",
       "      <td>2018-03-08</td>\n",
       "      <td>Resistance</td>\n",
       "      <td></td>\n",
       "      <td></td>\n",
       "      <td>BEARISH Abandoned Baby</td>\n",
       "      <td>6</td>\n",
       "      <td>2.0</td>\n",
       "      <td>0.000000</td>\n",
       "      <td>0.064665</td>\n",
       "      <td>1.0</td>\n",
       "      <td>0.000000</td>\n",
       "      <td>0.000000</td>\n",
       "    </tr>\n",
       "    <tr>\n",
       "      <th>716</th>\n",
       "      <td>2018-03-09</td>\n",
       "      <td>Resistance</td>\n",
       "      <td></td>\n",
       "      <td></td>\n",
       "      <td></td>\n",
       "      <td>3</td>\n",
       "      <td>50.0</td>\n",
       "      <td>0.000000</td>\n",
       "      <td>0.198207</td>\n",
       "      <td>0.0</td>\n",
       "      <td>0.000000</td>\n",
       "      <td>0.000000</td>\n",
       "    </tr>\n",
       "    <tr>\n",
       "      <th>717</th>\n",
       "      <td>2018-03-12</td>\n",
       "      <td>Support</td>\n",
       "      <td></td>\n",
       "      <td></td>\n",
       "      <td>BULLISH Three White Soldiers</td>\n",
       "      <td>53</td>\n",
       "      <td>NaN</td>\n",
       "      <td>0.000000</td>\n",
       "      <td>0.122942</td>\n",
       "      <td>0.0</td>\n",
       "      <td>0.000000</td>\n",
       "      <td>0.127307</td>\n",
       "    </tr>\n",
       "    <tr>\n",
       "      <th>718</th>\n",
       "      <td>2018-03-13</td>\n",
       "      <td></td>\n",
       "      <td></td>\n",
       "      <td>BEARISH ENGULFING</td>\n",
       "      <td></td>\n",
       "      <td>54</td>\n",
       "      <td>NaN</td>\n",
       "      <td>0.000000</td>\n",
       "      <td>0.432898</td>\n",
       "      <td>0.0</td>\n",
       "      <td>0.352723</td>\n",
       "      <td>0.396283</td>\n",
       "    </tr>\n",
       "  </tbody>\n",
       "</table>\n",
       "<p>719 rows × 12 columns</p>\n",
       "</div>"
      ],
      "text/plain": [
       "          date      target candle_1_pattern_name   candle_2_pattern_name  \\\n",
       "0   2018-01-02  Resistance                  long                           \n",
       "1   2018-03-14     Support                        BULLISH (Matching Low)   \n",
       "2   2018-03-15     Support          DOJI_SPINOFF    BULLISH HARAMI CROSS   \n",
       "3   2018-03-16     Support                 short       BEARISH ENGULFING   \n",
       "4   2018-03-19     Support                                                 \n",
       "..         ...         ...                   ...                     ...   \n",
       "714 2018-03-07  Resistance          DOJI_SPINOFF                           \n",
       "715 2018-03-08  Resistance                                                 \n",
       "716 2018-03-09  Resistance                                                 \n",
       "717 2018-03-12     Support                                                 \n",
       "718 2018-03-13                                         BEARISH ENGULFING   \n",
       "\n",
       "            candle_3_pattern_name  level_nearest_support_duration  \\\n",
       "0                                                              61   \n",
       "1                                                               8   \n",
       "2                                                               9   \n",
       "3                                                              10   \n",
       "4                                                              12   \n",
       "..                            ...                             ...   \n",
       "714                                                             5   \n",
       "715        BEARISH Abandoned Baby                               6   \n",
       "716                                                             3   \n",
       "717  BULLISH Three White Soldiers                              53   \n",
       "718                                                            54   \n",
       "\n",
       "     level_nearest_resistance_duration  anomaly_gap_signal  \\\n",
       "0                                 13.0            0.008986   \n",
       "1                                  NaN            0.000000   \n",
       "2                                  2.0            0.000000   \n",
       "3                                  3.0            0.000000   \n",
       "4                                  6.0           -0.226364   \n",
       "..                                 ...                 ...   \n",
       "714                               48.0           -0.484049   \n",
       "715                                2.0            0.000000   \n",
       "716                               50.0            0.000000   \n",
       "717                                NaN            0.000000   \n",
       "718                                NaN            0.000000   \n",
       "\n",
       "     anomaly_vol_anomaly  anomaly_vol_anomaly_2  anomaly_wick_bear_signal  \\\n",
       "0               1.204958                    0.0                  0.760492   \n",
       "1               0.027358                    0.0                  0.132932   \n",
       "2               0.676625                    0.0                  0.000000   \n",
       "3               0.411342                    0.0                  0.000000   \n",
       "4               0.351835                    0.0                  1.295017   \n",
       "..                   ...                    ...                       ...   \n",
       "714             0.853939                    0.0                  0.054158   \n",
       "715             0.064665                    1.0                  0.000000   \n",
       "716             0.198207                    0.0                  0.000000   \n",
       "717             0.122942                    0.0                  0.000000   \n",
       "718             0.432898                    0.0                  0.352723   \n",
       "\n",
       "     anomaly_wick_bull_signal  \n",
       "0                    0.000000  \n",
       "1                    0.000000  \n",
       "2                    1.105611  \n",
       "3                    0.000000  \n",
       "4                    0.000000  \n",
       "..                        ...  \n",
       "714                  0.003319  \n",
       "715                  0.000000  \n",
       "716                  0.000000  \n",
       "717                  0.127307  \n",
       "718                  0.396283  \n",
       "\n",
       "[719 rows x 12 columns]"
      ]
     },
     "execution_count": 59,
     "metadata": {},
     "output_type": "execute_result"
    }
   ],
   "source": [
    "df_feature_target[columns]"
   ]
  },
  {
   "cell_type": "code",
   "execution_count": null,
   "metadata": {},
   "outputs": [],
   "source": []
  }
 ],
 "metadata": {
  "kernelspec": {
   "display_name": "Python 3",
   "language": "python",
   "name": "python3"
  },
  "language_info": {
   "codemirror_mode": {
    "name": "ipython",
    "version": 3
   },
   "file_extension": ".py",
   "mimetype": "text/x-python",
   "name": "python",
   "nbconvert_exporter": "python",
   "pygments_lexer": "ipython3",
   "version": "3.8.5"
  }
 },
 "nbformat": 4,
 "nbformat_minor": 4
}
