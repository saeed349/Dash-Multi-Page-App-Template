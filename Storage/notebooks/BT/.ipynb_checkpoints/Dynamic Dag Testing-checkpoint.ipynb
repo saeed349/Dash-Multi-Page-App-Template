{
 "cells": [
  {
   "cell_type": "code",
   "execution_count": 24,
   "metadata": {},
   "outputs": [],
   "source": [
    "import pandas as pd\n",
    "import subprocess"
   ]
  },
  {
   "cell_type": "code",
   "execution_count": 25,
   "metadata": {},
   "outputs": [],
   "source": [
    "df=pd.read_csv(\"strategy.csv\")"
   ]
  },
  {
   "cell_type": "code",
   "execution_count": 26,
   "metadata": {},
   "outputs": [
    {
     "data": {
      "text/html": [
       "<div>\n",
       "<style scoped>\n",
       "    .dataframe tbody tr th:only-of-type {\n",
       "        vertical-align: middle;\n",
       "    }\n",
       "\n",
       "    .dataframe tbody tr th {\n",
       "        vertical-align: top;\n",
       "    }\n",
       "\n",
       "    .dataframe thead th {\n",
       "        text-align: right;\n",
       "    }\n",
       "</style>\n",
       "<table border=\"1\" class=\"dataframe\">\n",
       "  <thead>\n",
       "    <tr style=\"text-align: right;\">\n",
       "      <th></th>\n",
       "      <th>Strategy</th>\n",
       "      <th>Mode</th>\n",
       "      <th>Securities</th>\n",
       "      <th>Model ID</th>\n",
       "      <th>Account</th>\n",
       "      <th>Token</th>\n",
       "      <th>Strategy Parameters</th>\n",
       "    </tr>\n",
       "  </thead>\n",
       "  <tbody>\n",
       "    <tr>\n",
       "      <th>0</th>\n",
       "      <td>simple_strategy_2</td>\n",
       "      <td>backtest</td>\n",
       "      <td>EUR_USD,GBP_USD</td>\n",
       "      <td>b5c9975d81c64bc3b662654007e1c20d</td>\n",
       "      <td>NaN</td>\n",
       "      <td>NaN</td>\n",
       "      <td>ml_serving=True, test_param=poda</td>\n",
       "    </tr>\n",
       "  </tbody>\n",
       "</table>\n",
       "</div>"
      ],
      "text/plain": [
       "            Strategy      Mode       Securities  \\\n",
       "0  simple_strategy_2  backtest  EUR_USD,GBP_USD   \n",
       "\n",
       "                           Model ID  Account  Token  \\\n",
       "0  b5c9975d81c64bc3b662654007e1c20d      NaN    NaN   \n",
       "\n",
       "                Strategy Parameters  \n",
       "0  ml_serving=True, test_param=poda  "
      ]
     },
     "execution_count": 26,
     "metadata": {},
     "output_type": "execute_result"
    }
   ],
   "source": [
    "df"
   ]
  },
  {
   "cell_type": "code",
   "execution_count": 27,
   "metadata": {},
   "outputs": [],
   "source": [
    "df.fillna('', inplace=True)"
   ]
  },
  {
   "cell_type": "code",
   "execution_count": 28,
   "metadata": {},
   "outputs": [
    {
     "data": {
      "text/html": [
       "<div>\n",
       "<style scoped>\n",
       "    .dataframe tbody tr th:only-of-type {\n",
       "        vertical-align: middle;\n",
       "    }\n",
       "\n",
       "    .dataframe tbody tr th {\n",
       "        vertical-align: top;\n",
       "    }\n",
       "\n",
       "    .dataframe thead th {\n",
       "        text-align: right;\n",
       "    }\n",
       "</style>\n",
       "<table border=\"1\" class=\"dataframe\">\n",
       "  <thead>\n",
       "    <tr style=\"text-align: right;\">\n",
       "      <th></th>\n",
       "      <th>Strategy</th>\n",
       "      <th>Mode</th>\n",
       "      <th>Securities</th>\n",
       "      <th>Model ID</th>\n",
       "      <th>Account</th>\n",
       "      <th>Token</th>\n",
       "      <th>Strategy Parameters</th>\n",
       "    </tr>\n",
       "  </thead>\n",
       "  <tbody>\n",
       "    <tr>\n",
       "      <th>0</th>\n",
       "      <td>simple_strategy_2</td>\n",
       "      <td>backtest</td>\n",
       "      <td>EUR_USD,GBP_USD</td>\n",
       "      <td>b5c9975d81c64bc3b662654007e1c20d</td>\n",
       "      <td></td>\n",
       "      <td></td>\n",
       "      <td>ml_serving=True, test_param=poda</td>\n",
       "    </tr>\n",
       "  </tbody>\n",
       "</table>\n",
       "</div>"
      ],
      "text/plain": [
       "            Strategy      Mode       Securities  \\\n",
       "0  simple_strategy_2  backtest  EUR_USD,GBP_USD   \n",
       "\n",
       "                           Model ID Account Token  \\\n",
       "0  b5c9975d81c64bc3b662654007e1c20d                 \n",
       "\n",
       "                Strategy Parameters  \n",
       "0  ml_serving=True, test_param=poda  "
      ]
     },
     "execution_count": 28,
     "metadata": {},
     "output_type": "execute_result"
    }
   ],
   "source": [
    "df.head()"
   ]
  },
  {
   "cell_type": "code",
   "execution_count": 29,
   "metadata": {},
   "outputs": [
    {
     "name": "stdout",
     "output_type": "stream",
     "text": [
      "python 12_Clean_Strategy_BT.py --strat_name=simple_strategy_2 --mode=backtest --tickers=EUR_USD,GBP_USD --strat_param=ml_serving=True, test_param=poda\n",
      "model_uri=b5c9975d81c64bc3b662654007e1c20d,ml_serving=True, test_param=poda\n"
     ]
    }
   ],
   "source": [
    "command={}\n",
    "for i,row in df.iterrows():\n",
    "    command['--strat_name']=row['Strategy']\n",
    "    command['--mode']=str(row['Mode'])\n",
    "    command['--tickers']=row['Securities']\n",
    "    command['--broker_token']=row['Token']\n",
    "    command['--broker_account']=row['Account']\n",
    "    command['--strat_param']=(\"model_uri=\"+row['Model ID']+\",\"+row[\"Strategy Parameters\"]) if row[\"Strategy Parameters\"]!=\"\" else (\"model_uri=\"+row['Model ID'])\n",
    "    final_commmand='python 12_Clean_Strategy_BT.py '+' '.join([(k+\"=\"+v) for k, v in command.items() if v!=''])\n",
    "    print(final_commmand)\n",
    "#     print(row['Strategy Parameters']==\"\")\n",
    "    print((\"model_uri=\"+row['Model ID']+\",\"+row[\"Strategy Parameters\"]) if row[\"Strategy Parameters\"]!=\"\" else (\"model_uri=\"+row['Model ID']))\n",
    "#     print(\"patti\" if row[\"Strategy Parameters\"]==\"\" else \"poda\")"
   ]
  },
  {
   "cell_type": "code",
   "execution_count": 10,
   "metadata": {},
   "outputs": [
    {
     "data": {
      "text/plain": [
       "'model_uri=b5c9975d81c64bc3b662654007e1c20d'"
      ]
     },
     "execution_count": 10,
     "metadata": {},
     "output_type": "execute_result"
    }
   ],
   "source": []
  },
  {
   "cell_type": "code",
   "execution_count": 88,
   "metadata": {},
   "outputs": [],
   "source": [
    "# command={k: v for k, v in command.items() if v!=''}"
   ]
  },
  {
   "cell_type": "code",
   "execution_count": 93,
   "metadata": {},
   "outputs": [
    {
     "data": {
      "text/plain": [
       "'python 12_Clean_Strategy_BT.py --strat_name=simple_strategy_2 --live=False --tickers=EUR_USD'"
      ]
     },
     "execution_count": 93,
     "metadata": {},
     "output_type": "execute_result"
    }
   ],
   "source": [
    "'python 12_Clean_Strategy_BT.py '+' '.join([(k+\"=\"+v) for k, v in command.items() if v!=''])"
   ]
  },
  {
   "cell_type": "code",
   "execution_count": 78,
   "metadata": {},
   "outputs": [
    {
     "data": {
      "text/plain": [
       "<zip at 0x7f67e982ddc8>"
      ]
     },
     "execution_count": 78,
     "metadata": {},
     "output_type": "execute_result"
    }
   ],
   "source": [
    "zip(*command.items())"
   ]
  },
  {
   "cell_type": "code",
   "execution_count": 94,
   "metadata": {},
   "outputs": [
    {
     "name": "stdout",
     "output_type": "stream",
     "text": [
      "/opt/conda/lib/python3.7/site-packages/botocore/awsrequest.py:624: DeprecationWarning: Using or importing the ABCs from 'collections' instead of from 'collections.abc' is deprecated, and in 3.8 it will stop working\n",
      "  class HeadersDict(collections.MutableMapping):\n",
      "Traceback (most recent call last):\n",
      "  File \"12_Clean_Strategy_BT.py\", line 138, in <module>\n",
      "    run()\n",
      "  File \"12_Clean_Strategy_BT.py\", line 38, in run\n",
      "    ticker_list = args.tickers.split(',')\n",
      "AttributeError: 'list' object has no attribute 'split'\n"
     ]
    }
   ],
   "source": [
    "! python 12_Clean_Strategy_BT.py --strat_name=simple_strategy_2 --live=False --tickers=EUR_USD"
   ]
  },
  {
   "cell_type": "code",
   "execution_count": 31,
   "metadata": {},
   "outputs": [],
   "source": [
    "import json"
   ]
  },
  {
   "cell_type": "code",
   "execution_count": 76,
   "metadata": {},
   "outputs": [
    {
     "data": {
      "text/plain": [
       "'{\"--strat_name\": \"simple_strategy_2\", \"--live\": false, \"--tickers\": \"EUR_USD\"}'"
      ]
     },
     "execution_count": 76,
     "metadata": {},
     "output_type": "execute_result"
    }
   ],
   "source": [
    "json.dumps(command)"
   ]
  },
  {
   "cell_type": "code",
   "execution_count": 22,
   "metadata": {},
   "outputs": [
    {
     "name": "stdout",
     "output_type": "stream",
     "text": [
      "simple_strategy_2\n",
      "simple_strategy_2\n"
     ]
    }
   ],
   "source": [
    "for a in df['Strategy']:\n",
    "    print(a)"
   ]
  },
  {
   "cell_type": "code",
   "execution_count": null,
   "metadata": {},
   "outputs": [],
   "source": [
    "# bashCommand = \"python,12_Clean_Strategy_BT.py\"\n",
    "# output = subprocess.check_output(['bash','-c', bashCommand])"
   ]
  },
  {
   "cell_type": "code",
   "execution_count": 21,
   "metadata": {},
   "outputs": [
    {
     "data": {
      "text/plain": [
       "0"
      ]
     },
     "execution_count": 21,
     "metadata": {},
     "output_type": "execute_result"
    }
   ],
   "source": [
    "subprocess.call([\"python\", \"12_Clean_Strategy_BT.py\",\"--strat_name\",\"simple_strategy_2\"])"
   ]
  },
  {
   "cell_type": "code",
   "execution_count": null,
   "metadata": {},
   "outputs": [],
   "source": [
    "for "
   ]
  }
 ],
 "metadata": {
  "kernelspec": {
   "display_name": "Python 3",
   "language": "python",
   "name": "python3"
  },
  "language_info": {
   "codemirror_mode": {
    "name": "ipython",
    "version": 3
   },
   "file_extension": ".py",
   "mimetype": "text/x-python",
   "name": "python",
   "nbconvert_exporter": "python",
   "pygments_lexer": "ipython3",
   "version": "3.7.3"
  }
 },
 "nbformat": 4,
 "nbformat_minor": 2
}
