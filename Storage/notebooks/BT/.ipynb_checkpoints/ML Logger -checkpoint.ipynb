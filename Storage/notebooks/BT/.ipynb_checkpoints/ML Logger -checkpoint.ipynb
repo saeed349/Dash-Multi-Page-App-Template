{
 "cells": [
  {
   "cell_type": "code",
   "execution_count": 12,
   "metadata": {},
   "outputs": [],
   "source": [
    "import pandas as pd\n",
    "%matplotlib inline"
   ]
  },
  {
   "cell_type": "code",
   "execution_count": 13,
   "metadata": {},
   "outputs": [],
   "source": [
    "# df=pd.read_csv(\"ml_log.csv\",parse_dates=True)#infer_datetime_format=True) ,index_col=['time','ticker']"
   ]
  },
  {
   "cell_type": "code",
   "execution_count": 14,
   "metadata": {},
   "outputs": [],
   "source": [
    "# df=pd.read_csv(\"ml_log.csv\",index_col=['time','ticker'],parse_dates=True)\n",
    "df=pd.read_csv(\"ml_log.csv\",index_col=['time'],parse_dates=True)"
   ]
  },
  {
   "cell_type": "code",
   "execution_count": 15,
   "metadata": {},
   "outputs": [
    {
     "data": {
      "text/html": [
       "<div>\n",
       "<style scoped>\n",
       "    .dataframe tbody tr th:only-of-type {\n",
       "        vertical-align: middle;\n",
       "    }\n",
       "\n",
       "    .dataframe tbody tr th {\n",
       "        vertical-align: top;\n",
       "    }\n",
       "\n",
       "    .dataframe thead th {\n",
       "        text-align: right;\n",
       "    }\n",
       "</style>\n",
       "<table border=\"1\" class=\"dataframe\">\n",
       "  <thead>\n",
       "    <tr style=\"text-align: right;\">\n",
       "      <th></th>\n",
       "      <th>ticker</th>\n",
       "      <th>close</th>\n",
       "      <th>sma1</th>\n",
       "      <th>sma2</th>\n",
       "    </tr>\n",
       "    <tr>\n",
       "      <th>time</th>\n",
       "      <th></th>\n",
       "      <th></th>\n",
       "      <th></th>\n",
       "      <th></th>\n",
       "    </tr>\n",
       "  </thead>\n",
       "  <tbody>\n",
       "    <tr>\n",
       "      <td>2019-01-28 22:00:00</td>\n",
       "      <td>EUR_USD</td>\n",
       "      <td>1.14113</td>\n",
       "      <td>1.135365</td>\n",
       "      <td>1.137738</td>\n",
       "    </tr>\n",
       "    <tr>\n",
       "      <td>2019-01-28 22:00:00</td>\n",
       "      <td>GBP_USD</td>\n",
       "      <td>1.30556</td>\n",
       "      <td>1.294032</td>\n",
       "      <td>1.280558</td>\n",
       "    </tr>\n",
       "    <tr>\n",
       "      <td>2019-01-29 22:00:00</td>\n",
       "      <td>EUR_USD</td>\n",
       "      <td>1.14063</td>\n",
       "      <td>1.135649</td>\n",
       "      <td>1.138145</td>\n",
       "    </tr>\n",
       "    <tr>\n",
       "      <td>2019-01-29 22:00:00</td>\n",
       "      <td>GBP_USD</td>\n",
       "      <td>1.30543</td>\n",
       "      <td>1.296327</td>\n",
       "      <td>1.282924</td>\n",
       "    </tr>\n",
       "    <tr>\n",
       "      <td>2019-01-30 22:00:00</td>\n",
       "      <td>EUR_USD</td>\n",
       "      <td>1.14360</td>\n",
       "      <td>1.136307</td>\n",
       "      <td>1.138780</td>\n",
       "    </tr>\n",
       "  </tbody>\n",
       "</table>\n",
       "</div>"
      ],
      "text/plain": [
       "                      ticker    close      sma1      sma2\n",
       "time                                                     \n",
       "2019-01-28 22:00:00  EUR_USD  1.14113  1.135365  1.137738\n",
       "2019-01-28 22:00:00  GBP_USD  1.30556  1.294032  1.280558\n",
       "2019-01-29 22:00:00  EUR_USD  1.14063  1.135649  1.138145\n",
       "2019-01-29 22:00:00  GBP_USD  1.30543  1.296327  1.282924\n",
       "2019-01-30 22:00:00  EUR_USD  1.14360  1.136307  1.138780"
      ]
     },
     "execution_count": 15,
     "metadata": {},
     "output_type": "execute_result"
    }
   ],
   "source": [
    "df.head()"
   ]
  },
  {
   "cell_type": "code",
   "execution_count": 16,
   "metadata": {},
   "outputs": [],
   "source": [
    "df['fwd_returns']=df.groupby(\"ticker\")[\"close\"].pct_change(1)"
   ]
  },
  {
   "cell_type": "code",
   "execution_count": 17,
   "metadata": {},
   "outputs": [],
   "source": [
    "df=df.reset_index().drop(columns=['time','ticker','close'])"
   ]
  },
  {
   "cell_type": "code",
   "execution_count": 18,
   "metadata": {},
   "outputs": [],
   "source": [
    "df.dropna().to_csv(\"ml_log_processed.csv\",index=False)"
   ]
  },
  {
   "cell_type": "code",
   "execution_count": 19,
   "metadata": {},
   "outputs": [
    {
     "data": {
      "text/html": [
       "<div>\n",
       "<style scoped>\n",
       "    .dataframe tbody tr th:only-of-type {\n",
       "        vertical-align: middle;\n",
       "    }\n",
       "\n",
       "    .dataframe tbody tr th {\n",
       "        vertical-align: top;\n",
       "    }\n",
       "\n",
       "    .dataframe thead th {\n",
       "        text-align: right;\n",
       "    }\n",
       "</style>\n",
       "<table border=\"1\" class=\"dataframe\">\n",
       "  <thead>\n",
       "    <tr style=\"text-align: right;\">\n",
       "      <th></th>\n",
       "      <th>sma1</th>\n",
       "      <th>sma2</th>\n",
       "      <th>fwd_returns</th>\n",
       "    </tr>\n",
       "  </thead>\n",
       "  <tbody>\n",
       "    <tr>\n",
       "      <td>0</td>\n",
       "      <td>1.135365</td>\n",
       "      <td>1.137738</td>\n",
       "      <td>NaN</td>\n",
       "    </tr>\n",
       "    <tr>\n",
       "      <td>1</td>\n",
       "      <td>1.294032</td>\n",
       "      <td>1.280558</td>\n",
       "      <td>NaN</td>\n",
       "    </tr>\n",
       "    <tr>\n",
       "      <td>2</td>\n",
       "      <td>1.135649</td>\n",
       "      <td>1.138145</td>\n",
       "      <td>-0.000438</td>\n",
       "    </tr>\n",
       "    <tr>\n",
       "      <td>3</td>\n",
       "      <td>1.296327</td>\n",
       "      <td>1.282924</td>\n",
       "      <td>-0.000100</td>\n",
       "    </tr>\n",
       "    <tr>\n",
       "      <td>4</td>\n",
       "      <td>1.136307</td>\n",
       "      <td>1.138780</td>\n",
       "      <td>0.002604</td>\n",
       "    </tr>\n",
       "  </tbody>\n",
       "</table>\n",
       "</div>"
      ],
      "text/plain": [
       "       sma1      sma2  fwd_returns\n",
       "0  1.135365  1.137738          NaN\n",
       "1  1.294032  1.280558          NaN\n",
       "2  1.135649  1.138145    -0.000438\n",
       "3  1.296327  1.282924    -0.000100\n",
       "4  1.136307  1.138780     0.002604"
      ]
     },
     "execution_count": 19,
     "metadata": {},
     "output_type": "execute_result"
    }
   ],
   "source": [
    "df.head()"
   ]
  },
  {
   "cell_type": "code",
   "execution_count": null,
   "metadata": {},
   "outputs": [],
   "source": []
  }
 ],
 "metadata": {
  "kernelspec": {
   "display_name": "Python 3",
   "language": "python",
   "name": "python3"
  },
  "language_info": {
   "codemirror_mode": {
    "name": "ipython",
    "version": 3
   },
   "file_extension": ".py",
   "mimetype": "text/x-python",
   "name": "python",
   "nbconvert_exporter": "python",
   "pygments_lexer": "ipython3",
   "version": "3.7.3"
  }
 },
 "nbformat": 4,
 "nbformat_minor": 2
}
