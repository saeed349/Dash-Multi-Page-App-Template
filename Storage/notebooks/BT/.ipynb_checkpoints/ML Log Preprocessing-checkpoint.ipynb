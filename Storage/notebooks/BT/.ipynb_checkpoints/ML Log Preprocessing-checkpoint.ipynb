{
 "cells": [
  {
   "cell_type": "code",
   "execution_count": 5,
   "metadata": {},
   "outputs": [],
   "source": [
    "import pandas as pd\n",
    "%matplotlib inline\n",
    "\n",
    "import boto3\n",
    "from io import StringIO"
   ]
  },
  {
   "cell_type": "code",
   "execution_count": 13,
   "metadata": {},
   "outputs": [],
   "source": [
    "# df=pd.read_csv(\"ml_log.csv\",parse_dates=True)#infer_datetime_format=True) ,index_col=['time','ticker']"
   ]
  },
  {
   "cell_type": "code",
   "execution_count": 52,
   "metadata": {},
   "outputs": [],
   "source": [
    "s3 = boto3.client('s3',endpoint_url=\"http://minio-image:9000\",aws_access_key_id=\"minio-image\",aws_secret_access_key=\"minio-image-pass\")\n",
    "Bucket=\"model-support-files\"\n",
    "Key=\"16_ml_log.csv\"\n",
    "read_file = s3.get_object(Bucket=Bucket, Key=Key)\n",
    "df = pd.read_csv(read_file['Body'],sep=',',index_col=['datetime'],parse_dates=True)"
   ]
  },
  {
   "cell_type": "code",
   "execution_count": 53,
   "metadata": {},
   "outputs": [
    {
     "data": {
      "text/html": [
       "<div>\n",
       "<style scoped>\n",
       "    .dataframe tbody tr th:only-of-type {\n",
       "        vertical-align: middle;\n",
       "    }\n",
       "\n",
       "    .dataframe tbody tr th {\n",
       "        vertical-align: top;\n",
       "    }\n",
       "\n",
       "    .dataframe thead th {\n",
       "        text-align: right;\n",
       "    }\n",
       "</style>\n",
       "<table border=\"1\" class=\"dataframe\">\n",
       "  <thead>\n",
       "    <tr style=\"text-align: right;\">\n",
       "      <th></th>\n",
       "      <th>security</th>\n",
       "      <th>close</th>\n",
       "      <th>MovingAverageSimple_0</th>\n",
       "      <th>MovingAverageSimple_1</th>\n",
       "      <th>MovingAverageSimple_2</th>\n",
       "    </tr>\n",
       "    <tr>\n",
       "      <th>datetime</th>\n",
       "      <th></th>\n",
       "      <th></th>\n",
       "      <th></th>\n",
       "      <th></th>\n",
       "      <th></th>\n",
       "    </tr>\n",
       "  </thead>\n",
       "  <tbody>\n",
       "    <tr>\n",
       "      <td>2019-01-01 22:00:00</td>\n",
       "      <td>EUR_USD</td>\n",
       "      <td>1.13250</td>\n",
       "      <td>NaN</td>\n",
       "      <td>NaN</td>\n",
       "      <td>NaN</td>\n",
       "    </tr>\n",
       "    <tr>\n",
       "      <td>2019-01-02 22:00:00</td>\n",
       "      <td>EUR_USD</td>\n",
       "      <td>1.13091</td>\n",
       "      <td>NaN</td>\n",
       "      <td>NaN</td>\n",
       "      <td>NaN</td>\n",
       "    </tr>\n",
       "    <tr>\n",
       "      <td>2019-01-03 22:00:00</td>\n",
       "      <td>EUR_USD</td>\n",
       "      <td>1.13458</td>\n",
       "      <td>NaN</td>\n",
       "      <td>NaN</td>\n",
       "      <td>NaN</td>\n",
       "    </tr>\n",
       "    <tr>\n",
       "      <td>2019-01-06 22:00:00</td>\n",
       "      <td>EUR_USD</td>\n",
       "      <td>1.13972</td>\n",
       "      <td>NaN</td>\n",
       "      <td>NaN</td>\n",
       "      <td>NaN</td>\n",
       "    </tr>\n",
       "    <tr>\n",
       "      <td>2019-01-07 22:00:00</td>\n",
       "      <td>EUR_USD</td>\n",
       "      <td>1.14219</td>\n",
       "      <td>NaN</td>\n",
       "      <td>NaN</td>\n",
       "      <td>NaN</td>\n",
       "    </tr>\n",
       "  </tbody>\n",
       "</table>\n",
       "</div>"
      ],
      "text/plain": [
       "                    security    close  MovingAverageSimple_0  \\\n",
       "datetime                                                       \n",
       "2019-01-01 22:00:00  EUR_USD  1.13250                    NaN   \n",
       "2019-01-02 22:00:00  EUR_USD  1.13091                    NaN   \n",
       "2019-01-03 22:00:00  EUR_USD  1.13458                    NaN   \n",
       "2019-01-06 22:00:00  EUR_USD  1.13972                    NaN   \n",
       "2019-01-07 22:00:00  EUR_USD  1.14219                    NaN   \n",
       "\n",
       "                     MovingAverageSimple_1  MovingAverageSimple_2  \n",
       "datetime                                                           \n",
       "2019-01-01 22:00:00                    NaN                    NaN  \n",
       "2019-01-02 22:00:00                    NaN                    NaN  \n",
       "2019-01-03 22:00:00                    NaN                    NaN  \n",
       "2019-01-06 22:00:00                    NaN                    NaN  \n",
       "2019-01-07 22:00:00                    NaN                    NaN  "
      ]
     },
     "execution_count": 53,
     "metadata": {},
     "output_type": "execute_result"
    }
   ],
   "source": [
    "df.head()"
   ]
  },
  {
   "cell_type": "code",
   "execution_count": 54,
   "metadata": {},
   "outputs": [],
   "source": [
    "# df['datetime']=pd.to_datetime(df['datetime'])\n",
    "df['fwd_returns']=df.groupby(\"security\")[\"close\"].pct_change(1)"
   ]
  },
  {
   "cell_type": "code",
   "execution_count": 55,
   "metadata": {},
   "outputs": [],
   "source": [
    "df.sort_values(by='datetime',inplace=True)"
   ]
  },
  {
   "cell_type": "code",
   "execution_count": 57,
   "metadata": {},
   "outputs": [],
   "source": [
    "df=df.reset_index().drop(columns=['datetime','security','close'])"
   ]
  },
  {
   "cell_type": "code",
   "execution_count": 58,
   "metadata": {},
   "outputs": [
    {
     "data": {
      "text/html": [
       "<div>\n",
       "<style scoped>\n",
       "    .dataframe tbody tr th:only-of-type {\n",
       "        vertical-align: middle;\n",
       "    }\n",
       "\n",
       "    .dataframe tbody tr th {\n",
       "        vertical-align: top;\n",
       "    }\n",
       "\n",
       "    .dataframe thead th {\n",
       "        text-align: right;\n",
       "    }\n",
       "</style>\n",
       "<table border=\"1\" class=\"dataframe\">\n",
       "  <thead>\n",
       "    <tr style=\"text-align: right;\">\n",
       "      <th></th>\n",
       "      <th>MovingAverageSimple_0</th>\n",
       "      <th>MovingAverageSimple_1</th>\n",
       "      <th>MovingAverageSimple_2</th>\n",
       "      <th>fwd_returns</th>\n",
       "    </tr>\n",
       "  </thead>\n",
       "  <tbody>\n",
       "    <tr>\n",
       "      <td>0</td>\n",
       "      <td>NaN</td>\n",
       "      <td>NaN</td>\n",
       "      <td>NaN</td>\n",
       "      <td>NaN</td>\n",
       "    </tr>\n",
       "    <tr>\n",
       "      <td>1</td>\n",
       "      <td>NaN</td>\n",
       "      <td>NaN</td>\n",
       "      <td>NaN</td>\n",
       "      <td>NaN</td>\n",
       "    </tr>\n",
       "    <tr>\n",
       "      <td>2</td>\n",
       "      <td>NaN</td>\n",
       "      <td>NaN</td>\n",
       "      <td>NaN</td>\n",
       "      <td>-0.000566</td>\n",
       "    </tr>\n",
       "    <tr>\n",
       "      <td>3</td>\n",
       "      <td>NaN</td>\n",
       "      <td>NaN</td>\n",
       "      <td>NaN</td>\n",
       "      <td>-0.001404</td>\n",
       "    </tr>\n",
       "    <tr>\n",
       "      <td>4</td>\n",
       "      <td>NaN</td>\n",
       "      <td>NaN</td>\n",
       "      <td>NaN</td>\n",
       "      <td>0.003245</td>\n",
       "    </tr>\n",
       "    <tr>\n",
       "      <td>...</td>\n",
       "      <td>...</td>\n",
       "      <td>...</td>\n",
       "      <td>...</td>\n",
       "      <td>...</td>\n",
       "    </tr>\n",
       "    <tr>\n",
       "      <td>95</td>\n",
       "      <td>1.129951</td>\n",
       "      <td>1.128955</td>\n",
       "      <td>NaN</td>\n",
       "      <td>0.000805</td>\n",
       "    </tr>\n",
       "    <tr>\n",
       "      <td>96</td>\n",
       "      <td>1.308540</td>\n",
       "      <td>1.305440</td>\n",
       "      <td>1.294621</td>\n",
       "      <td>0.011224</td>\n",
       "    </tr>\n",
       "    <tr>\n",
       "      <td>97</td>\n",
       "      <td>1.128883</td>\n",
       "      <td>1.128726</td>\n",
       "      <td>NaN</td>\n",
       "      <td>0.003254</td>\n",
       "    </tr>\n",
       "    <tr>\n",
       "      <td>98</td>\n",
       "      <td>1.308853</td>\n",
       "      <td>1.307532</td>\n",
       "      <td>1.295796</td>\n",
       "      <td>-0.000326</td>\n",
       "    </tr>\n",
       "    <tr>\n",
       "      <td>99</td>\n",
       "      <td>1.127882</td>\n",
       "      <td>1.128664</td>\n",
       "      <td>1.133829</td>\n",
       "      <td>0.002085</td>\n",
       "    </tr>\n",
       "  </tbody>\n",
       "</table>\n",
       "<p>100 rows × 4 columns</p>\n",
       "</div>"
      ],
      "text/plain": [
       "    MovingAverageSimple_0  MovingAverageSimple_1  MovingAverageSimple_2  \\\n",
       "0                     NaN                    NaN                    NaN   \n",
       "1                     NaN                    NaN                    NaN   \n",
       "2                     NaN                    NaN                    NaN   \n",
       "3                     NaN                    NaN                    NaN   \n",
       "4                     NaN                    NaN                    NaN   \n",
       "..                    ...                    ...                    ...   \n",
       "95               1.129951               1.128955                    NaN   \n",
       "96               1.308540               1.305440               1.294621   \n",
       "97               1.128883               1.128726                    NaN   \n",
       "98               1.308853               1.307532               1.295796   \n",
       "99               1.127882               1.128664               1.133829   \n",
       "\n",
       "    fwd_returns  \n",
       "0           NaN  \n",
       "1           NaN  \n",
       "2     -0.000566  \n",
       "3     -0.001404  \n",
       "4      0.003245  \n",
       "..          ...  \n",
       "95     0.000805  \n",
       "96     0.011224  \n",
       "97     0.003254  \n",
       "98    -0.000326  \n",
       "99     0.002085  \n",
       "\n",
       "[100 rows x 4 columns]"
      ]
     },
     "execution_count": 58,
     "metadata": {},
     "output_type": "execute_result"
    }
   ],
   "source": [
    "df.head(100)"
   ]
  },
  {
   "cell_type": "code",
   "execution_count": 59,
   "metadata": {},
   "outputs": [],
   "source": [
    "df.dropna().to_csv((\"processed_\"+Key),index=False)"
   ]
  },
  {
   "cell_type": "markdown",
   "metadata": {},
   "source": [
    "### Old Format"
   ]
  },
  {
   "cell_type": "code",
   "execution_count": 2,
   "metadata": {},
   "outputs": [],
   "source": [
    "# df=pd.read_csv(\"ml_log.csv\",index_col=['time','ticker'],parse_dates=True)\n",
    "df=pd.read_csv(\"ml_log.csv\",index_col=['time'],parse_dates=True)"
   ]
  },
  {
   "cell_type": "code",
   "execution_count": 3,
   "metadata": {},
   "outputs": [
    {
     "data": {
      "text/html": [
       "<div>\n",
       "<style scoped>\n",
       "    .dataframe tbody tr th:only-of-type {\n",
       "        vertical-align: middle;\n",
       "    }\n",
       "\n",
       "    .dataframe tbody tr th {\n",
       "        vertical-align: top;\n",
       "    }\n",
       "\n",
       "    .dataframe thead th {\n",
       "        text-align: right;\n",
       "    }\n",
       "</style>\n",
       "<table border=\"1\" class=\"dataframe\">\n",
       "  <thead>\n",
       "    <tr style=\"text-align: right;\">\n",
       "      <th></th>\n",
       "      <th>ticker</th>\n",
       "      <th>close</th>\n",
       "      <th>sma1</th>\n",
       "      <th>sma2</th>\n",
       "    </tr>\n",
       "    <tr>\n",
       "      <th>time</th>\n",
       "      <th></th>\n",
       "      <th></th>\n",
       "      <th></th>\n",
       "      <th></th>\n",
       "    </tr>\n",
       "  </thead>\n",
       "  <tbody>\n",
       "    <tr>\n",
       "      <td>2019-01-28 22:00:00</td>\n",
       "      <td>EUR_USD</td>\n",
       "      <td>1.14113</td>\n",
       "      <td>1.135365</td>\n",
       "      <td>1.137738</td>\n",
       "    </tr>\n",
       "    <tr>\n",
       "      <td>2019-01-28 22:00:00</td>\n",
       "      <td>GBP_USD</td>\n",
       "      <td>1.30556</td>\n",
       "      <td>1.294032</td>\n",
       "      <td>1.280558</td>\n",
       "    </tr>\n",
       "    <tr>\n",
       "      <td>2019-01-29 22:00:00</td>\n",
       "      <td>EUR_USD</td>\n",
       "      <td>1.14063</td>\n",
       "      <td>1.135649</td>\n",
       "      <td>1.138145</td>\n",
       "    </tr>\n",
       "    <tr>\n",
       "      <td>2019-01-29 22:00:00</td>\n",
       "      <td>GBP_USD</td>\n",
       "      <td>1.30543</td>\n",
       "      <td>1.296327</td>\n",
       "      <td>1.282924</td>\n",
       "    </tr>\n",
       "    <tr>\n",
       "      <td>2019-01-30 22:00:00</td>\n",
       "      <td>EUR_USD</td>\n",
       "      <td>1.14360</td>\n",
       "      <td>1.136307</td>\n",
       "      <td>1.138780</td>\n",
       "    </tr>\n",
       "  </tbody>\n",
       "</table>\n",
       "</div>"
      ],
      "text/plain": [
       "                      ticker    close      sma1      sma2\n",
       "time                                                     \n",
       "2019-01-28 22:00:00  EUR_USD  1.14113  1.135365  1.137738\n",
       "2019-01-28 22:00:00  GBP_USD  1.30556  1.294032  1.280558\n",
       "2019-01-29 22:00:00  EUR_USD  1.14063  1.135649  1.138145\n",
       "2019-01-29 22:00:00  GBP_USD  1.30543  1.296327  1.282924\n",
       "2019-01-30 22:00:00  EUR_USD  1.14360  1.136307  1.138780"
      ]
     },
     "execution_count": 3,
     "metadata": {},
     "output_type": "execute_result"
    }
   ],
   "source": [
    "df.head()"
   ]
  },
  {
   "cell_type": "code",
   "execution_count": 16,
   "metadata": {},
   "outputs": [],
   "source": [
    "df['fwd_returns']=df.groupby(\"ticker\")[\"close\"].pct_change(1)"
   ]
  },
  {
   "cell_type": "code",
   "execution_count": 17,
   "metadata": {},
   "outputs": [],
   "source": [
    "df=df.reset_index().drop(columns=['time','ticker','close'])"
   ]
  },
  {
   "cell_type": "code",
   "execution_count": 18,
   "metadata": {},
   "outputs": [],
   "source": [
    "df.dropna().to_csv(\"ml_log_processed.csv\",index=False)"
   ]
  },
  {
   "cell_type": "code",
   "execution_count": 19,
   "metadata": {},
   "outputs": [
    {
     "data": {
      "text/html": [
       "<div>\n",
       "<style scoped>\n",
       "    .dataframe tbody tr th:only-of-type {\n",
       "        vertical-align: middle;\n",
       "    }\n",
       "\n",
       "    .dataframe tbody tr th {\n",
       "        vertical-align: top;\n",
       "    }\n",
       "\n",
       "    .dataframe thead th {\n",
       "        text-align: right;\n",
       "    }\n",
       "</style>\n",
       "<table border=\"1\" class=\"dataframe\">\n",
       "  <thead>\n",
       "    <tr style=\"text-align: right;\">\n",
       "      <th></th>\n",
       "      <th>sma1</th>\n",
       "      <th>sma2</th>\n",
       "      <th>fwd_returns</th>\n",
       "    </tr>\n",
       "  </thead>\n",
       "  <tbody>\n",
       "    <tr>\n",
       "      <td>0</td>\n",
       "      <td>1.135365</td>\n",
       "      <td>1.137738</td>\n",
       "      <td>NaN</td>\n",
       "    </tr>\n",
       "    <tr>\n",
       "      <td>1</td>\n",
       "      <td>1.294032</td>\n",
       "      <td>1.280558</td>\n",
       "      <td>NaN</td>\n",
       "    </tr>\n",
       "    <tr>\n",
       "      <td>2</td>\n",
       "      <td>1.135649</td>\n",
       "      <td>1.138145</td>\n",
       "      <td>-0.000438</td>\n",
       "    </tr>\n",
       "    <tr>\n",
       "      <td>3</td>\n",
       "      <td>1.296327</td>\n",
       "      <td>1.282924</td>\n",
       "      <td>-0.000100</td>\n",
       "    </tr>\n",
       "    <tr>\n",
       "      <td>4</td>\n",
       "      <td>1.136307</td>\n",
       "      <td>1.138780</td>\n",
       "      <td>0.002604</td>\n",
       "    </tr>\n",
       "  </tbody>\n",
       "</table>\n",
       "</div>"
      ],
      "text/plain": [
       "       sma1      sma2  fwd_returns\n",
       "0  1.135365  1.137738          NaN\n",
       "1  1.294032  1.280558          NaN\n",
       "2  1.135649  1.138145    -0.000438\n",
       "3  1.296327  1.282924    -0.000100\n",
       "4  1.136307  1.138780     0.002604"
      ]
     },
     "execution_count": 19,
     "metadata": {},
     "output_type": "execute_result"
    }
   ],
   "source": [
    "df.head()"
   ]
  },
  {
   "cell_type": "markdown",
   "metadata": {},
   "source": [
    "## QGRID"
   ]
  },
  {
   "cell_type": "code",
   "execution_count": 51,
   "metadata": {},
   "outputs": [],
   "source": [
    "# ! pip install qgrid\n",
    "\n",
    "# ! jupyter nbextension enable --py --sys-prefix qgrid\n",
    "# ! jupyter nbextension enable --py --sys-prefix widgetsnbextension\n",
    "\n",
    "# import qgrid\n",
    "# qgrid_widget=qgrid.show_grid(df,show_toolbar=True)\n",
    "# qgrid_widget"
   ]
  }
 ],
 "metadata": {
  "kernelspec": {
   "display_name": "Python 3",
   "language": "python",
   "name": "python3"
  },
  "language_info": {
   "codemirror_mode": {
    "name": "ipython",
    "version": 3
   },
   "file_extension": ".py",
   "mimetype": "text/x-python",
   "name": "python",
   "nbconvert_exporter": "python",
   "pygments_lexer": "ipython3",
   "version": "3.7.3"
  }
 },
 "nbformat": 4,
 "nbformat_minor": 2
}
