{
 "cells": [
  {
   "cell_type": "markdown",
   "metadata": {},
   "source": [
    "### Putting everything together "
   ]
  },
  {
   "cell_type": "code",
   "execution_count": 13,
   "metadata": {},
   "outputs": [],
   "source": [
    "import pandas as pd\n",
    "import boto3\n",
    "from io import StringIO\n",
    "import io"
   ]
  },
  {
   "cell_type": "code",
   "execution_count": 3,
   "metadata": {},
   "outputs": [
    {
     "data": {
      "text/plain": [
       "{'ResponseMetadata': {'RequestId': '15DE8E61F1E4D58C',\n",
       "  'HostId': '',\n",
       "  'HTTPStatusCode': 200,\n",
       "  'HTTPHeaders': {'accept-ranges': 'bytes',\n",
       "   'content-length': '0',\n",
       "   'content-security-policy': 'block-all-mixed-content',\n",
       "   'etag': '\"f2bd58150f0532d1c986afb4ce373e50\"',\n",
       "   'server': 'MinIO/RELEASE.2019-10-12T01-39-57Z',\n",
       "   'vary': 'Origin',\n",
       "   'x-amz-request-id': '15DE8E61F1E4D58C',\n",
       "   'x-xss-protection': '1; mode=block',\n",
       "   'date': 'Mon, 09 Dec 2019 01:04:30 GMT'},\n",
       "  'RetryAttempts': 0},\n",
       " 'ETag': '\"f2bd58150f0532d1c986afb4ce373e50\"'}"
      ]
     },
     "execution_count": 3,
     "metadata": {},
     "output_type": "execute_result"
    }
   ],
   "source": [
    "# Loading CSV\n",
    "s3 = boto3.client('s3',endpoint_url=\"http://minio-image:9000\",aws_access_key_id=\"minio-image\",aws_secret_access_key=\"minio-image-pass\")\n",
    "Bucket=\"model-support-files\"\n",
    "Key=\"model_retrain.csv\"\n",
    "read_file = s3.get_object(Bucket=Bucket, Key=Key)\n",
    "df = pd.read_csv(read_file['Body'],sep=',')\n",
    "\n",
    "# Changing something\n",
    "df.iloc[0]['patti']=10\n",
    "\n",
    "# Writing it back\n",
    "csv_buffer = StringIO()\n",
    "df.to_csv(csv_buffer)\n",
    "s3.put_object(Bucket=Bucket, Key=Key,Body=csv_buffer.getvalue())"
   ]
  },
  {
   "cell_type": "markdown",
   "metadata": {},
   "source": [
    "### For Excel Files"
   ]
  },
  {
   "cell_type": "code",
   "execution_count": 6,
   "metadata": {},
   "outputs": [],
   "source": [
    "s3 = boto3.client('s3',endpoint_url=\"http://minio-image:9000\",aws_access_key_id=\"minio-image\",aws_secret_access_key=\"minio-image-pass\")\n",
    "Bucket=\"airflow-files\"\n",
    "Key=\"interested_tickers.xlsx\"\n",
    "read_file = s3.get_object(Bucket=Bucket, Key=Key)\n",
    "df = pd.read_excel(io.BytesIO(read_file['Body'].read()),sep=',',sheet_name=\"daily\")"
   ]
  },
  {
   "cell_type": "code",
   "execution_count": null,
   "metadata": {},
   "outputs": [],
   "source": []
  }
 ],
 "metadata": {
  "kernelspec": {
   "display_name": "Python 3",
   "language": "python",
   "name": "python3"
  },
  "language_info": {
   "codemirror_mode": {
    "name": "ipython",
    "version": 3
   },
   "file_extension": ".py",
   "mimetype": "text/x-python",
   "name": "python",
   "nbconvert_exporter": "python",
   "pygments_lexer": "ipython3",
   "version": "3.7.3"
  }
 },
 "nbformat": 4,
 "nbformat_minor": 2
}
