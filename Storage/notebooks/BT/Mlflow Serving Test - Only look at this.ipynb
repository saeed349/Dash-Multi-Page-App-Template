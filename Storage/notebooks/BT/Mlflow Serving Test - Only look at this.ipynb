{
 "cells": [
  {
   "cell_type": "code",
   "execution_count": 2,
   "metadata": {
    "scrolled": true
   },
   "outputs": [],
   "source": [
    "import mlflow\n",
    "# mlflow.tracking.set_tracking_uri('http://localhost:5000') # Asus13\n",
    "mlflow.tracking.set_tracking_uri('http://mlflow-image:5500')"
   ]
  },
  {
   "cell_type": "code",
   "execution_count": 19,
   "metadata": {},
   "outputs": [
    {
     "data": {
      "text/plain": [
       "'6'"
      ]
     },
     "execution_count": 19,
     "metadata": {},
     "output_type": "execute_result"
    }
   ],
   "source": [
    "mlflow.create_experiment(name='mlflow-minio-test_6', artifact_location='s3:minio-image:9000/mlflow-models')"
   ]
  },
  {
   "cell_type": "code",
   "execution_count": null,
   "metadata": {},
   "outputs": [],
   "source": [
    "# this was the crucial step that I missed, the experiment needs to be initialized in the container where its living\n",
    "\n",
    "docker exec -it mlflow-image /bin/sh -c \"mlflow experiments create -n mlflow-minio-test_8 --artifact-location s3://mlflow-models\""
   ]
  },
  {
   "cell_type": "code",
   "execution_count": 28,
   "metadata": {},
   "outputs": [
    {
     "data": {
      "text/plain": [
       "'9'"
      ]
     },
     "execution_count": 28,
     "metadata": {},
     "output_type": "execute_result"
    }
   ],
   "source": [
    "# this works as well\n",
    "mlflow.create_experiment(name='mlflow-minio-test_7.1', artifact_location='s3://mlflow-models')"
   ]
  },
  {
   "cell_type": "code",
   "execution_count": 6,
   "metadata": {},
   "outputs": [
    {
     "name": "stdout",
     "output_type": "stream",
     "text": [
      "Elasticnet model (alpha=0.500000, l1_ratio=0.500000):\r\n",
      "  RMSE: 0.003117952760198876\r\n",
      "  MAE: 0.0022465772995742435\r\n",
      "  R2: -0.005167720640963047\r\n"
     ]
    }
   ],
   "source": [
    "! python mlflow_project/train.py"
   ]
  },
  {
   "cell_type": "code",
   "execution_count": 5,
   "metadata": {},
   "outputs": [],
   "source": [
    "# from platform import python_version\n",
    "# print(python_version())"
   ]
  },
  {
   "cell_type": "code",
   "execution_count": 5,
   "metadata": {},
   "outputs": [],
   "source": [
    "# mlflow.projects.run(\"mlflow_project\",parameters={'alpha':0.1,'l1_ratio':0.8}) # Asus13"
   ]
  },
  {
   "cell_type": "code",
   "execution_count": 8,
   "metadata": {},
   "outputs": [
    {
     "name": "stderr",
     "output_type": "stream",
     "text": [
      "2019/11/30 18:57:50 INFO mlflow.projects: === Created directory /tmp/tmpxkepnyo0 for downloading remote URIs passed to arguments of type 'path' ===\n",
      "2019/11/30 18:57:50 INFO mlflow.projects: === Running command 'source activate mlflow-ce216bacf14f1d9658a793192f5d05deaea4a882 1>&2 && python train.py 0.2 0.8' in run with ID '925181274551452b8653aaa1d3a776ca' === \n",
      "2019/11/30 18:57:53 INFO mlflow.projects: === Run (ID '925181274551452b8653aaa1d3a776ca') succeeded ===\n"
     ]
    },
    {
     "data": {
      "text/plain": [
       "<mlflow.projects.submitted_run.LocalSubmittedRun at 0x7fc2a42721d0>"
      ]
     },
     "execution_count": 8,
     "metadata": {},
     "output_type": "execute_result"
    }
   ],
   "source": [
    "# remove experiment setting for this one\n",
    "mlflow.projects.run(\"/home/jovyan/work/BT/mlflow_project\",parameters={'alpha':0.2,'l1_ratio':0.8})"
   ]
  },
  {
   "cell_type": "code",
   "execution_count": 10,
   "metadata": {},
   "outputs": [],
   "source": [
    "# mlflow.projects.run(\"/home/jovyan/work/sklearn_elasticnet_wine\",parameters={'alpha':0.1,'l1_ratio':0.8})"
   ]
  },
  {
   "cell_type": "code",
   "execution_count": 15,
   "metadata": {},
   "outputs": [],
   "source": [
    "# mlflow.models.serve(model_uri=\"s3://mlflow-models/41e75955f8a34f0bb06dabd95cdebde7/artifacts/model\")"
   ]
  },
  {
   "cell_type": "code",
   "execution_count": 16,
   "metadata": {},
   "outputs": [],
   "source": [
    "# mlflow.models.serve(model_uri=\"s3://mlflow-models/41e75955f8a34f0bb06dabd95cdebde7/artifacts/model\")"
   ]
  },
  {
   "cell_type": "code",
   "execution_count": 18,
   "metadata": {},
   "outputs": [],
   "source": [
    "import mlflow.pyfunc"
   ]
  },
  {
   "cell_type": "code",
   "execution_count": 20,
   "metadata": {},
   "outputs": [],
   "source": [
    "model_predict=mlflow.pyfunc.load_model(model_uri=\"s3://mlflow-models/9e886979d9444e69b58c7789b4d44c8e/artifacts/model\") \n",
    "# See I didnt have to make it into a project at all"
   ]
  },
  {
   "cell_type": "code",
   "execution_count": 37,
   "metadata": {},
   "outputs": [
    {
     "data": {
      "text/plain": [
       "array([-0.00018771, -0.00018771])"
      ]
     },
     "execution_count": 37,
     "metadata": {},
     "output_type": "execute_result"
    }
   ],
   "source": [
    "model_predict.predict([[80,20],[0,0]])"
   ]
  },
  {
   "cell_type": "code",
   "execution_count": null,
   "metadata": {},
   "outputs": [],
   "source": []
  },
  {
   "cell_type": "code",
   "execution_count": 27,
   "metadata": {},
   "outputs": [
    {
     "ename": "MlflowException",
     "evalue": "Not a proper runs:/ URI: runs:. Runs URIs must be of the form 'runs:/<run_id>/run-relative/path/to/artifact'",
     "output_type": "error",
     "traceback": [
      "\u001b[0;31m---------------------------------------------------------------------------\u001b[0m",
      "\u001b[0;31mMlflowException\u001b[0m                           Traceback (most recent call last)",
      "\u001b[0;32m<ipython-input-27-bc45e4765647>\u001b[0m in \u001b[0;36m<module>\u001b[0;34m\u001b[0m\n\u001b[0;32m----> 1\u001b[0;31m \u001b[0mmlflow\u001b[0m\u001b[0;34m.\u001b[0m\u001b[0mpyfunc\u001b[0m\u001b[0;34m.\u001b[0m\u001b[0mload_model\u001b[0m\u001b[0;34m(\u001b[0m\u001b[0mmodel_uri\u001b[0m\u001b[0;34m=\u001b[0m\u001b[0;34m\"runs:9e886979d9444e69b58c7789b4d44c8e\"\u001b[0m\u001b[0;34m)\u001b[0m\u001b[0;34m\u001b[0m\u001b[0;34m\u001b[0m\u001b[0m\n\u001b[0m",
      "\u001b[0;32m/opt/conda/lib/python3.7/site-packages/mlflow/pyfunc/__init__.py\u001b[0m in \u001b[0;36mload_model\u001b[0;34m(model_uri, suppress_warnings)\u001b[0m\n\u001b[1;32m    279\u001b[0m                               \u001b[0mmessages\u001b[0m \u001b[0mwill\u001b[0m \u001b[0mbe\u001b[0m \u001b[0memitted\u001b[0m\u001b[0;34m.\u001b[0m\u001b[0;34m\u001b[0m\u001b[0;34m\u001b[0m\u001b[0m\n\u001b[1;32m    280\u001b[0m     \"\"\"\n\u001b[0;32m--> 281\u001b[0;31m     \u001b[0mlocal_model_path\u001b[0m \u001b[0;34m=\u001b[0m \u001b[0m_download_artifact_from_uri\u001b[0m\u001b[0;34m(\u001b[0m\u001b[0martifact_uri\u001b[0m\u001b[0;34m=\u001b[0m\u001b[0mmodel_uri\u001b[0m\u001b[0;34m)\u001b[0m\u001b[0;34m\u001b[0m\u001b[0;34m\u001b[0m\u001b[0m\n\u001b[0m\u001b[1;32m    282\u001b[0m     \u001b[0mconf\u001b[0m \u001b[0;34m=\u001b[0m \u001b[0m_get_flavor_configuration\u001b[0m\u001b[0;34m(\u001b[0m\u001b[0mmodel_path\u001b[0m\u001b[0;34m=\u001b[0m\u001b[0mlocal_model_path\u001b[0m\u001b[0;34m,\u001b[0m \u001b[0mflavor_name\u001b[0m\u001b[0;34m=\u001b[0m\u001b[0mFLAVOR_NAME\u001b[0m\u001b[0;34m)\u001b[0m\u001b[0;34m\u001b[0m\u001b[0;34m\u001b[0m\u001b[0m\n\u001b[1;32m    283\u001b[0m     \u001b[0mmodel_py_version\u001b[0m \u001b[0;34m=\u001b[0m \u001b[0mconf\u001b[0m\u001b[0;34m.\u001b[0m\u001b[0mget\u001b[0m\u001b[0;34m(\u001b[0m\u001b[0mPY_VERSION\u001b[0m\u001b[0;34m)\u001b[0m\u001b[0;34m\u001b[0m\u001b[0;34m\u001b[0m\u001b[0m\n",
      "\u001b[0;32m/opt/conda/lib/python3.7/site-packages/mlflow/tracking/artifact_utils.py\u001b[0m in \u001b[0;36m_download_artifact_from_uri\u001b[0;34m(artifact_uri, output_path)\u001b[0m\n\u001b[1;32m     72\u001b[0m         \u001b[0mroot_uri\u001b[0m \u001b[0;34m=\u001b[0m \u001b[0mprefix\u001b[0m \u001b[0;34m+\u001b[0m \u001b[0murllib\u001b[0m\u001b[0;34m.\u001b[0m\u001b[0mparse\u001b[0m\u001b[0;34m.\u001b[0m\u001b[0murlunparse\u001b[0m\u001b[0;34m(\u001b[0m\u001b[0mparsed_uri\u001b[0m\u001b[0;34m)\u001b[0m\u001b[0;34m\u001b[0m\u001b[0;34m\u001b[0m\u001b[0m\n\u001b[1;32m     73\u001b[0m \u001b[0;34m\u001b[0m\u001b[0m\n\u001b[0;32m---> 74\u001b[0;31m     return get_artifact_repository(artifact_uri=root_uri).download_artifacts(\n\u001b[0m\u001b[1;32m     75\u001b[0m         artifact_path=artifact_path, dst_path=output_path)\n",
      "\u001b[0;32m/opt/conda/lib/python3.7/site-packages/mlflow/store/artifact/artifact_repository_registry.py\u001b[0m in \u001b[0;36mget_artifact_repository\u001b[0;34m(artifact_uri)\u001b[0m\n\u001b[1;32m    100\u001b[0m              \u001b[0mrequirements\u001b[0m\u001b[0;34m.\u001b[0m\u001b[0;34m\u001b[0m\u001b[0;34m\u001b[0m\u001b[0m\n\u001b[1;32m    101\u001b[0m     \"\"\"\n\u001b[0;32m--> 102\u001b[0;31m     \u001b[0;32mreturn\u001b[0m \u001b[0m_artifact_repository_registry\u001b[0m\u001b[0;34m.\u001b[0m\u001b[0mget_artifact_repository\u001b[0m\u001b[0;34m(\u001b[0m\u001b[0martifact_uri\u001b[0m\u001b[0;34m)\u001b[0m\u001b[0;34m\u001b[0m\u001b[0;34m\u001b[0m\u001b[0m\n\u001b[0m",
      "\u001b[0;32m/opt/conda/lib/python3.7/site-packages/mlflow/store/artifact/artifact_repository_registry.py\u001b[0m in \u001b[0;36mget_artifact_repository\u001b[0;34m(self, artifact_uri)\u001b[0m\n\u001b[1;32m     69\u001b[0m                 )\n\u001b[1;32m     70\u001b[0m             )\n\u001b[0;32m---> 71\u001b[0;31m         \u001b[0;32mreturn\u001b[0m \u001b[0mrepository\u001b[0m\u001b[0;34m(\u001b[0m\u001b[0martifact_uri\u001b[0m\u001b[0;34m)\u001b[0m\u001b[0;34m\u001b[0m\u001b[0;34m\u001b[0m\u001b[0m\n\u001b[0m\u001b[1;32m     72\u001b[0m \u001b[0;34m\u001b[0m\u001b[0m\n\u001b[1;32m     73\u001b[0m \u001b[0;34m\u001b[0m\u001b[0m\n",
      "\u001b[0;32m/opt/conda/lib/python3.7/site-packages/mlflow/store/artifact/runs_artifact_repo.py\u001b[0m in \u001b[0;36m__init__\u001b[0;34m(self, artifact_uri)\u001b[0m\n\u001b[1;32m     18\u001b[0m     \u001b[0;32mdef\u001b[0m \u001b[0m__init__\u001b[0m\u001b[0;34m(\u001b[0m\u001b[0mself\u001b[0m\u001b[0;34m,\u001b[0m \u001b[0martifact_uri\u001b[0m\u001b[0;34m)\u001b[0m\u001b[0;34m:\u001b[0m\u001b[0;34m\u001b[0m\u001b[0;34m\u001b[0m\u001b[0m\n\u001b[1;32m     19\u001b[0m         \u001b[0;32mfrom\u001b[0m \u001b[0mmlflow\u001b[0m\u001b[0;34m.\u001b[0m\u001b[0mstore\u001b[0m\u001b[0;34m.\u001b[0m\u001b[0martifact\u001b[0m\u001b[0;34m.\u001b[0m\u001b[0martifact_repository_registry\u001b[0m \u001b[0;32mimport\u001b[0m \u001b[0mget_artifact_repository\u001b[0m\u001b[0;34m\u001b[0m\u001b[0;34m\u001b[0m\u001b[0m\n\u001b[0;32m---> 20\u001b[0;31m         \u001b[0muri\u001b[0m \u001b[0;34m=\u001b[0m \u001b[0mRunsArtifactRepository\u001b[0m\u001b[0;34m.\u001b[0m\u001b[0mget_underlying_uri\u001b[0m\u001b[0;34m(\u001b[0m\u001b[0martifact_uri\u001b[0m\u001b[0;34m)\u001b[0m\u001b[0;34m\u001b[0m\u001b[0;34m\u001b[0m\u001b[0m\n\u001b[0m\u001b[1;32m     21\u001b[0m         \u001b[0msuper\u001b[0m\u001b[0;34m(\u001b[0m\u001b[0mRunsArtifactRepository\u001b[0m\u001b[0;34m,\u001b[0m \u001b[0mself\u001b[0m\u001b[0;34m)\u001b[0m\u001b[0;34m.\u001b[0m\u001b[0m__init__\u001b[0m\u001b[0;34m(\u001b[0m\u001b[0martifact_uri\u001b[0m\u001b[0;34m)\u001b[0m\u001b[0;34m\u001b[0m\u001b[0;34m\u001b[0m\u001b[0m\n\u001b[1;32m     22\u001b[0m         \u001b[0mself\u001b[0m\u001b[0;34m.\u001b[0m\u001b[0mrepo\u001b[0m \u001b[0;34m=\u001b[0m \u001b[0mget_artifact_repository\u001b[0m\u001b[0;34m(\u001b[0m\u001b[0muri\u001b[0m\u001b[0;34m)\u001b[0m\u001b[0;34m\u001b[0m\u001b[0;34m\u001b[0m\u001b[0m\n",
      "\u001b[0;32m/opt/conda/lib/python3.7/site-packages/mlflow/store/artifact/runs_artifact_repo.py\u001b[0m in \u001b[0;36mget_underlying_uri\u001b[0;34m(runs_uri)\u001b[0m\n\u001b[1;32m     29\u001b[0m     \u001b[0;32mdef\u001b[0m \u001b[0mget_underlying_uri\u001b[0m\u001b[0;34m(\u001b[0m\u001b[0mruns_uri\u001b[0m\u001b[0;34m)\u001b[0m\u001b[0;34m:\u001b[0m\u001b[0;34m\u001b[0m\u001b[0;34m\u001b[0m\u001b[0m\n\u001b[1;32m     30\u001b[0m         \u001b[0;32mfrom\u001b[0m \u001b[0mmlflow\u001b[0m\u001b[0;34m.\u001b[0m\u001b[0mtracking\u001b[0m\u001b[0;34m.\u001b[0m\u001b[0martifact_utils\u001b[0m \u001b[0;32mimport\u001b[0m \u001b[0mget_artifact_uri\u001b[0m\u001b[0;34m\u001b[0m\u001b[0;34m\u001b[0m\u001b[0m\n\u001b[0;32m---> 31\u001b[0;31m         \u001b[0;34m(\u001b[0m\u001b[0mrun_id\u001b[0m\u001b[0;34m,\u001b[0m \u001b[0martifact_path\u001b[0m\u001b[0;34m)\u001b[0m \u001b[0;34m=\u001b[0m \u001b[0mRunsArtifactRepository\u001b[0m\u001b[0;34m.\u001b[0m\u001b[0mparse_runs_uri\u001b[0m\u001b[0;34m(\u001b[0m\u001b[0mruns_uri\u001b[0m\u001b[0;34m)\u001b[0m\u001b[0;34m\u001b[0m\u001b[0;34m\u001b[0m\u001b[0m\n\u001b[0m\u001b[1;32m     32\u001b[0m         \u001b[0muri\u001b[0m \u001b[0;34m=\u001b[0m \u001b[0mget_artifact_uri\u001b[0m\u001b[0;34m(\u001b[0m\u001b[0mrun_id\u001b[0m\u001b[0;34m,\u001b[0m \u001b[0martifact_path\u001b[0m\u001b[0;34m)\u001b[0m\u001b[0;34m\u001b[0m\u001b[0;34m\u001b[0m\u001b[0m\n\u001b[1;32m     33\u001b[0m         \u001b[0;32massert\u001b[0m \u001b[0;32mnot\u001b[0m \u001b[0mRunsArtifactRepository\u001b[0m\u001b[0;34m.\u001b[0m\u001b[0mis_runs_uri\u001b[0m\u001b[0;34m(\u001b[0m\u001b[0muri\u001b[0m\u001b[0;34m)\u001b[0m  \u001b[0;31m# avoid an infinite loop\u001b[0m\u001b[0;34m\u001b[0m\u001b[0;34m\u001b[0m\u001b[0m\n",
      "\u001b[0;32m/opt/conda/lib/python3.7/site-packages/mlflow/store/artifact/runs_artifact_repo.py\u001b[0m in \u001b[0;36mparse_runs_uri\u001b[0;34m(run_uri)\u001b[0m\n\u001b[1;32m     47\u001b[0m             raise MlflowException(\n\u001b[1;32m     48\u001b[0m                 \u001b[0;34m\"Not a proper runs:/ URI: %s. \"\u001b[0m \u001b[0;34m%\u001b[0m \u001b[0mrun_uri\u001b[0m \u001b[0;34m+\u001b[0m\u001b[0;34m\u001b[0m\u001b[0;34m\u001b[0m\u001b[0m\n\u001b[0;32m---> 49\u001b[0;31m                 \"Runs URIs must be of the form 'runs:/<run_id>/run-relative/path/to/artifact'\")\n\u001b[0m\u001b[1;32m     50\u001b[0m         \u001b[0mpath\u001b[0m \u001b[0;34m=\u001b[0m \u001b[0mpath\u001b[0m\u001b[0;34m[\u001b[0m\u001b[0;36m1\u001b[0m\u001b[0;34m:\u001b[0m\u001b[0;34m]\u001b[0m\u001b[0;34m\u001b[0m\u001b[0;34m\u001b[0m\u001b[0m\n\u001b[1;32m     51\u001b[0m \u001b[0;34m\u001b[0m\u001b[0m\n",
      "\u001b[0;31mMlflowException\u001b[0m: Not a proper runs:/ URI: runs:. Runs URIs must be of the form 'runs:/<run_id>/run-relative/path/to/artifact'"
     ]
    }
   ],
   "source": [
    "mlflow.pyfunc.load_model(model_uri=\"runs:9e886979d9444e69b58c7789b4d44c8e\")"
   ]
  },
  {
   "cell_type": "markdown",
   "metadata": {},
   "source": [
    "### Then serve the model in the mlflow tracking container using \n",
    "docker exec ekholabs-mlflow /bin/sh -c \"mlflow models serve -m /ekholabs-mlflow/mlruns/0/a85ab97a393045afaea2b550a79686e8/artifacts/model --host=0.0.0.0 -p 2349\""
   ]
  },
  {
   "cell_type": "code",
   "execution_count": 15,
   "metadata": {},
   "outputs": [
    {
     "name": "stdout",
     "output_type": "stream",
     "text": [
      "[3.7194082065466647]"
     ]
    }
   ],
   "source": [
    "! curl -X POST -H \"Content-Type:application/json; format=pandas-split\" --data '{\"columns\":[\"alcohol\", \"chlorides\", \"citric acid\", \"density\", \"fixed acidity\", \"free sulfur dioxide\", \"pH\", \"residual sugar\", \"sulphates\", \"total sulfur dioxide\", \"volatile acidity\"],\"data\":[[12.8, 2, 10, 0.98, 1, 45, 2, 1.2, 44, 4, 0.66]]}' http://mlflow-image:2349/invocations"
   ]
  },
  {
   "cell_type": "code",
   "execution_count": 2,
   "metadata": {},
   "outputs": [],
   "source": [
    "# ! pip install mlflow==1.4"
   ]
  },
  {
   "cell_type": "code",
   "execution_count": 12,
   "metadata": {},
   "outputs": [
    {
     "name": "stdout",
     "output_type": "stream",
     "text": [
      "alembic==1.1.0\r\n",
      "asn1crypto==0.24.0\r\n",
      "async-generator==1.10\r\n",
      "attrs==19.1.0\r\n",
      "backcall==0.1.0\r\n",
      "backtrader==1.9.74.123\r\n",
      "beautifulsoup4==4.8.0\r\n",
      "bleach==3.1.0\r\n",
      "blinker==1.4\r\n",
      "bokeh==1.3.4\r\n",
      "boto3==1.10.34\r\n",
      "botocore==1.13.34\r\n",
      "certifi==2019.6.16\r\n",
      "certipy==0.1.3\r\n",
      "cffi==1.12.3\r\n",
      "chardet==3.0.4\r\n",
      "Click==7.0\r\n",
      "cloudpickle==1.2.2\r\n",
      "conda==4.7.10\r\n",
      "conda-package-handling==1.4.0\r\n",
      "configparser==4.0.2\r\n",
      "cryptography==2.7\r\n",
      "cycler==0.10.0\r\n",
      "Cython==0.29.13\r\n",
      "cytoolz==0.10.0\r\n",
      "dask==2.2.0\r\n",
      "databricks-cli==0.9.1\r\n",
      "decorator==4.4.0\r\n",
      "defusedxml==0.5.0\r\n",
      "dill==0.3.0\r\n",
      "distributed==2.3.2\r\n",
      "docker==4.1.0\r\n",
      "docutils==0.15.2\r\n",
      "empyrical==0.5.3\r\n",
      "entrypoints==0.3\r\n",
      "fastcache==1.1.0\r\n",
      "Flask==1.1.1\r\n",
      "fsspec==0.4.4\r\n",
      "gitdb2==2.0.6\r\n",
      "GitPython==3.0.5\r\n",
      "gmpy2==2.1.0b1\r\n",
      "gorilla==0.3.0\r\n",
      "gunicorn==20.0.4\r\n",
      "h5py==2.9.0\r\n",
      "heapdict==1.0.0\r\n",
      "idna==2.8\r\n",
      "imageio==2.5.0\r\n",
      "ipykernel==5.1.2\r\n",
      "ipython==7.8.0\r\n",
      "ipython-genutils==0.2.0\r\n",
      "ipywidgets==7.5.1\r\n",
      "itsdangerous==1.1.0\r\n",
      "jedi==0.15.1\r\n",
      "Jinja2==2.10.1\r\n",
      "jmespath==0.9.4\r\n",
      "joblib==0.13.2\r\n",
      "json5==0.8.5\r\n",
      "jsonschema==3.0.2\r\n",
      "jupyter-client==5.3.1\r\n",
      "jupyter-core==4.4.0\r\n",
      "jupyterhub==1.0.0\r\n",
      "jupyterlab==1.1.3\r\n",
      "jupyterlab-server==1.0.6\r\n",
      "kiwisolver==1.1.0\r\n",
      "libarchive-c==2.8\r\n",
      "llvmlite==0.29.0\r\n",
      "locket==0.2.0\r\n",
      "lxml==4.4.2\r\n",
      "Mako==1.1.0\r\n",
      "MarkupSafe==1.1.1\r\n",
      "matplotlib==3.1.1\r\n",
      "mistune==0.8.4\r\n",
      "mlflow==1.4.0\r\n",
      "mpmath==1.1.0\r\n",
      "msgpack==0.6.1\r\n",
      "nbconvert==5.6.0\r\n",
      "nbformat==4.4.0\r\n",
      "networkx==2.3\r\n",
      "notebook==6.0.0\r\n",
      "numba==0.45.1\r\n",
      "numexpr==2.6.9\r\n",
      "numpy==1.17.2\r\n",
      "oandapyV20==0.6.3\r\n",
      "oauthlib==3.0.1\r\n",
      "olefile==0.46\r\n",
      "packaging==19.0\r\n",
      "pamela==1.0.0\r\n",
      "pandas==0.25.1\r\n",
      "pandas-datareader==0.8.1\r\n",
      "pandocfilters==1.4.2\r\n",
      "parso==0.5.1\r\n",
      "partd==1.0.0\r\n",
      "patsy==0.5.1\r\n",
      "pexpect==4.7.0\r\n",
      "pickleshare==0.7.5\r\n",
      "Pillow==6.1.0\r\n",
      "prometheus-client==0.7.1\r\n",
      "prompt-toolkit==2.0.9\r\n",
      "protobuf==3.9.1\r\n",
      "psutil==5.6.3\r\n",
      "psycopg2-binary==2.8.4\r\n",
      "ptyprocess==0.6.0\r\n",
      "pycosat==0.6.3\r\n",
      "pycparser==2.19\r\n",
      "pycurl==7.43.0.2\r\n",
      "pyfolio==0.9.2\r\n",
      "Pygments==2.4.2\r\n",
      "PyJWT==1.7.1\r\n",
      "pyOpenSSL==19.0.0\r\n",
      "pyparsing==2.4.2\r\n",
      "pyrsistent==0.15.4\r\n",
      "PySocks==1.7.0\r\n",
      "python-dateutil==2.8.0\r\n",
      "python-editor==1.0.4\r\n",
      "pytz==2019.2\r\n",
      "PyWavelets==1.0.3\r\n",
      "PyYAML==5.1.2\r\n",
      "pyzmq==18.0.2\r\n",
      "querystring-parser==1.2.4\r\n",
      "requests==2.22.0\r\n",
      "ruamel-yaml==0.15.71\r\n",
      "s3transfer==0.2.1\r\n",
      "scikit-image==0.15.0\r\n",
      "scikit-learn==0.21.3\r\n",
      "scipy==1.3.1\r\n",
      "seaborn==0.9.0\r\n",
      "Send2Trash==1.5.0\r\n",
      "simplejson==3.17.0\r\n",
      "six==1.12.0\r\n",
      "smmap2==2.0.5\r\n",
      "sortedcontainers==2.1.0\r\n",
      "soupsieve==1.9.3\r\n",
      "SQLAlchemy==1.3.8\r\n",
      "sqlparse==0.3.0\r\n",
      "statsmodels==0.10.1\r\n",
      "sympy==1.4\r\n",
      "tabulate==0.8.6\r\n",
      "tblib==1.4.0\r\n",
      "terminado==0.8.2\r\n",
      "testpath==0.4.2\r\n",
      "toolz==0.10.0\r\n",
      "tornado==6.0.3\r\n",
      "tqdm==4.32.2\r\n",
      "traitlets==4.3.2\r\n",
      "ujson==1.35\r\n",
      "urllib3==1.25.3\r\n",
      "v20==3.0.25.0\r\n",
      "vincent==0.4.4\r\n",
      "wcwidth==0.1.7\r\n",
      "webencodings==0.5.1\r\n",
      "websocket-client==0.56.0\r\n",
      "Werkzeug==0.16.0\r\n",
      "widgetsnbextension==3.5.1\r\n",
      "xgboost==0.90\r\n",
      "xlrd==1.2.0\r\n",
      "zict==1.0.0\r\n"
     ]
    }
   ],
   "source": [
    "! pip freeze"
   ]
  },
  {
   "cell_type": "code",
   "execution_count": null,
   "metadata": {},
   "outputs": [],
   "source": []
  }
 ],
 "metadata": {
  "kernelspec": {
   "display_name": "Python 3",
   "language": "python",
   "name": "python3"
  },
  "language_info": {
   "codemirror_mode": {
    "name": "ipython",
    "version": 3
   },
   "file_extension": ".py",
   "mimetype": "text/x-python",
   "name": "python",
   "nbconvert_exporter": "python",
   "pygments_lexer": "ipython3",
   "version": "3.7.3"
  }
 },
 "nbformat": 4,
 "nbformat_minor": 2
}
