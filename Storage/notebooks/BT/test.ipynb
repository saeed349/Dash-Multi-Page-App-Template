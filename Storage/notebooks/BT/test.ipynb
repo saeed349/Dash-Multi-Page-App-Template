{
 "cells": [
  {
   "cell_type": "code",
   "execution_count": 3,
   "metadata": {},
   "outputs": [
    {
     "name": "stdout",
     "output_type": "stream",
     "text": [
      "Hello\n",
      "Profit ... or Loss: 17.41\n",
      "  run_id  recorded_time        strategy         transaction_date       size    price    sid  ticker       value\n",
      "--------  -------------------  ---------------  -------------------  ------  -------  -----  --------  --------\n",
      "       6  2019-11-30 14:53:00  Simple Strategy  2019-02-05 22:00:00   -1000  1.29307      1  GBP_USD    1293.07\n",
      "       6  2019-11-30 14:53:00  Simple Strategy  2019-02-06 22:00:00   -1000  1.13394      0  EUR_USD    1133.94\n",
      "       6  2019-11-30 14:53:00  Simple Strategy  2019-02-18 22:00:00    1000  1.30634      1  GBP_USD   -1306.34\n",
      "       6  2019-11-30 14:53:00  Simple Strategy  2019-02-20 22:00:00    1000  1.13343      0  EUR_USD   -1133.43\n",
      "       6  2019-11-30 14:53:00  Simple Strategy  2019-03-04 22:00:00   -1000  1.13078      0  EUR_USD    1130.78\n",
      "       6  2019-11-30 14:53:00  Simple Strategy  2019-03-05 22:00:00   -1000  1.31708      1  GBP_USD    1317.08\n",
      "       6  2019-11-30 14:53:00  Simple Strategy  2019-03-06 22:00:00    1000  1.30842      1  GBP_USD   -1308.42\n",
      "       6  2019-11-30 14:53:00  Simple Strategy  2019-03-07 22:00:00   -1000  1.30158      1  GBP_USD    1301.58\n",
      "       6  2019-11-30 14:53:00  Simple Strategy  2019-03-13 21:00:00    2000  1.13044      0  EUR_USD   -2260.88\n",
      "       6  2019-11-30 14:53:00  Simple Strategy  2019-03-24 21:00:00   -2000  1.13128      0  EUR_USD    2262.56\n",
      "       6  2019-11-30 14:53:00  Simple Strategy  2019-03-25 21:00:00    1000  1.32048      1  GBP_USD   -1320.48\n",
      "       6  2019-11-30 14:53:00  Simple Strategy  2019-03-28 21:00:00   -1000  1.30326      1  GBP_USD    1303.26\n",
      "       6  2019-11-30 14:53:00  Simple Strategy  2019-04-03 21:00:00    1000  1.30751      1  GBP_USD   -1307.51\n",
      "       6  2019-11-30 14:53:00  Simple Strategy  2019-04-04 21:00:00   -1000  1.30364      1  GBP_USD    1303.64\n",
      "       6  2019-11-30 14:53:00  Simple Strategy  2019-04-09 21:00:00    2000  1.12737      0  EUR_USD   -2254.74\n",
      "       6  2019-11-30 14:53:00  Simple Strategy  2019-04-18 21:00:00   -2000  1.12452      0  EUR_USD    2249.04\n",
      "       6  2019-11-30 14:53:00  Simple Strategy  2019-05-01 21:00:00    2000  1.11726      0  EUR_USD   -2234.52\n",
      "       6  2019-11-30 14:53:00  Simple Strategy  2019-05-05 21:00:00   -2000  1.11994      0  EUR_USD    2239.88\n",
      "       6  2019-11-30 14:53:00  Simple Strategy  2019-05-05 21:00:00    1000  1.30962      1  GBP_USD   -1309.62\n",
      "       6  2019-11-30 14:53:00  Simple Strategy  2019-05-06 21:00:00    1000  1.11917      0  EUR_USD   -1119.17\n",
      "       6  2019-11-30 14:53:00  Simple Strategy  2019-05-09 21:00:00   -1000  1.29998      1  GBP_USD    1299.98\n",
      "       6  2019-11-30 14:53:00  Simple Strategy  2019-05-12 21:00:00    1000  1.12231      0  EUR_USD   -1122.31\n",
      "       6  2019-11-30 14:53:00  Simple Strategy  2019-05-15 21:00:00   -2000  1.11736      0  EUR_USD    2234.72\n",
      "       6  2019-11-30 14:53:00  Simple Strategy  2019-05-26 21:00:00    2000  1.11932      0  EUR_USD   -2238.64\n",
      "       6  2019-11-30 14:53:00  Simple Strategy  2019-05-29 21:00:00   -2000  1.11292      0  EUR_USD    2225.84\n",
      "       6  2019-11-30 14:53:00  Simple Strategy  2019-06-03 21:00:00    2000  1.1252       0  EUR_USD   -2250.4\n",
      "       6  2019-11-30 14:53:00  Simple Strategy  2019-06-16 21:00:00   -2000  1.1218       0  EUR_USD    2243.6\n",
      "       6  2019-11-30 14:53:00  Simple Strategy  2019-06-20 21:00:00    1000  1.2744       1  GBP_USD   -1274.4\n",
      "       6  2019-11-30 14:53:00  Simple Strategy  2019-06-23 21:00:00    1000  1.13988      0  EUR_USD   -1139.88\n",
      "       6  2019-11-30 14:53:00  Simple Strategy  2019-07-01 21:00:00   -1000  1.1286       0  EUR_USD    1128.6\n",
      "       6  2019-11-30 14:53:00  Simple Strategy  2019-07-01 21:00:00   -1000  1.25938      1  GBP_USD    1259.38\n",
      "       6  2019-11-30 14:53:00  Simple Strategy  2019-07-15 21:00:00    2000  1.12102      0  EUR_USD   -2242.04\n",
      "       6  2019-11-30 14:53:00  Simple Strategy  2019-07-16 21:00:00   -2000  1.12242      0  EUR_USD    2244.84\n",
      "       6  2019-11-30 14:53:00  Simple Strategy  2019-07-19 21:00:00    1000  1.2504       1  GBP_USD   -1250.4\n",
      "       6  2019-11-30 14:53:00  Simple Strategy  2019-07-22 21:00:00   -1000  1.24396      1  GBP_USD    1243.96\n"
     ]
    }
   ],
   "source": [
    "!python 11_Logger_Analyzer_BT.py"
   ]
  },
  {
   "cell_type": "code",
   "execution_count": null,
   "metadata": {},
   "outputs": [],
   "source": []
  }
 ],
 "metadata": {
  "kernelspec": {
   "display_name": "Python 3",
   "language": "python",
   "name": "python3"
  },
  "language_info": {
   "codemirror_mode": {
    "name": "ipython",
    "version": 3
   },
   "file_extension": ".py",
   "mimetype": "text/x-python",
   "name": "python",
   "nbconvert_exporter": "python",
   "pygments_lexer": "ipython3",
   "version": "3.7.3"
  }
 },
 "nbformat": 4,
 "nbformat_minor": 2
}
