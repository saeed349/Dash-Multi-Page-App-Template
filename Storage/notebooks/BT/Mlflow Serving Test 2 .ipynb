{
 "cells": [
  {
   "cell_type": "code",
   "execution_count": 106,
   "metadata": {},
   "outputs": [],
   "source": [
    "import mlflow\n",
    "import mlflow.pyfunc\n",
    "# mlflow.tracking.set_tracking_uri('http://localhost:5000') # Asus13\n",
    "mlflow.tracking.set_tracking_uri('http://mlflow-image:5500')"
   ]
  },
  {
   "cell_type": "code",
   "execution_count": 107,
   "metadata": {},
   "outputs": [],
   "source": [
    "# mlflow.delete_experiment(experiment_id=2)"
   ]
  },
  {
   "cell_type": "code",
   "execution_count": 108,
   "metadata": {},
   "outputs": [],
   "source": [
    "# mlflow.create_experiment(name='mlflow-minio-test_9', artifact_location='s3://mlflow-models')"
   ]
  },
  {
   "cell_type": "markdown",
   "metadata": {},
   "source": [
    "### Here I have built a crappy model, use a better model and you can see the change"
   ]
  },
  {
   "cell_type": "code",
   "execution_count": 109,
   "metadata": {},
   "outputs": [
    {
     "name": "stdout",
     "output_type": "stream",
     "text": [
      "RandomForest Model (n_estimators=100.000000, max_depth=10.000000):\r\n",
      "  RMSE: 0.008586815743502287\r\n",
      "  MAE: 0.006624640615669082\r\n",
      "  R2: 0.3800373078211625\r\n"
     ]
    }
   ],
   "source": [
    "! python ML_models/train.py"
   ]
  },
  {
   "cell_type": "code",
   "execution_count": 110,
   "metadata": {},
   "outputs": [],
   "source": [
    "model_predict=mlflow.pyfunc.load_model(model_uri=\"s3://mlflow-models/074687ad169b4e85b3408dd65d0f6ff5/artifacts/model\") "
   ]
  },
  {
   "cell_type": "code",
   "execution_count": 116,
   "metadata": {},
   "outputs": [
    {
     "data": {
      "text/plain": [
       "0.012111973793588146"
      ]
     },
     "execution_count": 116,
     "metadata": {},
     "output_type": "execute_result"
    }
   ],
   "source": [
    "model_predict.predict([[90,50]])[0]"
   ]
  },
  {
   "cell_type": "code",
   "execution_count": 113,
   "metadata": {},
   "outputs": [
    {
     "data": {
      "text/plain": [
       "array([0.00659482])"
      ]
     },
     "execution_count": 113,
     "metadata": {},
     "output_type": "execute_result"
    }
   ],
   "source": [
    "model_predict.predict([[10,20]])"
   ]
  },
  {
   "cell_type": "markdown",
   "metadata": {},
   "source": [
    "## Testing whether the predictions change on Wine Dataset"
   ]
  },
  {
   "cell_type": "code",
   "execution_count": 67,
   "metadata": {},
   "outputs": [
    {
     "name": "stdout",
     "output_type": "stream",
     "text": [
      "Elasticnet model (alpha=0.500000, l1_ratio=0.500000):\r\n",
      "  RMSE: 0.82224284975954\r\n",
      "  MAE: 0.6278761410160693\r\n",
      "  R2: 0.12678721972772689\r\n"
     ]
    }
   ],
   "source": [
    "! python ML_models/wine_test//train.py"
   ]
  },
  {
   "cell_type": "code",
   "execution_count": null,
   "metadata": {},
   "outputs": [],
   "source": [
    "model_predict=mlflow.pyfunc.load_model(model_uri=\"s3://mlflow-models/e9d5f0f842e84cdead57d1a033f36119/artifacts/model\")"
   ]
  },
  {
   "cell_type": "code",
   "execution_count": null,
   "metadata": {},
   "outputs": [],
   "source": [
    "model_predict.predict([[7,0.27,0.36,20.7,0.045,45,170,1.001,3,0.45,8.8]])"
   ]
  },
  {
   "cell_type": "code",
   "execution_count": null,
   "metadata": {},
   "outputs": [],
   "source": [
    "model_predict.predict([[1,0.7,0.6,2.7,0.5,4,155,1.001,3,0.1,2]])"
   ]
  }
 ],
 "metadata": {
  "kernelspec": {
   "display_name": "Python 3",
   "language": "python",
   "name": "python3"
  },
  "language_info": {
   "codemirror_mode": {
    "name": "ipython",
    "version": 3
   },
   "file_extension": ".py",
   "mimetype": "text/x-python",
   "name": "python",
   "nbconvert_exporter": "python",
   "pygments_lexer": "ipython3",
   "version": "3.7.3"
  }
 },
 "nbformat": 4,
 "nbformat_minor": 2
}
