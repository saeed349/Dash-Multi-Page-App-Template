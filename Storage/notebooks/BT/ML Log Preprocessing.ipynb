{
 "cells": [
  {
   "cell_type": "code",
   "execution_count": 60,
   "metadata": {},
   "outputs": [],
   "source": [
    "import pandas as pd\n",
    "%matplotlib inline\n",
    "\n",
    "import boto3\n",
    "from io import StringIO"
   ]
  },
  {
   "cell_type": "code",
   "execution_count": 61,
   "metadata": {},
   "outputs": [],
   "source": [
    "# df=pd.read_csv(\"ml_log.csv\",parse_dates=True)#infer_datetime_format=True) ,index_col=['time','ticker']"
   ]
  },
  {
   "cell_type": "code",
   "execution_count": 62,
   "metadata": {},
   "outputs": [],
   "source": [
    "s3 = boto3.client('s3',endpoint_url=\"http://minio-image:9000\",aws_access_key_id=\"minio-image\",aws_secret_access_key=\"minio-image-pass\")\n",
    "Bucket=\"model-support-files\"\n",
    "Key=\"17_ml_log.csv\"\n",
    "read_file = s3.get_object(Bucket=Bucket, Key=Key)\n",
    "df = pd.read_csv(read_file['Body'],sep=',',index_col=['datetime'],parse_dates=True)"
   ]
  },
  {
   "cell_type": "code",
   "execution_count": 90,
   "metadata": {},
   "outputs": [
    {
     "data": {
      "text/html": [
       "<div>\n",
       "<style scoped>\n",
       "    .dataframe tbody tr th:only-of-type {\n",
       "        vertical-align: middle;\n",
       "    }\n",
       "\n",
       "    .dataframe tbody tr th {\n",
       "        vertical-align: top;\n",
       "    }\n",
       "\n",
       "    .dataframe thead th {\n",
       "        text-align: right;\n",
       "    }\n",
       "</style>\n",
       "<table border=\"1\" class=\"dataframe\">\n",
       "  <thead>\n",
       "    <tr style=\"text-align: right;\">\n",
       "      <th></th>\n",
       "      <th>security</th>\n",
       "      <th>close</th>\n",
       "      <th>RSI</th>\n",
       "      <th>STOCHASTIC</th>\n",
       "    </tr>\n",
       "    <tr>\n",
       "      <th>datetime</th>\n",
       "      <th></th>\n",
       "      <th></th>\n",
       "      <th></th>\n",
       "      <th></th>\n",
       "    </tr>\n",
       "  </thead>\n",
       "  <tbody>\n",
       "    <tr>\n",
       "      <td>2010-12-30 22:00:00</td>\n",
       "      <td>EUR_USD</td>\n",
       "      <td>1.32855</td>\n",
       "      <td>NaN</td>\n",
       "      <td>NaN</td>\n",
       "    </tr>\n",
       "    <tr>\n",
       "      <td>2010-12-31 22:00:00</td>\n",
       "      <td>EUR_USD</td>\n",
       "      <td>1.33815</td>\n",
       "      <td>NaN</td>\n",
       "      <td>NaN</td>\n",
       "    </tr>\n",
       "    <tr>\n",
       "      <td>2011-01-01 22:00:00</td>\n",
       "      <td>EUR_USD</td>\n",
       "      <td>1.33280</td>\n",
       "      <td>NaN</td>\n",
       "      <td>NaN</td>\n",
       "    </tr>\n",
       "    <tr>\n",
       "      <td>2011-01-02 22:00:00</td>\n",
       "      <td>EUR_USD</td>\n",
       "      <td>1.32512</td>\n",
       "      <td>NaN</td>\n",
       "      <td>NaN</td>\n",
       "    </tr>\n",
       "    <tr>\n",
       "      <td>2011-01-03 22:00:00</td>\n",
       "      <td>EUR_USD</td>\n",
       "      <td>1.32919</td>\n",
       "      <td>NaN</td>\n",
       "      <td>NaN</td>\n",
       "    </tr>\n",
       "  </tbody>\n",
       "</table>\n",
       "</div>"
      ],
      "text/plain": [
       "                    security    close  RSI  STOCHASTIC\n",
       "datetime                                              \n",
       "2010-12-30 22:00:00  EUR_USD  1.32855  NaN         NaN\n",
       "2010-12-31 22:00:00  EUR_USD  1.33815  NaN         NaN\n",
       "2011-01-01 22:00:00  EUR_USD  1.33280  NaN         NaN\n",
       "2011-01-02 22:00:00  EUR_USD  1.32512  NaN         NaN\n",
       "2011-01-03 22:00:00  EUR_USD  1.32919  NaN         NaN"
      ]
     },
     "execution_count": 90,
     "metadata": {},
     "output_type": "execute_result"
    }
   ],
   "source": [
    "df=df.loc[:, df.columns != 'ATR']\n",
    "df.head()"
   ]
  },
  {
   "cell_type": "code",
   "execution_count": 91,
   "metadata": {},
   "outputs": [],
   "source": [
    "# df['datetime']=pd.to_datetime(df['datetime'])\n",
    "df['fwd_returns']=df.groupby(\"security\")[\"close\"].pct_change(5)"
   ]
  },
  {
   "cell_type": "code",
   "execution_count": 92,
   "metadata": {},
   "outputs": [],
   "source": [
    "df.sort_values(by='datetime',inplace=True)"
   ]
  },
  {
   "cell_type": "code",
   "execution_count": 93,
   "metadata": {},
   "outputs": [],
   "source": [
    "df=df.reset_index().drop(columns=['datetime','security','close'])"
   ]
  },
  {
   "cell_type": "code",
   "execution_count": 94,
   "metadata": {},
   "outputs": [
    {
     "data": {
      "text/html": [
       "<div>\n",
       "<style scoped>\n",
       "    .dataframe tbody tr th:only-of-type {\n",
       "        vertical-align: middle;\n",
       "    }\n",
       "\n",
       "    .dataframe tbody tr th {\n",
       "        vertical-align: top;\n",
       "    }\n",
       "\n",
       "    .dataframe thead th {\n",
       "        text-align: right;\n",
       "    }\n",
       "</style>\n",
       "<table border=\"1\" class=\"dataframe\">\n",
       "  <thead>\n",
       "    <tr style=\"text-align: right;\">\n",
       "      <th></th>\n",
       "      <th>RSI</th>\n",
       "      <th>STOCHASTIC</th>\n",
       "      <th>fwd_returns</th>\n",
       "    </tr>\n",
       "  </thead>\n",
       "  <tbody>\n",
       "    <tr>\n",
       "      <td>0</td>\n",
       "      <td>NaN</td>\n",
       "      <td>NaN</td>\n",
       "      <td>NaN</td>\n",
       "    </tr>\n",
       "    <tr>\n",
       "      <td>1</td>\n",
       "      <td>NaN</td>\n",
       "      <td>NaN</td>\n",
       "      <td>NaN</td>\n",
       "    </tr>\n",
       "    <tr>\n",
       "      <td>2</td>\n",
       "      <td>NaN</td>\n",
       "      <td>NaN</td>\n",
       "      <td>NaN</td>\n",
       "    </tr>\n",
       "    <tr>\n",
       "      <td>3</td>\n",
       "      <td>NaN</td>\n",
       "      <td>NaN</td>\n",
       "      <td>NaN</td>\n",
       "    </tr>\n",
       "    <tr>\n",
       "      <td>4</td>\n",
       "      <td>NaN</td>\n",
       "      <td>NaN</td>\n",
       "      <td>NaN</td>\n",
       "    </tr>\n",
       "    <tr>\n",
       "      <td>...</td>\n",
       "      <td>...</td>\n",
       "      <td>...</td>\n",
       "      <td>...</td>\n",
       "    </tr>\n",
       "    <tr>\n",
       "      <td>95</td>\n",
       "      <td>60.698443</td>\n",
       "      <td>68.297987</td>\n",
       "      <td>0.010432</td>\n",
       "    </tr>\n",
       "    <tr>\n",
       "      <td>96</td>\n",
       "      <td>61.555018</td>\n",
       "      <td>63.554618</td>\n",
       "      <td>0.000618</td>\n",
       "    </tr>\n",
       "    <tr>\n",
       "      <td>97</td>\n",
       "      <td>62.765973</td>\n",
       "      <td>59.444566</td>\n",
       "      <td>0.005820</td>\n",
       "    </tr>\n",
       "    <tr>\n",
       "      <td>98</td>\n",
       "      <td>66.785263</td>\n",
       "      <td>72.651911</td>\n",
       "      <td>0.019728</td>\n",
       "    </tr>\n",
       "    <tr>\n",
       "      <td>99</td>\n",
       "      <td>65.611210</td>\n",
       "      <td>80.923605</td>\n",
       "      <td>0.020655</td>\n",
       "    </tr>\n",
       "  </tbody>\n",
       "</table>\n",
       "<p>100 rows × 3 columns</p>\n",
       "</div>"
      ],
      "text/plain": [
       "          RSI  STOCHASTIC  fwd_returns\n",
       "0         NaN         NaN          NaN\n",
       "1         NaN         NaN          NaN\n",
       "2         NaN         NaN          NaN\n",
       "3         NaN         NaN          NaN\n",
       "4         NaN         NaN          NaN\n",
       "..        ...         ...          ...\n",
       "95  60.698443   68.297987     0.010432\n",
       "96  61.555018   63.554618     0.000618\n",
       "97  62.765973   59.444566     0.005820\n",
       "98  66.785263   72.651911     0.019728\n",
       "99  65.611210   80.923605     0.020655\n",
       "\n",
       "[100 rows x 3 columns]"
      ]
     },
     "execution_count": 94,
     "metadata": {},
     "output_type": "execute_result"
    }
   ],
   "source": [
    "df.head(100)"
   ]
  },
  {
   "cell_type": "code",
   "execution_count": 96,
   "metadata": {},
   "outputs": [],
   "source": [
    "df.dropna().to_csv('ml_log_processed.csv',index=False)"
   ]
  },
  {
   "cell_type": "code",
   "execution_count": 95,
   "metadata": {},
   "outputs": [],
   "source": [
    "df.dropna().to_csv((\"processed_\"+Key),index=False)"
   ]
  },
  {
   "cell_type": "markdown",
   "metadata": {},
   "source": [
    "### Old Format"
   ]
  },
  {
   "cell_type": "code",
   "execution_count": 2,
   "metadata": {},
   "outputs": [],
   "source": [
    "# df=pd.read_csv(\"ml_log.csv\",index_col=['time','ticker'],parse_dates=True)\n",
    "df=pd.read_csv(\"ml_log.csv\",index_col=['time'],parse_dates=True)"
   ]
  },
  {
   "cell_type": "code",
   "execution_count": 3,
   "metadata": {},
   "outputs": [
    {
     "data": {
      "text/html": [
       "<div>\n",
       "<style scoped>\n",
       "    .dataframe tbody tr th:only-of-type {\n",
       "        vertical-align: middle;\n",
       "    }\n",
       "\n",
       "    .dataframe tbody tr th {\n",
       "        vertical-align: top;\n",
       "    }\n",
       "\n",
       "    .dataframe thead th {\n",
       "        text-align: right;\n",
       "    }\n",
       "</style>\n",
       "<table border=\"1\" class=\"dataframe\">\n",
       "  <thead>\n",
       "    <tr style=\"text-align: right;\">\n",
       "      <th></th>\n",
       "      <th>ticker</th>\n",
       "      <th>close</th>\n",
       "      <th>sma1</th>\n",
       "      <th>sma2</th>\n",
       "    </tr>\n",
       "    <tr>\n",
       "      <th>time</th>\n",
       "      <th></th>\n",
       "      <th></th>\n",
       "      <th></th>\n",
       "      <th></th>\n",
       "    </tr>\n",
       "  </thead>\n",
       "  <tbody>\n",
       "    <tr>\n",
       "      <td>2019-01-28 22:00:00</td>\n",
       "      <td>EUR_USD</td>\n",
       "      <td>1.14113</td>\n",
       "      <td>1.135365</td>\n",
       "      <td>1.137738</td>\n",
       "    </tr>\n",
       "    <tr>\n",
       "      <td>2019-01-28 22:00:00</td>\n",
       "      <td>GBP_USD</td>\n",
       "      <td>1.30556</td>\n",
       "      <td>1.294032</td>\n",
       "      <td>1.280558</td>\n",
       "    </tr>\n",
       "    <tr>\n",
       "      <td>2019-01-29 22:00:00</td>\n",
       "      <td>EUR_USD</td>\n",
       "      <td>1.14063</td>\n",
       "      <td>1.135649</td>\n",
       "      <td>1.138145</td>\n",
       "    </tr>\n",
       "    <tr>\n",
       "      <td>2019-01-29 22:00:00</td>\n",
       "      <td>GBP_USD</td>\n",
       "      <td>1.30543</td>\n",
       "      <td>1.296327</td>\n",
       "      <td>1.282924</td>\n",
       "    </tr>\n",
       "    <tr>\n",
       "      <td>2019-01-30 22:00:00</td>\n",
       "      <td>EUR_USD</td>\n",
       "      <td>1.14360</td>\n",
       "      <td>1.136307</td>\n",
       "      <td>1.138780</td>\n",
       "    </tr>\n",
       "  </tbody>\n",
       "</table>\n",
       "</div>"
      ],
      "text/plain": [
       "                      ticker    close      sma1      sma2\n",
       "time                                                     \n",
       "2019-01-28 22:00:00  EUR_USD  1.14113  1.135365  1.137738\n",
       "2019-01-28 22:00:00  GBP_USD  1.30556  1.294032  1.280558\n",
       "2019-01-29 22:00:00  EUR_USD  1.14063  1.135649  1.138145\n",
       "2019-01-29 22:00:00  GBP_USD  1.30543  1.296327  1.282924\n",
       "2019-01-30 22:00:00  EUR_USD  1.14360  1.136307  1.138780"
      ]
     },
     "execution_count": 3,
     "metadata": {},
     "output_type": "execute_result"
    }
   ],
   "source": [
    "df.head()"
   ]
  },
  {
   "cell_type": "code",
   "execution_count": 16,
   "metadata": {},
   "outputs": [],
   "source": [
    "df['fwd_returns']=df.groupby(\"ticker\")[\"close\"].pct_change(1)"
   ]
  },
  {
   "cell_type": "code",
   "execution_count": 17,
   "metadata": {},
   "outputs": [],
   "source": [
    "df=df.reset_index().drop(columns=['time','ticker','close'])"
   ]
  },
  {
   "cell_type": "code",
   "execution_count": 18,
   "metadata": {},
   "outputs": [],
   "source": [
    "df.dropna().to_csv(\"ml_log_processed.csv\",index=False)"
   ]
  },
  {
   "cell_type": "code",
   "execution_count": 19,
   "metadata": {},
   "outputs": [
    {
     "data": {
      "text/html": [
       "<div>\n",
       "<style scoped>\n",
       "    .dataframe tbody tr th:only-of-type {\n",
       "        vertical-align: middle;\n",
       "    }\n",
       "\n",
       "    .dataframe tbody tr th {\n",
       "        vertical-align: top;\n",
       "    }\n",
       "\n",
       "    .dataframe thead th {\n",
       "        text-align: right;\n",
       "    }\n",
       "</style>\n",
       "<table border=\"1\" class=\"dataframe\">\n",
       "  <thead>\n",
       "    <tr style=\"text-align: right;\">\n",
       "      <th></th>\n",
       "      <th>sma1</th>\n",
       "      <th>sma2</th>\n",
       "      <th>fwd_returns</th>\n",
       "    </tr>\n",
       "  </thead>\n",
       "  <tbody>\n",
       "    <tr>\n",
       "      <td>0</td>\n",
       "      <td>1.135365</td>\n",
       "      <td>1.137738</td>\n",
       "      <td>NaN</td>\n",
       "    </tr>\n",
       "    <tr>\n",
       "      <td>1</td>\n",
       "      <td>1.294032</td>\n",
       "      <td>1.280558</td>\n",
       "      <td>NaN</td>\n",
       "    </tr>\n",
       "    <tr>\n",
       "      <td>2</td>\n",
       "      <td>1.135649</td>\n",
       "      <td>1.138145</td>\n",
       "      <td>-0.000438</td>\n",
       "    </tr>\n",
       "    <tr>\n",
       "      <td>3</td>\n",
       "      <td>1.296327</td>\n",
       "      <td>1.282924</td>\n",
       "      <td>-0.000100</td>\n",
       "    </tr>\n",
       "    <tr>\n",
       "      <td>4</td>\n",
       "      <td>1.136307</td>\n",
       "      <td>1.138780</td>\n",
       "      <td>0.002604</td>\n",
       "    </tr>\n",
       "  </tbody>\n",
       "</table>\n",
       "</div>"
      ],
      "text/plain": [
       "       sma1      sma2  fwd_returns\n",
       "0  1.135365  1.137738          NaN\n",
       "1  1.294032  1.280558          NaN\n",
       "2  1.135649  1.138145    -0.000438\n",
       "3  1.296327  1.282924    -0.000100\n",
       "4  1.136307  1.138780     0.002604"
      ]
     },
     "execution_count": 19,
     "metadata": {},
     "output_type": "execute_result"
    }
   ],
   "source": [
    "df.head()"
   ]
  },
  {
   "cell_type": "markdown",
   "metadata": {},
   "source": [
    "## QGRID"
   ]
  },
  {
   "cell_type": "code",
   "execution_count": 51,
   "metadata": {},
   "outputs": [],
   "source": [
    "# ! pip install qgrid\n",
    "\n",
    "# ! jupyter nbextension enable --py --sys-prefix qgrid\n",
    "# ! jupyter nbextension enable --py --sys-prefix widgetsnbextension\n",
    "\n",
    "# import qgrid\n",
    "# qgrid_widget=qgrid.show_grid(df,show_toolbar=True)\n",
    "# qgrid_widget"
   ]
  }
 ],
 "metadata": {
  "kernelspec": {
   "display_name": "Python 3",
   "language": "python",
   "name": "python3"
  },
  "language_info": {
   "codemirror_mode": {
    "name": "ipython",
    "version": 3
   },
   "file_extension": ".py",
   "mimetype": "text/x-python",
   "name": "python",
   "nbconvert_exporter": "python",
   "pygments_lexer": "ipython3",
   "version": "3.7.3"
  }
 },
 "nbformat": 4,
 "nbformat_minor": 2
}
