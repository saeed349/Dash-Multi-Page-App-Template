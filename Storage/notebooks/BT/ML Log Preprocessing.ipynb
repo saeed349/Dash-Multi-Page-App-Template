{
 "cells": [
  {
   "cell_type": "code",
   "execution_count": 4,
   "metadata": {},
   "outputs": [],
   "source": [
    "import pandas as pd\n",
    "%matplotlib inline\n",
    "\n",
    "import boto3\n",
    "from io import StringIO"
   ]
  },
  {
   "cell_type": "code",
   "execution_count": 5,
   "metadata": {},
   "outputs": [],
   "source": [
    "# df=pd.read_csv(\"ml_log.csv\",parse_dates=True)#infer_datetime_format=True) ,index_col=['time','ticker']"
   ]
  },
  {
   "cell_type": "code",
   "execution_count": 6,
   "metadata": {},
   "outputs": [],
   "source": [
    "s3 = boto3.client('s3',endpoint_url=\"http://minio-image:9000\",aws_access_key_id=\"minio-image\",aws_secret_access_key=\"minio-image-pass\")\n",
    "Bucket=\"model-support-files\"\n",
    "Key=\"4_ml_log.csv\"\n",
    "read_file = s3.get_object(Bucket=Bucket, Key=Key)\n",
    "df = pd.read_csv(read_file['Body'],sep=',',index_col=['datetime'],parse_dates=True)"
   ]
  },
  {
   "cell_type": "code",
   "execution_count": 7,
   "metadata": {},
   "outputs": [
    {
     "data": {
      "text/html": [
       "<div>\n",
       "<style scoped>\n",
       "    .dataframe tbody tr th:only-of-type {\n",
       "        vertical-align: middle;\n",
       "    }\n",
       "\n",
       "    .dataframe tbody tr th {\n",
       "        vertical-align: top;\n",
       "    }\n",
       "\n",
       "    .dataframe thead th {\n",
       "        text-align: right;\n",
       "    }\n",
       "</style>\n",
       "<table border=\"1\" class=\"dataframe\">\n",
       "  <thead>\n",
       "    <tr style=\"text-align: right;\">\n",
       "      <th></th>\n",
       "      <th>security</th>\n",
       "      <th>close</th>\n",
       "      <th>RSI</th>\n",
       "      <th>STOCHASTIC</th>\n",
       "    </tr>\n",
       "    <tr>\n",
       "      <th>datetime</th>\n",
       "      <th></th>\n",
       "      <th></th>\n",
       "      <th></th>\n",
       "      <th></th>\n",
       "    </tr>\n",
       "  </thead>\n",
       "  <tbody>\n",
       "    <tr>\n",
       "      <th>2010-12-30 22:00:00</th>\n",
       "      <td>EUR_USD</td>\n",
       "      <td>1.32855</td>\n",
       "      <td>NaN</td>\n",
       "      <td>NaN</td>\n",
       "    </tr>\n",
       "    <tr>\n",
       "      <th>2010-12-31 22:00:00</th>\n",
       "      <td>EUR_USD</td>\n",
       "      <td>1.33815</td>\n",
       "      <td>NaN</td>\n",
       "      <td>NaN</td>\n",
       "    </tr>\n",
       "    <tr>\n",
       "      <th>2011-01-01 22:00:00</th>\n",
       "      <td>EUR_USD</td>\n",
       "      <td>1.33280</td>\n",
       "      <td>NaN</td>\n",
       "      <td>NaN</td>\n",
       "    </tr>\n",
       "    <tr>\n",
       "      <th>2011-01-02 22:00:00</th>\n",
       "      <td>EUR_USD</td>\n",
       "      <td>1.32512</td>\n",
       "      <td>NaN</td>\n",
       "      <td>NaN</td>\n",
       "    </tr>\n",
       "    <tr>\n",
       "      <th>2011-01-03 22:00:00</th>\n",
       "      <td>EUR_USD</td>\n",
       "      <td>1.32919</td>\n",
       "      <td>NaN</td>\n",
       "      <td>NaN</td>\n",
       "    </tr>\n",
       "  </tbody>\n",
       "</table>\n",
       "</div>"
      ],
      "text/plain": [
       "                    security    close  RSI  STOCHASTIC\n",
       "datetime                                              \n",
       "2010-12-30 22:00:00  EUR_USD  1.32855  NaN         NaN\n",
       "2010-12-31 22:00:00  EUR_USD  1.33815  NaN         NaN\n",
       "2011-01-01 22:00:00  EUR_USD  1.33280  NaN         NaN\n",
       "2011-01-02 22:00:00  EUR_USD  1.32512  NaN         NaN\n",
       "2011-01-03 22:00:00  EUR_USD  1.32919  NaN         NaN"
      ]
     },
     "execution_count": 7,
     "metadata": {},
     "output_type": "execute_result"
    }
   ],
   "source": [
    "df=df.loc[:, df.columns != 'ATR']\n",
    "df.head()"
   ]
  },
  {
   "cell_type": "code",
   "execution_count": 8,
   "metadata": {},
   "outputs": [],
   "source": [
    "# df['datetime']=pd.to_datetime(df['datetime'])\n",
    "df['fwd_returns']=df.groupby(\"security\")[\"close\"].pct_change(5)"
   ]
  },
  {
   "cell_type": "code",
   "execution_count": 9,
   "metadata": {},
   "outputs": [],
   "source": [
    "df.sort_values(by='datetime',inplace=True)"
   ]
  },
  {
   "cell_type": "code",
   "execution_count": 10,
   "metadata": {},
   "outputs": [],
   "source": [
    "df=df.reset_index().drop(columns=['datetime','security','close'])"
   ]
  },
  {
   "cell_type": "code",
   "execution_count": 11,
   "metadata": {},
   "outputs": [
    {
     "data": {
      "text/html": [
       "<div>\n",
       "<style scoped>\n",
       "    .dataframe tbody tr th:only-of-type {\n",
       "        vertical-align: middle;\n",
       "    }\n",
       "\n",
       "    .dataframe tbody tr th {\n",
       "        vertical-align: top;\n",
       "    }\n",
       "\n",
       "    .dataframe thead th {\n",
       "        text-align: right;\n",
       "    }\n",
       "</style>\n",
       "<table border=\"1\" class=\"dataframe\">\n",
       "  <thead>\n",
       "    <tr style=\"text-align: right;\">\n",
       "      <th></th>\n",
       "      <th>RSI</th>\n",
       "      <th>STOCHASTIC</th>\n",
       "      <th>fwd_returns</th>\n",
       "    </tr>\n",
       "  </thead>\n",
       "  <tbody>\n",
       "    <tr>\n",
       "      <th>0</th>\n",
       "      <td>NaN</td>\n",
       "      <td>NaN</td>\n",
       "      <td>NaN</td>\n",
       "    </tr>\n",
       "    <tr>\n",
       "      <th>1</th>\n",
       "      <td>NaN</td>\n",
       "      <td>NaN</td>\n",
       "      <td>NaN</td>\n",
       "    </tr>\n",
       "    <tr>\n",
       "      <th>2</th>\n",
       "      <td>NaN</td>\n",
       "      <td>NaN</td>\n",
       "      <td>NaN</td>\n",
       "    </tr>\n",
       "    <tr>\n",
       "      <th>3</th>\n",
       "      <td>NaN</td>\n",
       "      <td>NaN</td>\n",
       "      <td>NaN</td>\n",
       "    </tr>\n",
       "    <tr>\n",
       "      <th>4</th>\n",
       "      <td>NaN</td>\n",
       "      <td>NaN</td>\n",
       "      <td>NaN</td>\n",
       "    </tr>\n",
       "    <tr>\n",
       "      <th>...</th>\n",
       "      <td>...</td>\n",
       "      <td>...</td>\n",
       "      <td>...</td>\n",
       "    </tr>\n",
       "    <tr>\n",
       "      <th>95</th>\n",
       "      <td>64.126022</td>\n",
       "      <td>51.751124</td>\n",
       "      <td>0.010203</td>\n",
       "    </tr>\n",
       "    <tr>\n",
       "      <th>96</th>\n",
       "      <td>57.309926</td>\n",
       "      <td>28.097778</td>\n",
       "      <td>0.019659</td>\n",
       "    </tr>\n",
       "    <tr>\n",
       "      <th>97</th>\n",
       "      <td>66.327621</td>\n",
       "      <td>72.346196</td>\n",
       "      <td>0.017007</td>\n",
       "    </tr>\n",
       "    <tr>\n",
       "      <th>98</th>\n",
       "      <td>66.191288</td>\n",
       "      <td>84.836598</td>\n",
       "      <td>0.015130</td>\n",
       "    </tr>\n",
       "    <tr>\n",
       "      <th>99</th>\n",
       "      <td>57.309926</td>\n",
       "      <td>41.973333</td>\n",
       "      <td>0.017212</td>\n",
       "    </tr>\n",
       "  </tbody>\n",
       "</table>\n",
       "<p>100 rows × 3 columns</p>\n",
       "</div>"
      ],
      "text/plain": [
       "          RSI  STOCHASTIC  fwd_returns\n",
       "0         NaN         NaN          NaN\n",
       "1         NaN         NaN          NaN\n",
       "2         NaN         NaN          NaN\n",
       "3         NaN         NaN          NaN\n",
       "4         NaN         NaN          NaN\n",
       "..        ...         ...          ...\n",
       "95  64.126022   51.751124     0.010203\n",
       "96  57.309926   28.097778     0.019659\n",
       "97  66.327621   72.346196     0.017007\n",
       "98  66.191288   84.836598     0.015130\n",
       "99  57.309926   41.973333     0.017212\n",
       "\n",
       "[100 rows x 3 columns]"
      ]
     },
     "execution_count": 11,
     "metadata": {},
     "output_type": "execute_result"
    }
   ],
   "source": [
    "df.head(100)"
   ]
  },
  {
   "cell_type": "code",
   "execution_count": 12,
   "metadata": {},
   "outputs": [
    {
     "data": {
      "text/html": [
       "<div>\n",
       "<style scoped>\n",
       "    .dataframe tbody tr th:only-of-type {\n",
       "        vertical-align: middle;\n",
       "    }\n",
       "\n",
       "    .dataframe tbody tr th {\n",
       "        vertical-align: top;\n",
       "    }\n",
       "\n",
       "    .dataframe thead th {\n",
       "        text-align: right;\n",
       "    }\n",
       "</style>\n",
       "<table border=\"1\" class=\"dataframe\">\n",
       "  <thead>\n",
       "    <tr style=\"text-align: right;\">\n",
       "      <th></th>\n",
       "      <th>RSI</th>\n",
       "      <th>STOCHASTIC</th>\n",
       "      <th>fwd_returns</th>\n",
       "    </tr>\n",
       "  </thead>\n",
       "  <tbody>\n",
       "    <tr>\n",
       "      <th>58</th>\n",
       "      <td>56.991619</td>\n",
       "      <td>78.882076</td>\n",
       "      <td>-0.005146</td>\n",
       "    </tr>\n",
       "    <tr>\n",
       "      <th>60</th>\n",
       "      <td>59.448606</td>\n",
       "      <td>77.279931</td>\n",
       "      <td>0.003864</td>\n",
       "    </tr>\n",
       "    <tr>\n",
       "      <th>62</th>\n",
       "      <td>60.945457</td>\n",
       "      <td>79.322084</td>\n",
       "      <td>0.013553</td>\n",
       "    </tr>\n",
       "    <tr>\n",
       "      <th>63</th>\n",
       "      <td>67.632318</td>\n",
       "      <td>67.385341</td>\n",
       "      <td>0.019120</td>\n",
       "    </tr>\n",
       "    <tr>\n",
       "      <th>64</th>\n",
       "      <td>56.546196</td>\n",
       "      <td>72.484186</td>\n",
       "      <td>-0.000088</td>\n",
       "    </tr>\n",
       "    <tr>\n",
       "      <th>...</th>\n",
       "      <td>...</td>\n",
       "      <td>...</td>\n",
       "      <td>...</td>\n",
       "    </tr>\n",
       "    <tr>\n",
       "      <th>4835</th>\n",
       "      <td>41.858895</td>\n",
       "      <td>-12.817442</td>\n",
       "      <td>-0.008176</td>\n",
       "    </tr>\n",
       "    <tr>\n",
       "      <th>4836</th>\n",
       "      <td>41.948026</td>\n",
       "      <td>-11.469939</td>\n",
       "      <td>-0.008326</td>\n",
       "    </tr>\n",
       "    <tr>\n",
       "      <th>4837</th>\n",
       "      <td>33.961128</td>\n",
       "      <td>-26.089538</td>\n",
       "      <td>-0.019533</td>\n",
       "    </tr>\n",
       "    <tr>\n",
       "      <th>4838</th>\n",
       "      <td>43.654748</td>\n",
       "      <td>-5.028193</td>\n",
       "      <td>-0.001247</td>\n",
       "    </tr>\n",
       "    <tr>\n",
       "      <th>4839</th>\n",
       "      <td>31.516286</td>\n",
       "      <td>-38.316965</td>\n",
       "      <td>-0.024038</td>\n",
       "    </tr>\n",
       "  </tbody>\n",
       "</table>\n",
       "<p>4780 rows × 3 columns</p>\n",
       "</div>"
      ],
      "text/plain": [
       "            RSI  STOCHASTIC  fwd_returns\n",
       "58    56.991619   78.882076    -0.005146\n",
       "60    59.448606   77.279931     0.003864\n",
       "62    60.945457   79.322084     0.013553\n",
       "63    67.632318   67.385341     0.019120\n",
       "64    56.546196   72.484186    -0.000088\n",
       "...         ...         ...          ...\n",
       "4835  41.858895  -12.817442    -0.008176\n",
       "4836  41.948026  -11.469939    -0.008326\n",
       "4837  33.961128  -26.089538    -0.019533\n",
       "4838  43.654748   -5.028193    -0.001247\n",
       "4839  31.516286  -38.316965    -0.024038\n",
       "\n",
       "[4780 rows x 3 columns]"
      ]
     },
     "execution_count": 12,
     "metadata": {},
     "output_type": "execute_result"
    }
   ],
   "source": [
    "df.dropna()"
   ]
  },
  {
   "cell_type": "code",
   "execution_count": 9,
   "metadata": {},
   "outputs": [],
   "source": [
    "# df.dropna().to_csv('ml_log_processed.csv',index=False)"
   ]
  },
  {
   "cell_type": "code",
   "execution_count": 10,
   "metadata": {},
   "outputs": [],
   "source": [
    "df.dropna().to_csv((\"processed_\"+Key),index=False)"
   ]
  },
  {
   "cell_type": "code",
   "execution_count": 12,
   "metadata": {},
   "outputs": [
    {
     "data": {
      "text/plain": [
       "{'ResponseMetadata': {'RequestId': '15E4E729C85BFEB8',\n",
       "  'HostId': '',\n",
       "  'HTTPStatusCode': 200,\n",
       "  'HTTPHeaders': {'accept-ranges': 'bytes',\n",
       "   'content-length': '0',\n",
       "   'content-security-policy': 'block-all-mixed-content',\n",
       "   'etag': '\"e45b7db678a861fe584969abaf0a0658\"',\n",
       "   'server': 'MinIO/RELEASE.2019-12-24T23-04-45Z',\n",
       "   'vary': 'Origin',\n",
       "   'x-amz-request-id': '15E4E729C85BFEB8',\n",
       "   'x-xss-protection': '1; mode=block',\n",
       "   'date': 'Sun, 29 Dec 2019 17:18:56 GMT'},\n",
       "  'RetryAttempts': 0},\n",
       " 'ETag': '\"e45b7db678a861fe584969abaf0a0658\"'}"
      ]
     },
     "execution_count": 12,
     "metadata": {},
     "output_type": "execute_result"
    }
   ],
   "source": [
    "csv_buffer = StringIO()\n",
    "df.to_csv(csv_buffer,index=False)\n",
    "s3.put_object(Bucket=Bucket, Key=(\"processed_\"+Key),Body=csv_buffer.getvalue())"
   ]
  },
  {
   "cell_type": "markdown",
   "metadata": {},
   "source": [
    "### Old Format"
   ]
  },
  {
   "cell_type": "code",
   "execution_count": 2,
   "metadata": {},
   "outputs": [],
   "source": [
    "# df=pd.read_csv(\"ml_log.csv\",index_col=['time','ticker'],parse_dates=True)\n",
    "df=pd.read_csv(\"ml_log.csv\",index_col=['time'],parse_dates=True)"
   ]
  },
  {
   "cell_type": "code",
   "execution_count": 3,
   "metadata": {},
   "outputs": [
    {
     "data": {
      "text/html": [
       "<div>\n",
       "<style scoped>\n",
       "    .dataframe tbody tr th:only-of-type {\n",
       "        vertical-align: middle;\n",
       "    }\n",
       "\n",
       "    .dataframe tbody tr th {\n",
       "        vertical-align: top;\n",
       "    }\n",
       "\n",
       "    .dataframe thead th {\n",
       "        text-align: right;\n",
       "    }\n",
       "</style>\n",
       "<table border=\"1\" class=\"dataframe\">\n",
       "  <thead>\n",
       "    <tr style=\"text-align: right;\">\n",
       "      <th></th>\n",
       "      <th>ticker</th>\n",
       "      <th>close</th>\n",
       "      <th>sma1</th>\n",
       "      <th>sma2</th>\n",
       "    </tr>\n",
       "    <tr>\n",
       "      <th>time</th>\n",
       "      <th></th>\n",
       "      <th></th>\n",
       "      <th></th>\n",
       "      <th></th>\n",
       "    </tr>\n",
       "  </thead>\n",
       "  <tbody>\n",
       "    <tr>\n",
       "      <td>2019-01-28 22:00:00</td>\n",
       "      <td>EUR_USD</td>\n",
       "      <td>1.14113</td>\n",
       "      <td>1.135365</td>\n",
       "      <td>1.137738</td>\n",
       "    </tr>\n",
       "    <tr>\n",
       "      <td>2019-01-28 22:00:00</td>\n",
       "      <td>GBP_USD</td>\n",
       "      <td>1.30556</td>\n",
       "      <td>1.294032</td>\n",
       "      <td>1.280558</td>\n",
       "    </tr>\n",
       "    <tr>\n",
       "      <td>2019-01-29 22:00:00</td>\n",
       "      <td>EUR_USD</td>\n",
       "      <td>1.14063</td>\n",
       "      <td>1.135649</td>\n",
       "      <td>1.138145</td>\n",
       "    </tr>\n",
       "    <tr>\n",
       "      <td>2019-01-29 22:00:00</td>\n",
       "      <td>GBP_USD</td>\n",
       "      <td>1.30543</td>\n",
       "      <td>1.296327</td>\n",
       "      <td>1.282924</td>\n",
       "    </tr>\n",
       "    <tr>\n",
       "      <td>2019-01-30 22:00:00</td>\n",
       "      <td>EUR_USD</td>\n",
       "      <td>1.14360</td>\n",
       "      <td>1.136307</td>\n",
       "      <td>1.138780</td>\n",
       "    </tr>\n",
       "  </tbody>\n",
       "</table>\n",
       "</div>"
      ],
      "text/plain": [
       "                      ticker    close      sma1      sma2\n",
       "time                                                     \n",
       "2019-01-28 22:00:00  EUR_USD  1.14113  1.135365  1.137738\n",
       "2019-01-28 22:00:00  GBP_USD  1.30556  1.294032  1.280558\n",
       "2019-01-29 22:00:00  EUR_USD  1.14063  1.135649  1.138145\n",
       "2019-01-29 22:00:00  GBP_USD  1.30543  1.296327  1.282924\n",
       "2019-01-30 22:00:00  EUR_USD  1.14360  1.136307  1.138780"
      ]
     },
     "execution_count": 3,
     "metadata": {},
     "output_type": "execute_result"
    }
   ],
   "source": [
    "df.head()"
   ]
  },
  {
   "cell_type": "code",
   "execution_count": 16,
   "metadata": {},
   "outputs": [],
   "source": [
    "df['fwd_returns']=df.groupby(\"ticker\")[\"close\"].pct_change(1)"
   ]
  },
  {
   "cell_type": "code",
   "execution_count": 17,
   "metadata": {},
   "outputs": [],
   "source": [
    "df=df.reset_index().drop(columns=['time','ticker','close'])"
   ]
  },
  {
   "cell_type": "code",
   "execution_count": 18,
   "metadata": {},
   "outputs": [],
   "source": [
    "df.dropna().to_csv(\"ml_log_processed.csv\",index=False)"
   ]
  },
  {
   "cell_type": "code",
   "execution_count": 19,
   "metadata": {},
   "outputs": [
    {
     "data": {
      "text/html": [
       "<div>\n",
       "<style scoped>\n",
       "    .dataframe tbody tr th:only-of-type {\n",
       "        vertical-align: middle;\n",
       "    }\n",
       "\n",
       "    .dataframe tbody tr th {\n",
       "        vertical-align: top;\n",
       "    }\n",
       "\n",
       "    .dataframe thead th {\n",
       "        text-align: right;\n",
       "    }\n",
       "</style>\n",
       "<table border=\"1\" class=\"dataframe\">\n",
       "  <thead>\n",
       "    <tr style=\"text-align: right;\">\n",
       "      <th></th>\n",
       "      <th>sma1</th>\n",
       "      <th>sma2</th>\n",
       "      <th>fwd_returns</th>\n",
       "    </tr>\n",
       "  </thead>\n",
       "  <tbody>\n",
       "    <tr>\n",
       "      <td>0</td>\n",
       "      <td>1.135365</td>\n",
       "      <td>1.137738</td>\n",
       "      <td>NaN</td>\n",
       "    </tr>\n",
       "    <tr>\n",
       "      <td>1</td>\n",
       "      <td>1.294032</td>\n",
       "      <td>1.280558</td>\n",
       "      <td>NaN</td>\n",
       "    </tr>\n",
       "    <tr>\n",
       "      <td>2</td>\n",
       "      <td>1.135649</td>\n",
       "      <td>1.138145</td>\n",
       "      <td>-0.000438</td>\n",
       "    </tr>\n",
       "    <tr>\n",
       "      <td>3</td>\n",
       "      <td>1.296327</td>\n",
       "      <td>1.282924</td>\n",
       "      <td>-0.000100</td>\n",
       "    </tr>\n",
       "    <tr>\n",
       "      <td>4</td>\n",
       "      <td>1.136307</td>\n",
       "      <td>1.138780</td>\n",
       "      <td>0.002604</td>\n",
       "    </tr>\n",
       "  </tbody>\n",
       "</table>\n",
       "</div>"
      ],
      "text/plain": [
       "       sma1      sma2  fwd_returns\n",
       "0  1.135365  1.137738          NaN\n",
       "1  1.294032  1.280558          NaN\n",
       "2  1.135649  1.138145    -0.000438\n",
       "3  1.296327  1.282924    -0.000100\n",
       "4  1.136307  1.138780     0.002604"
      ]
     },
     "execution_count": 19,
     "metadata": {},
     "output_type": "execute_result"
    }
   ],
   "source": [
    "df.head()"
   ]
  },
  {
   "cell_type": "markdown",
   "metadata": {},
   "source": [
    "## QGRID"
   ]
  },
  {
   "cell_type": "code",
   "execution_count": 51,
   "metadata": {},
   "outputs": [],
   "source": [
    "# ! pip install qgrid\n",
    "\n",
    "# ! jupyter nbextension enable --py --sys-prefix qgrid\n",
    "# ! jupyter nbextension enable --py --sys-prefix widgetsnbextension\n",
    "\n",
    "# import qgrid\n",
    "# qgrid_widget=qgrid.show_grid(df,show_toolbar=True)\n",
    "# qgrid_widget"
   ]
  }
 ],
 "metadata": {
  "kernelspec": {
   "display_name": "Python 3",
   "language": "python",
   "name": "python3"
  },
  "language_info": {
   "codemirror_mode": {
    "name": "ipython",
    "version": 3
   },
   "file_extension": ".py",
   "mimetype": "text/x-python",
   "name": "python",
   "nbconvert_exporter": "python",
   "pygments_lexer": "ipython3",
   "version": "3.7.3"
  }
 },
 "nbformat": 4,
 "nbformat_minor": 2
}
