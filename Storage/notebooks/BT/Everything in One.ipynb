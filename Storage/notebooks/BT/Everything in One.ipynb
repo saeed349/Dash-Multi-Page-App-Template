{
 "cells": [
  {
   "cell_type": "markdown",
   "metadata": {},
   "source": [
    "# Running the strategy"
   ]
  },
  {
   "cell_type": "code",
   "execution_count": 21,
   "metadata": {},
   "outputs": [
    {
     "name": "stdout",
     "output_type": "stream",
     "text": [
      "Profit ... or Loss: 32.62\r\n"
     ]
    }
   ],
   "source": [
    "!python /home/jovyan/work/q_pack/q_run/12_Clean_Strategy_BT.py"
   ]
  },
  {
   "cell_type": "code",
   "execution_count": 22,
   "metadata": {},
   "outputs": [
    {
     "name": "stdout",
     "output_type": "stream",
     "text": [
      "s3://mlflow-models/b5c9975d81c64bc3b662654007e1c20d/artifacts/model\n",
      "Profit ... or Loss: -969.07\n"
     ]
    }
   ],
   "source": [
    "! python /home/jovyan/work/q_pack/q_run/12_Clean_Strategy_BT.py \\\n",
    "--strat_name=simple_strategy_2 \\\n",
    "--mode=backtest \\\n",
    "--tickers=EUR_USD,GBP_USD \\\n",
    "--strat_param=model_uri=b5c9975d81c64bc3b662654007e1c20d,ml_serving=True"
   ]
  },
  {
   "cell_type": "code",
   "execution_count": 23,
   "metadata": {},
   "outputs": [
    {
     "name": "stdout",
     "output_type": "stream",
     "text": [
      "Profit ... or Loss: 32.62\r\n"
     ]
    }
   ],
   "source": [
    "! python /home/jovyan/work/q_pack/q_run/12_Clean_Strategy_BT.py \\\n",
    "--strat_name=simple_strategy_2 \\\n",
    "--mode=backtest \\\n",
    "--tickers=EUR_USD,GBP_USD"
   ]
  },
  {
   "cell_type": "markdown",
   "metadata": {},
   "source": [
    "# Preprocessing the file"
   ]
  },
  {
   "cell_type": "code",
   "execution_count": 1,
   "metadata": {},
   "outputs": [
    {
     "data": {
      "text/plain": [
       "'processed_6_ml_log.csv'"
      ]
     },
     "execution_count": 1,
     "metadata": {},
     "output_type": "execute_result"
    }
   ],
   "source": [
    "from ml_pack.preprocessing.ml_preprocessing import ml_preprocessing\n",
    "ml_preprocessing(input_file=\"6_ml_log.csv\")"
   ]
  },
  {
   "cell_type": "markdown",
   "metadata": {},
   "source": [
    "# Train a ML-model using MLflow"
   ]
  },
  {
   "cell_type": "markdown",
   "metadata": {},
   "source": [
    "### Create an MLFlow experiment"
   ]
  },
  {
   "cell_type": "code",
   "execution_count": 35,
   "metadata": {},
   "outputs": [],
   "source": [
    "import os\n",
    "import warnings\n",
    "import sys\n",
    "import pandas as pd\n",
    "import numpy as np\n",
    "from sklearn.metrics import mean_squared_error, mean_absolute_error, r2_score\n",
    "from sklearn.model_selection import train_test_split\n",
    "from sklearn.ensemble import RandomForestRegressor\n",
    "import mlflow\n",
    "import mlflow.sklearn\n",
    "import mlflow\n",
    "import mlflow.pyfunc\n",
    "import io\n",
    "import boto3"
   ]
  },
  {
   "cell_type": "code",
   "execution_count": 36,
   "metadata": {},
   "outputs": [],
   "source": [
    "def eval_metrics(actual, pred):\n",
    "    rmse = np.sqrt(mean_squared_error(actual, pred))\n",
    "    mae = mean_absolute_error(actual, pred)\n",
    "    r2 = r2_score(actual, pred)\n",
    "    return rmse, mae, r2"
   ]
  },
  {
   "cell_type": "code",
   "execution_count": 37,
   "metadata": {},
   "outputs": [],
   "source": [
    "# mlflow.create_experiment(name='simple_trading_ml_models', artifact_location='s3://mlflow-models')"
   ]
  },
  {
   "cell_type": "code",
   "execution_count": 38,
   "metadata": {},
   "outputs": [],
   "source": [
    "mlflow.tracking.set_tracking_uri('http://mlflow-image:5500')\n",
    "mlflow.set_experiment('simple_trading_ml_models')"
   ]
  },
  {
   "cell_type": "code",
   "execution_count": 39,
   "metadata": {},
   "outputs": [],
   "source": [
    "s3 = boto3.client('s3',endpoint_url=\"http://minio-image:9000\",aws_access_key_id=\"minio-image\",aws_secret_access_key=\"minio-image-pass\")\n",
    "data = pd.read_csv(s3.get_object(Bucket=\"model-support-files\", Key=\"processed_6_ml_log.csv\")['Body'],sep=',')"
   ]
  },
  {
   "cell_type": "code",
   "execution_count": 40,
   "metadata": {},
   "outputs": [
    {
     "data": {
      "text/html": [
       "<div>\n",
       "<style scoped>\n",
       "    .dataframe tbody tr th:only-of-type {\n",
       "        vertical-align: middle;\n",
       "    }\n",
       "\n",
       "    .dataframe tbody tr th {\n",
       "        vertical-align: top;\n",
       "    }\n",
       "\n",
       "    .dataframe thead th {\n",
       "        text-align: right;\n",
       "    }\n",
       "</style>\n",
       "<table border=\"1\" class=\"dataframe\">\n",
       "  <thead>\n",
       "    <tr style=\"text-align: right;\">\n",
       "      <th></th>\n",
       "      <th>RSI</th>\n",
       "      <th>STOCHASTIC</th>\n",
       "      <th>fwd_returns</th>\n",
       "    </tr>\n",
       "  </thead>\n",
       "  <tbody>\n",
       "    <tr>\n",
       "      <th>0</th>\n",
       "      <td>56.991619</td>\n",
       "      <td>78.882076</td>\n",
       "      <td>-0.005146</td>\n",
       "    </tr>\n",
       "    <tr>\n",
       "      <th>1</th>\n",
       "      <td>59.448606</td>\n",
       "      <td>77.279931</td>\n",
       "      <td>0.003864</td>\n",
       "    </tr>\n",
       "    <tr>\n",
       "      <th>2</th>\n",
       "      <td>60.945457</td>\n",
       "      <td>79.322084</td>\n",
       "      <td>0.013553</td>\n",
       "    </tr>\n",
       "    <tr>\n",
       "      <th>3</th>\n",
       "      <td>67.632318</td>\n",
       "      <td>67.385341</td>\n",
       "      <td>0.019120</td>\n",
       "    </tr>\n",
       "    <tr>\n",
       "      <th>4</th>\n",
       "      <td>56.546196</td>\n",
       "      <td>72.484186</td>\n",
       "      <td>-0.000088</td>\n",
       "    </tr>\n",
       "  </tbody>\n",
       "</table>\n",
       "</div>"
      ],
      "text/plain": [
       "         RSI  STOCHASTIC  fwd_returns\n",
       "0  56.991619   78.882076    -0.005146\n",
       "1  59.448606   77.279931     0.003864\n",
       "2  60.945457   79.322084     0.013553\n",
       "3  67.632318   67.385341     0.019120\n",
       "4  56.546196   72.484186    -0.000088"
      ]
     },
     "execution_count": 40,
     "metadata": {},
     "output_type": "execute_result"
    }
   ],
   "source": [
    "data.head()"
   ]
  },
  {
   "cell_type": "code",
   "execution_count": 41,
   "metadata": {},
   "outputs": [
    {
     "name": "stderr",
     "output_type": "stream",
     "text": [
      "/opt/conda/lib/python3.7/site-packages/ipykernel_launcher.py:17: DataConversionWarning: A column-vector y was passed when a 1d array was expected. Please change the shape of y to (n_samples,), for example using ravel().\n"
     ]
    },
    {
     "name": "stdout",
     "output_type": "stream",
     "text": [
      "RandomForest Model (n_estimators=200.000000, max_depth=10.000000):\n",
      "  RMSE: 0.009057421756148985\n",
      "  MAE: 0.006710660830377815\n",
      "  R2: 0.37834992926304445\n"
     ]
    }
   ],
   "source": [
    "# warnings.filterwarnings(\"ignore\")\n",
    "np.random.seed(40)\n",
    "\n",
    "# Split the data into training and test sets. (0.75, 0.25) split.\n",
    "train, test = train_test_split(data)\n",
    "\n",
    "# The predicted column is \"fwd_returns\"\n",
    "train_x = train.drop([\"fwd_returns\"], axis=1)\n",
    "test_x = test.drop([\"fwd_returns\"], axis=1)\n",
    "train_y = train[[\"fwd_returns\"]]\n",
    "test_y = test[[\"fwd_returns\"]]\n",
    "\n",
    "n_estimators=200\n",
    "max_depth=10\n",
    "\n",
    "lr = RandomForestRegressor(n_estimators=n_estimators,max_depth=max_depth)\n",
    "lr.fit(train_x, train_y)\n",
    "predicted_qualities = lr.predict(test_x)\n",
    "(rmse, mae, r2) = eval_metrics(test_y, predicted_qualities)\n",
    "\n",
    "print(\"RandomForest Model (n_estimators=%f, max_depth=%f):\" % (n_estimators, max_depth))\n",
    "print(\"  RMSE: %s\" % rmse)\n",
    "print(\"  MAE: %s\" % mae)\n",
    "print(\"  R2: %s\" % r2)\n",
    "\n",
    "mlflow.log_param(\"n_estimators\", n_estimators)\n",
    "mlflow.log_param(\"max_depth\", max_depth)\n",
    "mlflow.log_metric(\"rmse\", rmse)\n",
    "mlflow.log_metric(\"r2\", r2)\n",
    "mlflow.log_metric(\"mae\", mae)\n",
    "mlflow.sklearn.log_model(lr, \"model\")"
   ]
  },
  {
   "cell_type": "markdown",
   "metadata": {},
   "source": [
    "## Running the strategy with the model"
   ]
  },
  {
   "cell_type": "code",
   "execution_count": null,
   "metadata": {},
   "outputs": [],
   "source": [
    "!python /home/jovyan/work/q_pack/q_run/12_Clean_Strategy_BT.py \\\n",
    "--strat_name=simple_strategy_2 \\\n",
    "--strat_param=ml_serving=True,model_uri=b5c9975d81c64bc3b662654007e1c20d \\\n",
    "--ml_log=False \\\n",
    "--mode=backtest \\\n",
    "--tickers=EUR_USD"
   ]
  },
  {
   "cell_type": "code",
   "execution_count": 2,
   "metadata": {},
   "outputs": [
    {
     "name": "stdout",
     "output_type": "stream",
     "text": [
      "True\n",
      "<class 'bool'>\n",
      "ML Log Saved in Minio Bucket: model-support-files as 29_ml_log.csv\n",
      "Profit ... or Loss: -515.62\n"
     ]
    }
   ],
   "source": [
    "!python3 /home/jovyan/work/q_pack/q_run/12_Clean_Strategy_BT.py \\\n",
    "--strat_name=simple_strategy_2 \\\n",
    "--strat_param=ml_serving=True,model_uri=\"b5c9975d81c64bc3b662654007e1c20d\" \\\n",
    "--ml_log=True \\\n",
    "--mode=backtest \\\n",
    "--tickers=EUR_USD"
   ]
  },
  {
   "cell_type": "code",
   "execution_count": null,
   "metadata": {},
   "outputs": [],
   "source": []
  }
 ],
 "metadata": {
  "kernelspec": {
   "display_name": "Python 3",
   "language": "python",
   "name": "python3"
  },
  "language_info": {
   "codemirror_mode": {
    "name": "ipython",
    "version": 3
   },
   "file_extension": ".py",
   "mimetype": "text/x-python",
   "name": "python",
   "nbconvert_exporter": "python",
   "pygments_lexer": "ipython3",
   "version": "3.7.3"
  }
 },
 "nbformat": 4,
 "nbformat_minor": 2
}
