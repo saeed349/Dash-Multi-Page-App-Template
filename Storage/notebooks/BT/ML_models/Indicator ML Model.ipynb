{
 "cells": [
  {
   "cell_type": "code",
   "execution_count": 11,
   "metadata": {},
   "outputs": [],
   "source": [
    "import os\n",
    "import warnings\n",
    "import sys\n",
    "\n",
    "import pandas as pd\n",
    "import numpy as np\n",
    "from sklearn.metrics import mean_squared_error, mean_absolute_error, r2_score\n",
    "from sklearn.model_selection import train_test_split\n",
    "from sklearn.linear_model import ElasticNet\n",
    "\n",
    "import mlflow\n",
    "import mlflow.sklearn\n",
    "\n",
    "import matplotlib.pyplot as plt"
   ]
  },
  {
   "cell_type": "code",
   "execution_count": 2,
   "metadata": {},
   "outputs": [],
   "source": [
    "def eval_metrics(actual, pred):\n",
    "    rmse = np.sqrt(mean_squared_error(actual, pred))\n",
    "    mae = mean_absolute_error(actual, pred)\n",
    "    r2 = r2_score(actual, pred)\n",
    "    return rmse, mae, r2"
   ]
  },
  {
   "cell_type": "code",
   "execution_count": 3,
   "metadata": {},
   "outputs": [],
   "source": [
    "mlflow.tracking.set_tracking_uri('http://mlflow-image:5500')\n",
    "mlflow.set_experiment('mlflow-minio-test_9')"
   ]
  },
  {
   "cell_type": "code",
   "execution_count": 5,
   "metadata": {},
   "outputs": [],
   "source": [
    "np.random.seed(40)\n",
    "\n",
    "log_path =\"ml_log_processed.csv\"\n",
    "data = pd.read_csv(log_path)"
   ]
  },
  {
   "cell_type": "code",
   "execution_count": 7,
   "metadata": {},
   "outputs": [
    {
     "data": {
      "text/html": [
       "<div>\n",
       "<style scoped>\n",
       "    .dataframe tbody tr th:only-of-type {\n",
       "        vertical-align: middle;\n",
       "    }\n",
       "\n",
       "    .dataframe tbody tr th {\n",
       "        vertical-align: top;\n",
       "    }\n",
       "\n",
       "    .dataframe thead th {\n",
       "        text-align: right;\n",
       "    }\n",
       "</style>\n",
       "<table border=\"1\" class=\"dataframe\">\n",
       "  <thead>\n",
       "    <tr style=\"text-align: right;\">\n",
       "      <th></th>\n",
       "      <th>RSI</th>\n",
       "      <th>STOCHASTIC</th>\n",
       "      <th>fwd_returns</th>\n",
       "    </tr>\n",
       "  </thead>\n",
       "  <tbody>\n",
       "    <tr>\n",
       "      <td>0</td>\n",
       "      <td>56.991619</td>\n",
       "      <td>78.882076</td>\n",
       "      <td>-0.005146</td>\n",
       "    </tr>\n",
       "    <tr>\n",
       "      <td>1</td>\n",
       "      <td>59.448606</td>\n",
       "      <td>77.279931</td>\n",
       "      <td>0.003864</td>\n",
       "    </tr>\n",
       "    <tr>\n",
       "      <td>2</td>\n",
       "      <td>60.945457</td>\n",
       "      <td>79.322084</td>\n",
       "      <td>0.013553</td>\n",
       "    </tr>\n",
       "    <tr>\n",
       "      <td>3</td>\n",
       "      <td>56.546196</td>\n",
       "      <td>72.484186</td>\n",
       "      <td>-0.000088</td>\n",
       "    </tr>\n",
       "    <tr>\n",
       "      <td>4</td>\n",
       "      <td>54.832174</td>\n",
       "      <td>60.957090</td>\n",
       "      <td>-0.002328</td>\n",
       "    </tr>\n",
       "  </tbody>\n",
       "</table>\n",
       "</div>"
      ],
      "text/plain": [
       "         RSI  STOCHASTIC  fwd_returns\n",
       "0  56.991619   78.882076    -0.005146\n",
       "1  59.448606   77.279931     0.003864\n",
       "2  60.945457   79.322084     0.013553\n",
       "3  56.546196   72.484186    -0.000088\n",
       "4  54.832174   60.957090    -0.002328"
      ]
     },
     "execution_count": 7,
     "metadata": {},
     "output_type": "execute_result"
    }
   ],
   "source": [
    "data.head()"
   ]
  },
  {
   "cell_type": "code",
   "execution_count": 22,
   "metadata": {},
   "outputs": [
    {
     "data": {
      "text/html": [
       "<div>\n",
       "<style scoped>\n",
       "    .dataframe tbody tr th:only-of-type {\n",
       "        vertical-align: middle;\n",
       "    }\n",
       "\n",
       "    .dataframe tbody tr th {\n",
       "        vertical-align: top;\n",
       "    }\n",
       "\n",
       "    .dataframe thead th {\n",
       "        text-align: right;\n",
       "    }\n",
       "</style>\n",
       "<table border=\"1\" class=\"dataframe\">\n",
       "  <thead>\n",
       "    <tr style=\"text-align: right;\">\n",
       "      <th></th>\n",
       "      <th>RSI</th>\n",
       "      <th>STOCHASTIC</th>\n",
       "      <th>fwd_returns</th>\n",
       "    </tr>\n",
       "  </thead>\n",
       "  <tbody>\n",
       "    <tr>\n",
       "      <td>count</td>\n",
       "      <td>2391.000000</td>\n",
       "      <td>2391.000000</td>\n",
       "      <td>2391.000000</td>\n",
       "    </tr>\n",
       "    <tr>\n",
       "      <td>mean</td>\n",
       "      <td>49.014909</td>\n",
       "      <td>29.503818</td>\n",
       "      <td>-0.000360</td>\n",
       "    </tr>\n",
       "    <tr>\n",
       "      <td>std</td>\n",
       "      <td>9.438435</td>\n",
       "      <td>31.808964</td>\n",
       "      <td>0.011189</td>\n",
       "    </tr>\n",
       "    <tr>\n",
       "      <td>min</td>\n",
       "      <td>18.373128</td>\n",
       "      <td>-36.852922</td>\n",
       "      <td>-0.049775</td>\n",
       "    </tr>\n",
       "    <tr>\n",
       "      <td>25%</td>\n",
       "      <td>43.507777</td>\n",
       "      <td>0.201805</td>\n",
       "      <td>-0.007220</td>\n",
       "    </tr>\n",
       "    <tr>\n",
       "      <td>50%</td>\n",
       "      <td>49.499864</td>\n",
       "      <td>26.832700</td>\n",
       "      <td>-0.000555</td>\n",
       "    </tr>\n",
       "    <tr>\n",
       "      <td>75%</td>\n",
       "      <td>55.187004</td>\n",
       "      <td>58.489527</td>\n",
       "      <td>0.006814</td>\n",
       "    </tr>\n",
       "    <tr>\n",
       "      <td>max</td>\n",
       "      <td>78.043041</td>\n",
       "      <td>92.827410</td>\n",
       "      <td>0.038161</td>\n",
       "    </tr>\n",
       "  </tbody>\n",
       "</table>\n",
       "</div>"
      ],
      "text/plain": [
       "               RSI   STOCHASTIC  fwd_returns\n",
       "count  2391.000000  2391.000000  2391.000000\n",
       "mean     49.014909    29.503818    -0.000360\n",
       "std       9.438435    31.808964     0.011189\n",
       "min      18.373128   -36.852922    -0.049775\n",
       "25%      43.507777     0.201805    -0.007220\n",
       "50%      49.499864    26.832700    -0.000555\n",
       "75%      55.187004    58.489527     0.006814\n",
       "max      78.043041    92.827410     0.038161"
      ]
     },
     "execution_count": 22,
     "metadata": {},
     "output_type": "execute_result"
    }
   ],
   "source": [
    "data.describe()"
   ]
  },
  {
   "cell_type": "code",
   "execution_count": 23,
   "metadata": {},
   "outputs": [
    {
     "data": {
      "text/plain": [
       "<matplotlib.axes._subplots.AxesSubplot at 0x7fd85618b940>"
      ]
     },
     "execution_count": 23,
     "metadata": {},
     "output_type": "execute_result"
    },
    {
     "data": {
      "image/png": "[encoded data removed]",
      "text/plain": [
       "<Figure size 432x288 with 1 Axes>"
      ]
     },
     "metadata": {
      "needs_background": "light"
     },
     "output_type": "display_data"
    }
   ],
   "source": [
    "data['fwd_returns'].plot()"
   ]
  },
  {
   "cell_type": "code",
   "execution_count": 8,
   "metadata": {},
   "outputs": [],
   "source": [
    "# Split the data into training and test sets. (0.75, 0.25) split.\n",
    "train, test = train_test_split(data)"
   ]
  },
  {
   "cell_type": "code",
   "execution_count": 9,
   "metadata": {},
   "outputs": [
    {
     "data": {
      "text/html": [
       "<div>\n",
       "<style scoped>\n",
       "    .dataframe tbody tr th:only-of-type {\n",
       "        vertical-align: middle;\n",
       "    }\n",
       "\n",
       "    .dataframe tbody tr th {\n",
       "        vertical-align: top;\n",
       "    }\n",
       "\n",
       "    .dataframe thead th {\n",
       "        text-align: right;\n",
       "    }\n",
       "</style>\n",
       "<table border=\"1\" class=\"dataframe\">\n",
       "  <thead>\n",
       "    <tr style=\"text-align: right;\">\n",
       "      <th></th>\n",
       "      <th>RSI</th>\n",
       "      <th>STOCHASTIC</th>\n",
       "      <th>fwd_returns</th>\n",
       "    </tr>\n",
       "  </thead>\n",
       "  <tbody>\n",
       "    <tr>\n",
       "      <td>2316</td>\n",
       "      <td>49.418320</td>\n",
       "      <td>33.714208</td>\n",
       "      <td>0.004363</td>\n",
       "    </tr>\n",
       "    <tr>\n",
       "      <td>176</td>\n",
       "      <td>52.907955</td>\n",
       "      <td>69.013997</td>\n",
       "      <td>0.015439</td>\n",
       "    </tr>\n",
       "    <tr>\n",
       "      <td>2119</td>\n",
       "      <td>45.243821</td>\n",
       "      <td>41.344797</td>\n",
       "      <td>-0.000034</td>\n",
       "    </tr>\n",
       "    <tr>\n",
       "      <td>1623</td>\n",
       "      <td>52.256078</td>\n",
       "      <td>63.876029</td>\n",
       "      <td>0.007352</td>\n",
       "    </tr>\n",
       "    <tr>\n",
       "      <td>731</td>\n",
       "      <td>40.224862</td>\n",
       "      <td>-0.463557</td>\n",
       "      <td>-0.003301</td>\n",
       "    </tr>\n",
       "  </tbody>\n",
       "</table>\n",
       "</div>"
      ],
      "text/plain": [
       "            RSI  STOCHASTIC  fwd_returns\n",
       "2316  49.418320   33.714208     0.004363\n",
       "176   52.907955   69.013997     0.015439\n",
       "2119  45.243821   41.344797    -0.000034\n",
       "1623  52.256078   63.876029     0.007352\n",
       "731   40.224862   -0.463557    -0.003301"
      ]
     },
     "execution_count": 9,
     "metadata": {},
     "output_type": "execute_result"
    }
   ],
   "source": [
    "train.head()"
   ]
  },
  {
   "cell_type": "code",
   "execution_count": 14,
   "metadata": {},
   "outputs": [],
   "source": [
    "train_x = train.drop([\"fwd_returns\"], axis=1)\n",
    "test_x = test.drop([\"fwd_returns\"], axis=1)\n",
    "train_y = train[[\"fwd_returns\"]]\n",
    "test_y = test[[\"fwd_returns\"]]"
   ]
  },
  {
   "cell_type": "code",
   "execution_count": 19,
   "metadata": {},
   "outputs": [],
   "source": [
    "alpha = .5\n",
    "l1_ratio = .5"
   ]
  },
  {
   "cell_type": "code",
   "execution_count": 25,
   "metadata": {},
   "outputs": [],
   "source": [
    "from sklearn.ensemble import RandomForestRegressor"
   ]
  },
  {
   "cell_type": "code",
   "execution_count": 26,
   "metadata": {},
   "outputs": [
    {
     "name": "stderr",
     "output_type": "stream",
     "text": [
      "/opt/conda/lib/python3.7/site-packages/ipykernel_launcher.py:3: DataConversionWarning: A column-vector y was passed when a 1d array was expected. Please change the shape of y to (n_samples,), for example using ravel().\n",
      "  This is separate from the ipykernel package so we can avoid doing imports until\n"
     ]
    }
   ],
   "source": [
    "# lr = ElasticNet(alpha=alpha, l1_ratio=l1_ratio, random_state=42)\n",
    "lr = RandomForestRegressor(max_depth=10,n_estimators=100)\n",
    "lr.fit(train_x, train_y)\n",
    "predicted_qualities = lr.predict(test_x)"
   ]
  },
  {
   "cell_type": "code",
   "execution_count": 27,
   "metadata": {},
   "outputs": [
    {
     "data": {
      "text/plain": [
       "array([-2.11928410e-03,  1.77985428e-03,  1.52522902e-03, -9.84742466e-03,\n",
       "        6.32933597e-03,  1.21729022e-02, -9.57915783e-03, -9.83798736e-03,\n",
       "        5.13191129e-03, -1.95261564e-02,  3.36298472e-03, -1.90553916e-02,\n",
       "        6.94480984e-03,  5.46823502e-04,  6.11516661e-03,  1.10215652e-02,\n",
       "        1.38867206e-03, -1.48028550e-02, -2.02838496e-04,  3.54543808e-03,\n",
       "        1.41971535e-03,  9.83080150e-03, -1.37139891e-02,  1.34335306e-04,\n",
       "       -1.98394544e-03,  1.08446380e-02,  3.98229729e-03, -4.16423567e-03,\n",
       "       -6.90922864e-04,  5.56699120e-03,  9.87024041e-04,  2.04175889e-03,\n",
       "       -5.46401829e-03, -2.96733265e-03,  2.13210097e-03, -8.18877368e-03,\n",
       "       -1.70702335e-02, -7.47177249e-03,  6.98602021e-03,  4.52522886e-03,\n",
       "        2.09366750e-03, -1.12009045e-03,  9.64691312e-03,  1.38209368e-02,\n",
       "        1.42146028e-03,  1.03921334e-03, -2.07295534e-04, -6.75940194e-03,\n",
       "        2.54152643e-03,  2.58759142e-03,  4.57977537e-03, -1.07746979e-02,\n",
       "        5.65319449e-04,  2.52479873e-03,  7.67274048e-03, -1.52929388e-02,\n",
       "        2.13063197e-03,  1.43075215e-03,  1.42788466e-03,  1.48010007e-03,\n",
       "        5.32838366e-03,  2.95565784e-03,  6.73192624e-03,  3.96453211e-03,\n",
       "        4.93502051e-03, -3.26951521e-03,  1.17212952e-02,  4.63834505e-03,\n",
       "       -6.11499380e-03, -5.50440312e-03, -5.87458189e-05, -1.22314011e-02,\n",
       "        4.82906906e-03,  2.10991698e-03, -9.24454470e-03, -8.11563674e-03,\n",
       "        1.29369203e-03, -1.09808113e-03,  3.16768774e-03, -5.80278980e-03,\n",
       "       -1.84888545e-03,  1.35141763e-02, -9.99400159e-05,  8.90958300e-03,\n",
       "       -3.34411595e-05, -1.25210738e-02,  2.31464439e-03,  9.04618284e-05,\n",
       "       -6.17555612e-03,  8.73887536e-04,  1.04912926e-02, -5.34508949e-03,\n",
       "        1.31462028e-02, -3.15846331e-03,  3.28885911e-03, -7.45998706e-03,\n",
       "        2.57110059e-03, -1.56847726e-02,  1.46496617e-02, -1.86963491e-02,\n",
       "        1.33095430e-02, -1.73953760e-02,  1.82199572e-04, -8.60784975e-04,\n",
       "        2.13615033e-03,  1.33399377e-02, -5.48112712e-03, -1.22600131e-02,\n",
       "       -4.76437608e-03,  7.10414120e-03, -9.92807547e-03,  6.23938362e-04,\n",
       "        4.21159452e-03, -4.75349443e-03, -6.52132055e-03,  9.09590438e-03,\n",
       "        3.01221977e-04, -9.69050960e-03,  9.16765149e-04,  9.07053980e-04,\n",
       "        4.05764156e-03,  1.77917734e-03, -7.26737026e-03,  8.05166010e-03,\n",
       "        1.94508466e-03,  2.18945946e-03,  1.49835436e-03, -5.94915648e-03,\n",
       "        1.10758516e-02, -1.05794074e-02,  1.72923194e-04,  1.07487777e-03,\n",
       "       -9.12529217e-03, -8.86847973e-05,  3.61756127e-03, -1.76065844e-02,\n",
       "        6.80785561e-04,  8.85590559e-03, -1.04666760e-03,  1.75697738e-03,\n",
       "       -5.32535255e-03, -3.59663307e-03,  1.36869798e-02,  9.61057783e-03,\n",
       "        3.65252969e-03,  3.34425641e-03,  1.33776584e-02,  4.27283664e-04,\n",
       "       -3.71260820e-03,  2.17494591e-03, -1.92475423e-03,  4.95207467e-03,\n",
       "       -1.10219655e-03, -3.82296245e-03,  8.05110396e-03, -8.37692635e-03,\n",
       "       -1.05909372e-02, -5.05064819e-04,  3.52762989e-03, -2.47255174e-03,\n",
       "        7.31216163e-03,  9.51119168e-04,  9.41059224e-03, -8.01415813e-03,\n",
       "       -2.53314569e-02,  3.69649442e-03, -9.43468269e-03,  2.09536475e-03,\n",
       "       -2.10853963e-02, -1.33595851e-02,  6.81206266e-03,  9.01115148e-03,\n",
       "        1.04362239e-03,  9.53953517e-03, -1.59773522e-03, -2.43480300e-04,\n",
       "        9.73389201e-03,  1.10762381e-03,  3.35957152e-03, -1.03761286e-02,\n",
       "        1.87475696e-03, -1.09692602e-02, -5.90156665e-03,  1.52464429e-02,\n",
       "        2.81191516e-03,  2.94682600e-03, -8.62551207e-03, -6.28359211e-03,\n",
       "       -2.14705642e-03,  4.44150556e-03,  1.29339808e-02,  1.06325373e-03,\n",
       "        3.20570221e-03, -8.27721364e-03,  3.04155153e-03,  7.38870328e-03,\n",
       "        3.86907210e-03,  3.29445850e-05,  3.59032670e-03, -1.15899033e-02,\n",
       "        7.83465352e-03,  4.04106551e-03,  2.89386940e-03, -1.28351982e-02,\n",
       "       -2.63057451e-04,  1.05764013e-02, -2.42990273e-03,  2.27994335e-05,\n",
       "        5.85350600e-03, -9.00918790e-03,  1.30515097e-03, -2.12620288e-02,\n",
       "       -3.80227229e-05, -1.11103722e-02, -1.03845038e-02,  2.33357875e-03,\n",
       "       -6.20001295e-03,  1.32466018e-02,  1.13928314e-02, -3.47637300e-03,\n",
       "       -7.61188744e-03, -1.86436672e-03,  2.44050148e-03, -9.52792073e-03,\n",
       "        1.54396754e-03,  1.16099740e-02,  9.63997702e-03,  1.29583915e-02,\n",
       "        1.23123255e-02,  3.10781472e-03,  8.76192818e-04,  3.31745192e-03,\n",
       "        2.45624611e-03, -6.19297057e-03,  2.33946489e-03,  2.35740567e-03,\n",
       "        3.01984346e-03, -1.02851302e-02, -1.60702107e-02,  3.67428333e-03,\n",
       "       -6.11628170e-04,  6.94141749e-03,  5.29257901e-03,  3.92655809e-03,\n",
       "        1.10855133e-02, -8.17573277e-03,  9.99881507e-03,  7.54041647e-03,\n",
       "       -7.60663990e-03,  7.89942764e-03,  2.57136444e-03,  4.21894234e-03,\n",
       "        5.41019188e-03, -2.27824514e-02,  4.16546254e-03,  1.99891541e-03,\n",
       "        4.07979836e-03,  1.00607365e-02,  9.93811761e-03, -4.54219755e-03,\n",
       "        3.73403546e-03,  8.12220746e-03,  7.70859480e-03,  6.27782308e-04,\n",
       "       -1.27857552e-02, -2.18637076e-02,  1.12868695e-02,  2.55379193e-03,\n",
       "       -1.14482069e-02, -1.35403279e-02, -9.02404484e-03,  2.52378107e-03,\n",
       "        1.34215162e-04,  1.35783028e-03, -9.23777100e-04,  7.35697796e-03,\n",
       "       -6.60129510e-03, -6.95907904e-04,  1.60603914e-03, -3.87469041e-03,\n",
       "        1.01323900e-03, -4.32928770e-03, -1.20773227e-02, -1.61873407e-03,\n",
       "        1.67001551e-02,  2.49060607e-03,  4.29570133e-04,  1.90720365e-03,\n",
       "        1.36497553e-02, -1.50543646e-03,  9.59342034e-03,  4.24341805e-03,\n",
       "       -6.55452118e-04,  3.02729977e-03,  2.65739082e-03, -1.67399004e-02,\n",
       "        7.34512224e-03,  8.21396555e-03,  1.72478851e-03,  8.17800492e-03,\n",
       "       -9.10587531e-04,  5.83424069e-04, -7.32036273e-04,  2.10002441e-03,\n",
       "       -9.44284234e-03,  1.48450317e-03,  3.43681760e-03,  2.19455242e-03,\n",
       "        4.68587610e-04,  1.41140965e-02,  2.64982920e-03,  2.58235033e-03,\n",
       "        7.03545444e-03, -2.87226175e-02, -2.25101749e-02,  7.95103023e-04,\n",
       "        8.65125420e-04,  1.46288030e-03,  9.90339870e-04, -9.05401860e-03,\n",
       "       -9.65434648e-03,  1.56294045e-03,  1.03872139e-03, -7.42150272e-03,\n",
       "        9.21496053e-04,  5.93113666e-03,  3.11058268e-03,  9.50436235e-03,\n",
       "        6.01003983e-04,  9.33448167e-03,  9.89050416e-03,  2.35542324e-03,\n",
       "       -5.45494444e-03, -3.79574838e-03,  3.51956787e-03, -1.11445794e-02,\n",
       "        4.59183926e-03,  2.69325181e-03,  2.59244203e-03,  7.73889240e-03,\n",
       "       -7.13028620e-04,  1.02062023e-03,  1.90149584e-03,  1.88264392e-03,\n",
       "        2.72945656e-03,  3.89356565e-03,  1.50240072e-02,  1.39353826e-03,\n",
       "       -5.84836920e-03, -5.43810113e-03,  8.48878759e-05, -4.73244659e-04,\n",
       "       -6.23083079e-05,  4.41033883e-03, -7.60109201e-03, -1.01208590e-02,\n",
       "        1.21383618e-03,  2.88702470e-03,  2.53225328e-03,  1.63807279e-02,\n",
       "       -4.50475131e-03, -6.42007911e-03,  4.57635873e-03,  6.01012210e-04,\n",
       "       -9.22572014e-03,  1.69326922e-02,  3.85798800e-03,  6.76489467e-03,\n",
       "        7.27268528e-03,  3.04709492e-03, -7.56939609e-04, -1.99919664e-03,\n",
       "       -7.71080873e-03, -9.73937381e-03,  1.13012247e-02,  4.75946442e-04,\n",
       "        3.73735511e-03,  1.03961665e-02, -1.18360831e-02,  1.70919243e-03,\n",
       "        3.54147206e-03, -1.30545058e-02,  3.88738565e-03,  4.87329585e-03,\n",
       "        1.05776154e-02,  8.62486755e-03, -3.63468770e-03,  4.86434086e-03,\n",
       "        3.84310538e-03, -1.10017906e-02,  1.76114202e-03,  9.46706489e-03,\n",
       "       -1.19975508e-02, -6.21342016e-03,  1.80873869e-03,  7.93971091e-03,\n",
       "        1.27967658e-03, -5.69350353e-03,  1.40559308e-02, -6.89676736e-04,\n",
       "       -1.06852082e-03,  1.58855635e-03,  1.20256251e-02, -1.39771094e-03,\n",
       "        2.59831694e-04, -3.24981993e-03,  3.38150086e-04, -5.89992006e-03,\n",
       "        1.43308673e-03, -1.13374031e-02, -1.23271437e-02, -5.68117100e-03,\n",
       "       -5.02995880e-03,  2.19508162e-03,  7.44719243e-03, -7.19535600e-03,\n",
       "       -1.12786721e-02, -1.22883204e-03,  1.96552415e-03,  1.40448346e-03,\n",
       "       -3.15400851e-03, -7.57916703e-03,  1.56113387e-03, -8.03698795e-03,\n",
       "       -1.01093826e-02,  3.26037940e-03,  9.69011504e-04, -1.28093682e-03,\n",
       "       -1.57853070e-02, -1.87564091e-02, -2.70856359e-03,  2.95853044e-03,\n",
       "       -1.16763339e-02, -1.03670661e-02,  6.04149659e-04,  9.85484607e-03,\n",
       "       -2.93802257e-03, -1.13954767e-03, -7.29850926e-04,  3.95987816e-03,\n",
       "        3.24123779e-03,  8.99253437e-04,  9.92883007e-04, -9.00461496e-03,\n",
       "        1.04580266e-02, -3.36615708e-03, -1.67961904e-02,  5.74234333e-03,\n",
       "       -1.94506562e-03,  1.20180140e-03,  3.71202863e-03,  6.79254736e-03,\n",
       "       -3.46812551e-04,  8.23406163e-04,  7.33243962e-04,  2.84980289e-03,\n",
       "        1.03487267e-02,  1.21991628e-02,  8.35752754e-03,  5.24232017e-03,\n",
       "        3.20658904e-03,  1.37250232e-02, -3.43496468e-03, -1.80419163e-02,\n",
       "        4.29774613e-03, -1.61702559e-03, -1.36508551e-02,  1.09461335e-03,\n",
       "        3.15678027e-03,  7.92911012e-04,  1.11702961e-02,  6.19242921e-03,\n",
       "       -1.62311007e-04,  1.00661879e-02, -5.38836896e-03, -1.01383318e-02,\n",
       "       -7.98796196e-04,  1.37940950e-02, -2.04328925e-02,  1.20457262e-02,\n",
       "        2.06801161e-04,  4.14024966e-03,  6.93383213e-03,  9.89037251e-03,\n",
       "        4.87329585e-03,  1.72329579e-03, -1.76797903e-03,  3.86774031e-03,\n",
       "        1.54811330e-02,  1.02102151e-02,  7.01118432e-03, -6.32342477e-03,\n",
       "        1.01199290e-02, -9.88405635e-03,  3.39828168e-03,  1.06384608e-04,\n",
       "        4.31946418e-03,  4.84202506e-04, -6.46820940e-03,  5.71203296e-03,\n",
       "        8.66660643e-03, -3.30311254e-04,  3.92222282e-03,  4.49301907e-03,\n",
       "        5.65313577e-03, -6.10701917e-04,  2.63840468e-03,  1.08061075e-03,\n",
       "       -8.37604766e-03, -1.27671603e-03, -5.97782914e-03, -2.52306139e-03,\n",
       "        7.59030531e-04, -1.36108751e-03, -9.34426666e-03, -1.41639100e-03,\n",
       "        1.02272427e-02,  1.02820249e-02,  1.65977859e-03,  6.34508595e-03,\n",
       "       -1.43346636e-02,  4.03124186e-03, -9.11194953e-03, -1.38193028e-02,\n",
       "        3.66558622e-03, -8.42719187e-04, -8.77703655e-03, -3.75261650e-02,\n",
       "        1.02884952e-02, -9.94920833e-03,  2.24330386e-04, -1.01069870e-03,\n",
       "        1.51986516e-03, -8.54375497e-03, -1.67563535e-03, -9.35412585e-03,\n",
       "        9.23834298e-04,  7.27797094e-04, -8.56100822e-04, -3.47763338e-03,\n",
       "        1.74682136e-04, -1.77669898e-02,  2.97796017e-03, -1.09278672e-02,\n",
       "        2.14226922e-03, -8.23033828e-04,  3.60995024e-03,  1.16152994e-03,\n",
       "        1.41274147e-02, -8.58949326e-03, -1.22189695e-02,  1.39984253e-03,\n",
       "        8.35001099e-04, -1.31514309e-02,  7.71307978e-03,  3.16300932e-03,\n",
       "       -8.57957923e-03,  2.00003184e-03,  2.68678949e-03,  9.77273158e-03,\n",
       "        7.81434725e-03,  1.24592074e-04,  7.53922334e-03,  5.35156397e-03,\n",
       "        2.56804989e-03,  1.36762929e-03, -1.31028579e-04,  1.00685911e-03,\n",
       "        2.85581568e-03, -1.69208458e-02,  1.89131960e-03,  3.86759633e-03,\n",
       "        6.48881856e-04,  1.42405440e-02,  2.31214280e-03, -6.11628170e-04,\n",
       "       -8.14567997e-04, -4.78865228e-03,  5.73627948e-04, -1.15040255e-02,\n",
       "       -8.51653277e-03, -2.91737097e-03,  2.78173583e-03,  3.53707541e-03,\n",
       "        2.52292458e-03, -1.19325232e-02,  2.53108797e-04,  8.59020428e-03,\n",
       "        7.77064096e-03, -6.49876992e-03,  1.22849509e-03,  8.75567306e-04,\n",
       "        1.76614026e-03,  1.40093121e-03, -5.85230384e-03, -1.61578847e-04,\n",
       "        4.98514617e-03,  1.15289933e-02])"
      ]
     },
     "execution_count": 27,
     "metadata": {},
     "output_type": "execute_result"
    }
   ],
   "source": [
    "predicted_qualities"
   ]
  },
  {
   "cell_type": "code",
   "execution_count": 30,
   "metadata": {},
   "outputs": [
    {
     "data": {
      "text/plain": [
       "[<matplotlib.lines.Line2D at 0x7fd854f9f668>]"
      ]
     },
     "execution_count": 30,
     "metadata": {},
     "output_type": "execute_result"
    },
    {
     "data": {
      "image/png": "[encoded data removed]",
      "text/plain": [
       "<Figure size 432x288 with 1 Axes>"
      ]
     },
     "metadata": {
      "needs_background": "light"
     },
     "output_type": "display_data"
    }
   ],
   "source": [
    "plt.plot(predicted_qualities)"
   ]
  },
  {
   "cell_type": "code",
   "execution_count": 31,
   "metadata": {},
   "outputs": [
    {
     "name": "stdout",
     "output_type": "stream",
     "text": [
      "Elasticnet model (alpha=0.500000, l1_ratio=0.500000):\n",
      "  RMSE: 0.008586815743502287\n",
      "  MAE: 0.006624640615669082\n",
      "  R2: 0.3800373078211625\n"
     ]
    },
    {
     "name": "stderr",
     "output_type": "stream",
     "text": [
      "/opt/conda/lib/python3.7/site-packages/botocore/awsrequest.py:624: DeprecationWarning: Using or importing the ABCs from 'collections' instead of from 'collections.abc' is deprecated, and in 3.8 it will stop working\n",
      "  class HeadersDict(collections.MutableMapping):\n"
     ]
    }
   ],
   "source": [
    "\n",
    "\n",
    "\n",
    "\n",
    "\n",
    "(rmse, mae, r2) = eval_metrics(test_y, predicted_qualities)\n",
    "\n",
    "print(\"Elasticnet model (alpha=%f, l1_ratio=%f):\" % (alpha, l1_ratio))\n",
    "print(\"  RMSE: %s\" % rmse)\n",
    "print(\"  MAE: %s\" % mae)\n",
    "print(\"  R2: %s\" % r2)\n",
    "\n",
    "mlflow.log_param(\"alpha\", alpha)\n",
    "mlflow.log_param(\"l1_ratio\", l1_ratio)\n",
    "mlflow.log_metric(\"rmse\", rmse)\n",
    "mlflow.log_metric(\"r2\", r2)\n",
    "mlflow.log_metric(\"mae\", mae)\n",
    "mlflow.sklearn.log_model(lr, \"model\")\n"
   ]
  },
  {
   "cell_type": "code",
   "execution_count": null,
   "metadata": {},
   "outputs": [],
   "source": []
  }
 ],
 "metadata": {
  "kernelspec": {
   "display_name": "Python 3",
   "language": "python",
   "name": "python3"
  },
  "language_info": {
   "codemirror_mode": {
    "name": "ipython",
    "version": 3
   },
   "file_extension": ".py",
   "mimetype": "text/x-python",
   "name": "python",
   "nbconvert_exporter": "python",
   "pygments_lexer": "ipython3",
   "version": "3.7.3"
  }
 },
 "nbformat": 4,
 "nbformat_minor": 2
}
