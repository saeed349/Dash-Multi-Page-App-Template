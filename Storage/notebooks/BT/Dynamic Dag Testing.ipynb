{
 "cells": [
  {
   "cell_type": "code",
   "execution_count": 58,
   "metadata": {},
   "outputs": [],
   "source": [
    "import pandas as pd\n",
    "import subprocess"
   ]
  },
  {
   "cell_type": "code",
   "execution_count": 64,
   "metadata": {},
   "outputs": [],
   "source": [
    "df=pd.read_csv(\"strategy.csv\")"
   ]
  },
  {
   "cell_type": "code",
   "execution_count": 65,
   "metadata": {},
   "outputs": [
    {
     "data": {
      "text/html": [
       "<div>\n",
       "<style scoped>\n",
       "    .dataframe tbody tr th:only-of-type {\n",
       "        vertical-align: middle;\n",
       "    }\n",
       "\n",
       "    .dataframe tbody tr th {\n",
       "        vertical-align: top;\n",
       "    }\n",
       "\n",
       "    .dataframe thead th {\n",
       "        text-align: right;\n",
       "    }\n",
       "</style>\n",
       "<table border=\"1\" class=\"dataframe\">\n",
       "  <thead>\n",
       "    <tr style=\"text-align: right;\">\n",
       "      <th></th>\n",
       "      <th>Strategy</th>\n",
       "      <th>Live</th>\n",
       "      <th>Securities</th>\n",
       "      <th>Model ID</th>\n",
       "      <th>Account</th>\n",
       "      <th>Token</th>\n",
       "      <th>Strategy Parameters</th>\n",
       "    </tr>\n",
       "  </thead>\n",
       "  <tbody>\n",
       "    <tr>\n",
       "      <td>0</td>\n",
       "      <td>simple_strategy_2</td>\n",
       "      <td>False</td>\n",
       "      <td>EUR_USD</td>\n",
       "      <td>074687ad169b4e85b3408dd65d0f6ff5</td>\n",
       "      <td>NaN</td>\n",
       "      <td>NaN</td>\n",
       "      <td>NaN</td>\n",
       "    </tr>\n",
       "    <tr>\n",
       "      <td>1</td>\n",
       "      <td>simple_strategy_2</td>\n",
       "      <td>False</td>\n",
       "      <td>GBP_USD, USD_JPY</td>\n",
       "      <td>074687ad169b4e85b3408dd65d0f6ff5</td>\n",
       "      <td>NaN</td>\n",
       "      <td>NaN</td>\n",
       "      <td>NaN</td>\n",
       "    </tr>\n",
       "  </tbody>\n",
       "</table>\n",
       "</div>"
      ],
      "text/plain": [
       "            Strategy   Live        Securities  \\\n",
       "0  simple_strategy_2  False           EUR_USD   \n",
       "1  simple_strategy_2  False  GBP_USD, USD_JPY   \n",
       "\n",
       "                           Model ID  Account  Token  Strategy Parameters  \n",
       "0  074687ad169b4e85b3408dd65d0f6ff5      NaN    NaN                  NaN  \n",
       "1  074687ad169b4e85b3408dd65d0f6ff5      NaN    NaN                  NaN  "
      ]
     },
     "execution_count": 65,
     "metadata": {},
     "output_type": "execute_result"
    }
   ],
   "source": [
    "df"
   ]
  },
  {
   "cell_type": "code",
   "execution_count": 66,
   "metadata": {},
   "outputs": [],
   "source": [
    "df.fillna('', inplace=True)"
   ]
  },
  {
   "cell_type": "code",
   "execution_count": 67,
   "metadata": {},
   "outputs": [
    {
     "data": {
      "text/html": [
       "<div>\n",
       "<style scoped>\n",
       "    .dataframe tbody tr th:only-of-type {\n",
       "        vertical-align: middle;\n",
       "    }\n",
       "\n",
       "    .dataframe tbody tr th {\n",
       "        vertical-align: top;\n",
       "    }\n",
       "\n",
       "    .dataframe thead th {\n",
       "        text-align: right;\n",
       "    }\n",
       "</style>\n",
       "<table border=\"1\" class=\"dataframe\">\n",
       "  <thead>\n",
       "    <tr style=\"text-align: right;\">\n",
       "      <th></th>\n",
       "      <th>Strategy</th>\n",
       "      <th>Live</th>\n",
       "      <th>Securities</th>\n",
       "      <th>Model ID</th>\n",
       "      <th>Account</th>\n",
       "      <th>Token</th>\n",
       "      <th>Strategy Parameters</th>\n",
       "    </tr>\n",
       "  </thead>\n",
       "  <tbody>\n",
       "    <tr>\n",
       "      <td>0</td>\n",
       "      <td>simple_strategy_2</td>\n",
       "      <td>False</td>\n",
       "      <td>EUR_USD</td>\n",
       "      <td>074687ad169b4e85b3408dd65d0f6ff5</td>\n",
       "      <td></td>\n",
       "      <td></td>\n",
       "      <td></td>\n",
       "    </tr>\n",
       "    <tr>\n",
       "      <td>1</td>\n",
       "      <td>simple_strategy_2</td>\n",
       "      <td>False</td>\n",
       "      <td>GBP_USD, USD_JPY</td>\n",
       "      <td>074687ad169b4e85b3408dd65d0f6ff5</td>\n",
       "      <td></td>\n",
       "      <td></td>\n",
       "      <td></td>\n",
       "    </tr>\n",
       "  </tbody>\n",
       "</table>\n",
       "</div>"
      ],
      "text/plain": [
       "            Strategy   Live        Securities  \\\n",
       "0  simple_strategy_2  False           EUR_USD   \n",
       "1  simple_strategy_2  False  GBP_USD, USD_JPY   \n",
       "\n",
       "                           Model ID Account Token Strategy Parameters  \n",
       "0  074687ad169b4e85b3408dd65d0f6ff5                                    \n",
       "1  074687ad169b4e85b3408dd65d0f6ff5                                    "
      ]
     },
     "execution_count": 67,
     "metadata": {},
     "output_type": "execute_result"
    }
   ],
   "source": [
    "df.head()"
   ]
  },
  {
   "cell_type": "code",
   "execution_count": 96,
   "metadata": {},
   "outputs": [
    {
     "name": "stdout",
     "output_type": "stream",
     "text": [
      "python 12_Clean_Strategy_BT.py --strat_name=simple_strategy_2 --live=False --tickers=EUR_USD\n",
      "python 12_Clean_Strategy_BT.py --strat_name=simple_strategy_2 --live=False --tickers=GBP_USD, USD_JPY\n"
     ]
    }
   ],
   "source": [
    "command={}\n",
    "for i,row in df.iterrows():\n",
    "        command['--strat_name']=row['Strategy']\n",
    "        command['--live']=str(row['Live'])\n",
    "        command['--tickers']=row['Securities']\n",
    "        command['--broker_token']=row['Token']\n",
    "        command['--broker_account']=row['Account']\n",
    "        command['--strat_param']=row['Strategy Parameters']\n",
    "        final_commmand='python 12_Clean_Strategy_BT.py '+' '.join([(k+\"=\"+v) for k, v in command.items() if v!=''])\n",
    "        print(final_commmand)"
   ]
  },
  {
   "cell_type": "code",
   "execution_count": 87,
   "metadata": {},
   "outputs": [
    {
     "data": {
      "text/plain": [
       "{'--strat_name': 'simple_strategy_2',\n",
       " '--live': 'False',\n",
       " '--tickers': 'EUR_USD',\n",
       " '--broker_token': '',\n",
       " '--broker_account': '',\n",
       " '--strat_param': ''}"
      ]
     },
     "execution_count": 87,
     "metadata": {},
     "output_type": "execute_result"
    }
   ],
   "source": [
    "command"
   ]
  },
  {
   "cell_type": "code",
   "execution_count": 88,
   "metadata": {},
   "outputs": [],
   "source": [
    "# command={k: v for k, v in command.items() if v!=''}"
   ]
  },
  {
   "cell_type": "code",
   "execution_count": 93,
   "metadata": {},
   "outputs": [
    {
     "data": {
      "text/plain": [
       "'python 12_Clean_Strategy_BT.py --strat_name=simple_strategy_2 --live=False --tickers=EUR_USD'"
      ]
     },
     "execution_count": 93,
     "metadata": {},
     "output_type": "execute_result"
    }
   ],
   "source": [
    "'python 12_Clean_Strategy_BT.py '+' '.join([(k+\"=\"+v) for k, v in command.items() if v!=''])"
   ]
  },
  {
   "cell_type": "code",
   "execution_count": 78,
   "metadata": {},
   "outputs": [
    {
     "data": {
      "text/plain": [
       "<zip at 0x7f67e982ddc8>"
      ]
     },
     "execution_count": 78,
     "metadata": {},
     "output_type": "execute_result"
    }
   ],
   "source": [
    "zip(*command.items())"
   ]
  },
  {
   "cell_type": "code",
   "execution_count": 94,
   "metadata": {},
   "outputs": [
    {
     "name": "stdout",
     "output_type": "stream",
     "text": [
      "/opt/conda/lib/python3.7/site-packages/botocore/awsrequest.py:624: DeprecationWarning: Using or importing the ABCs from 'collections' instead of from 'collections.abc' is deprecated, and in 3.8 it will stop working\n",
      "  class HeadersDict(collections.MutableMapping):\n",
      "Traceback (most recent call last):\n",
      "  File \"12_Clean_Strategy_BT.py\", line 138, in <module>\n",
      "    run()\n",
      "  File \"12_Clean_Strategy_BT.py\", line 38, in run\n",
      "    ticker_list = args.tickers.split(',')\n",
      "AttributeError: 'list' object has no attribute 'split'\n"
     ]
    }
   ],
   "source": [
    "! python 12_Clean_Strategy_BT.py --strat_name=simple_strategy_2 --live=False --tickers=EUR_USD"
   ]
  },
  {
   "cell_type": "code",
   "execution_count": 31,
   "metadata": {},
   "outputs": [],
   "source": [
    "import json"
   ]
  },
  {
   "cell_type": "code",
   "execution_count": 76,
   "metadata": {},
   "outputs": [
    {
     "data": {
      "text/plain": [
       "'{\"--strat_name\": \"simple_strategy_2\", \"--live\": false, \"--tickers\": \"EUR_USD\"}'"
      ]
     },
     "execution_count": 76,
     "metadata": {},
     "output_type": "execute_result"
    }
   ],
   "source": [
    "json.dumps(command)"
   ]
  },
  {
   "cell_type": "code",
   "execution_count": 22,
   "metadata": {},
   "outputs": [
    {
     "name": "stdout",
     "output_type": "stream",
     "text": [
      "simple_strategy_2\n",
      "simple_strategy_2\n"
     ]
    }
   ],
   "source": [
    "for a in df['Strategy']:\n",
    "    print(a)"
   ]
  },
  {
   "cell_type": "code",
   "execution_count": null,
   "metadata": {},
   "outputs": [],
   "source": [
    "# bashCommand = \"python,12_Clean_Strategy_BT.py\"\n",
    "# output = subprocess.check_output(['bash','-c', bashCommand])"
   ]
  },
  {
   "cell_type": "code",
   "execution_count": 21,
   "metadata": {},
   "outputs": [
    {
     "data": {
      "text/plain": [
       "0"
      ]
     },
     "execution_count": 21,
     "metadata": {},
     "output_type": "execute_result"
    }
   ],
   "source": [
    "subprocess.call([\"python\", \"12_Clean_Strategy_BT.py\",\"--strat_name\",\"simple_strategy_2\"])"
   ]
  },
  {
   "cell_type": "code",
   "execution_count": null,
   "metadata": {},
   "outputs": [],
   "source": [
    "for "
   ]
  }
 ],
 "metadata": {
  "kernelspec": {
   "display_name": "Python 3",
   "language": "python",
   "name": "python3"
  },
  "language_info": {
   "codemirror_mode": {
    "name": "ipython",
    "version": 3
   },
   "file_extension": ".py",
   "mimetype": "text/x-python",
   "name": "python",
   "nbconvert_exporter": "python",
   "pygments_lexer": "ipython3",
   "version": "3.7.3"
  }
 },
 "nbformat": 4,
 "nbformat_minor": 2
}
