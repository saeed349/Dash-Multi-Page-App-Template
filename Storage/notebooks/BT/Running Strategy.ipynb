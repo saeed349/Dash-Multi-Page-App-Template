{
 "cells": [
  {
   "cell_type": "code",
   "execution_count": 3,
   "metadata": {},
   "outputs": [
    {
     "name": "stdout",
     "output_type": "stream",
     "text": [
      "['EUR_USD,GBP_USD']\n",
      "['EUR_USD', 'GBP_USD']\n",
      "Hello\n",
      "Profit ... or Loss: -338.74\n"
     ]
    }
   ],
   "source": [
    "!python 12_Clean_Strategy_BT_original.py"
   ]
  },
  {
   "cell_type": "code",
   "execution_count": 8,
   "metadata": {},
   "outputs": [
    {
     "name": "stdout",
     "output_type": "stream",
     "text": [
      "['GBP_USD']\n",
      "['GBP_USD']\n",
      "Hello\n",
      "Traceback (most recent call last):\n",
      "  File \"12_Clean_Strategy_BT_original.py\", line 142, in <module>\n",
      "    run()\n",
      "  File \"12_Clean_Strategy_BT_original.py\", line 84, in run\n",
      "    results = cerebro.run(tradehistory=True)  # execute it all\n",
      "  File \"/opt/conda/lib/python3.7/site-packages/backtrader/cerebro.py\", line 1127, in run\n",
      "    runstrat = self.runstrategies(iterstrat)\n",
      "  File \"/opt/conda/lib/python3.7/site-packages/backtrader/cerebro.py\", line 1301, in runstrategies\n",
      "    strat._stop()\n",
      "  File \"/opt/conda/lib/python3.7/site-packages/backtrader/strategy.py\", line 486, in _stop\n",
      "    analyzer._stop()\n",
      "  File \"/opt/conda/lib/python3.7/site-packages/backtrader/analyzer.py\", line 200, in _stop\n",
      "    self.stop()\n",
      "  File \"/home/jovyan/work/q_pack/q_analyzers/bt_logger_analyzer.py\", line 38, in stop\n",
      "    bucket=s3.create_bucket(Bucket=Bucket) # create bucket if not exist\n",
      "  File \"/opt/conda/lib/python3.7/site-packages/botocore/client.py\", line 276, in _api_call\n",
      "    return self._make_api_call(operation_name, kwargs)\n",
      "  File \"/opt/conda/lib/python3.7/site-packages/botocore/client.py\", line 586, in _make_api_call\n",
      "    raise error_class(parsed_response, operation_name)\n",
      "botocore.errorfactory.BucketAlreadyOwnedByYou: An error occurred (BucketAlreadyOwnedByYou) when calling the CreateBucket operation: Your previous request to create the named bucket succeeded and you already own it.\n"
     ]
    }
   ],
   "source": [
    "!python 12_Clean_Strategy_BT_original.py --strat_name=simple_strategy_2 --mode=backtest --tickers=GBP_USD"
   ]
  },
  {
   "cell_type": "code",
   "execution_count": 3,
   "metadata": {},
   "outputs": [],
   "source": [
    "# !python 12_Clean_Strategy_BT_original.py --strat_name=simple_strategy_2 --mode=live --tickers=EUR_USD,GBP_USD"
   ]
  },
  {
   "cell_type": "code",
   "execution_count": null,
   "metadata": {},
   "outputs": [],
   "source": []
  }
 ],
 "metadata": {
  "kernelspec": {
   "display_name": "Python 3",
   "language": "python",
   "name": "python3"
  },
  "language_info": {
   "codemirror_mode": {
    "name": "ipython",
    "version": 3
   },
   "file_extension": ".py",
   "mimetype": "text/x-python",
   "name": "python",
   "nbconvert_exporter": "python",
   "pygments_lexer": "ipython3",
   "version": "3.7.3"
  }
 },
 "nbformat": 4,
 "nbformat_minor": 2
}
