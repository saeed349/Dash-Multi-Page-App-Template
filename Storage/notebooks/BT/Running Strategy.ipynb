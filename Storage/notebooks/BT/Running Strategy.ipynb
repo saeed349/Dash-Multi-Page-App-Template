{
 "cells": [
  {
   "cell_type": "code",
   "execution_count": 23,
   "metadata": {},
   "outputs": [
    {
     "name": "stdout",
     "output_type": "stream",
     "text": [
      "Traceback (most recent call last):\r\n",
      "  File \"12_Clean_Strategy_BT.py\", line 134, in <module>\r\n",
      "    run()\r\n",
      "  File \"12_Clean_Strategy_BT.py\", line 72, in run\r\n",
      "    cerebro.addstrategy(bt_strategies.simple_strategy_2.St, **eval('dict(' + args.strat + ')'))\r\n",
      "AttributeError: module 'q_strategies' has no attribute 'simple_strategy_2'\r\n"
     ]
    }
   ],
   "source": [
    "!python 12_Clean_Strategy_BT.py"
   ]
  },
  {
   "cell_type": "code",
   "execution_count": null,
   "metadata": {},
   "outputs": [],
   "source": []
  }
 ],
 "metadata": {
  "kernelspec": {
   "display_name": "Python 3",
   "language": "python",
   "name": "python3"
  },
  "language_info": {
   "codemirror_mode": {
    "name": "ipython",
    "version": 3
   },
   "file_extension": ".py",
   "mimetype": "text/x-python",
   "name": "python",
   "nbconvert_exporter": "python",
   "pygments_lexer": "ipython3",
   "version": "3.7.3"
  }
 },
 "nbformat": 4,
 "nbformat_minor": 2
}
