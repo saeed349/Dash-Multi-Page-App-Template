{
 "cells": [
  {
   "cell_type": "code",
   "execution_count": 11,
   "metadata": {},
   "outputs": [
    {
     "name": "stdout",
     "output_type": "stream",
     "text": [
      "Hello\n",
      "<q_datafeeds.bt_datafeed_postgres.PostgreSQL_Daily object at 0x7ff3fcb682e8>\n",
      "<q_datafeeds.bt_datafeed_postgres.PostgreSQL_Daily object at 0x7ff3fcae3f28>\n",
      "Profit ... or Loss: 55.76\n",
      "  run_id  recorded_time        strategy         transaction_date       size    price    sid  ticker       value\n",
      "--------  -------------------  ---------------  -------------------  ------  -------  -----  --------  --------\n",
      "      16  2019-12-24 18:01:25  Simple Strategy  2019-03-12 21:00:00   -1000  1.13278      0  EUR_USD    1132.78\n",
      "      16  2019-12-24 18:01:25  Simple Strategy  2019-03-12 21:00:00   -1000  1.33383      1  GBP_USD    1333.83\n",
      "      16  2019-12-24 18:01:25  Simple Strategy  2019-03-13 21:00:00    2000  1.13044      0  EUR_USD   -2260.88\n",
      "      16  2019-12-24 18:01:25  Simple Strategy  2019-03-24 21:00:00   -2000  1.13128      0  EUR_USD    2262.56\n",
      "      16  2019-12-24 18:01:25  Simple Strategy  2019-03-25 21:00:00    1000  1.32048      1  GBP_USD   -1320.48\n",
      "      16  2019-12-24 18:01:25  Simple Strategy  2019-03-28 21:00:00   -1000  1.30326      1  GBP_USD    1303.26\n",
      "      16  2019-12-24 18:01:25  Simple Strategy  2019-04-03 21:00:00    1000  1.30751      1  GBP_USD   -1307.51\n",
      "      16  2019-12-24 18:01:25  Simple Strategy  2019-04-04 21:00:00   -1000  1.30364      1  GBP_USD    1303.64\n",
      "      16  2019-12-24 18:01:25  Simple Strategy  2019-04-09 21:00:00    2000  1.12737      0  EUR_USD   -2254.74\n",
      "      16  2019-12-24 18:01:25  Simple Strategy  2019-04-18 21:00:00   -2000  1.12452      0  EUR_USD    2249.04\n",
      "      16  2019-12-24 18:01:25  Simple Strategy  2019-05-01 21:00:00    2000  1.11726      0  EUR_USD   -2234.52\n",
      "      16  2019-12-24 18:01:25  Simple Strategy  2019-05-05 21:00:00   -2000  1.11994      0  EUR_USD    2239.88\n",
      "      16  2019-12-24 18:01:25  Simple Strategy  2019-05-05 21:00:00    1000  1.30962      1  GBP_USD   -1309.62\n",
      "      16  2019-12-24 18:01:25  Simple Strategy  2019-05-06 21:00:00    1000  1.11917      0  EUR_USD   -1119.17\n",
      "      16  2019-12-24 18:01:25  Simple Strategy  2019-05-09 21:00:00   -1000  1.29998      1  GBP_USD    1299.98\n",
      "      16  2019-12-24 18:01:25  Simple Strategy  2019-05-12 21:00:00    1000  1.12231      0  EUR_USD   -1122.31\n",
      "      16  2019-12-24 18:01:25  Simple Strategy  2019-05-15 21:00:00   -2000  1.11736      0  EUR_USD    2234.72\n",
      "      16  2019-12-24 18:01:25  Simple Strategy  2019-05-26 21:00:00    2000  1.11932      0  EUR_USD   -2238.64\n",
      "      16  2019-12-24 18:01:25  Simple Strategy  2019-05-29 21:00:00   -2000  1.11292      0  EUR_USD    2225.84\n",
      "      16  2019-12-24 18:01:26  Simple Strategy  2019-06-03 21:00:00    2000  1.1252       0  EUR_USD   -2250.4\n",
      "      16  2019-12-24 18:01:26  Simple Strategy  2019-06-16 21:00:00   -2000  1.1218       0  EUR_USD    2243.6\n",
      "      16  2019-12-24 18:01:26  Simple Strategy  2019-06-20 21:00:00    1000  1.2744       1  GBP_USD   -1274.4\n",
      "      16  2019-12-24 18:01:26  Simple Strategy  2019-06-23 21:00:00    1000  1.13988      0  EUR_USD   -1139.88\n",
      "      16  2019-12-24 18:01:26  Simple Strategy  2019-07-01 21:00:00   -1000  1.1286       0  EUR_USD    1128.6\n",
      "      16  2019-12-24 18:01:26  Simple Strategy  2019-07-01 21:00:00   -1000  1.25938      1  GBP_USD    1259.38\n",
      "      16  2019-12-24 18:01:26  Simple Strategy  2019-07-15 21:00:00    2000  1.12102      0  EUR_USD   -2242.04\n",
      "      16  2019-12-24 18:01:26  Simple Strategy  2019-07-16 21:00:00   -2000  1.12242      0  EUR_USD    2244.84\n",
      "      16  2019-12-24 18:01:26  Simple Strategy  2019-07-19 21:00:00    1000  1.2504       1  GBP_USD   -1250.4\n",
      "      16  2019-12-24 18:01:26  Simple Strategy  2019-07-22 21:00:00   -1000  1.24396      1  GBP_USD    1243.96\n"
     ]
    }
   ],
   "source": [
    "!python 12_Clean_Strategy_BT.py"
   ]
  },
  {
   "cell_type": "code",
   "execution_count": null,
   "metadata": {},
   "outputs": [],
   "source": []
  }
 ],
 "metadata": {
  "kernelspec": {
   "display_name": "Python 3",
   "language": "python",
   "name": "python3"
  },
  "language_info": {
   "codemirror_mode": {
    "name": "ipython",
    "version": 3
   },
   "file_extension": ".py",
   "mimetype": "text/x-python",
   "name": "python",
   "nbconvert_exporter": "python",
   "pygments_lexer": "ipython3",
   "version": "3.7.3"
  }
 },
 "nbformat": 4,
 "nbformat_minor": 2
}
