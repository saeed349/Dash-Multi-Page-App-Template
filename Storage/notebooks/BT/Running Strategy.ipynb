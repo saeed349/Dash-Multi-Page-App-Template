{
 "cells": [
  {
   "cell_type": "code",
   "execution_count": 1,
   "metadata": {},
   "outputs": [
    {
     "name": "stdout",
     "output_type": "stream",
     "text": [
      "['EUR_USD,GBP_USD']\n",
      "['EUR_USD', 'GBP_USD']\n",
      "Hello\n",
      "Profit ... or Loss: 32.62\n"
     ]
    }
   ],
   "source": [
    "!python 12_Clean_Strategy_BT_original.py"
   ]
  },
  {
   "cell_type": "code",
   "execution_count": 1,
   "metadata": {},
   "outputs": [
    {
     "name": "stdout",
     "output_type": "stream",
     "text": [
      "['GBP_USD']\n",
      "['GBP_USD']\n",
      "Hello\n",
      "Profit ... or Loss: 38.43\n"
     ]
    }
   ],
   "source": [
    "!python 12_Clean_Strategy_BT_original.py --strat_name=simple_strategy_2 --mode=backtest --tickers=GBP_USD"
   ]
  },
  {
   "cell_type": "code",
   "execution_count": 3,
   "metadata": {},
   "outputs": [],
   "source": [
    "# !python 12_Clean_Strategy_BT_original.py --strat_name=simple_strategy_2 --mode=live --tickers=EUR_USD,GBP_USD"
   ]
  },
  {
   "cell_type": "code",
   "execution_count": null,
   "metadata": {},
   "outputs": [],
   "source": []
  }
 ],
 "metadata": {
  "kernelspec": {
   "display_name": "Python 3",
   "language": "python",
   "name": "python3"
  },
  "language_info": {
   "codemirror_mode": {
    "name": "ipython",
    "version": 3
   },
   "file_extension": ".py",
   "mimetype": "text/x-python",
   "name": "python",
   "nbconvert_exporter": "python",
   "pygments_lexer": "ipython3",
   "version": "3.7.3"
  }
 },
 "nbformat": 4,
 "nbformat_minor": 2
}
