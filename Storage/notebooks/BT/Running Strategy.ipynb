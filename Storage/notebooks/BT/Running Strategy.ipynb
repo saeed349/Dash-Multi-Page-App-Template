{
 "cells": [
  {
   "cell_type": "code",
   "execution_count": 31,
   "metadata": {},
   "outputs": [
    {
     "name": "stdout",
     "output_type": "stream",
     "text": [
      "/opt/conda/lib/python3.7/site-packages/botocore/awsrequest.py:624: DeprecationWarning: Using or importing the ABCs from 'collections' instead of from 'collections.abc' is deprecated, and in 3.8 it will stop working\n",
      "  class HeadersDict(collections.MutableMapping):\n",
      "['EUR_USD,GBP_USD']\n",
      "['EUR_USD', 'GBP_USD']\n",
      "Hello\n",
      "Profit ... or Loss: 32.62\n"
     ]
    }
   ],
   "source": [
    "!python 12_Clean_Strategy_BT_original.py"
   ]
  },
  {
   "cell_type": "code",
   "execution_count": 38,
   "metadata": {},
   "outputs": [
    {
     "name": "stdout",
     "output_type": "stream",
     "text": [
      "/opt/conda/lib/python3.7/site-packages/botocore/awsrequest.py:624: DeprecationWarning: Using or importing the ABCs from 'collections' instead of from 'collections.abc' is deprecated, and in 3.8 it will stop working\n",
      "  class HeadersDict(collections.MutableMapping):\n",
      "['EUR_USD,GBP_USD']\n",
      "['EUR_USD', 'GBP_USD']\n",
      "Hello\n",
      "Profit ... or Loss: 32.62\n"
     ]
    }
   ],
   "source": [
    "!python 12_Clean_Strategy_BT_original.py --strat_name=simple_strategy_2 --mode=backtest --tickers=EUR_USD,GBP_USD"
   ]
  },
  {
   "cell_type": "code",
   "execution_count": 39,
   "metadata": {},
   "outputs": [
    {
     "name": "stdout",
     "output_type": "stream",
     "text": [
      "/opt/conda/lib/python3.7/site-packages/botocore/awsrequest.py:624: DeprecationWarning: Using or importing the ABCs from 'collections' instead of from 'collections.abc' is deprecated, and in 3.8 it will stop working\n",
      "  class HeadersDict(collections.MutableMapping):\n",
      "['EUR_USD,GBP_USD']\n",
      "['EUR_USD', 'GBP_USD']\n",
      "Hello\n",
      "***** DATA NOTIF: DELAYED\n",
      "***** DATA NOTIF: DELAYED\n",
      "***** DATA NOTIF: LIVE\n",
      "***** DATA NOTIF: LIVE\n",
      "2019-12-27 21:59:52.976799 BUY CREATE 1.12 at EUR_USD\n",
      "2019-12-27 21:59:53.093868 Order Status: Accepted: Ref: 1, Size: 1000, Price: NA\n",
      "2019-12-27 21:59:53.093868 Order Status: Canceled: Ref: 1, Size: 1000, Price: NA\n",
      "2019-12-27 21:59:53.093868 BUY CREATE 1.12 at EUR_USD\n",
      "^C\n",
      "Traceback (most recent call last):\n",
      "  File \"12_Clean_Strategy_BT_original.py\", line 142, in <module>\n",
      "    run()\n",
      "  File \"12_Clean_Strategy_BT_original.py\", line 84, in run\n",
      "    results = cerebro.run(tradehistory=True)  # execute it all\n",
      "  File \"/opt/conda/lib/python3.7/site-packages/backtrader/cerebro.py\", line 1127, in run\n",
      "    runstrat = self.runstrategies(iterstrat)\n",
      "  File \"/opt/conda/lib/python3.7/site-packages/backtrader/cerebro.py\", line 1298, in runstrategies\n",
      "    self._runnext(runstrats)\n",
      "  File \"/opt/conda/lib/python3.7/site-packages/backtrader/cerebro.py\", line 1542, in _runnext\n",
      "    drets.append(d.next(ticks=False))\n",
      "  File \"/opt/conda/lib/python3.7/site-packages/backtrader/feed.py\", line 407, in next\n",
      "    ret = self.load()\n",
      "  File \"/opt/conda/lib/python3.7/site-packages/backtrader/feed.py\", line 479, in load\n",
      "    _loadret = self._load()\n",
      "  File \"/home/jovyan/work/q_pack/btoandav20/feeds/oandav20feed.py\", line 351, in _load\n",
      "    self.qlive.get(timeout=self._qcheck))\n",
      "  File \"/opt/conda/lib/python3.7/queue.py\", line 179, in get\n",
      "    self.not_empty.wait(remaining)\n",
      "  File \"/opt/conda/lib/python3.7/threading.py\", line 300, in wait\n",
      "    gotit = waiter.acquire(True, timeout)\n",
      "KeyboardInterrupt\n"
     ]
    }
   ],
   "source": [
    "!python 12_Clean_Strategy_BT_original.py --strat_name=simple_strategy_2 --mode=live --tickers=EUR_USD,GBP_USD"
   ]
  },
  {
   "cell_type": "code",
   "execution_count": null,
   "metadata": {},
   "outputs": [],
   "source": []
  }
 ],
 "metadata": {
  "kernelspec": {
   "display_name": "Python 3",
   "language": "python",
   "name": "python3"
  },
  "language_info": {
   "codemirror_mode": {
    "name": "ipython",
    "version": 3
   },
   "file_extension": ".py",
   "mimetype": "text/x-python",
   "name": "python",
   "nbconvert_exporter": "python",
   "pygments_lexer": "ipython3",
   "version": "3.7.3"
  }
 },
 "nbformat": 4,
 "nbformat_minor": 2
}
