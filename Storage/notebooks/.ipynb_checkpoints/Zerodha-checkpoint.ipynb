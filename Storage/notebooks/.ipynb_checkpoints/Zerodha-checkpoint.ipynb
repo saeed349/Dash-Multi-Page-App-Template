{
 "cells": [
  {
   "cell_type": "code",
   "execution_count": 5,
   "metadata": {},
   "outputs": [],
   "source": [
    "import pandas as pd\n",
    "import boto3\n",
    "import io"
   ]
  },
  {
   "cell_type": "code",
   "execution_count": 7,
   "metadata": {},
   "outputs": [],
   "source": [
    "universe='Indian Equity'\n",
    "s3 = boto3.client('s3',endpoint_url=\"http://minio-image:9000\",aws_access_key_id=\"minio-image\",aws_secret_access_key=\"minio-image-pass\")\n",
    "Bucket=\"airflow-files\"\n",
    "if universe=='US Equity':\n",
    "    Key=\"interested_tickers_alpaca.xlsx\"\n",
    "elif universe=='Forex':\n",
    "    Key=\"interested_tickers_oanda.xlsx\"\n",
    "elif universe=='Indian Equity':\n",
    "    Key=\"interested_tickers_india.xlsx\"\n",
    "read_file = s3.get_object(Bucket=Bucket, Key=Key)\n",
    "df = pd.read_excel(io.BytesIO(read_file['Body'].read()),sheet_name=\"d\") #,sep=','\n",
    "ticker_list = list(df['Tickers'])"
   ]
  },
  {
   "cell_type": "code",
   "execution_count": 8,
   "metadata": {},
   "outputs": [
    {
     "data": {
      "text/plain": [
       "['RELIANCE',\n",
       " 'TCS',\n",
       " 'HINDUNILVR',\n",
       " 'HDFCBANK',\n",
       " 'HDFC',\n",
       " 'INFY',\n",
       " 'KOTAKBANK',\n",
       " 'BHARTIARTL']"
      ]
     },
     "execution_count": 8,
     "metadata": {},
     "output_type": "execute_result"
    }
   ],
   "source": [
    "ticker_list"
   ]
  },
  {
   "cell_type": "code",
   "execution_count": null,
   "metadata": {},
   "outputs": [],
   "source": [
    "for i,row in df.iterrows():\n",
    "            command={}\n",
    "            command['--strat_name']=row['Strategy']\n",
    "            command['--mode']=str(row['Mode'])\n",
    "            command['--tickers']=row['Securities']\n",
    "            command['--broker_token']=row['Token']\n",
    "            command['--broker_account']=row['Account']\n",
    "            if row['Model ID']!=\"\" or row[\"Strategy Parameters\"]!=\"\":\n",
    "                command['--strat_param']=(\"model_uri=\"+row['Model ID']+\",\"+row[\"Strategy Parameters\"]) if row[\"Strategy Parameters\"]!=\"\" else (\"model_uri=\"+row['Model ID'])\n",
    "            final_commmand='python /usr/local/airflow/dags/q_pack/q_run/run_BT.py '+' '.join([(k+\"=\"+v) for k, v in command.items() if v!=''])\n",
    "            tab = BashOperator(\n",
    "                bash_command=final_commmand,\n",
    "                task_id=(str(i)+\"_\"+row['Strategy']),\n",
    "                dag=dag\n",
    "            )\n",
    "            init >> tab >> clear"
   ]
  },
  {
   "cell_type": "code",
   "execution_count": 29,
   "metadata": {},
   "outputs": [
    {
     "name": "stdout",
     "output_type": "stream",
     "text": [
      "0\n",
      "python /usr/local/airflow/dags/q_pack/q_run/run_BT.py --fromdate='2016-1-1' --timeframe='d' --tickers=RELIANCE,TCS,HINDUNILVR,HDFCBANK,HDFC\n",
      "1\n",
      "python /usr/local/airflow/dags/q_pack/q_run/run_BT.py --fromdate='2016-1-1' --timeframe='d' --tickers=INFY,KOTAKBANK,BHARTIARTL\n"
     ]
    }
   ],
   "source": [
    "symbol_subset = 5\n",
    "list_ticker_list = [ticker_list[x:x+symbol_subset] for x in range(0, len(ticker_list), symbol_subset)]\n",
    "\n",
    "for i in range(len(list_ticker_list)):\n",
    "    print(i)\n",
    "    tickers=','.join(list_ticker_list[i])\n",
    "    final_command = \"\"\"python /usr/local/airflow/dags/q_pack/q_run/run_BT.py --fromdate='2016-1-1' --timeframe='d' --tickers={}\"\"\".format(tickers)\n",
    "    print(final_command)"
   ]
  },
  {
   "cell_type": "code",
   "execution_count": 24,
   "metadata": {},
   "outputs": [
    {
     "ename": "ValueError",
     "evalue": "too many values to unpack (expected 2)",
     "output_type": "error",
     "traceback": [
      "\u001b[0;31m---------------------------------------------------------------------------\u001b[0m",
      "\u001b[0;31mValueError\u001b[0m                                Traceback (most recent call last)",
      "\u001b[0;32m<ipython-input-24-3ec500a40154>\u001b[0m in \u001b[0;36m<module>\u001b[0;34m\u001b[0m\n\u001b[1;32m      2\u001b[0m \u001b[0mlist_ticker_list\u001b[0m \u001b[0;34m=\u001b[0m \u001b[0;34m[\u001b[0m\u001b[0mticker_list\u001b[0m\u001b[0;34m[\u001b[0m\u001b[0mx\u001b[0m\u001b[0;34m:\u001b[0m\u001b[0mx\u001b[0m\u001b[0;34m+\u001b[0m\u001b[0msymbol_subset\u001b[0m\u001b[0;34m]\u001b[0m \u001b[0;32mfor\u001b[0m \u001b[0mx\u001b[0m \u001b[0;32min\u001b[0m \u001b[0mrange\u001b[0m\u001b[0;34m(\u001b[0m\u001b[0;36m0\u001b[0m\u001b[0;34m,\u001b[0m \u001b[0mlen\u001b[0m\u001b[0;34m(\u001b[0m\u001b[0mticker_list\u001b[0m\u001b[0;34m)\u001b[0m\u001b[0;34m,\u001b[0m \u001b[0msymbol_subset\u001b[0m\u001b[0;34m)\u001b[0m\u001b[0;34m]\u001b[0m\u001b[0;34m\u001b[0m\u001b[0;34m\u001b[0m\u001b[0m\n\u001b[1;32m      3\u001b[0m \u001b[0;34m\u001b[0m\u001b[0m\n\u001b[0;32m----> 4\u001b[0;31m \u001b[0;32mfor\u001b[0m \u001b[0mi\u001b[0m\u001b[0;34m,\u001b[0m\u001b[0msymbols\u001b[0m \u001b[0;32min\u001b[0m \u001b[0mlist_ticker_list\u001b[0m\u001b[0;34m:\u001b[0m\u001b[0;34m\u001b[0m\u001b[0;34m\u001b[0m\u001b[0m\n\u001b[0m\u001b[1;32m      5\u001b[0m     \u001b[0mtickers\u001b[0m\u001b[0;34m=\u001b[0m\u001b[0;34m','\u001b[0m\u001b[0;34m.\u001b[0m\u001b[0mjoin\u001b[0m\u001b[0;34m(\u001b[0m\u001b[0msymbols\u001b[0m\u001b[0;34m)\u001b[0m\u001b[0;34m\u001b[0m\u001b[0;34m\u001b[0m\u001b[0m\n\u001b[1;32m      6\u001b[0m     \u001b[0mfinal_command\u001b[0m \u001b[0;34m=\u001b[0m \u001b[0;34m\"\"\"python /usr/local/airflow/dags/q_pack/q_run/run_BT.py --fromdate='2016-1-1' --timeframe='d' --tickers={}\"\"\"\u001b[0m\u001b[0;34m.\u001b[0m\u001b[0mformat\u001b[0m\u001b[0;34m(\u001b[0m\u001b[0mtickers\u001b[0m\u001b[0;34m)\u001b[0m\u001b[0;34m\u001b[0m\u001b[0;34m\u001b[0m\u001b[0m\n",
      "\u001b[0;31mValueError\u001b[0m: too many values to unpack (expected 2)"
     ]
    }
   ],
   "source": [
    "symbol_subset = 5\n",
    "list_ticker_list = [ticker_list[x:x+symbol_subset] for x in range(0, len(ticker_list), symbol_subset)]\n",
    "\n",
    "for symbols in list_ticker_list:\n",
    "    tickers=','.join(symbols)\n",
    "    final_command = \"\"\"python /usr/local/airflow/dags/q_pack/q_run/run_BT.py --fromdate='2016-1-1' --timeframe='d' --tickers={}\"\"\".format(tickers)\n",
    "    print(final_command)"
   ]
  },
  {
   "cell_type": "code",
   "execution_count": null,
   "metadata": {},
   "outputs": [],
   "source": [
    "python /usr/local/airflow/dags/q_pack/q_run/run_BT.py --fromdate='2016-1-1' --timeframe='d' --load_symbol='True' --univer='Indian Equity'"
   ]
  },
  {
   "cell_type": "code",
   "execution_count": 21,
   "metadata": {},
   "outputs": [
    {
     "name": "stdout",
     "output_type": "stream",
     "text": [
      "['INFY', 'KOTAKBANK']\n",
      "{'fromdate': datetime.datetime(2016, 1, 1, 0, 0)}\n",
      "no indicator data for INFY\n",
      "no indicator data for KOTAKBANK\n",
      "/opt/conda/lib/python3.8/site-packages/numpy/core/fromnumeric.py:3372: RuntimeWarning: Mean of empty slice.\n",
      "  return _methods._mean(a, axis=axis, dtype=dtype,\n",
      "/opt/conda/lib/python3.8/site-packages/numpy/core/_methods.py:170: RuntimeWarning: invalid value encountered in double_scalars\n",
      "  ret = ret.dtype.type(ret / rcount)\n",
      "Strategy run finished with Run ID: None\n",
      "d_data 1 6 INFY\n",
      "SELECT max(date_price) FROM d_data WHERE indicator_id = 1 and symbol_id = 6\n",
      "d_data 2 6 INFY\n",
      "SELECT max(date_price) FROM d_data WHERE indicator_id = 2 and symbol_id = 6\n",
      "d_data 3 6 INFY\n",
      "SELECT max(date_price) FROM d_data WHERE indicator_id = 3 and symbol_id = 6\n",
      "d_data 4 6 INFY\n",
      "SELECT max(date_price) FROM d_data WHERE indicator_id = 4 and symbol_id = 6\n",
      "d_data 5 6 INFY\n",
      "SELECT max(date_price) FROM d_data WHERE indicator_id = 5 and symbol_id = 6\n",
      "d_data 1 7 KOTAKBANK\n",
      "SELECT max(date_price) FROM d_data WHERE indicator_id = 1 and symbol_id = 7\n",
      "d_data 2 7 KOTAKBANK\n",
      "SELECT max(date_price) FROM d_data WHERE indicator_id = 2 and symbol_id = 7\n",
      "d_data 3 7 KOTAKBANK\n",
      "SELECT max(date_price) FROM d_data WHERE indicator_id = 3 and symbol_id = 7\n",
      "d_data 4 7 KOTAKBANK\n",
      "SELECT max(date_price) FROM d_data WHERE indicator_id = 4 and symbol_id = 7\n",
      "d_data 5 7 KOTAKBANK\n",
      "SELECT max(date_price) FROM d_data WHERE indicator_id = 5 and symbol_id = 7\n",
      "Profit ... or Loss: 0.00\n"
     ]
    }
   ],
   "source": [
    "!python q_pack/q_run/run_BT.py --fromdate='2016-1-1' --timeframe='d' --tickers=INFY,KOTAKBANK"
   ]
  },
  {
   "cell_type": "code",
   "execution_count": 1,
   "metadata": {},
   "outputs": [],
   "source": [
    "import q_run.run_BT as run_BT\n",
    "import argparse\n",
    "import q_tools.args_parse_other as args_parse_other\n",
    "import q_credentials.oanda_cred as oanda_cred"
   ]
  },
  {
   "cell_type": "code",
   "execution_count": 4,
   "metadata": {},
   "outputs": [
    {
     "ename": "TypeError",
     "evalue": "run() got an unexpected keyword argument 'fromdate'",
     "output_type": "error",
     "traceback": [
      "\u001b[0;31m---------------------------------------------------------------------------\u001b[0m",
      "\u001b[0;31mTypeError\u001b[0m                                 Traceback (most recent call last)",
      "\u001b[0;32m<ipython-input-4-f423f4f2b540>\u001b[0m in \u001b[0;36m<module>\u001b[0;34m\u001b[0m\n\u001b[0;32m----> 1\u001b[0;31m \u001b[0mrun_BT\u001b[0m\u001b[0;34m.\u001b[0m\u001b[0mrun\u001b[0m\u001b[0;34m(\u001b[0m\u001b[0mfromdate\u001b[0m\u001b[0;34m=\u001b[0m\u001b[0;34m'2016-1-1'\u001b[0m\u001b[0;34m,\u001b[0m\u001b[0mtimeframe\u001b[0m\u001b[0;34m=\u001b[0m\u001b[0;34m'd'\u001b[0m\u001b[0;34m,\u001b[0m\u001b[0mtickers\u001b[0m\u001b[0;34m=\u001b[0m\u001b[0;34m'INFY,KOTAKBANK'\u001b[0m\u001b[0;34m)\u001b[0m\u001b[0;34m\u001b[0m\u001b[0;34m\u001b[0m\u001b[0m\n\u001b[0m",
      "\u001b[0;31mTypeError\u001b[0m: run() got an unexpected keyword argument 'fromdate'"
     ]
    }
   ],
   "source": [
    "run_BT.run(fromdate='2016-1-1',timeframe='d',tickers='INFY,KOTAKBANK')"
   ]
  },
  {
   "cell_type": "code",
   "execution_count": 5,
   "metadata": {},
   "outputs": [
    {
     "name": "stderr",
     "output_type": "stream",
     "text": [
      "/opt/conda/lib/python3.8/site-packages/ipykernel/ipkernel.py:287: DeprecationWarning: `should_run_async` will not call `transform_cell` automatically in the future. Please pass the result to `transformed_cell` argument and any exception that happen during thetransform in `preprocessing_exc_tuple` in IPython 7.17 and above.\n",
      "  and should_run_async(code)\n"
     ]
    }
   ],
   "source": [
    "# run_BT.run(parse_args(parser))"
   ]
  },
  {
   "cell_type": "code",
   "execution_count": 8,
   "metadata": {},
   "outputs": [
    {
     "name": "stdout",
     "output_type": "stream",
     "text": [
      "['EUR_USD', 'GBP_USD']\n",
      "{'fromdate': datetime.datetime(2015, 7, 1, 0, 0)}\n",
      "Profit ... or Loss: 0.00\n"
     ]
    }
   ],
   "source": [
    "run_BT.run(args)"
   ]
  },
  {
   "cell_type": "code",
   "execution_count": 9,
   "metadata": {},
   "outputs": [
    {
     "name": "stderr",
     "output_type": "stream",
     "text": [
      "usage: ipykernel_launcher.py [-h] [--tickers [TICKERS [TICKERS ...]]]\n",
      "                             [--timeframe TIMEFRAME] [--dargs kwargs]\n",
      "                             [--fromdate FROMDATE] [--todate TODATE]\n",
      "                             [--cerebro kwargs] [--cash kwargs]\n",
      "                             [--strat_name kwargs] [--strat_param kwargs]\n",
      "                             [--ml_log [ML_LOG]] [--mode MODE]\n",
      "                             [--broker_token BROKER_TOKEN]\n",
      "                             [--broker_account BROKER_ACCOUNT] [--plot [PLOT]]\n",
      "                             [--load_indicator_db [LOAD_INDICATOR_DB]]\n",
      "                             [--load_symbol [LOAD_SYMBOL]]\n",
      "                             [--universe UNIVERSE]\n",
      "ipykernel_launcher.py: error: unrecognized arguments: -f /home/jovyan/.local/share/jupyter/runtime/kernel-27a48ecd-0263-4564-85bd-f7e64b3e63fa.json\n"
     ]
    },
    {
     "ename": "SystemExit",
     "evalue": "2",
     "output_type": "error",
     "traceback": [
      "An exception has occurred, use %tb to see the full traceback.\n",
      "\u001b[0;31mSystemExit\u001b[0m\u001b[0;31m:\u001b[0m 2\n"
     ]
    }
   ],
   "source": [
    "parser.parse_args()"
   ]
  },
  {
   "cell_type": "code",
   "execution_count": 10,
   "metadata": {},
   "outputs": [
    {
     "name": "stdout",
     "output_type": "stream",
     "text": [
      "['EUR_USD', 'GBP_USD']\n",
      "{'fromdate': datetime.datetime(2015, 7, 1, 0, 0)}\n",
      "Profit ... or Loss: 0.00\n"
     ]
    }
   ],
   "source": [
    "!python q_pack/q_run/run_BT.py"
   ]
  },
  {
   "cell_type": "code",
   "execution_count": 35,
   "metadata": {},
   "outputs": [],
   "source": [
    "def parse_args(fromdate=tickers=['RELIANCE']):\n",
    "    parser = argparse.ArgumentParser(   \n",
    "        formatter_class=argparse.ArgumentDefaultsHelpFormatter,\n",
    "        description=('Rebalancing with the Conservative Formula'),\n",
    "    )\n",
    "    parser.add_argument('--tickers', nargs='*' ,required=False,default=tickers, type=str,  #['PZZA'] #['BOM500010,BOM500034,BOM500087']\n",
    "                        help='Pass the tickers with space')\n",
    "    \n",
    "    parser.add_argument('--timeframe', required=False, default='d',\n",
    "                        help='Timeframe at whic the strategy needs to be run at')\n",
    "\n",
    "    parser.add_argument('--dargs', default='',\n",
    "                        metavar='kwargs', help='kwargs in k1=v1,k2=v2 format')\n",
    "\n",
    "    parser.add_argument('--fromdate', required=False, default=fromdate,\n",
    "                        help='Date[time] in YYYY-MM-DD[THH:MM:SS] format')\n",
    "\n",
    "    parser.add_argument('--todate', required=False, default='',\n",
    "                        help='Date[time] in YYYY-MM-DD[THH:MM:SS] format')\n",
    "\n",
    "    parser.add_argument('--cerebro', required=False, default='',\n",
    "                        metavar='kwargs', help='kwargs in k1=v1,k2=v2 format')\n",
    "\n",
    "    parser.add_argument('--cash', default=10000, type=float,\n",
    "                        metavar='kwargs', help='kwargs in k1=v1,k2=v2 format')\n",
    "\n",
    "    parser.add_argument('--strat_name', required=False, default='simple_strategy_3', \n",
    "                        metavar='kwargs', help='kwargs in k1=v1,k2=v2 format')\n",
    "\n",
    "    parser.add_argument('--strat_param', required=False, default=dict(ml_serving='no',use_db='yes', use_level='yes'), #--strat_param \"use_level=yes,use_db=yes,ml_serving=no\"\n",
    "                        action=args_parse_other.StoreDictKeyPair, metavar='kwargs', help='kwargs in k1=v1,k2=v2 format')\n",
    "\n",
    "    parser.add_argument('--ml_log', required=False, default=False, type=args_parse_other.str2bool, const=True, nargs='?',\n",
    "                        help='To save ML log or not')\n",
    "    \n",
    "    parser.add_argument('--mode', required=False, default='backtest',   \n",
    "                        help='Live or Backtest')\n",
    "\n",
    "    parser.add_argument('--broker_token', required=False, default=oanda_cred.token_practice,\n",
    "                        help='Oanda Broker Token id')\n",
    "\n",
    "    parser.add_argument('--broker_account', required=False, default=oanda_cred.acc_id_practice,\n",
    "                        help='Oanda Broker Account id')\n",
    "\n",
    "    parser.add_argument('--plot', required=False, default=False, type=args_parse_other.str2bool, const=True, nargs='?',\n",
    "                    help='Plot the results')\n",
    "\n",
    "    parser.add_argument('--load_indicator_db', required=False, default=True, type=args_parse_other.str2bool, const=True, nargs='?',\n",
    "                    help='load the indicator data into DB')\n",
    "\n",
    "    parser.add_argument('--load_symbol', required=False, default=False, type=args_parse_other.str2bool, const=True, nargs='?',\n",
    "                    help='load the symbols from excel file')\n",
    "\n",
    "    parser.add_argument('--universe', required=False, default='Forex',\n",
    "                        help='Select the Universe - Currently US Equity, Forex Majors')\n",
    "\n",
    "    # return parser.parse_args(pargs)\n",
    "    args, unknown = parser.parse_known_args()\n",
    "    return args"
   ]
  },
  {
   "cell_type": "code",
   "execution_count": 36,
   "metadata": {},
   "outputs": [
    {
     "name": "stdout",
     "output_type": "stream",
     "text": [
      "['RELIANCE']\n",
      "{'fromdate': datetime.datetime(2015, 7, 1, 0, 0)}\n",
      "Profit ... or Loss: 0.00\n"
     ]
    }
   ],
   "source": [
    "run_BT.run(parse_args())"
   ]
  },
  {
   "cell_type": "code",
   "execution_count": null,
   "metadata": {},
   "outputs": [],
   "source": [
    "run_BT.run()"
   ]
  }
 ],
 "metadata": {
  "kernelspec": {
   "display_name": "Python 3",
   "language": "python",
   "name": "python3"
  },
  "language_info": {
   "codemirror_mode": {
    "name": "ipython",
    "version": 3
   },
   "file_extension": ".py",
   "mimetype": "text/x-python",
   "name": "python",
   "nbconvert_exporter": "python",
   "pygments_lexer": "ipython3",
   "version": "3.8.5"
  }
 },
 "nbformat": 4,
 "nbformat_minor": 4
}
