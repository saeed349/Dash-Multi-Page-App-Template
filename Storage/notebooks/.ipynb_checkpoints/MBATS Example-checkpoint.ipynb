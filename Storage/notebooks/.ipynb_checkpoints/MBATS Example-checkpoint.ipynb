{
 "cells": [
  {
   "cell_type": "markdown",
   "metadata": {},
   "source": [
    "# Running the strategy Backtests"
   ]
  },
  {
   "cell_type": "code",
   "execution_count": null,
   "metadata": {},
   "outputs": [],
   "source": [
    "! python /home/jovyan/work/q_pack/q_run/run_BT.py \\\n",
    "--strat_name=simple_strategy_2 \\\n",
    "--mode=backtest \\\n",
    "--tickers=EUR_USD,GBP_USD,USD_JPY,NZD_USD"
   ]
  },
  {
   "cell_type": "code",
   "execution_count": 1,
   "metadata": {},
   "outputs": [
    {
     "name": "stdout",
     "output_type": "stream",
     "text": [
      "Strategy run finished with Run ID: 1\n",
      "ML Log Saved in Minio Bucket: model-support-files as 1_ml_log.csv\n",
      "Profit ... or Loss: 32.62\n"
     ]
    }
   ],
   "source": [
    "! python /home/jovyan/work/q_pack/q_run/run_BT.py \\\n",
    "--strat_name=simple_strategy_2 \\\n",
    "--mode=backtest \\\n",
    "--tickers=EUR_USD,GBP_USD \\\n",
    "--ml_log=True"
   ]
  },
  {
   "cell_type": "code",
   "execution_count": 2,
   "metadata": {},
   "outputs": [],
   "source": [
    "import os\n",
    "import warnings\n",
    "import sys\n",
    "import pandas as pd\n",
    "import numpy as np\n",
    "from sklearn.metrics import mean_squared_error, mean_absolute_error, r2_score\n",
    "from sklearn.model_selection import train_test_split\n",
    "from sklearn.ensemble import RandomForestRegressor, GradientBoostingRegressor\n",
    "import mlflow\n",
    "import mlflow.sklearn\n",
    "import mlflow.pyfunc\n",
    "import io\n",
    "import boto3"
   ]
  },
  {
   "cell_type": "markdown",
   "metadata": {},
   "source": [
    "# Preprocessing the Log file\n",
    "The Log file generated from the Backtest is in a simple form than can be preprocessed into a format that can be fed into our ML Model"
   ]
  },
  {
   "cell_type": "code",
   "execution_count": 3,
   "metadata": {},
   "outputs": [
    {
     "data": {
      "text/html": [
       "<div>\n",
       "<style scoped>\n",
       "    .dataframe tbody tr th:only-of-type {\n",
       "        vertical-align: middle;\n",
       "    }\n",
       "\n",
       "    .dataframe tbody tr th {\n",
       "        vertical-align: top;\n",
       "    }\n",
       "\n",
       "    .dataframe thead th {\n",
       "        text-align: right;\n",
       "    }\n",
       "</style>\n",
       "<table border=\"1\" class=\"dataframe\">\n",
       "  <thead>\n",
       "    <tr style=\"text-align: right;\">\n",
       "      <th></th>\n",
       "      <th>security</th>\n",
       "      <th>datetime</th>\n",
       "      <th>close</th>\n",
       "      <th>RSI</th>\n",
       "      <th>STOCHASTIC</th>\n",
       "      <th>ATR</th>\n",
       "    </tr>\n",
       "  </thead>\n",
       "  <tbody>\n",
       "    <tr>\n",
       "      <th>0</th>\n",
       "      <td>EUR_USD</td>\n",
       "      <td>2010-12-30 22:00:00</td>\n",
       "      <td>1.32855</td>\n",
       "      <td>NaN</td>\n",
       "      <td>NaN</td>\n",
       "      <td>NaN</td>\n",
       "    </tr>\n",
       "    <tr>\n",
       "      <th>1</th>\n",
       "      <td>EUR_USD</td>\n",
       "      <td>2010-12-31 22:00:00</td>\n",
       "      <td>1.33815</td>\n",
       "      <td>NaN</td>\n",
       "      <td>NaN</td>\n",
       "      <td>NaN</td>\n",
       "    </tr>\n",
       "    <tr>\n",
       "      <th>2</th>\n",
       "      <td>EUR_USD</td>\n",
       "      <td>2011-01-01 22:00:00</td>\n",
       "      <td>1.33280</td>\n",
       "      <td>NaN</td>\n",
       "      <td>NaN</td>\n",
       "      <td>NaN</td>\n",
       "    </tr>\n",
       "    <tr>\n",
       "      <th>3</th>\n",
       "      <td>EUR_USD</td>\n",
       "      <td>2011-01-02 22:00:00</td>\n",
       "      <td>1.32512</td>\n",
       "      <td>NaN</td>\n",
       "      <td>NaN</td>\n",
       "      <td>NaN</td>\n",
       "    </tr>\n",
       "    <tr>\n",
       "      <th>4</th>\n",
       "      <td>EUR_USD</td>\n",
       "      <td>2011-01-03 22:00:00</td>\n",
       "      <td>1.32919</td>\n",
       "      <td>NaN</td>\n",
       "      <td>NaN</td>\n",
       "      <td>NaN</td>\n",
       "    </tr>\n",
       "    <tr>\n",
       "      <th>5</th>\n",
       "      <td>EUR_USD</td>\n",
       "      <td>2011-01-04 22:00:00</td>\n",
       "      <td>1.31258</td>\n",
       "      <td>NaN</td>\n",
       "      <td>NaN</td>\n",
       "      <td>0.007796</td>\n",
       "    </tr>\n",
       "    <tr>\n",
       "      <th>6</th>\n",
       "      <td>EUR_USD</td>\n",
       "      <td>2011-01-05 22:00:00</td>\n",
       "      <td>1.29978</td>\n",
       "      <td>NaN</td>\n",
       "      <td>NaN</td>\n",
       "      <td>0.007135</td>\n",
       "    </tr>\n",
       "    <tr>\n",
       "      <th>7</th>\n",
       "      <td>EUR_USD</td>\n",
       "      <td>2011-01-06 22:00:00</td>\n",
       "      <td>1.29057</td>\n",
       "      <td>NaN</td>\n",
       "      <td>NaN</td>\n",
       "      <td>0.006176</td>\n",
       "    </tr>\n",
       "    <tr>\n",
       "      <th>8</th>\n",
       "      <td>EUR_USD</td>\n",
       "      <td>2011-01-08 22:00:00</td>\n",
       "      <td>1.28607</td>\n",
       "      <td>NaN</td>\n",
       "      <td>NaN</td>\n",
       "      <td>0.005193</td>\n",
       "    </tr>\n",
       "    <tr>\n",
       "      <th>9</th>\n",
       "      <td>EUR_USD</td>\n",
       "      <td>2011-01-09 22:00:00</td>\n",
       "      <td>1.28742</td>\n",
       "      <td>NaN</td>\n",
       "      <td>NaN</td>\n",
       "      <td>0.006228</td>\n",
       "    </tr>\n",
       "  </tbody>\n",
       "</table>\n",
       "</div>"
      ],
      "text/plain": [
       "  security             datetime    close  RSI  STOCHASTIC       ATR\n",
       "0  EUR_USD  2010-12-30 22:00:00  1.32855  NaN         NaN       NaN\n",
       "1  EUR_USD  2010-12-31 22:00:00  1.33815  NaN         NaN       NaN\n",
       "2  EUR_USD  2011-01-01 22:00:00  1.33280  NaN         NaN       NaN\n",
       "3  EUR_USD  2011-01-02 22:00:00  1.32512  NaN         NaN       NaN\n",
       "4  EUR_USD  2011-01-03 22:00:00  1.32919  NaN         NaN       NaN\n",
       "5  EUR_USD  2011-01-04 22:00:00  1.31258  NaN         NaN  0.007796\n",
       "6  EUR_USD  2011-01-05 22:00:00  1.29978  NaN         NaN  0.007135\n",
       "7  EUR_USD  2011-01-06 22:00:00  1.29057  NaN         NaN  0.006176\n",
       "8  EUR_USD  2011-01-08 22:00:00  1.28607  NaN         NaN  0.005193\n",
       "9  EUR_USD  2011-01-09 22:00:00  1.28742  NaN         NaN  0.006228"
      ]
     },
     "execution_count": 3,
     "metadata": {},
     "output_type": "execute_result"
    }
   ],
   "source": [
    "s3 = boto3.client('s3',endpoint_url=\"http://minio-image:9000\",aws_access_key_id=\"minio-image\",aws_secret_access_key=\"minio-image-pass\")\n",
    "data = pd.read_csv(s3.get_object(Bucket=\"model-support-files\", Key='1_ml_log.csv')['Body'],sep=',')\n",
    "data.head(10)"
   ]
  },
  {
   "cell_type": "code",
   "execution_count": 4,
   "metadata": {},
   "outputs": [
    {
     "data": {
      "text/plain": [
       "'processed_1_ml_log.csv'"
      ]
     },
     "execution_count": 4,
     "metadata": {},
     "output_type": "execute_result"
    }
   ],
   "source": [
    "from ml_pack.preprocessing.ml_preprocessing import ml_preprocessing\n",
    "preprocessed_file=ml_preprocessing(input_file=\"1_ml_log.csv\",fwd_returns=5)\n",
    "preprocessed_file"
   ]
  },
  {
   "cell_type": "code",
   "execution_count": 5,
   "metadata": {},
   "outputs": [],
   "source": [
    "s3 = boto3.client('s3',endpoint_url=\"http://minio-image:9000\",aws_access_key_id=\"minio-image\",aws_secret_access_key=\"minio-image-pass\")\n",
    "data = pd.read_csv(s3.get_object(Bucket=\"model-support-files\", Key=preprocessed_file)['Body'],sep=',')"
   ]
  },
  {
   "cell_type": "markdown",
   "metadata": {},
   "source": [
    "Now the preprocesssed file is in a format that we can feed into the ML model\n",
    "The target variable is 5 day forward returns and the features are the technical indicator"
   ]
  },
  {
   "cell_type": "code",
   "execution_count": 6,
   "metadata": {},
   "outputs": [
    {
     "data": {
      "text/html": [
       "<div>\n",
       "<style scoped>\n",
       "    .dataframe tbody tr th:only-of-type {\n",
       "        vertical-align: middle;\n",
       "    }\n",
       "\n",
       "    .dataframe tbody tr th {\n",
       "        vertical-align: top;\n",
       "    }\n",
       "\n",
       "    .dataframe thead th {\n",
       "        text-align: right;\n",
       "    }\n",
       "</style>\n",
       "<table border=\"1\" class=\"dataframe\">\n",
       "  <thead>\n",
       "    <tr style=\"text-align: right;\">\n",
       "      <th></th>\n",
       "      <th>RSI</th>\n",
       "      <th>STOCHASTIC</th>\n",
       "      <th>fwd_returns</th>\n",
       "    </tr>\n",
       "  </thead>\n",
       "  <tbody>\n",
       "    <tr>\n",
       "      <th>0</th>\n",
       "      <td>56.991619</td>\n",
       "      <td>78.882076</td>\n",
       "      <td>-0.005146</td>\n",
       "    </tr>\n",
       "    <tr>\n",
       "      <th>1</th>\n",
       "      <td>59.448606</td>\n",
       "      <td>77.279931</td>\n",
       "      <td>0.003864</td>\n",
       "    </tr>\n",
       "    <tr>\n",
       "      <th>2</th>\n",
       "      <td>67.632318</td>\n",
       "      <td>67.385341</td>\n",
       "      <td>0.019120</td>\n",
       "    </tr>\n",
       "    <tr>\n",
       "      <th>3</th>\n",
       "      <td>60.945457</td>\n",
       "      <td>79.322084</td>\n",
       "      <td>0.013553</td>\n",
       "    </tr>\n",
       "    <tr>\n",
       "      <th>4</th>\n",
       "      <td>56.546196</td>\n",
       "      <td>72.484186</td>\n",
       "      <td>-0.000088</td>\n",
       "    </tr>\n",
       "    <tr>\n",
       "      <th>5</th>\n",
       "      <td>67.387740</td>\n",
       "      <td>72.292758</td>\n",
       "      <td>0.016796</td>\n",
       "    </tr>\n",
       "    <tr>\n",
       "      <th>6</th>\n",
       "      <td>54.832174</td>\n",
       "      <td>60.957090</td>\n",
       "      <td>-0.002328</td>\n",
       "    </tr>\n",
       "    <tr>\n",
       "      <th>7</th>\n",
       "      <td>64.459591</td>\n",
       "      <td>63.829216</td>\n",
       "      <td>0.013410</td>\n",
       "    </tr>\n",
       "    <tr>\n",
       "      <th>8</th>\n",
       "      <td>55.613371</td>\n",
       "      <td>49.955854</td>\n",
       "      <td>0.000744</td>\n",
       "    </tr>\n",
       "    <tr>\n",
       "      <th>9</th>\n",
       "      <td>65.796292</td>\n",
       "      <td>58.935306</td>\n",
       "      <td>0.018234</td>\n",
       "    </tr>\n",
       "  </tbody>\n",
       "</table>\n",
       "</div>"
      ],
      "text/plain": [
       "         RSI  STOCHASTIC  fwd_returns\n",
       "0  56.991619   78.882076    -0.005146\n",
       "1  59.448606   77.279931     0.003864\n",
       "2  67.632318   67.385341     0.019120\n",
       "3  60.945457   79.322084     0.013553\n",
       "4  56.546196   72.484186    -0.000088\n",
       "5  67.387740   72.292758     0.016796\n",
       "6  54.832174   60.957090    -0.002328\n",
       "7  64.459591   63.829216     0.013410\n",
       "8  55.613371   49.955854     0.000744\n",
       "9  65.796292   58.935306     0.018234"
      ]
     },
     "execution_count": 6,
     "metadata": {},
     "output_type": "execute_result"
    }
   ],
   "source": [
    "data.head(10)"
   ]
  },
  {
   "cell_type": "markdown",
   "metadata": {},
   "source": [
    "# Train a ML-model using MLflow"
   ]
  },
  {
   "cell_type": "markdown",
   "metadata": {},
   "source": [
    "### Point to the MLflow tracking endpoint"
   ]
  },
  {
   "cell_type": "code",
   "execution_count": 7,
   "metadata": {},
   "outputs": [],
   "source": [
    "mlflow.tracking.set_tracking_uri('http://mlflow-image:5500')"
   ]
  },
  {
   "cell_type": "markdown",
   "metadata": {},
   "source": [
    "### Create a MLflow experiment"
   ]
  },
  {
   "cell_type": "code",
   "execution_count": 8,
   "metadata": {},
   "outputs": [
    {
     "data": {
      "text/plain": [
       "'1'"
      ]
     },
     "execution_count": 8,
     "metadata": {},
     "output_type": "execute_result"
    }
   ],
   "source": [
    "mlflow.create_experiment(name='simple_trading_models', artifact_location='s3://mlflow-models')"
   ]
  },
  {
   "cell_type": "code",
   "execution_count": 9,
   "metadata": {},
   "outputs": [],
   "source": [
    "mlflow.set_experiment('simple_trading_models')"
   ]
  },
  {
   "cell_type": "markdown",
   "metadata": {},
   "source": [
    "### Fetching the preprocessed data from Minio"
   ]
  },
  {
   "cell_type": "code",
   "execution_count": 10,
   "metadata": {},
   "outputs": [
    {
     "name": "stdout",
     "output_type": "stream",
     "text": [
      "RandomForest Model (n_estimators=300.000000, max_depth=10.000000):\n",
      "  RMSE: 0.008593323344445921\n",
      "  MAE: 0.006673740830905886\n",
      "  R2: 0.3790275404533735\n"
     ]
    }
   ],
   "source": [
    "def eval_metrics(actual, pred):\n",
    "    rmse = np.sqrt(mean_squared_error(actual, pred))\n",
    "    mae = mean_absolute_error(actual, pred)\n",
    "    r2 = r2_score(actual, pred)\n",
    "    return rmse, mae, r2\n",
    "\n",
    "warnings.filterwarnings(\"ignore\")\n",
    "np.random.seed(40)\n",
    "# Split the data into training and test sets. (0.75, 0.25) split.\n",
    "train, test = train_test_split(data)\n",
    "\n",
    "# The predicted column is \"fwd_returns\"\n",
    "train_x = train.drop([\"fwd_returns\"], axis=1)\n",
    "test_x = test.drop([\"fwd_returns\"], axis=1)\n",
    "train_y = train[[\"fwd_returns\"]]\n",
    "test_y = test[[\"fwd_returns\"]]\n",
    "\n",
    "n_estimators=300\n",
    "max_depth=10\n",
    "\n",
    "lr = RandomForestRegressor(n_estimators=n_estimators,max_depth=max_depth)\n",
    "lr.fit(train_x, train_y)\n",
    "predicted_qualities = lr.predict(test_x)\n",
    "(rmse, mae, r2) = eval_metrics(test_y, predicted_qualities)\n",
    "\n",
    "print(\"RandomForest Model (n_estimators=%f, max_depth=%f):\" % (n_estimators, max_depth))\n",
    "print(\"  RMSE: %s\" % rmse)\n",
    "print(\"  MAE: %s\" % mae)\n",
    "print(\"  R2: %s\" % r2)\n",
    "\n",
    "mlflow.log_param(\"n_estimators\", n_estimators)\n",
    "mlflow.log_param(\"max_depth\", max_depth)\n",
    "mlflow.log_metric(\"rmse\", rmse)\n",
    "mlflow.log_metric(\"r2\", r2)\n",
    "mlflow.log_metric(\"mae\", mae)\n",
    "mlflow.sklearn.log_model(lr, \"model\")"
   ]
  },
  {
   "cell_type": "markdown",
   "metadata": {},
   "source": [
    "## Model Serving"
   ]
  },
  {
   "cell_type": "code",
   "execution_count": 11,
   "metadata": {},
   "outputs": [],
   "source": [
    "import mlflow.pyfunc"
   ]
  },
  {
   "cell_type": "code",
   "execution_count": 12,
   "metadata": {},
   "outputs": [],
   "source": [
    "model_predict=mlflow.pyfunc.load_model(model_uri=\"s3://mlflow-models/adebcab9b2d949289e24bd0afb4b3846/artifacts/model\")"
   ]
  },
  {
   "cell_type": "code",
   "execution_count": 13,
   "metadata": {},
   "outputs": [
    {
     "data": {
      "text/plain": [
       "array([0.00771085])"
      ]
     },
     "execution_count": 13,
     "metadata": {},
     "output_type": "execute_result"
    }
   ],
   "source": [
    "model_predict.predict([[80,20]])"
   ]
  },
  {
   "cell_type": "markdown",
   "metadata": {},
   "source": [
    "## Running the strategy with the model\n",
    "Look at the simple_strategy_2.py Backtrader strategy file to see how the ML model is being served "
   ]
  },
  {
   "cell_type": "code",
   "execution_count": 15,
   "metadata": {},
   "outputs": [
    {
     "name": "stdout",
     "output_type": "stream",
     "text": [
      "s3://mlflow-models/adebcab9b2d949289e24bd0afb4b3846/artifacts/model\n",
      "Strategy run finished with Run ID: 3\n",
      "Profit ... or Loss: -1621.91\n"
     ]
    }
   ],
   "source": [
    "!python /home/jovyan/work/q_pack/q_run/run_BT.py \\\n",
    "--strat_name=simple_strategy_2 \\\n",
    "--strat_param=ml_serving=True,model_uri=adebcab9b2d949289e24bd0afb4b3846 \\\n",
    "--ml_log=False \\\n",
    "--mode=backtest \\\n",
    "--tickers=EUR_USD,GBP_USD"
   ]
  },
  {
   "cell_type": "markdown",
   "metadata": {},
   "source": [
    "## Packaging the model using MLflow (BONUS)\n",
    "For reproducibility and for sharing"
   ]
  },
  {
   "cell_type": "code",
   "execution_count": 55,
   "metadata": {},
   "outputs": [],
   "source": [
    "mlflow.projects.run(\"/home/jovyan/work/BT/mlflow_project\",parameters={'n_estimators':200,'max_depth':10})\n"
   ]
  },
  {
   "cell_type": "markdown",
   "metadata": {},
   "source": [
    "## Serving the model as a rest API using MLflow (BONUS)\n",
    "Serrve the model in the mlflow tracking container using"
   ]
  },
  {
   "cell_type": "markdown",
   "metadata": {},
   "source": [
    "docker exec ekholabs-mlflow /bin/sh -c \"mlflow models serve -m /ekholabs-mlflow/mlruns/0/a85ab97a393045afaea2b550a79686e8/artifacts/model --host=0.0.0.0 -p 2349\""
   ]
  },
  {
   "cell_type": "markdown",
   "metadata": {},
   "source": [
    "Then you can call in the program using curl"
   ]
  },
  {
   "cell_type": "code",
   "execution_count": null,
   "metadata": {},
   "outputs": [],
   "source": [
    "! curl -X POST -H \"Content-Type:application/json; format=pandas-split\" --data '{\"columns\":[\"alcohol\", \"chlorides\", \"citric acid\", \"density\", \"fixed acidity\", \"free sulfur dioxide\", \"pH\", \"residual sugar\", \"sulphates\", \"total sulfur dioxide\", \"volatile acidity\"],\"data\":[[12.8, 2, 10, 0.98, 1, 45, 2, 1.2, 44, 4, 0.66]]}' http://mlflow-image:2349/invocations"
   ]
  }
 ],
 "metadata": {
  "kernelspec": {
   "display_name": "Python 3",
   "language": "python",
   "name": "python3"
  },
  "language_info": {
   "codemirror_mode": {
    "name": "ipython",
    "version": 3
   },
   "file_extension": ".py",
   "mimetype": "text/x-python",
   "name": "python",
   "nbconvert_exporter": "python",
   "pygments_lexer": "ipython3",
   "version": "3.7.3"
  }
 },
 "nbformat": 4,
 "nbformat_minor": 2
}
