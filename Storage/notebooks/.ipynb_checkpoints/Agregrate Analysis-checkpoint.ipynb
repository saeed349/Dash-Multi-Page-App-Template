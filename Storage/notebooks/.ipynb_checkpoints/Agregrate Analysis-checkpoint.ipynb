{
 "cells": [
  {
   "cell_type": "code",
   "execution_count": 1,
   "metadata": {},
   "outputs": [],
   "source": [
    "import psycopg2\n",
    "import pandas as pd\n",
    "from plotly.offline import init_notebook_mode, iplot\n",
    "from plotly.offline import plot \n",
    "import plotly.graph_objects as go\n",
    "import warnings\n",
    "import datetime\n",
    "warnings.filterwarnings('ignore')\n",
    "\n",
    "# import q_credentials.db_secmaster_cloud_cred as db_secmaster_cred\n",
    "import q_credentials.db_secmaster_cred as db_secmaster_cred\n",
    "import q_credentials.db_indicator_cred as db_indicator_cred\n"
   ]
  },
  {
   "cell_type": "code",
   "execution_count": 2,
   "metadata": {},
   "outputs": [],
   "source": [
    "# connect to our securities_master database\n",
    "conn_secmaster = psycopg2.connect(host=db_secmaster_cred.dbHost , database=db_secmaster_cred.dbName, user=db_secmaster_cred.dbUser, password=db_secmaster_cred.dbPWD)"
   ]
  },
  {
   "cell_type": "code",
   "execution_count": 3,
   "metadata": {},
   "outputs": [],
   "source": [
    "conn_indicator = psycopg2.connect(host=db_indicator_cred.dbHost , database=db_indicator_cred.dbName, user=db_indicator_cred.dbUser, password=db_indicator_cred.dbPWD)"
   ]
  },
  {
   "cell_type": "code",
   "execution_count": 4,
   "metadata": {},
   "outputs": [],
   "source": [
    "sql=\"\"\"SELECT s.ticker, max(d.symbol_id), max(d.date_price)\n",
    "FROM public.symbol s inner join d_data d on s.id= d.symbol_id\n",
    "group by s.ticker\"\"\"\n",
    "df_ticker_last_day=pd.read_sql(sql,con=conn_secmaster)"
   ]
  },
  {
   "cell_type": "code",
   "execution_count": 5,
   "metadata": {},
   "outputs": [
    {
     "data": {
      "text/html": [
       "<div>\n",
       "<style scoped>\n",
       "    .dataframe tbody tr th:only-of-type {\n",
       "        vertical-align: middle;\n",
       "    }\n",
       "\n",
       "    .dataframe tbody tr th {\n",
       "        vertical-align: top;\n",
       "    }\n",
       "\n",
       "    .dataframe thead th {\n",
       "        text-align: right;\n",
       "    }\n",
       "</style>\n",
       "<table border=\"1\" class=\"dataframe\">\n",
       "  <thead>\n",
       "    <tr style=\"text-align: right;\">\n",
       "      <th></th>\n",
       "      <th>ticker</th>\n",
       "      <th>max</th>\n",
       "      <th>max</th>\n",
       "    </tr>\n",
       "  </thead>\n",
       "  <tbody>\n",
       "    <tr>\n",
       "      <th>0</th>\n",
       "      <td>USD_CHF</td>\n",
       "      <td>55</td>\n",
       "      <td>2020-08-14</td>\n",
       "    </tr>\n",
       "    <tr>\n",
       "      <th>1</th>\n",
       "      <td>EUR_USD</td>\n",
       "      <td>24</td>\n",
       "      <td>2020-08-14</td>\n",
       "    </tr>\n",
       "    <tr>\n",
       "      <th>2</th>\n",
       "      <td>USD_CAD</td>\n",
       "      <td>1</td>\n",
       "      <td>2020-08-14</td>\n",
       "    </tr>\n",
       "    <tr>\n",
       "      <th>3</th>\n",
       "      <td>NZD_USD</td>\n",
       "      <td>28</td>\n",
       "      <td>2020-08-14</td>\n",
       "    </tr>\n",
       "    <tr>\n",
       "      <th>4</th>\n",
       "      <td>USD_JPY</td>\n",
       "      <td>62</td>\n",
       "      <td>2020-08-14</td>\n",
       "    </tr>\n",
       "    <tr>\n",
       "      <th>5</th>\n",
       "      <td>EUR_JPY</td>\n",
       "      <td>19</td>\n",
       "      <td>2020-08-14</td>\n",
       "    </tr>\n",
       "    <tr>\n",
       "      <th>6</th>\n",
       "      <td>GBP_JPY</td>\n",
       "      <td>13</td>\n",
       "      <td>2020-08-14</td>\n",
       "    </tr>\n",
       "    <tr>\n",
       "      <th>7</th>\n",
       "      <td>AUD_USD</td>\n",
       "      <td>26</td>\n",
       "      <td>2020-08-14</td>\n",
       "    </tr>\n",
       "    <tr>\n",
       "      <th>8</th>\n",
       "      <td>GBP_USD</td>\n",
       "      <td>11</td>\n",
       "      <td>2020-08-14</td>\n",
       "    </tr>\n",
       "  </tbody>\n",
       "</table>\n",
       "</div>"
      ],
      "text/plain": [
       "    ticker max        max\n",
       "0  USD_CHF  55 2020-08-14\n",
       "1  EUR_USD  24 2020-08-14\n",
       "2  USD_CAD   1 2020-08-14\n",
       "3  NZD_USD  28 2020-08-14\n",
       "4  USD_JPY  62 2020-08-14\n",
       "5  EUR_JPY  19 2020-08-14\n",
       "6  GBP_JPY  13 2020-08-14\n",
       "7  AUD_USD  26 2020-08-14\n",
       "8  GBP_USD  11 2020-08-14"
      ]
     },
     "execution_count": 5,
     "metadata": {},
     "output_type": "execute_result"
    }
   ],
   "source": [
    "df_ticker_last_day"
   ]
  },
  {
   "cell_type": "code",
   "execution_count": 6,
   "metadata": {},
   "outputs": [],
   "source": [
    "# sql=\"\"\"select date_price as date, open_price as open, high_price as high, low_price as low , close_price as close,volume from daily_data where stock_id=71\"\"\"\n",
    "# df_stock=pd.read_sql(sql,con=conn_secmaster)"
   ]
  },
  {
   "cell_type": "code",
   "execution_count": 7,
   "metadata": {},
   "outputs": [],
   "source": [
    "# import datetime"
   ]
  },
  {
   "cell_type": "code",
   "execution_count": 8,
   "metadata": {},
   "outputs": [
    {
     "data": {
      "text/plain": [
       "['candle_1', 'candle_2', 'candle_3', 'anomaly', 'level']"
      ]
     },
     "execution_count": 8,
     "metadata": {},
     "output_type": "execute_result"
    }
   ],
   "source": [
    "sql=\"select * from indicator\"\n",
    "ind_list=list(pd.read_sql(sql,con=conn_indicator)['name'])\n",
    "ind_list"
   ]
  },
  {
   "cell_type": "code",
   "execution_count": 9,
   "metadata": {},
   "outputs": [],
   "source": [
    "symbol_id='EUR_USD'#'AAPL'#'BOM500114'\n",
    "start_date=datetime.datetime(2018,1,1).strftime(\"%Y-%m-%d\")\n",
    "indicator_name = 'candle_1'"
   ]
  },
  {
   "cell_type": "code",
   "execution_count": 10,
   "metadata": {},
   "outputs": [],
   "source": [
    "sql=\"select d.date_price as date, open_price as open, high_price as high, low_price as low , close_price as close,volume from d_data d join symbol s on d.symbol_id = s.id where s.ticker='%s' and d.date_price > '%s'\" %(symbol_id, start_date)\n",
    "df_price=pd.read_sql(sql,con=conn_secmaster)"
   ]
  },
  {
   "cell_type": "code",
   "execution_count": 11,
   "metadata": {},
   "outputs": [],
   "source": [
    "sql=\"select d.date_price as date, d.value from d_data d join symbol s on d.symbol_id = s.id join indicator i on i.id=d.indicator_id where s.ticker='%s' and i.name = '%s' and d.date_price > '%s'\" %(symbol_id, indicator_name, start_date)\n",
    "df_indicator=pd.read_sql(sql,con=conn_indicator)"
   ]
  },
  {
   "cell_type": "code",
   "execution_count": 12,
   "metadata": {},
   "outputs": [],
   "source": [
    "df_indicator.set_index('date',inplace=True)"
   ]
  },
  {
   "cell_type": "code",
   "execution_count": 13,
   "metadata": {},
   "outputs": [
    {
     "data": {
      "text/html": [
       "<div>\n",
       "<style scoped>\n",
       "    .dataframe tbody tr th:only-of-type {\n",
       "        vertical-align: middle;\n",
       "    }\n",
       "\n",
       "    .dataframe tbody tr th {\n",
       "        vertical-align: top;\n",
       "    }\n",
       "\n",
       "    .dataframe thead th {\n",
       "        text-align: right;\n",
       "    }\n",
       "</style>\n",
       "<table border=\"1\" class=\"dataframe\">\n",
       "  <thead>\n",
       "    <tr style=\"text-align: right;\">\n",
       "      <th></th>\n",
       "      <th>value</th>\n",
       "    </tr>\n",
       "    <tr>\n",
       "      <th>date</th>\n",
       "      <th></th>\n",
       "    </tr>\n",
       "  </thead>\n",
       "  <tbody>\n",
       "    <tr>\n",
       "      <th>2018-01-02</th>\n",
       "      <td>{'level': 0.0, 'pattern_name': ''}</td>\n",
       "    </tr>\n",
       "    <tr>\n",
       "      <th>2018-01-03</th>\n",
       "      <td>{'level': 0.0, 'pattern_name': ''}</td>\n",
       "    </tr>\n",
       "    <tr>\n",
       "      <th>2018-01-04</th>\n",
       "      <td>{'level': 0.0, 'pattern_name': ''}</td>\n",
       "    </tr>\n",
       "    <tr>\n",
       "      <th>2018-01-05</th>\n",
       "      <td>{'level': 0.0, 'pattern_name': ''}</td>\n",
       "    </tr>\n",
       "    <tr>\n",
       "      <th>2018-01-08</th>\n",
       "      <td>{'level': 0.0, 'pattern_name': ''}</td>\n",
       "    </tr>\n",
       "  </tbody>\n",
       "</table>\n",
       "</div>"
      ],
      "text/plain": [
       "                                         value\n",
       "date                                          \n",
       "2018-01-02  {'level': 0.0, 'pattern_name': ''}\n",
       "2018-01-03  {'level': 0.0, 'pattern_name': ''}\n",
       "2018-01-04  {'level': 0.0, 'pattern_name': ''}\n",
       "2018-01-05  {'level': 0.0, 'pattern_name': ''}\n",
       "2018-01-08  {'level': 0.0, 'pattern_name': ''}"
      ]
     },
     "execution_count": 13,
     "metadata": {},
     "output_type": "execute_result"
    }
   ],
   "source": [
    "df_indicator.head()"
   ]
  },
  {
   "cell_type": "code",
   "execution_count": 14,
   "metadata": {},
   "outputs": [
    {
     "name": "stdout",
     "output_type": "stream",
     "text": [
      "candle_1\n",
      "candle_2\n",
      "candle_3\n",
      "anomaly\n",
      "level\n"
     ]
    }
   ],
   "source": [
    "df_all_ind=pd.DataFrame()\n",
    "for ind in ind_list:\n",
    "    print(ind)\n",
    "    sql=\"select d.date_price as date, d.value from d_data d join symbol s on d.symbol_id = s.id join indicator i on i.id=d.indicator_id where s.ticker='%s' and i.name = '%s' and d.date_price > '%s'\" %(symbol_id, ind, start_date)\n",
    "    df_indicator=pd.read_sql(sql,con=conn_indicator)\n",
    "    df_indicator.set_index('date',inplace=True)\n",
    "    df_indicator=pd.concat([df_indicator.drop(['value'], axis=1), df_indicator['value'].apply(pd.Series)], axis=1)\n",
    "    df_indicator.columns=[ind+\"_\"+col for col in df_indicator.columns]\n",
    "    if df_all_ind.empty:\n",
    "        df_all_ind=pd.merge(left=df_price, right=df_indicator,on='date')\n",
    "    else:\n",
    "        df_all_ind=pd.merge(left=df_all_ind, right=df_indicator,on='date')"
   ]
  },
  {
   "cell_type": "code",
   "execution_count": 15,
   "metadata": {},
   "outputs": [
    {
     "data": {
      "text/html": [
       "<div>\n",
       "<style scoped>\n",
       "    .dataframe tbody tr th:only-of-type {\n",
       "        vertical-align: middle;\n",
       "    }\n",
       "\n",
       "    .dataframe tbody tr th {\n",
       "        vertical-align: top;\n",
       "    }\n",
       "\n",
       "    .dataframe thead th {\n",
       "        text-align: right;\n",
       "    }\n",
       "</style>\n",
       "<table border=\"1\" class=\"dataframe\">\n",
       "  <thead>\n",
       "    <tr style=\"text-align: right;\">\n",
       "      <th></th>\n",
       "      <th>date</th>\n",
       "      <th>open</th>\n",
       "      <th>high</th>\n",
       "      <th>low</th>\n",
       "      <th>close</th>\n",
       "      <th>volume</th>\n",
       "      <th>candle_1_level</th>\n",
       "      <th>candle_1_pattern_name</th>\n",
       "      <th>candle_2_level</th>\n",
       "      <th>candle_2_pattern_name</th>\n",
       "      <th>...</th>\n",
       "      <th>anomaly_wick_bull_signal</th>\n",
       "      <th>level_level</th>\n",
       "      <th>level_nearest_resistance_atr_range</th>\n",
       "      <th>level_nearest_resistance_duration</th>\n",
       "      <th>level_nearest_resistance_range</th>\n",
       "      <th>level_nearest_support_atr_range</th>\n",
       "      <th>level_nearest_support_duration</th>\n",
       "      <th>level_nearest_support_range</th>\n",
       "      <th>level_resistance</th>\n",
       "      <th>level_support</th>\n",
       "    </tr>\n",
       "  </thead>\n",
       "  <tbody>\n",
       "    <tr>\n",
       "      <th>0</th>\n",
       "      <td>2018-01-02</td>\n",
       "      <td>1.20071</td>\n",
       "      <td>1.20812</td>\n",
       "      <td>1.20019</td>\n",
       "      <td>1.20580</td>\n",
       "      <td>35630</td>\n",
       "      <td>0.0</td>\n",
       "      <td></td>\n",
       "      <td>0.0</td>\n",
       "      <td></td>\n",
       "      <td>...</td>\n",
       "      <td>0.173574</td>\n",
       "      <td>1.0</td>\n",
       "      <td>0.328864</td>\n",
       "      <td>126</td>\n",
       "      <td>[1.20928, 1.19774]</td>\n",
       "      <td>1.800136</td>\n",
       "      <td>36</td>\n",
       "      <td>[1.19041, 1.19612]</td>\n",
       "      <td>[[1.20928, 1.19774, 2017-08-29 00:00:00, True]...</td>\n",
       "      <td>[[1.19041, 1.19612, 2017-11-27 00:00:00, False...</td>\n",
       "    </tr>\n",
       "    <tr>\n",
       "      <th>1</th>\n",
       "      <td>2018-01-03</td>\n",
       "      <td>1.20590</td>\n",
       "      <td>1.20666</td>\n",
       "      <td>1.20010</td>\n",
       "      <td>1.20144</td>\n",
       "      <td>31354</td>\n",
       "      <td>0.0</td>\n",
       "      <td></td>\n",
       "      <td>0.0</td>\n",
       "      <td></td>\n",
       "      <td>...</td>\n",
       "      <td>0.000000</td>\n",
       "      <td>1.0</td>\n",
       "      <td>0.300754</td>\n",
       "      <td>127</td>\n",
       "      <td>[1.20928, 1.19774]</td>\n",
       "      <td>1.187762</td>\n",
       "      <td>37</td>\n",
       "      <td>[1.19041, 1.19612]</td>\n",
       "      <td>[[1.20928, 1.19774, 2017-08-29 00:00:00, True]...</td>\n",
       "      <td>[[1.19041, 1.19612, 2017-11-27 00:00:00, False...</td>\n",
       "    </tr>\n",
       "    <tr>\n",
       "      <th>2</th>\n",
       "      <td>2018-01-04</td>\n",
       "      <td>1.20144</td>\n",
       "      <td>1.20890</td>\n",
       "      <td>1.20042</td>\n",
       "      <td>1.20683</td>\n",
       "      <td>35187</td>\n",
       "      <td>0.0</td>\n",
       "      <td></td>\n",
       "      <td>1.0</td>\n",
       "      <td>BULLISH ENGULFING</td>\n",
       "      <td>...</td>\n",
       "      <td>0.141893</td>\n",
       "      <td>1.0</td>\n",
       "      <td>0.460973</td>\n",
       "      <td>128</td>\n",
       "      <td>[1.20928, 1.19774]</td>\n",
       "      <td>1.883464</td>\n",
       "      <td>38</td>\n",
       "      <td>[1.19041, 1.19612]</td>\n",
       "      <td>[[1.20928, 1.19774, 2017-08-29 00:00:00, True]...</td>\n",
       "      <td>[[1.19041, 1.19612, 2017-11-27 00:00:00, False...</td>\n",
       "    </tr>\n",
       "    <tr>\n",
       "      <th>3</th>\n",
       "      <td>2018-01-05</td>\n",
       "      <td>1.20664</td>\n",
       "      <td>1.20834</td>\n",
       "      <td>1.20208</td>\n",
       "      <td>1.20297</td>\n",
       "      <td>36478</td>\n",
       "      <td>0.0</td>\n",
       "      <td></td>\n",
       "      <td>-3.0</td>\n",
       "      <td>BEARISH HARAMI</td>\n",
       "      <td>...</td>\n",
       "      <td>0.000000</td>\n",
       "      <td>1.0</td>\n",
       "      <td>0.076992</td>\n",
       "      <td>129</td>\n",
       "      <td>[1.20928, 1.19774]</td>\n",
       "      <td>1.383716</td>\n",
       "      <td>39</td>\n",
       "      <td>[1.19041, 1.19612]</td>\n",
       "      <td>[[1.20928, 1.19774, 2017-08-29 00:00:00, True]...</td>\n",
       "      <td>[[1.19041, 1.19612, 2017-11-27 00:00:00, False...</td>\n",
       "    </tr>\n",
       "    <tr>\n",
       "      <th>4</th>\n",
       "      <td>2018-01-08</td>\n",
       "      <td>1.20271</td>\n",
       "      <td>1.20522</td>\n",
       "      <td>1.19558</td>\n",
       "      <td>1.19687</td>\n",
       "      <td>27618</td>\n",
       "      <td>0.0</td>\n",
       "      <td></td>\n",
       "      <td>0.0</td>\n",
       "      <td></td>\n",
       "      <td>...</td>\n",
       "      <td>0.305409</td>\n",
       "      <td>0.0</td>\n",
       "      <td>1.458420</td>\n",
       "      <td>4</td>\n",
       "      <td>[1.2089, 1.20683]</td>\n",
       "      <td>0.478182</td>\n",
       "      <td>42</td>\n",
       "      <td>[1.19041, 1.19612]</td>\n",
       "      <td>[[1.2089, 1.20683, 2018-01-04 00:00:00, True],...</td>\n",
       "      <td>[[1.19041, 1.19612, 2017-11-27 00:00:00, False...</td>\n",
       "    </tr>\n",
       "  </tbody>\n",
       "</table>\n",
       "<p>5 rows × 42 columns</p>\n",
       "</div>"
      ],
      "text/plain": [
       "        date     open     high      low    close  volume  candle_1_level  \\\n",
       "0 2018-01-02  1.20071  1.20812  1.20019  1.20580   35630             0.0   \n",
       "1 2018-01-03  1.20590  1.20666  1.20010  1.20144   31354             0.0   \n",
       "2 2018-01-04  1.20144  1.20890  1.20042  1.20683   35187             0.0   \n",
       "3 2018-01-05  1.20664  1.20834  1.20208  1.20297   36478             0.0   \n",
       "4 2018-01-08  1.20271  1.20522  1.19558  1.19687   27618             0.0   \n",
       "\n",
       "  candle_1_pattern_name  candle_2_level candle_2_pattern_name  ...  \\\n",
       "0                                   0.0                        ...   \n",
       "1                                   0.0                        ...   \n",
       "2                                   1.0     BULLISH ENGULFING  ...   \n",
       "3                                  -3.0      BEARISH HARAMI    ...   \n",
       "4                                   0.0                        ...   \n",
       "\n",
       "   anomaly_wick_bull_signal level_level  level_nearest_resistance_atr_range  \\\n",
       "0                  0.173574         1.0                            0.328864   \n",
       "1                  0.000000         1.0                            0.300754   \n",
       "2                  0.141893         1.0                            0.460973   \n",
       "3                  0.000000         1.0                            0.076992   \n",
       "4                  0.305409         0.0                            1.458420   \n",
       "\n",
       "   level_nearest_resistance_duration  level_nearest_resistance_range  \\\n",
       "0                                126              [1.20928, 1.19774]   \n",
       "1                                127              [1.20928, 1.19774]   \n",
       "2                                128              [1.20928, 1.19774]   \n",
       "3                                129              [1.20928, 1.19774]   \n",
       "4                                  4               [1.2089, 1.20683]   \n",
       "\n",
       "   level_nearest_support_atr_range  level_nearest_support_duration  \\\n",
       "0                         1.800136                              36   \n",
       "1                         1.187762                              37   \n",
       "2                         1.883464                              38   \n",
       "3                         1.383716                              39   \n",
       "4                         0.478182                              42   \n",
       "\n",
       "   level_nearest_support_range  \\\n",
       "0           [1.19041, 1.19612]   \n",
       "1           [1.19041, 1.19612]   \n",
       "2           [1.19041, 1.19612]   \n",
       "3           [1.19041, 1.19612]   \n",
       "4           [1.19041, 1.19612]   \n",
       "\n",
       "                                    level_resistance  \\\n",
       "0  [[1.20928, 1.19774, 2017-08-29 00:00:00, True]...   \n",
       "1  [[1.20928, 1.19774, 2017-08-29 00:00:00, True]...   \n",
       "2  [[1.20928, 1.19774, 2017-08-29 00:00:00, True]...   \n",
       "3  [[1.20928, 1.19774, 2017-08-29 00:00:00, True]...   \n",
       "4  [[1.2089, 1.20683, 2018-01-04 00:00:00, True],...   \n",
       "\n",
       "                                       level_support  \n",
       "0  [[1.19041, 1.19612, 2017-11-27 00:00:00, False...  \n",
       "1  [[1.19041, 1.19612, 2017-11-27 00:00:00, False...  \n",
       "2  [[1.19041, 1.19612, 2017-11-27 00:00:00, False...  \n",
       "3  [[1.19041, 1.19612, 2017-11-27 00:00:00, False...  \n",
       "4  [[1.19041, 1.19612, 2017-11-27 00:00:00, False...  \n",
       "\n",
       "[5 rows x 42 columns]"
      ]
     },
     "execution_count": 15,
     "metadata": {},
     "output_type": "execute_result"
    }
   ],
   "source": [
    "df_all_ind.head()"
   ]
  },
  {
   "cell_type": "code",
   "execution_count": 16,
   "metadata": {},
   "outputs": [],
   "source": [
    "pd.options.display.max_columns = None"
   ]
  },
  {
   "cell_type": "code",
   "execution_count": 17,
   "metadata": {},
   "outputs": [],
   "source": [
    "def level_plot(df):\n",
    "    support_ls = [[ls[0],ls[1],datetime.datetime.strptime(ls[2],'%Y-%m-%d %H:%M:%S'),ls[3]] for ls in df.iloc[-1]['level_support']]\n",
    "    resistance_ls = [[ls[0],ls[1],datetime.datetime.strptime(ls[2],'%Y-%m-%d %H:%M:%S'),ls[3]] for ls in df.iloc[-1]['level_resistance']]\n",
    "    end_dt=df.index[-1]\n",
    "    res_plot_ls=[]\n",
    "    sup_plot_ls=[]\n",
    "    for res in resistance_ls[:5]:\n",
    "        res_plot_ls.append(dict(x0=res[2],x1=end_dt,y0=res[0],y1=res[1],yref='y1',opacity=.2,fillcolor='Red',line=dict(color=\"black\",width=1)))\n",
    "    for sup in support_ls[:5]:\n",
    "        sup_plot_ls.append(dict(x0=sup[2],x1=end_dt,y0=sup[0],y1=sup[1],yref='y1',opacity=.2,fillcolor='green',line=dict(color=\"black\",width=1)))\n",
    "    return (res_plot_ls+sup_plot_ls)"
   ]
  },
  {
   "cell_type": "code",
   "execution_count": 18,
   "metadata": {},
   "outputs": [],
   "source": [
    "# df.columns"
   ]
  },
  {
   "cell_type": "code",
   "execution_count": 19,
   "metadata": {},
   "outputs": [],
   "source": [
    "# candle1_plot_ls=[]\n",
    "# for i,row in df.tail(10).iterrows():\n",
    "#     if(row['candle_1_pattern_name']):\n",
    "# #         print(row['candle_1_pattern_name'])\n",
    "#         print(pd.to_datetime(i), (i+datetime.timedelta(days=1)))\n",
    "#         candle1_plot_ls.append(dict(x0=i,x1=(i+datetime.timedelta(days=2)),y0=row['high'],y1=row['low'],yref='y1',opacity=.2,fillcolor='blue',line=dict(color=\"black\",width=1)))"
   ]
  },
  {
   "cell_type": "code",
   "execution_count": 20,
   "metadata": {},
   "outputs": [],
   "source": [
    "df=df_all_ind.set_index('date')\n",
    "interested_feature='anomaly_vol_anomaly'"
   ]
  },
  {
   "cell_type": "code",
   "execution_count": 21,
   "metadata": {},
   "outputs": [],
   "source": [
    "df_candle_1=df[-10:]\n",
    "df_candle_1=df_candle_1[df_candle_1['candle_1_pattern_name']!='']\n",
    "df_candle_1['pattern']='1'\n",
    "\n",
    "df_candle_2=df[-10:]\n",
    "df_candle_2=df_candle_2[df_candle_2['candle_2_pattern_name']!='']\n",
    "df_candle_2['pattern']='2'\n",
    "\n",
    "df_candle_3=df[-10:]\n",
    "df_candle_3=df_candle_3[df_candle_3['candle_3_pattern_name']!='']\n",
    "df_candle_3['pattern']='3'"
   ]
  },
  {
   "cell_type": "code",
   "execution_count": 22,
   "metadata": {},
   "outputs": [],
   "source": [
    "# Plotting\n",
    "data = [ dict(\n",
    "    type = 'candlestick',\n",
    "    open = df.open,\n",
    "    high = df.high,\n",
    "    low = df.low,\n",
    "    close = df.close,\n",
    "    x = df.index,\n",
    "    yaxis = 'y1',\n",
    "    name = 'price'\n",
    ")]\n",
    "\n",
    "\n",
    "data.append( dict( x=df.index, y=df.volume,                         \n",
    "                         marker=dict( color='blue' ),\n",
    "                         type='bar', yaxis='y2', name='Volume'))\n",
    "\n",
    "data.append( dict( x=df.index, y=df[interested_feature],                         \n",
    "                         marker=dict( color='red' ),\n",
    "                         type='scatter', yaxis='y3', name=interested_feature))\n",
    "\n",
    "data.append( dict( x=df_candle_1.index, y=df_candle_1['high'],\n",
    "                         text=df_candle_1['pattern'],\n",
    "                         mode=\"markers+text\",textfont_size=15,textposition=\"top center\",\n",
    "                         marker=dict( color='blue' ),\n",
    "                         type='scatter', yaxis='y1', name='candle_patter_1'))\n",
    "\n",
    "data.append( dict( x=df_candle_2.index, y=df_candle_2['high'],\n",
    "                         text=df_candle_2['pattern'],\n",
    "                         mode=\"markers+text\",textfont_size=15,textposition=\"top center\",\n",
    "                         marker=dict( color='red' ),\n",
    "                         type='scatter', yaxis='y1', name='candle_patter_2'))\n",
    "\n",
    "\n",
    "data.append( dict( x=df_candle_3.index, y=df_candle_3['high'],\n",
    "                         text=df_candle_3['pattern'],\n",
    "                         mode=\"markers+text\",textfont_size=15,textposition=\"top center\",\n",
    "                         marker=dict( color='red' ),\n",
    "                         type='scatter', yaxis='y1', name='candle_patter_3'))\n",
    "\n",
    "\n",
    "layout=dict()    \n",
    "layout['xaxis'] = dict( rangeslider = dict( visible = False ),autorange=True,fixedrange=False,visible=False,type='category')#type='category',\n",
    "layout['yaxis'] = dict( domain = [0.2, 1],autorange = True,fixedrange=False)\n",
    "layout['yaxis2'] = dict( domain = [0.0, 0.1],autorange = True,fixedrange=False)\n",
    "layout['yaxis3'] = dict( domain = [0.1, 0.2],autorange = True,fixedrange=False)\n",
    "# layout['shapes'] = [dict(x0=start_dt, x1=end_dt, y0=3057.9, y1=3060.85, yref='y1',opacity=.2,line=dict(color=\"Red\",width=1))]#fillcolor='green',line_width=2\n",
    "layout['shapes'] = level_plot(df)\n",
    "# layout['shapes'] = candle1_plot_ls\n",
    "\n",
    "# df.to_csv(\"stock_price_indicator.csv\",index=True)\n",
    "\n",
    "fig = dict( data=data, layout=layout )"
   ]
  },
  {
   "cell_type": "code",
   "execution_count": 23,
   "metadata": {},
   "outputs": [],
   "source": [
    "figure=go.FigureWidget(data=data, layout=layout)"
   ]
  },
  {
   "cell_type": "code",
   "execution_count": 24,
   "metadata": {},
   "outputs": [],
   "source": [
    "def zoom(layout, x_range):\n",
    "    print(x_range)\n",
    "    in_view = df.iloc[int(figure.layout.xaxis.range[0]):int(figure.layout.xaxis.range[1])]\n",
    "    figure.layout.yaxis2.range = [in_view.volume.min(), in_view.volume.max()]\n",
    "    figure.layout.yaxis3.range = [in_view[interested_feature].min(), in_view[interested_feature].max()]"
   ]
  },
  {
   "cell_type": "code",
   "execution_count": 25,
   "metadata": {},
   "outputs": [],
   "source": [
    "figure.layout.on_change(zoom, 'xaxis.range')"
   ]
  },
  {
   "cell_type": "code",
   "execution_count": 26,
   "metadata": {},
   "outputs": [
    {
     "data": {
      "application/vnd.jupyter.widget-view+json": {
       "model_id": "d9d7cd11973541db8724bc05933d4c7a",
       "version_major": 2,
       "version_minor": 0
      },
      "text/plain": [
       "FigureWidget({\n",
       "    'data': [{'close': array([1.2058 , 1.20144, 1.20683, ..., 1.17847, 1.18142, 1.18426]),\n",
       "    …"
      ]
     },
     "metadata": {},
     "output_type": "display_data"
    }
   ],
   "source": [
    "figure.update_layout(margin=dict(l=20, r=10),paper_bgcolor=\"LightSteelBlue\",width=2200, height=1000)"
   ]
  },
  {
   "cell_type": "code",
   "execution_count": null,
   "metadata": {},
   "outputs": [],
   "source": []
  },
  {
   "cell_type": "code",
   "execution_count": null,
   "metadata": {},
   "outputs": [],
   "source": []
  }
 ],
 "metadata": {
  "kernelspec": {
   "display_name": "Python 3",
   "language": "python",
   "name": "python3"
  },
  "language_info": {
   "codemirror_mode": {
    "name": "ipython",
    "version": 3
   },
   "file_extension": ".py",
   "mimetype": "text/x-python",
   "name": "python",
   "nbconvert_exporter": "python",
   "pygments_lexer": "ipython3",
   "version": "3.7.6"
  }
 },
 "nbformat": 4,
 "nbformat_minor": 4
}
