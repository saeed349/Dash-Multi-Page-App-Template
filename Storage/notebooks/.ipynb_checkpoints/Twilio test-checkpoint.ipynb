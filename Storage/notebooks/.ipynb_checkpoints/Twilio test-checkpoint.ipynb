{
 "cells": [
  {
   "cell_type": "code",
   "execution_count": 5,
   "metadata": {},
   "outputs": [],
   "source": [
    "import boto3\n",
    "import pandas as pd\n",
    "import io\n",
    "import datetime\n",
    "import psycopg2\n",
    "from io import StringIO, BytesIO \n",
    "from twilio.rest import Client\n",
    "\n",
    "import q_credentials.db_secmaster_cred as db_secmaster_cred\n",
    "import q_credentials.db_indicator_cred as db_indicator_cred\n",
    "conn_indicator = psycopg2.connect(host=db_indicator_cred.dbHost , database=db_indicator_cred.dbName, user=db_indicator_cred.dbUser, password=db_indicator_cred.dbPWD)\n",
    "conn_secmaster = psycopg2.connect(host=db_secmaster_cred.dbHost , database=db_secmaster_cred.dbName, user=db_secmaster_cred.dbUser, password=db_secmaster_cred.dbPWD)"
   ]
  },
  {
   "cell_type": "code",
   "execution_count": 10,
   "metadata": {},
   "outputs": [],
   "source": [
    "account_sid = 'AC212a9d358d91860c6ad2d96d892ba62f' # Found on Twilio Console Dashboard\n",
    "auth_token = '3679727df6a1cefb275c11382c94fb0f' # Found on Twilio Console Dashboard\n",
    "myPhone = '+15512083809'\n",
    "TwilioNumber = '+12058467764' \n",
    "client = Client(account_sid, auth_token)\n",
    "\n",
    "def twilio_msg(msg):\n",
    "    client.messages.create(to=myPhone,from_=TwilioNumber, body=msg)\n",
    "\n",
    "# test msg\n",
    "# msg='I sent a text message from Python! ' + u'\\U0001f680'\n",
    "# twilio_msg(msg)"
   ]
  },
  {
   "cell_type": "code",
   "execution_count": 14,
   "metadata": {},
   "outputs": [
    {
     "data": {
      "text/html": [
       "<div>\n",
       "<style scoped>\n",
       "    .dataframe tbody tr th:only-of-type {\n",
       "        vertical-align: middle;\n",
       "    }\n",
       "\n",
       "    .dataframe tbody tr th {\n",
       "        vertical-align: top;\n",
       "    }\n",
       "\n",
       "    .dataframe thead th {\n",
       "        text-align: right;\n",
       "    }\n",
       "</style>\n",
       "<table border=\"1\" class=\"dataframe\">\n",
       "  <thead>\n",
       "    <tr style=\"text-align: right;\">\n",
       "      <th></th>\n",
       "      <th>Ticker</th>\n",
       "      <th>Time</th>\n",
       "      <th>Hypothesis</th>\n",
       "      <th>Type</th>\n",
       "      <th>Pattern</th>\n",
       "      <th>Frequency</th>\n",
       "      <th>Price</th>\n",
       "      <th>Trigger Message</th>\n",
       "      <th>Sent</th>\n",
       "    </tr>\n",
       "  </thead>\n",
       "  <tbody>\n",
       "    <tr>\n",
       "      <th>0</th>\n",
       "      <td>EUR_USD</td>\n",
       "      <td>6/14/2020 16:33</td>\n",
       "      <td>NaN</td>\n",
       "      <td>Candle</td>\n",
       "      <td>Bear</td>\n",
       "      <td>m60,m240</td>\n",
       "      <td>NaN</td>\n",
       "      <td>Hello</td>\n",
       "      <td>True</td>\n",
       "    </tr>\n",
       "    <tr>\n",
       "      <th>1</th>\n",
       "      <td>GBP_USD</td>\n",
       "      <td>6/14/2020 16:33</td>\n",
       "      <td>NaN</td>\n",
       "      <td>Price</td>\n",
       "      <td>NaN</td>\n",
       "      <td>NaN</td>\n",
       "      <td>0.5</td>\n",
       "      <td>Hello</td>\n",
       "      <td>True</td>\n",
       "    </tr>\n",
       "  </tbody>\n",
       "</table>\n",
       "</div>"
      ],
      "text/plain": [
       "    Ticker             Time  Hypothesis    Type Pattern Frequency  Price  \\\n",
       "0  EUR_USD  6/14/2020 16:33         NaN  Candle    Bear  m60,m240    NaN   \n",
       "1  GBP_USD  6/14/2020 16:33         NaN   Price     NaN       NaN    0.5   \n",
       "\n",
       "  Trigger Message  Sent  \n",
       "0           Hello  True  \n",
       "1           Hello  True  "
      ]
     },
     "execution_count": 14,
     "metadata": {},
     "output_type": "execute_result"
    }
   ],
   "source": [
    "s3 = boto3.client('s3', endpoint_url=\"http://minio-image:9000\",aws_access_key_id=\"minio-image\",aws_secret_access_key=\"minio-image-pass\")\n",
    "Bucket=\"airflow-files\"\n",
    "Key=\"sms-alerts.csv\"\n",
    "read_file = s3.get_object(Bucket=Bucket, Key=Key)\n",
    "df = pd.read_csv(read_file['Body'],sep=',')\n",
    "df"
   ]
  },
  {
   "cell_type": "code",
   "execution_count": 12,
   "metadata": {},
   "outputs": [],
   "source": [
    "for i,row in df[df['Sent']!=True].iterrows(): # only take the one where sent is not true\n",
    "    if row['Type']=='Price':\n",
    "        sql=\"select d.date_price as date, open_price as open, high_price as high, low_price as low , close_price as close,volume from %s d join symbol s on d.stock_id = s.id where s.ticker='%s' and d.date_price > '%s' order by date desc limit 1\" %('minute_data', row['Ticker'], row['Time'])\n",
    "        df_price=pd.read_sql(sql,con=conn_secmaster)\n",
    "        if row['Price']<=df_price['low'][0]:\n",
    "            result= row['Ticker'] + \" has reached your price target of \"+ str(row['Price'])\n",
    "            twilio_msg(result)\n",
    "            df.loc[i,'Sent']=True\n",
    "    elif row['Type']=='Candle':\n",
    "        result=\"\"\n",
    "        for t in row['Frequency'].split(\",\"):\n",
    "            for ind in ['candle_1','candle_2','candle_3']:\n",
    "                sql=\"select d.date_price as date, d.value from %s d join symbol s on d.symbol_id = s.id join indicator i on i.id=d.indicator_id where s.ticker='%s' and i.name = '%s' and d.date_price > '%s' order by date desc limit 1\" %((t+'_data'),row['Ticker'], ind, row['Time'])\n",
    "                df_ind=pd.read_sql(sql,con=conn_indicator)\n",
    "                if df_ind['value'][0]['level']!=0:\n",
    "                    result+= \"\\n\" + (row[\"Ticker\"]+\"-\"+t+\"-Pattern=\"+df_ind['value'][0]['pattern_name'])\n",
    "                    df.loc[i,'Sent']=True\n",
    "        if result:\n",
    "            twilio_msg(result)"
   ]
  },
  {
   "cell_type": "code",
   "execution_count": 13,
   "metadata": {},
   "outputs": [
    {
     "data": {
      "text/plain": [
       "{'ResponseMetadata': {'RequestId': '161A4E4C913CBEB8',\n",
       "  'HostId': '',\n",
       "  'HTTPStatusCode': 200,\n",
       "  'HTTPHeaders': {'accept-ranges': 'bytes',\n",
       "   'content-length': '0',\n",
       "   'content-security-policy': 'block-all-mixed-content',\n",
       "   'etag': '\"d836560e6836aca2de1f0af268b2ed58\"',\n",
       "   'server': 'MinIO/RELEASE.2020-06-14T18-32-17Z',\n",
       "   'vary': 'Origin',\n",
       "   'x-amz-request-id': '161A4E4C913CBEB8',\n",
       "   'x-xss-protection': '1; mode=block',\n",
       "   'date': 'Sat, 20 Jun 2020 16:45:09 GMT'},\n",
       "  'RetryAttempts': 0},\n",
       " 'ETag': '\"d836560e6836aca2de1f0af268b2ed58\"'}"
      ]
     },
     "execution_count": 13,
     "metadata": {},
     "output_type": "execute_result"
    }
   ],
   "source": [
    "csv_buffer = StringIO()\n",
    "df.to_csv(csv_buffer,index=False)\n",
    "s3.put_object(Bucket=Bucket, Key=Key,Body=csv_buffer.getvalue())"
   ]
  },
  {
   "cell_type": "code",
   "execution_count": null,
   "metadata": {},
   "outputs": [],
   "source": []
  }
 ],
 "metadata": {
  "kernelspec": {
   "display_name": "Python 3",
   "language": "python",
   "name": "python3"
  },
  "language_info": {
   "codemirror_mode": {
    "name": "ipython",
    "version": 3
   },
   "file_extension": ".py",
   "mimetype": "text/x-python",
   "name": "python",
   "nbconvert_exporter": "python",
   "pygments_lexer": "ipython3",
   "version": "3.7.6"
  }
 },
 "nbformat": 4,
 "nbformat_minor": 4
}
