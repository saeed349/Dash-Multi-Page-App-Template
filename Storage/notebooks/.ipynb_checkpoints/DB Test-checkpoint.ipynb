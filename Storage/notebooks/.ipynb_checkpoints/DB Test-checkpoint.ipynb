{
 "cells": [
  {
   "cell_type": "code",
   "execution_count": 1,
   "metadata": {},
   "outputs": [],
   "source": [
    "import psycopg2\n",
    "import pandas as pd\n",
    "from plotly.offline import init_notebook_mode, iplot\n",
    "from plotly.offline import plot \n",
    "import plotly.graph_objects as go\n",
    "import warnings\n",
    "warnings.filterwarnings('ignore')\n",
    "\n",
    "# import q_credentials.db_secmaster_cloud_cred as db_secmaster_cred\n",
    "import q_credentials.db_secmaster_cred as db_secmaster_cred\n",
    "import q_credentials.db_indicator_cred as db_indicator_cred"
   ]
  },
  {
   "cell_type": "code",
   "execution_count": 2,
   "metadata": {},
   "outputs": [],
   "source": [
    "# connect to our securities_master database\n",
    "conn_secmaster = psycopg2.connect(host=db_secmaster_cred.dbHost , database=db_secmaster_cred.dbName, user=db_secmaster_cred.dbUser, password=db_secmaster_cred.dbPWD)"
   ]
  },
  {
   "cell_type": "code",
   "execution_count": 3,
   "metadata": {},
   "outputs": [],
   "source": [
    "conn_indicator = psycopg2.connect(host=db_indicator_cred.dbHost , database=db_indicator_cred.dbName, user=db_indicator_cred.dbUser, password=db_indicator_cred.dbPWD)"
   ]
  },
  {
   "cell_type": "code",
   "execution_count": 4,
   "metadata": {},
   "outputs": [],
   "source": [
    "sql=\"\"\"SELECT s.ticker, max(d.stock_id), max(d.date_price)\n",
    "FROM public.symbol s inner join daily_data d on s.id= d.stock_id\n",
    "group by s.ticker\"\"\"\n",
    "df_ticker_last_day=pd.read_sql(sql,con=conn_secmaster)"
   ]
  },
  {
   "cell_type": "code",
   "execution_count": 5,
   "metadata": {},
   "outputs": [
    {
     "data": {
      "text/html": [
       "<div>\n",
       "<style scoped>\n",
       "    .dataframe tbody tr th:only-of-type {\n",
       "        vertical-align: middle;\n",
       "    }\n",
       "\n",
       "    .dataframe tbody tr th {\n",
       "        vertical-align: top;\n",
       "    }\n",
       "\n",
       "    .dataframe thead th {\n",
       "        text-align: right;\n",
       "    }\n",
       "</style>\n",
       "<table border=\"1\" class=\"dataframe\">\n",
       "  <thead>\n",
       "    <tr style=\"text-align: right;\">\n",
       "      <th></th>\n",
       "      <th>ticker</th>\n",
       "      <th>max</th>\n",
       "      <th>max</th>\n",
       "    </tr>\n",
       "  </thead>\n",
       "  <tbody>\n",
       "    <tr>\n",
       "      <th>0</th>\n",
       "      <td>BOM500087</td>\n",
       "      <td>425</td>\n",
       "      <td>2020-03-27</td>\n",
       "    </tr>\n",
       "    <tr>\n",
       "      <th>1</th>\n",
       "      <td>BOM500010</td>\n",
       "      <td>423</td>\n",
       "      <td>2020-03-27</td>\n",
       "    </tr>\n",
       "    <tr>\n",
       "      <th>2</th>\n",
       "      <td>BOM500034</td>\n",
       "      <td>424</td>\n",
       "      <td>2020-03-27</td>\n",
       "    </tr>\n",
       "  </tbody>\n",
       "</table>\n",
       "</div>"
      ],
      "text/plain": [
       "      ticker  max        max\n",
       "0  BOM500087  425 2020-03-27\n",
       "1  BOM500010  423 2020-03-27\n",
       "2  BOM500034  424 2020-03-27"
      ]
     },
     "execution_count": 5,
     "metadata": {},
     "output_type": "execute_result"
    }
   ],
   "source": [
    "df_ticker_last_day"
   ]
  },
  {
   "cell_type": "code",
   "execution_count": 6,
   "metadata": {},
   "outputs": [],
   "source": [
    "sql=\"\"\"select date_price as date, open_price as open, high_price as high, low_price as low , close_price as close,volume from daily_data where stock_id=71\"\"\"\n",
    "df_stock=pd.read_sql(sql,con=conn_secmaster)"
   ]
  },
  {
   "cell_type": "code",
   "execution_count": 7,
   "metadata": {},
   "outputs": [],
   "source": [
    "import datetime"
   ]
  },
  {
   "cell_type": "code",
   "execution_count": 8,
   "metadata": {},
   "outputs": [
    {
     "data": {
      "text/plain": [
       "['candle_1', 'candle_2', 'candle_3', 'level', 'anomaly']"
      ]
     },
     "execution_count": 8,
     "metadata": {},
     "output_type": "execute_result"
    }
   ],
   "source": [
    "sql=\"select * from indicator\"\n",
    "ind_list=list(pd.read_sql(sql,con=conn_indicator)['name'])\n",
    "ind_list"
   ]
  },
  {
   "cell_type": "code",
   "execution_count": 9,
   "metadata": {},
   "outputs": [],
   "source": [
    "symbol_id='BOM500034'\n",
    "start_date=datetime.datetime(2018,1,1).strftime(\"%Y-%m-%d\")\n",
    "indicator_name = 'candle_1'"
   ]
  },
  {
   "cell_type": "code",
   "execution_count": 10,
   "metadata": {},
   "outputs": [],
   "source": [
    "sql=\"select d.date_price as date, open_price as open, high_price as high, low_price as low , close_price as close,volume from daily_data d join symbol s on d.stock_id = s.id where s.ticker='%s' and d.date_price > '%s'\" %(symbol_id, start_date)\n",
    "df_price=pd.read_sql(sql,con=conn_secmaster)"
   ]
  },
  {
   "cell_type": "code",
   "execution_count": 11,
   "metadata": {},
   "outputs": [],
   "source": [
    "sql=\"select d.date_price as date, d.value from daily_data d join symbol s on d.symbol_id = s.id join indicator i on i.id=d.indicator_id where s.ticker='%s' and i.name = '%s' and d.date_price > '%s'\" %(symbol_id, indicator_name, start_date)\n",
    "df_indicator=pd.read_sql(sql,con=conn_indicator)"
   ]
  },
  {
   "cell_type": "code",
   "execution_count": 12,
   "metadata": {},
   "outputs": [],
   "source": [
    "df_indicator.set_index('date',inplace=True)"
   ]
  },
  {
   "cell_type": "code",
   "execution_count": 13,
   "metadata": {},
   "outputs": [
    {
     "name": "stdout",
     "output_type": "stream",
     "text": [
      "candle_1\n",
      "candle_2\n",
      "candle_3\n",
      "level\n",
      "anomaly\n"
     ]
    }
   ],
   "source": [
    "df_all_ind=pd.DataFrame()\n",
    "for ind in ind_list:\n",
    "    print(ind)\n",
    "    sql=\"select d.date_price as date, d.value from daily_data d join symbol s on d.symbol_id = s.id join indicator i on i.id=d.indicator_id where s.ticker='%s' and i.name = '%s' and d.date_price > '%s'\" %(symbol_id, ind, start_date)\n",
    "    df_indicator=pd.read_sql(sql,con=conn_indicator)\n",
    "    df_indicator.set_index('date',inplace=True)\n",
    "    df_indicator=pd.concat([df_indicator.drop(['value'], axis=1), df_indicator['value'].apply(pd.Series)], axis=1)\n",
    "    df_indicator.columns=[ind+\"_\"+col for col in df_indicator.columns]\n",
    "    if df_all_ind.empty:\n",
    "        df_all_ind=pd.merge(left=df_price, right=df_indicator,on='date')\n",
    "    else:\n",
    "        df_all_ind=pd.merge(left=df_all_ind, right=df_indicator,on='date')"
   ]
  },
  {
   "cell_type": "code",
   "execution_count": 114,
   "metadata": {},
   "outputs": [],
   "source": [
    "def level_plot(df):\n",
    "    support_ls = [[ls[0],ls[1],datetime.datetime.strptime(ls[2],'%Y-%m-%d %H:%M:%S'),ls[3]] for ls in df.iloc[-1]['level_support']]\n",
    "    resistance_ls = [[ls[0],ls[1],datetime.datetime.strptime(ls[2],'%Y-%m-%d %H:%M:%S'),ls[3]] for ls in df.iloc[-1]['level_resistance']]\n",
    "    end_dt=df.index[-1]\n",
    "    res_plot_ls=[]\n",
    "    sup_plot_ls=[]\n",
    "    for res in resistance_ls:\n",
    "        res_plot_ls.append(dict(x0=res[2],x1=end_dt,y0=res[0],y1=res[1],yref='y1',opacity=.2,fillcolor='Red',line=dict(color=\"black\",width=1)))\n",
    "    for sup in support_ls[:5]:\n",
    "        sup_plot_ls.append(dict(x0=sup[2],x1=end_dt,y0=sup[0],y1=sup[1],yref='y1',opacity=.2,fillcolor='green',line=dict(color=\"black\",width=1)))\n",
    "    return (res_plot_ls+sup_plot_ls)"
   ]
  },
  {
   "cell_type": "code",
   "execution_count": 115,
   "metadata": {},
   "outputs": [],
   "source": [
    "df=df_all_ind.set_index('date')\n",
    "interested_feature='candle_1_level'"
   ]
  },
  {
   "cell_type": "code",
   "execution_count": 118,
   "metadata": {},
   "outputs": [],
   "source": [
    "# Plotting\n",
    "data = [ dict(\n",
    "    type = 'candlestick',\n",
    "    open = df.open,\n",
    "    high = df.high,\n",
    "    low = df.low,\n",
    "    close = df.close,\n",
    "    x = df.index,\n",
    "    yaxis = 'y1',\n",
    "    name = 'price'\n",
    ")]\n",
    "\n",
    "data.append( dict( x=df.index, y=df.volume,                         \n",
    "                         marker=dict( color='blue' ),\n",
    "                         type='bar', yaxis='y2', name='Volume'))\n",
    "\n",
    "data.append( dict( x=df.index, y=df[interested_feature],                         \n",
    "                         marker=dict( color='red' ),\n",
    "                         type='scatter', yaxis='y3', name=interested_feature))\n",
    "\n",
    "layout=dict()    \n",
    "layout['xaxis'] = dict( rangeslider = dict( visible = False ),autorange=True,fixedrange=False,visible=False,type='category')#type='category',\n",
    "layout['yaxis'] = dict( domain = [0.2, 1],autorange = True,fixedrange=False)\n",
    "layout['yaxis2'] = dict( domain = [0.0, 0.1],autorange = True,fixedrange=False)\n",
    "layout['yaxis3'] = dict( domain = [0.1, 0.2],autorange = True,fixedrange=False)\n",
    "# layout['shapes'] = [dict(x0=start_dt, x1=end_dt, y0=3057.9, y1=3060.85, yref='y1',opacity=.2,line=dict(color=\"Red\",width=1))]#fillcolor='green',line_width=2\n",
    "layout['shapes'] = level_plot(df)\n",
    "\n",
    "df.to_csv(\"stock_price_indicator.csv\",index=True)\n",
    "\n",
    "fig = dict( data=data, layout=layout )"
   ]
  },
  {
   "cell_type": "code",
   "execution_count": 119,
   "metadata": {},
   "outputs": [],
   "source": [
    "figure=go.FigureWidget(data=data, layout=layout)"
   ]
  },
  {
   "cell_type": "code",
   "execution_count": 120,
   "metadata": {},
   "outputs": [],
   "source": [
    "def zoom(layout, x_range):\n",
    "    print(x_range)\n",
    "    in_view = df.iloc[int(figure.layout.xaxis.range[0]):int(figure.layout.xaxis.range[1])]\n",
    "    figure.layout.yaxis2.range = [in_view.volume.min(), in_view.volume.max()]\n",
    "    figure.layout.yaxis3.range = [in_view[interested_feature].min(), in_view[interested_feature].max()]"
   ]
  },
  {
   "cell_type": "code",
   "execution_count": 121,
   "metadata": {},
   "outputs": [],
   "source": [
    "figure.layout.on_change(zoom, 'xaxis.range')"
   ]
  },
  {
   "cell_type": "code",
   "execution_count": 122,
   "metadata": {},
   "outputs": [
    {
     "data": {
      "application/vnd.jupyter.widget-view+json": {
       "model_id": "0f10dc74059d4bd4bd17c059a783a35b",
       "version_major": 2,
       "version_minor": 0
      },
      "text/plain": [
       "FigureWidget({\n",
       "    'data': [{'close': array([1722.1 , 1714.25, 1753.35, ..., 3080.55, 3091.4 , 3094.25]),\n",
       "    …"
      ]
     },
     "metadata": {},
     "output_type": "display_data"
    }
   ],
   "source": [
    "figure.update_layout(margin=dict(l=20, r=10),paper_bgcolor=\"LightSteelBlue\",width=2200, height=1000)"
   ]
  },
  {
   "cell_type": "code",
   "execution_count": null,
   "metadata": {},
   "outputs": [],
   "source": []
  },
  {
   "cell_type": "code",
   "execution_count": null,
   "metadata": {},
   "outputs": [],
   "source": []
  }
 ],
 "metadata": {
  "kernelspec": {
   "display_name": "Python 3",
   "language": "python",
   "name": "python3"
  },
  "language_info": {
   "codemirror_mode": {
    "name": "ipython",
    "version": 3
   },
   "file_extension": ".py",
   "mimetype": "text/x-python",
   "name": "python",
   "nbconvert_exporter": "python",
   "pygments_lexer": "ipython3",
   "version": "3.7.6"
  }
 },
 "nbformat": 4,
 "nbformat_minor": 4
}
