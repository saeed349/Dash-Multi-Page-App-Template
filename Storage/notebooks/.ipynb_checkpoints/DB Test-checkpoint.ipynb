{
 "cells": [
  {
   "cell_type": "code",
   "execution_count": 1,
   "metadata": {},
   "outputs": [],
   "source": [
    "import psycopg2\n",
    "import pandas as pd\n",
    "\n",
    "# import q_credentials.db_secmaster_cloud_cred as db_secmaster_cred\n",
    "import q_credentials.db_secmaster_cred as db_secmaster_cred"
   ]
  },
  {
   "cell_type": "code",
   "execution_count": 2,
   "metadata": {},
   "outputs": [],
   "source": [
    "db_host=db_secmaster_cred.dbHost \n",
    "db_user=db_secmaster_cred.dbUser\n",
    "db_password=db_secmaster_cred.dbPWD\n",
    "db_name=db_secmaster_cred.dbName\n",
    "\n",
    "# connect to our securities_master database\n",
    "conn = psycopg2.connect(host=db_host, database=db_name, user=db_user, password=db_password)"
   ]
  },
  {
   "cell_type": "code",
   "execution_count": 3,
   "metadata": {},
   "outputs": [],
   "source": [
    "sql=\"\"\"SELECT s.ticker, max(d.stock_id), max(d.date_price)\n",
    "FROM public.symbol s inner join daily_data d on s.id= d.stock_id\n",
    "group by s.ticker\"\"\"\n",
    "df_ticker_last_day=pd.read_sql(sql,con=conn)"
   ]
  },
  {
   "cell_type": "code",
   "execution_count": 4,
   "metadata": {},
   "outputs": [
    {
     "data": {
      "text/html": [
       "<div>\n",
       "<style scoped>\n",
       "    .dataframe tbody tr th:only-of-type {\n",
       "        vertical-align: middle;\n",
       "    }\n",
       "\n",
       "    .dataframe tbody tr th {\n",
       "        vertical-align: top;\n",
       "    }\n",
       "\n",
       "    .dataframe thead th {\n",
       "        text-align: right;\n",
       "    }\n",
       "</style>\n",
       "<table border=\"1\" class=\"dataframe\">\n",
       "  <thead>\n",
       "    <tr style=\"text-align: right;\">\n",
       "      <th></th>\n",
       "      <th>ticker</th>\n",
       "      <th>max</th>\n",
       "      <th>max</th>\n",
       "    </tr>\n",
       "  </thead>\n",
       "  <tbody>\n",
       "    <tr>\n",
       "      <th>0</th>\n",
       "      <td>BOM500087</td>\n",
       "      <td>91</td>\n",
       "      <td>2020-03-27</td>\n",
       "    </tr>\n",
       "    <tr>\n",
       "      <th>1</th>\n",
       "      <td>BOM500010</td>\n",
       "      <td>89</td>\n",
       "      <td>2020-03-27</td>\n",
       "    </tr>\n",
       "    <tr>\n",
       "      <th>2</th>\n",
       "      <td>BOM500034</td>\n",
       "      <td>90</td>\n",
       "      <td>2020-03-27</td>\n",
       "    </tr>\n",
       "  </tbody>\n",
       "</table>\n",
       "</div>"
      ],
      "text/plain": [
       "      ticker max        max\n",
       "0  BOM500087  91 2020-03-27\n",
       "1  BOM500010  89 2020-03-27\n",
       "2  BOM500034  90 2020-03-27"
      ]
     },
     "execution_count": 4,
     "metadata": {},
     "output_type": "execute_result"
    }
   ],
   "source": [
    "df_ticker_last_day"
   ]
  },
  {
   "cell_type": "code",
   "execution_count": 13,
   "metadata": {},
   "outputs": [],
   "source": [
    "sql=\"\"\"select date_price as date, open_price as open, high_price as high, low_price as low , close_price as close,volume from daily_data where stock_id=91\"\"\"\n",
    "df_stock=pd.read_sql(sql,con=conn)"
   ]
  },
  {
   "cell_type": "code",
   "execution_count": 14,
   "metadata": {},
   "outputs": [
    {
     "data": {
      "text/html": [
       "<div>\n",
       "<style scoped>\n",
       "    .dataframe tbody tr th:only-of-type {\n",
       "        vertical-align: middle;\n",
       "    }\n",
       "\n",
       "    .dataframe tbody tr th {\n",
       "        vertical-align: top;\n",
       "    }\n",
       "\n",
       "    .dataframe thead th {\n",
       "        text-align: right;\n",
       "    }\n",
       "</style>\n",
       "<table border=\"1\" class=\"dataframe\">\n",
       "  <thead>\n",
       "    <tr style=\"text-align: right;\">\n",
       "      <th></th>\n",
       "      <th>date</th>\n",
       "      <th>open</th>\n",
       "      <th>high</th>\n",
       "      <th>low</th>\n",
       "      <th>close</th>\n",
       "      <th>volume</th>\n",
       "    </tr>\n",
       "  </thead>\n",
       "  <tbody>\n",
       "    <tr>\n",
       "      <th>0</th>\n",
       "      <td>2015-12-31</td>\n",
       "      <td>652.85</td>\n",
       "      <td>654.90</td>\n",
       "      <td>648.00</td>\n",
       "      <td>649.50</td>\n",
       "      <td>43870064</td>\n",
       "    </tr>\n",
       "    <tr>\n",
       "      <th>1</th>\n",
       "      <td>2016-01-01</td>\n",
       "      <td>651.00</td>\n",
       "      <td>658.00</td>\n",
       "      <td>649.00</td>\n",
       "      <td>654.70</td>\n",
       "      <td>19142272</td>\n",
       "    </tr>\n",
       "    <tr>\n",
       "      <th>2</th>\n",
       "      <td>2016-01-04</td>\n",
       "      <td>654.70</td>\n",
       "      <td>654.70</td>\n",
       "      <td>638.40</td>\n",
       "      <td>645.55</td>\n",
       "      <td>45163394</td>\n",
       "    </tr>\n",
       "    <tr>\n",
       "      <th>3</th>\n",
       "      <td>2016-01-05</td>\n",
       "      <td>646.05</td>\n",
       "      <td>649.95</td>\n",
       "      <td>638.25</td>\n",
       "      <td>641.15</td>\n",
       "      <td>41002318</td>\n",
       "    </tr>\n",
       "    <tr>\n",
       "      <th>4</th>\n",
       "      <td>2016-01-06</td>\n",
       "      <td>641.00</td>\n",
       "      <td>657.60</td>\n",
       "      <td>638.00</td>\n",
       "      <td>652.40</td>\n",
       "      <td>47868915</td>\n",
       "    </tr>\n",
       "    <tr>\n",
       "      <th>...</th>\n",
       "      <td>...</td>\n",
       "      <td>...</td>\n",
       "      <td>...</td>\n",
       "      <td>...</td>\n",
       "      <td>...</td>\n",
       "      <td>...</td>\n",
       "    </tr>\n",
       "    <tr>\n",
       "      <th>1044</th>\n",
       "      <td>2020-03-23</td>\n",
       "      <td>385.00</td>\n",
       "      <td>432.00</td>\n",
       "      <td>371.65</td>\n",
       "      <td>377.60</td>\n",
       "      <td>68685029</td>\n",
       "    </tr>\n",
       "    <tr>\n",
       "      <th>1045</th>\n",
       "      <td>2020-03-24</td>\n",
       "      <td>389.70</td>\n",
       "      <td>409.75</td>\n",
       "      <td>372.60</td>\n",
       "      <td>377.65</td>\n",
       "      <td>69063324</td>\n",
       "    </tr>\n",
       "    <tr>\n",
       "      <th>1046</th>\n",
       "      <td>2020-03-25</td>\n",
       "      <td>378.00</td>\n",
       "      <td>394.70</td>\n",
       "      <td>374.20</td>\n",
       "      <td>376.70</td>\n",
       "      <td>58745446</td>\n",
       "    </tr>\n",
       "    <tr>\n",
       "      <th>1047</th>\n",
       "      <td>2020-03-26</td>\n",
       "      <td>384.50</td>\n",
       "      <td>394.10</td>\n",
       "      <td>381.10</td>\n",
       "      <td>386.65</td>\n",
       "      <td>50667703</td>\n",
       "    </tr>\n",
       "    <tr>\n",
       "      <th>1048</th>\n",
       "      <td>2020-03-27</td>\n",
       "      <td>397.70</td>\n",
       "      <td>410.65</td>\n",
       "      <td>391.35</td>\n",
       "      <td>408.45</td>\n",
       "      <td>85540488</td>\n",
       "    </tr>\n",
       "  </tbody>\n",
       "</table>\n",
       "<p>1049 rows × 6 columns</p>\n",
       "</div>"
      ],
      "text/plain": [
       "           date    open    high     low   close    volume\n",
       "0    2015-12-31  652.85  654.90  648.00  649.50  43870064\n",
       "1    2016-01-01  651.00  658.00  649.00  654.70  19142272\n",
       "2    2016-01-04  654.70  654.70  638.40  645.55  45163394\n",
       "3    2016-01-05  646.05  649.95  638.25  641.15  41002318\n",
       "4    2016-01-06  641.00  657.60  638.00  652.40  47868915\n",
       "...         ...     ...     ...     ...     ...       ...\n",
       "1044 2020-03-23  385.00  432.00  371.65  377.60  68685029\n",
       "1045 2020-03-24  389.70  409.75  372.60  377.65  69063324\n",
       "1046 2020-03-25  378.00  394.70  374.20  376.70  58745446\n",
       "1047 2020-03-26  384.50  394.10  381.10  386.65  50667703\n",
       "1048 2020-03-27  397.70  410.65  391.35  408.45  85540488\n",
       "\n",
       "[1049 rows x 6 columns]"
      ]
     },
     "execution_count": 14,
     "metadata": {},
     "output_type": "execute_result"
    }
   ],
   "source": [
    "df_stock"
   ]
  },
  {
   "cell_type": "code",
   "execution_count": 15,
   "metadata": {},
   "outputs": [
    {
     "data": {
      "text/plain": [
       "<matplotlib.axes._subplots.AxesSubplot at 0x230e287c748>"
      ]
     },
     "execution_count": 15,
     "metadata": {},
     "output_type": "execute_result"
    },
    {
     "data": {
      "image/png": "[encoded data removed]",
      "text/plain": [
       "<Figure size 432x288 with 1 Axes>"
      ]
     },
     "metadata": {
      "needs_background": "light"
     },
     "output_type": "display_data"
    }
   ],
   "source": [
    "df_stock[['open']].plot()"
   ]
  },
  {
   "cell_type": "code",
   "execution_count": 16,
   "metadata": {},
   "outputs": [],
   "source": [
    "df_stock.to_csv('stock_price.csv',index=False)"
   ]
  },
  {
   "cell_type": "code",
   "execution_count": 11,
   "metadata": {},
   "outputs": [],
   "source": [
    "# CREATE TABLE symbol (\n",
    "#                         id SERIAL PRIMARY KEY,\n",
    "#                         ticker TEXT NOT NULL,\n",
    "#                         instrument TEXT NOT NULL,\n",
    "#                         name TEXT NOT NULL,\n",
    "#                         currency VARCHAR(64) NULL,\n",
    "#                         created_date TIMESTAMP NOT NULL\n",
    "#                         )"
   ]
  },
  {
   "cell_type": "code",
   "execution_count": 13,
   "metadata": {},
   "outputs": [],
   "source": [
    "sql=\"\"\"select ticker, instrument, name, currency,created_date from symbol\"\"\"\n",
    "df_stock=pd.read_sql(sql,con=conn)"
   ]
  },
  {
   "cell_type": "code",
   "execution_count": 14,
   "metadata": {},
   "outputs": [
    {
     "data": {
      "text/html": [
       "<div>\n",
       "<style scoped>\n",
       "    .dataframe tbody tr th:only-of-type {\n",
       "        vertical-align: middle;\n",
       "    }\n",
       "\n",
       "    .dataframe tbody tr th {\n",
       "        vertical-align: top;\n",
       "    }\n",
       "\n",
       "    .dataframe thead th {\n",
       "        text-align: right;\n",
       "    }\n",
       "</style>\n",
       "<table border=\"1\" class=\"dataframe\">\n",
       "  <thead>\n",
       "    <tr style=\"text-align: right;\">\n",
       "      <th></th>\n",
       "      <th>ticker</th>\n",
       "      <th>instrument</th>\n",
       "      <th>name</th>\n",
       "      <th>currency</th>\n",
       "      <th>created_date</th>\n",
       "    </tr>\n",
       "  </thead>\n",
       "  <tbody>\n",
       "    <tr>\n",
       "      <th>0</th>\n",
       "      <td>BIB</td>\n",
       "      <td>us_equity</td>\n",
       "      <td>ProShares Trust ProShares Ultra Nasdaq Biotech...</td>\n",
       "      <td>USD</td>\n",
       "      <td>2020-03-14 14:34:15.343257</td>\n",
       "    </tr>\n",
       "    <tr>\n",
       "      <th>1</th>\n",
       "      <td>LSACU</td>\n",
       "      <td>us_equity</td>\n",
       "      <td>LifeSci Acquisition Corp. Unit 1 COM &amp; 1 WT</td>\n",
       "      <td>USD</td>\n",
       "      <td>2020-03-14 14:34:15.343257</td>\n",
       "    </tr>\n",
       "    <tr>\n",
       "      <th>2</th>\n",
       "      <td>DLHC</td>\n",
       "      <td>us_equity</td>\n",
       "      <td>DLH Holdings Corp.</td>\n",
       "      <td>USD</td>\n",
       "      <td>2020-03-14 14:34:15.343257</td>\n",
       "    </tr>\n",
       "    <tr>\n",
       "      <th>3</th>\n",
       "      <td>MNSB</td>\n",
       "      <td>us_equity</td>\n",
       "      <td>MainStreet Bancshares, Inc. Common Stock</td>\n",
       "      <td>USD</td>\n",
       "      <td>2020-03-14 14:34:15.343257</td>\n",
       "    </tr>\n",
       "    <tr>\n",
       "      <th>4</th>\n",
       "      <td>FTSL</td>\n",
       "      <td>us_equity</td>\n",
       "      <td>First Trust Exchange-Traded Fund IV First Trus...</td>\n",
       "      <td>USD</td>\n",
       "      <td>2020-03-14 14:34:15.343257</td>\n",
       "    </tr>\n",
       "  </tbody>\n",
       "</table>\n",
       "</div>"
      ],
      "text/plain": [
       "  ticker instrument                                               name  \\\n",
       "0    BIB  us_equity  ProShares Trust ProShares Ultra Nasdaq Biotech...   \n",
       "1  LSACU  us_equity        LifeSci Acquisition Corp. Unit 1 COM & 1 WT   \n",
       "2   DLHC  us_equity                                 DLH Holdings Corp.   \n",
       "3   MNSB  us_equity           MainStreet Bancshares, Inc. Common Stock   \n",
       "4   FTSL  us_equity  First Trust Exchange-Traded Fund IV First Trus...   \n",
       "\n",
       "  currency               created_date  \n",
       "0      USD 2020-03-14 14:34:15.343257  \n",
       "1      USD 2020-03-14 14:34:15.343257  \n",
       "2      USD 2020-03-14 14:34:15.343257  \n",
       "3      USD 2020-03-14 14:34:15.343257  \n",
       "4      USD 2020-03-14 14:34:15.343257  "
      ]
     },
     "execution_count": 14,
     "metadata": {},
     "output_type": "execute_result"
    }
   ],
   "source": [
    "df_stock.head()"
   ]
  },
  {
   "cell_type": "markdown",
   "metadata": {},
   "source": [
    "# Indicator"
   ]
  },
  {
   "cell_type": "code",
   "execution_count": 2,
   "metadata": {},
   "outputs": [],
   "source": [
    "import q_credentials.db_indicator_cred as db_indicator_cred"
   ]
  },
  {
   "cell_type": "code",
   "execution_count": 3,
   "metadata": {},
   "outputs": [],
   "source": [
    "db_host=db_indicator_cred.dbHost \n",
    "db_user=db_indicator_cred.dbUser\n",
    "db_password=db_indicator_cred.dbPWD\n",
    "db_name=db_indicator_cred.dbName\n",
    "\n",
    "# connect to our securities_master database\n",
    "conn = psycopg2.connect(host=db_host, database=db_name, user=db_user, password=db_password)"
   ]
  },
  {
   "cell_type": "code",
   "execution_count": 4,
   "metadata": {},
   "outputs": [],
   "source": [
    "sql=\"\"\"select * from daily_data\"\"\"\n",
    "df_ind=pd.read_sql(sql,con=conn)"
   ]
  },
  {
   "cell_type": "code",
   "execution_count": 15,
   "metadata": {},
   "outputs": [
    {
     "data": {
      "text/html": [
       "<div>\n",
       "<style scoped>\n",
       "    .dataframe tbody tr th:only-of-type {\n",
       "        vertical-align: middle;\n",
       "    }\n",
       "\n",
       "    .dataframe tbody tr th {\n",
       "        vertical-align: top;\n",
       "    }\n",
       "\n",
       "    .dataframe thead th {\n",
       "        text-align: right;\n",
       "    }\n",
       "</style>\n",
       "<table border=\"1\" class=\"dataframe\">\n",
       "  <thead>\n",
       "    <tr style=\"text-align: right;\">\n",
       "      <th></th>\n",
       "      <th>id</th>\n",
       "      <th>name</th>\n",
       "      <th>period</th>\n",
       "      <th>created_date</th>\n",
       "      <th>last_updated_date</th>\n",
       "    </tr>\n",
       "  </thead>\n",
       "  <tbody>\n",
       "    <tr>\n",
       "      <th>0</th>\n",
       "      <td>1</td>\n",
       "      <td>level</td>\n",
       "      <td>0</td>\n",
       "      <td>2020-03-26 16:26:01</td>\n",
       "      <td>2020-03-26 16:26:01</td>\n",
       "    </tr>\n",
       "  </tbody>\n",
       "</table>\n",
       "</div>"
      ],
      "text/plain": [
       "   id   name  period        created_date   last_updated_date\n",
       "0   1  level       0 2020-03-26 16:26:01 2020-03-26 16:26:01"
      ]
     },
     "execution_count": 15,
     "metadata": {},
     "output_type": "execute_result"
    }
   ],
   "source": [
    "sql=\"\"\"select * from indicator\"\"\"\n",
    "pd.read_sql(sql,con=conn)"
   ]
  },
  {
   "cell_type": "code",
   "execution_count": 6,
   "metadata": {},
   "outputs": [
    {
     "data": {
      "text/plain": [
       "'2015-07-07 00:00:00'"
      ]
     },
     "execution_count": 6,
     "metadata": {},
     "output_type": "execute_result"
    }
   ],
   "source": [
    "df_ind.iloc[0]['value']['resistance'][0][2]"
   ]
  },
  {
   "cell_type": "code",
   "execution_count": 13,
   "metadata": {},
   "outputs": [
    {
     "data": {
      "text/plain": [
       "626"
      ]
     },
     "execution_count": 13,
     "metadata": {},
     "output_type": "execute_result"
    }
   ],
   "source": [
    "len(df_ind)"
   ]
  },
  {
   "cell_type": "code",
   "execution_count": 7,
   "metadata": {},
   "outputs": [],
   "source": [
    "test=df_ind.merge(df_ind['value'].apply(pd.Series), left_index=True, right_index=True)\n",
    "# another way\n",
    "test=pd.concat([df_ind.drop(['value'], axis=1), df_ind['value'].apply(pd.Series)], axis=1)"
   ]
  },
  {
   "cell_type": "code",
   "execution_count": 8,
   "metadata": {},
   "outputs": [],
   "source": [
    "from datetime import datetime"
   ]
  },
  {
   "cell_type": "code",
   "execution_count": 9,
   "metadata": {},
   "outputs": [],
   "source": [
    "test_list=test['support'][200]"
   ]
  },
  {
   "cell_type": "code",
   "execution_count": 10,
   "metadata": {},
   "outputs": [
    {
     "data": {
      "text/plain": [
       "[[52.7, 54.68, '2016-02-18 00:00:00', False],\n",
       " [51.04, 52.13, '2016-02-22 00:00:00', True],\n",
       " [48.5, 50.6455, '2016-01-13 00:00:00', False],\n",
       " [44.47, 45.54, '2016-02-04 00:00:00', True]]"
      ]
     },
     "execution_count": 10,
     "metadata": {},
     "output_type": "execute_result"
    }
   ],
   "source": [
    "test_list"
   ]
  },
  {
   "cell_type": "code",
   "execution_count": 11,
   "metadata": {},
   "outputs": [
    {
     "data": {
      "text/plain": [
       "[[52.7, 54.68, datetime.datetime(2016, 2, 18, 0, 0), False],\n",
       " [51.04, 52.13, datetime.datetime(2016, 2, 22, 0, 0), True],\n",
       " [48.5, 50.6455, datetime.datetime(2016, 1, 13, 0, 0), False],\n",
       " [44.47, 45.54, datetime.datetime(2016, 2, 4, 0, 0), True]]"
      ]
     },
     "execution_count": 11,
     "metadata": {},
     "output_type": "execute_result"
    }
   ],
   "source": [
    "[[ls[0],ls[1],datetime.strptime(ls[2],'%Y-%m-%d %H:%M:%S'),ls[3]] for ls in test_list]"
   ]
  },
  {
   "cell_type": "code",
   "execution_count": null,
   "metadata": {},
   "outputs": [],
   "source": []
  }
 ],
 "metadata": {
  "kernelspec": {
   "display_name": "Python 3",
   "language": "python",
   "name": "python3"
  },
  "language_info": {
   "codemirror_mode": {
    "name": "ipython",
    "version": 3
   },
   "file_extension": ".py",
   "mimetype": "text/x-python",
   "name": "python",
   "nbconvert_exporter": "python",
   "pygments_lexer": "ipython3",
   "version": "3.7.5"
  }
 },
 "nbformat": 4,
 "nbformat_minor": 4
}
