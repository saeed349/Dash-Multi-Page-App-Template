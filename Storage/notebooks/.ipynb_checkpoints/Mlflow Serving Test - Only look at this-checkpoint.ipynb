{
 "cells": [
  {
   "cell_type": "code",
   "execution_count": 1,
   "metadata": {
    "scrolled": true
   },
   "outputs": [],
   "source": [
    "import mlflow\n",
    "mlflow.tracking.set_tracking_uri('http://ekholabs-mlflow:5500')"
   ]
  },
  {
   "cell_type": "code",
   "execution_count": null,
   "metadata": {},
   "outputs": [],
   "source": [
    "! python tutorial.py .35 .8"
   ]
  },
  {
   "cell_type": "code",
   "execution_count": 18,
   "metadata": {},
   "outputs": [
    {
     "name": "stderr",
     "output_type": "stream",
     "text": [
      "2019/09/23 04:23:19 INFO mlflow.projects: === Creating conda environment mlflow-e999157b78f16dc8fc605058fa1daec52ebf1842 ===\n",
      "2019/09/23 04:24:14 INFO mlflow.projects: === Created directory /tmp/tmpn9umxwh5 for downloading remote URIs passed to arguments of type 'path' ===\n",
      "2019/09/23 04:24:14 INFO mlflow.projects: === Running command 'source activate mlflow-e999157b78f16dc8fc605058fa1daec52ebf1842 1>&2 && python train.py 0.3 0.8' in run with ID 'a85ab97a393045afaea2b550a79686e8' === \n",
      "2019/09/23 04:24:16 INFO mlflow.projects: === Run (ID 'a85ab97a393045afaea2b550a79686e8') succeeded ===\n"
     ]
    },
    {
     "data": {
      "text/plain": [
       "<mlflow.projects.submitted_run.LocalSubmittedRun at 0x7f2ccb9f57f0>"
      ]
     },
     "execution_count": 18,
     "metadata": {},
     "output_type": "execute_result"
    }
   ],
   "source": [
    "mlflow.projects.run(\"/home/jovyan/work/sklearn_elasticnet_wine\",parameters={'alpha':0.3,'l1_ratio':0.8})"
   ]
  },
  {
   "cell_type": "markdown",
   "metadata": {},
   "source": [
    "### Then serve the model in the mlflow tracking container using \n",
    "docker exec ekholabs-mlflow /bin/sh -c \"mlflow models serve -m /ekholabs-mlflow/mlruns/0/a85ab97a393045afaea2b550a79686e8/artifacts/model --host=0.0.0.0 -p 2349\""
   ]
  },
  {
   "cell_type": "code",
   "execution_count": 1,
   "metadata": {},
   "outputs": [
    {
     "name": "stdout",
     "output_type": "stream",
     "text": [
      "[4.945446608985396]"
     ]
    }
   ],
   "source": [
    "! curl -X POST -H \"Content-Type:application/json; format=pandas-split\" --data '{\"columns\":[\"alcohol\", \"chlorides\", \"citric acid\", \"density\", \"fixed acidity\", \"free sulfur dioxide\", \"pH\", \"residual sugar\", \"sulphates\", \"total sulfur dioxide\", \"volatile acidity\"],\"data\":[[12.8, 2, 10, 0.98, 1, 45, 99, 1.2, 44, 75, 0.66]]}' http://ekholabs-mlflow:2349/invocations"
   ]
  },
  {
   "cell_type": "code",
   "execution_count": null,
   "metadata": {},
   "outputs": [],
   "source": []
  }
 ],
 "metadata": {
  "kernelspec": {
   "display_name": "Python 3",
   "language": "python",
   "name": "python3"
  },
  "language_info": {
   "codemirror_mode": {
    "name": "ipython",
    "version": 3
   },
   "file_extension": ".py",
   "mimetype": "text/x-python",
   "name": "python",
   "nbconvert_exporter": "python",
   "pygments_lexer": "ipython3",
   "version": "3.7.3"
  }
 },
 "nbformat": 4,
 "nbformat_minor": 2
}
