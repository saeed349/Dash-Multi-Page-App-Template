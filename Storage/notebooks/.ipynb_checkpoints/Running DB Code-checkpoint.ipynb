{
 "cells": [
  {
   "cell_type": "markdown",
   "metadata": {},
   "source": [
    "# Running the DB code"
   ]
  },
  {
   "cell_type": "code",
   "execution_count": 2,
   "metadata": {},
   "outputs": [],
   "source": [
    "# !.\\starter_script.bat"
   ]
  },
  {
   "cell_type": "code",
   "execution_count": 5,
   "metadata": {},
   "outputs": [
    {
     "name": "stdout",
     "output_type": "stream",
     "text": [
      "Traceback (most recent call last):\n",
      "  File \"q_pack/db_pack/oanda/oanda_symbol_loader.py\", line 66, in <module>\n",
      "    main()   \n",
      "  File \"q_pack/db_pack/oanda/oanda_symbol_loader.py\", line 50, in main\n",
      "    conn = psycopg2.connect(host=db_host, database=db_name, user=db_user, password=db_password)\n",
      "  File \"/opt/conda/lib/python3.7/site-packages/psycopg2/__init__.py\", line 127, in connect\n",
      "    conn = _connect(dsn, connection_factory=connection_factory, **kwasync)\n",
      "psycopg2.OperationalError: FATAL:  database \"securities_master\" does not exist\n",
      "\n"
     ]
    }
   ],
   "source": [
    "! python q_pack/db_pack/oanda/oanda_symbol_loader.py"
   ]
  },
  {
   "cell_type": "code",
   "execution_count": 115,
   "metadata": {},
   "outputs": [
    {
     "name": "stdout",
     "output_type": "stream",
     "text": [
      "0:00:00.000009\n",
      "            last_date  stock_id   ticker\n",
      "0 2020-06-19 03:39:00        22  EUR_USD\n",
      "1 2020-06-19 03:39:00        35  GBP_USD\n",
      "EUR_USD\n",
      "2020-06-19T03:39:00Z 2020-06-19T12:11:22Z\n",
      "[22]\n",
      "2020-06-19 03:39:00\n",
      "2020-06-19 12:11:00\n",
      "\n",
      "EUR_USD complete!\n",
      "GBP_USD\n",
      "2020-06-19T03:39:00Z 2020-06-19T12:11:22Z\n",
      "[35]\n",
      "2020-06-19 03:39:00\n",
      "2020-06-19 12:11:00\n",
      "\n",
      "GBP_USD complete!\n",
      "0:00:00.749846\n"
     ]
    }
   ],
   "source": [
    "! python q_pack/db_pack/oanda/oanda_minute.py --fromdate='2020-5-1'"
   ]
  },
  {
   "cell_type": "code",
   "execution_count": 10,
   "metadata": {},
   "outputs": [
    {
     "name": "stdout",
     "output_type": "stream",
     "text": [
      "0:00:00.000010\n",
      "select a.last_date, b.id as stock_id, b.ticker from\n",
      "            (select max(date_price) as last_date, stock_id\n",
      "            from daily_data \n",
      "            group by stock_id) a right join symbol b on a.stock_id = b.id \n",
      "            where b.ticker in ('GBP_USD', 'USD_JPY', 'EUR_USD') and b.data_vendor_id=1\n",
      "   last_date  stock_id   ticker\n",
      "0 2015-12-31         6  USD_JPY\n",
      "1 2015-12-31        22  EUR_USD\n",
      "2 2015-12-31        35  GBP_USD\n",
      "USD_JPY\n",
      "[6]\n",
      "2015-12-31\n",
      "2020-06-18\n",
      "\n",
      "USD_JPY complete!\n",
      "EUR_USD\n",
      "[22]\n",
      "2015-12-31\n",
      "2020-06-18\n",
      "\n",
      "EUR_USD complete!\n",
      "GBP_USD\n",
      "[35]\n",
      "2015-12-31\n",
      "2020-06-18\n",
      "\n",
      "GBP_USD complete!\n",
      "0:00:01.787688\n"
     ]
    }
   ],
   "source": [
    "! python q_pack/db_pack/oanda/oanda_daily.py"
   ]
  },
  {
   "cell_type": "code",
   "execution_count": 15,
   "metadata": {},
   "outputs": [],
   "source": [
    "# ! python q_pack/db_pack/alpaca/alpaca_symbol_loader.py"
   ]
  },
  {
   "cell_type": "code",
   "execution_count": 3,
   "metadata": {},
   "outputs": [],
   "source": [
    "# ! python q_pack/db_pack/alpaca/alpaca_daily.py"
   ]
  },
  {
   "cell_type": "code",
   "execution_count": 1,
   "metadata": {},
   "outputs": [
    {
     "name": "stdout",
     "output_type": "stream",
     "text": [
      "{'fromdate': datetime.datetime(2020, 1, 1, 0, 0), 'todate': datetime.datetime(2020, 5, 1, 0, 0)}\n",
      "using level indicator\n",
      "Strategy run finished with Run ID: None\n",
      "level is here\n",
      "Profit ... or Loss: 0.00\n",
      "CPU times: user 194 ms, sys: 65.8 ms, total: 259 ms\n",
      "Wall time: 11.4 s\n"
     ]
    }
   ],
   "source": [
    "%%time\n",
    "!python q_pack/q_run/run_BT.py --fromdate='2020-01-01' --todate='2020-05-01' --timeframe='1hour' --strat_param \"use_level=yes,use_db=yes,ml_serving=no\""
   ]
  },
  {
   "cell_type": "code",
   "execution_count": 131,
   "metadata": {},
   "outputs": [
    {
     "name": "stdout",
     "output_type": "stream",
     "text": [
      "{'fromdate': datetime.datetime(2020, 6, 16, 0, 0)}\n",
      "using level indicator\n",
      "EUR_USD --time: 2020-06-16 10:00:00 --Open: 1.13395  High: 1.13413  Low: 1.13221  Close: 1.13302\n",
      "EUR_USD --time: 2020-06-16 11:00:00 --Open: 1.133  High: 1.13318  Low: 1.13104  Close: 1.13154\n",
      "EUR_USD --time: 2020-06-16 12:00:00 --Open: 1.13155  High: 1.13199  Low: 1.12948  Close: 1.13007\n",
      "EUR_USD --time: 2020-06-16 13:00:00 --Open: 1.13006  High: 1.13192  Low: 1.12948  Close: 1.12973\n",
      "EUR_USD --time: 2020-06-16 14:00:00 --Open: 1.12974  High: 1.12997  Low: 1.12647  Close: 1.12654\n",
      "EUR_USD --time: 2020-06-16 15:00:00 --Open: 1.12652  High: 1.12748  Low: 1.12318  Close: 1.1232\n",
      "EUR_USD --time: 2020-06-16 16:00:00 --Open: 1.12318  High: 1.12643  Low: 1.12276  Close: 1.12599\n",
      "EUR_USD --time: 2020-06-16 17:00:00 --Open: 1.126  High: 1.12734  Low: 1.12548  Close: 1.12671\n",
      "EUR_USD --time: 2020-06-16 18:00:00 --Open: 1.12672  High: 1.12674  Low: 1.12581  Close: 1.1266\n",
      "EUR_USD --time: 2020-06-16 19:00:00 --Open: 1.12662  High: 1.12724  Low: 1.12598  Close: 1.1271\n",
      "EUR_USD --time: 2020-06-16 20:00:00 --Open: 1.12711  High: 1.1272  Low: 1.12567  Close: 1.12598\n",
      "EUR_USD --time: 2020-06-16 20:59:00 --Open: 1.126  High: 1.12639  Low: 1.12572  Close: 1.12632\n",
      "EUR_USD --time: 2020-06-16 22:00:00 --Open: 1.12636  High: 1.12645  Low: 1.12554  Close: 1.12614\n",
      "EUR_USD --time: 2020-06-16 23:00:00 --Open: 1.12612  High: 1.12622  Low: 1.12535  Close: 1.12594\n",
      "EUR_USD --time: 2020-06-17 00:00:00 --Open: 1.12596  High: 1.12664  Low: 1.12592  Close: 1.12642\n",
      "EUR_USD --time: 2020-06-17 01:00:00 --Open: 1.1264  High: 1.12732  Low: 1.12558  Close: 1.12702\n",
      "EUR_USD --time: 2020-06-17 02:00:00 --Open: 1.127  High: 1.1273  Low: 1.12605  Close: 1.12648\n",
      "EUR_USD --time: 2020-06-17 03:00:00 --Open: 1.12646  High: 1.12684  Low: 1.12548  Close: 1.12639\n",
      "EUR_USD --time: 2020-06-17 04:00:00 --Open: 1.12641  High: 1.1268  Low: 1.12616  Close: 1.12638\n",
      "EUR_USD --time: 2020-06-17 05:00:00 --Open: 1.1264  High: 1.12732  Low: 1.1264  Close: 1.12713\n",
      "EUR_USD --time: 2020-06-17 06:00:00 --Open: 1.12715  High: 1.12799  Low: 1.12698  Close: 1.12734\n",
      "EUR_USD --time: 2020-06-17 07:00:00 --Open: 1.12736  High: 1.12856  Low: 1.12736  Close: 1.12808\n",
      "EUR_USD --time: 2020-06-17 08:00:00 --Open: 1.12806  High: 1.12942  Low: 1.12654  Close: 1.1266\n",
      "EUR_USD --time: 2020-06-17 09:00:00 --Open: 1.12661  High: 1.12756  Low: 1.12511  Close: 1.12584\n",
      "EUR_USD --time: 2020-06-17 10:00:00 --Open: 1.12586  High: 1.12586  Low: 1.12246  Close: 1.12325\n",
      "EUR_USD --time: 2020-06-17 11:00:00 --Open: 1.12324  High: 1.12489  Low: 1.12292  Close: 1.12439\n",
      "EUR_USD --time: 2020-06-17 12:00:00 --Open: 1.12438  High: 1.12548  Low: 1.12274  Close: 1.1232\n",
      "EUR_USD --time: 2020-06-17 13:00:00 --Open: 1.12318  High: 1.12448  Low: 1.12232  Close: 1.1237\n",
      "EUR_USD --time: 2020-06-17 14:00:00 --Open: 1.1237  High: 1.12486  Low: 1.12144  Close: 1.12158\n",
      "EUR_USD --time: 2020-06-17 15:00:00 --Open: 1.12156  High: 1.12377  Low: 1.1207  Close: 1.12234\n",
      "EUR_USD --time: 2020-06-17 16:00:00 --Open: 1.12235  High: 1.1231  Low: 1.12092  Close: 1.12192\n",
      "EUR_USD --time: 2020-06-17 17:00:00 --Open: 1.12191  High: 1.1234  Low: 1.12158  Close: 1.12312\n",
      "EUR_USD --time: 2020-06-17 18:00:00 --Open: 1.12314  High: 1.12402  Low: 1.12314  Close: 1.12356\n",
      "EUR_USD --time: 2020-06-17 19:00:00 --Open: 1.12354  High: 1.12368  Low: 1.1229  Close: 1.12297\n",
      "EUR_USD --time: 2020-06-17 20:00:00 --Open: 1.12296  High: 1.12397  Low: 1.12289  Close: 1.12362\n",
      "EUR_USD --time: 2020-06-17 20:59:00 --Open: 1.12364  High: 1.1246  Low: 1.12349  Close: 1.12436\n",
      "EUR_USD --time: 2020-06-17 22:00:00 --Open: 1.12427  High: 1.12466  Low: 1.12422  Close: 1.12439\n",
      "EUR_USD --time: 2020-06-17 23:00:00 --Open: 1.12437  High: 1.12477  Low: 1.12421  Close: 1.1246\n",
      "EUR_USD --time: 2020-06-18 00:00:00 --Open: 1.12458  High: 1.12463  Low: 1.1238  Close: 1.12421\n",
      "EUR_USD --time: 2020-06-18 01:00:00 --Open: 1.12422  High: 1.125  Low: 1.12386  Close: 1.12421\n",
      "EUR_USD --time: 2020-06-18 02:00:00 --Open: 1.12422  High: 1.12499  Low: 1.12251  Close: 1.12334\n",
      "EUR_USD --time: 2020-06-18 03:00:00 --Open: 1.12335  High: 1.1241  Low: 1.12318  Close: 1.12405\n",
      "EUR_USD --time: 2020-06-18 04:00:00 --Open: 1.12406  High: 1.12518  Low: 1.12396  Close: 1.12494\n",
      "EUR_USD --time: 2020-06-18 05:00:00 --Open: 1.12496  High: 1.12612  Low: 1.12445  Close: 1.1256\n",
      "EUR_USD --time: 2020-06-18 06:00:00 --Open: 1.12562  High: 1.12597  Low: 1.12476  Close: 1.12488\n",
      "EUR_USD --time: 2020-06-18 07:00:00 --Open: 1.1249  High: 1.1259  Low: 1.12448  Close: 1.12561\n",
      "EUR_USD --time: 2020-06-18 08:00:00 --Open: 1.12562  High: 1.12578  Low: 1.12397  Close: 1.12397\n",
      "EUR_USD --time: 2020-06-18 09:00:00 --Open: 1.12398  High: 1.12601  Low: 1.12301  Close: 1.12486\n",
      "EUR_USD --time: 2020-06-18 10:00:00 --Open: 1.12485  High: 1.12615  Low: 1.12453  Close: 1.12492\n",
      "EUR_USD --time: 2020-06-18 11:00:00 --Open: 1.12494  High: 1.12565  Low: 1.12392  Close: 1.12546\n",
      "EUR_USD --time: 2020-06-18 12:00:00 --Open: 1.12547  High: 1.12586  Low: 1.123  Close: 1.1233\n",
      "EUR_USD --time: 2020-06-18 13:00:00 --Open: 1.1233  High: 1.12346  Low: 1.12144  Close: 1.12242\n",
      "EUR_USD --time: 2020-06-18 14:00:00 --Open: 1.12244  High: 1.1232  Low: 1.12111  Close: 1.12168\n",
      "EUR_USD --time: 2020-06-18 15:00:00 --Open: 1.12169  High: 1.12266  Low: 1.12027  Close: 1.122\n",
      "EUR_USD --time: 2020-06-18 16:00:00 --Open: 1.12201  High: 1.12327  Low: 1.12112  Close: 1.12174\n",
      "EUR_USD --time: 2020-06-18 17:00:00 --Open: 1.12173  High: 1.12174  Low: 1.11885  Close: 1.11899\n",
      "EUR_USD --time: 2020-06-18 18:00:00 --Open: 1.11898  High: 1.1205  Low: 1.11855  Close: 1.1204\n",
      "EUR_USD --time: 2020-06-18 19:00:00 --Open: 1.12038  High: 1.12089  Low: 1.11994  Close: 1.12068\n",
      "EUR_USD --time: 2020-06-18 20:00:00 --Open: 1.12066  High: 1.1213  Low: 1.12006  Close: 1.12006\n",
      "EUR_USD --time: 2020-06-18 20:59:00 --Open: 1.12005  High: 1.12102  Low: 1.11996  Close: 1.12049\n",
      "EUR_USD --time: 2020-06-18 22:00:00 --Open: 1.12049  High: 1.12071  Low: 1.12021  Close: 1.12068\n",
      "EUR_USD --time: 2020-06-18 23:00:00 --Open: 1.12066  High: 1.12098  Low: 1.12048  Close: 1.12094\n",
      "EUR_USD --time: 2020-06-19 00:00:00 --Open: 1.12096  High: 1.12135  Low: 1.12062  Close: 1.12062\n",
      "EUR_USD --time: 2020-06-19 01:00:00 --Open: 1.12063  High: 1.12065  Low: 1.11994  Close: 1.12045\n",
      "EUR_USD --time: 2020-06-19 02:00:00 --Open: 1.12044  High: 1.12106  Low: 1.11988  Close: 1.12051\n",
      "EUR_USD --time: 2020-06-19 03:00:00 --Open: 1.12052  High: 1.1211  Low: 1.12041  Close: 1.12088\n",
      "EUR_USD --time: 2020-06-19 04:00:00 --Open: 1.1209  High: 1.12148  Low: 1.12086  Close: 1.12134\n",
      "EUR_USD --time: 2020-06-19 05:00:00 --Open: 1.12132  High: 1.12164  Low: 1.12112  Close: 1.1213\n",
      "EUR_USD --time: 2020-06-19 06:00:00 --Open: 1.12132  High: 1.12171  Low: 1.12126  Close: 1.12157\n",
      "EUR_USD --time: 2020-06-19 07:00:00 --Open: 1.12155  High: 1.12219  Low: 1.12056  Close: 1.12161\n",
      "EUR_USD --time: 2020-06-19 08:00:00 --Open: 1.12162  High: 1.12186  Low: 1.1205  Close: 1.12112\n",
      "EUR_USD --time: 2020-06-19 09:00:00 --Open: 1.12113  High: 1.12196  Low: 1.12036  Close: 1.12166\n",
      "EUR_USD --time: 2020-06-19 10:00:00 --Open: 1.12164  High: 1.12186  Low: 1.121  Close: 1.12122\n",
      "EUR_USD --time: 2020-06-19 11:00:00 --Open: 1.12121  High: 1.12145  Low: 1.11944  Close: 1.12022\n",
      "EUR_USD --time: 2020-06-19 12:00:00 --Open: 1.1202  High: 1.12145  Low: 1.11954  Close: 1.1213\n",
      "EUR_USD --time: 2020-06-19 12:00:00 --Open: 1.12128  High: 1.12167  Low: 1.1212  Close: 1.12138\n",
      "Strategy run finished with Run ID: None\n",
      "level is here\n",
      "Profit ... or Loss: 0.00\n",
      "CPU times: user 175 ms, sys: 88.6 ms, total: 264 ms\n",
      "Wall time: 5.48 s\n"
     ]
    }
   ],
   "source": [
    "%%time\n",
    "!python q_pack/q_run/run_BT.py --fromdate='2020-06-16' --timeframe='1hour' --strat_param \"use_level=yes,use_db=yes,ml_serving=no\""
   ]
  },
  {
   "cell_type": "code",
   "execution_count": 1,
   "metadata": {},
   "outputs": [
    {
     "name": "stdout",
     "output_type": "stream",
     "text": [
      "{'fromdate': datetime.datetime(2020, 1, 1, 0, 0)}\n",
      "using level indicator\n",
      "/opt/conda/lib/python3.7/site-packages/numpy/core/fromnumeric.py:3335: RuntimeWarning: Mean of empty slice.\n",
      "  out=out, **kwargs)\n",
      "/opt/conda/lib/python3.7/site-packages/numpy/core/_methods.py:161: RuntimeWarning: invalid value encountered in double_scalars\n",
      "  ret = ret.dtype.type(ret / rcount)\n",
      "Strategy run finished with Run ID: None\n",
      "ML Log Saved in Minio Bucket: model-support-files as None_ml_log.csv\n",
      "level is here\n",
      "Profit ... or Loss: 0.00\n",
      "CPU times: user 47 ms, sys: 19.8 ms, total: 66.7 ms\n",
      "Wall time: 2.39 s\n"
     ]
    }
   ],
   "source": [
    "%%time\n",
    "!python q_pack/q_run/run_BT.py --fromdate='2020-01-01' --timeframe='daily'--strat_param \"use_level=yes,use_db=yes,ml_serving=no\""
   ]
  },
  {
   "cell_type": "code",
   "execution_count": 62,
   "metadata": {},
   "outputs": [
    {
     "data": {
      "text/plain": [
       "'2020-06-19'"
      ]
     },
     "execution_count": 62,
     "metadata": {},
     "output_type": "execute_result"
    }
   ],
   "source": [
    "import datetime\n",
    "str(datetime.datetime.now().date())"
   ]
  },
  {
   "cell_type": "code",
   "execution_count": 3,
   "metadata": {},
   "outputs": [
    {
     "name": "stdout",
     "output_type": "stream",
     "text": [
      "no indicator data for EUR_USD\n",
      "no indicator data for GBP_USD\n",
      "Strategy run finished with Run ID: None\n",
      "4 240 m240\n",
      "4 240 m240\n",
      "4 240 m240\n",
      "4 240 m240\n",
      "4 240 m240\n",
      "4 240 m240\n",
      "4 240 m240\n",
      "4 240 m240\n",
      "4 240 m240\n",
      "4 240 m240\n",
      "Profit ... or Loss: 0.00\n",
      "CPU times: user 2.86 s, sys: 1.3 s, total: 4.16 s\n",
      "Wall time: 1min 41s\n"
     ]
    }
   ],
   "source": [
    "%%time\n",
    "!python q_pack/q_run/run_BT.py --fromdate='2020-04-01' --todate='2020-05-01'"
   ]
  },
  {
   "cell_type": "code",
   "execution_count": 4,
   "metadata": {},
   "outputs": [
    {
     "data": {
      "text/plain": [
       "'no indicator data for MSFT\\nno indicator data for AAPL\\n0\\nStrategy run finished with Run ID: None\\ndone\\ndone\\ndone\\nlevel is here\\ndone\\ndone\\ndone\\ndone\\ndone\\nlevel is here\\ndone\\ndone\\nProfit ... or Loss: 0.00\\n'"
      ]
     },
     "execution_count": 4,
     "metadata": {},
     "output_type": "execute_result"
    }
   ],
   "source": [
    "import subprocess\n",
    "cmd_str=\"\"\"python q_pack/q_run/run_BT.py --todate='2020-03-31'\"\"\"\n",
    "process = subprocess.run(cmd_str, shell=True, check=True, stdout=subprocess.PIPE, universal_newlines=True)\n",
    "output = process.stdout\n",
    "\n",
    "output"
   ]
  },
  {
   "cell_type": "markdown",
   "metadata": {},
   "source": [
    "## Running the etl jobs via rest_api"
   ]
  },
  {
   "cell_type": "code",
   "execution_count": 6,
   "metadata": {},
   "outputs": [],
   "source": [
    "import requests"
   ]
  },
  {
   "cell_type": "code",
   "execution_count": 7,
   "metadata": {},
   "outputs": [
    {
     "name": "stdout",
     "output_type": "stream",
     "text": [
      "{\"Success\": \"Oanda Symbols Loaded\"}\n",
      "\n"
     ]
    }
   ],
   "source": [
    "url = \"http://etl-image:8060/load_symbols/oanda\"\n",
    "r = requests.get(url=url)\n",
    "print(r.text)"
   ]
  },
  {
   "cell_type": "code",
   "execution_count": 8,
   "metadata": {},
   "outputs": [
    {
     "name": "stdout",
     "output_type": "stream",
     "text": [
      "{\"Success\": \"Oanda Minute Data Loaded\"}\n",
      "\n"
     ]
    }
   ],
   "source": [
    "url = \"http://etl-image:8060/load_daily_data/oanda\"\n",
    "r = requests.get(url=url)\n",
    "print(r.text)"
   ]
  },
  {
   "cell_type": "code",
   "execution_count": 9,
   "metadata": {},
   "outputs": [
    {
     "name": "stdout",
     "output_type": "stream",
     "text": [
      "<!DOCTYPE HTML PUBLIC \"-//W3C//DTD HTML 3.2 Final//EN\">\n",
      "<title>404 Not Found</title>\n",
      "<h1>Not Found</h1>\n",
      "<p>The requested URL was not found on the server. If you entered the URL manually please check your spelling and try again.</p>\n",
      "\n"
     ]
    }
   ],
   "source": [
    "url = \"http://etl-image:8060/load_minute_data/oanda\"\n",
    "r = requests.get(url=url)\n",
    "print(r.text)"
   ]
  },
  {
   "cell_type": "code",
   "execution_count": 3,
   "metadata": {},
   "outputs": [
    {
     "name": "stdout",
     "output_type": "stream",
     "text": [
      "{\"Success\": \"Daily Data Loaded\"}\n",
      "\n"
     ]
    }
   ],
   "source": [
    "url = \"http://etl-image:8060/load_daily_data/alpaca\"\n",
    "r = requests.get(url=url)\n",
    "print(r.text)"
   ]
  },
  {
   "cell_type": "code",
   "execution_count": 4,
   "metadata": {},
   "outputs": [
    {
     "name": "stdout",
     "output_type": "stream",
     "text": [
      "{\"Success\": \"Test\"}\n",
      "\n"
     ]
    }
   ],
   "source": [
    "# url = \"http://etl-image:8060/test/alpaca\"\n",
    "# r = requests.get(url=url)\n",
    "# print(r.text)"
   ]
  },
  {
   "cell_type": "code",
   "execution_count": 5,
   "metadata": {},
   "outputs": [
    {
     "name": "stdout",
     "output_type": "stream",
     "text": [
      "{\"Success\": \"Indicator Data Loaded\"}\n",
      "\n"
     ]
    }
   ],
   "source": [
    "url = \"http://etl-image:8060/load_indicator_data/alpaca\"\n",
    "r = requests.get(url=url)\n",
    "print(r.text)"
   ]
  },
  {
   "cell_type": "code",
   "execution_count": 6,
   "metadata": {},
   "outputs": [],
   "source": [
    "# url = \"http://etl-image:8060/load_indicator_data/alpaca\"\n",
    "# r = requests.get(url=url)\n",
    "# print(r.text)"
   ]
  },
  {
   "cell_type": "code",
   "execution_count": null,
   "metadata": {},
   "outputs": [],
   "source": []
  }
 ],
 "metadata": {
  "kernelspec": {
   "display_name": "Python 3",
   "language": "python",
   "name": "python3"
  },
  "language_info": {
   "codemirror_mode": {
    "name": "ipython",
    "version": 3
   },
   "file_extension": ".py",
   "mimetype": "text/x-python",
   "name": "python",
   "nbconvert_exporter": "python",
   "pygments_lexer": "ipython3",
   "version": "3.7.6"
  }
 },
 "nbformat": 4,
 "nbformat_minor": 4
}
