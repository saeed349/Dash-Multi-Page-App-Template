{
 "cells": [
  {
   "cell_type": "code",
   "execution_count": 1,
   "metadata": {},
   "outputs": [],
   "source": [
    "import psycopg2\n",
    "import pandas as pd\n",
    "from plotly.offline import init_notebook_mode, iplot\n",
    "from plotly.offline import plot \n",
    "import plotly.graph_objects as go\n",
    "import warnings\n",
    "warnings.filterwarnings('ignore')\n",
    "import datetime\n",
    "\n",
    "import q_credentials.db_secmaster_cred as db_secmaster_cred\n",
    "import q_credentials.db_indicator_cred as db_indicator_cred"
   ]
  },
  {
   "cell_type": "code",
   "execution_count": 2,
   "metadata": {},
   "outputs": [],
   "source": [
    "# connect to our securities_master database\n",
    "conn_secmaster = psycopg2.connect(host=db_secmaster_cred.dbHost , database=db_secmaster_cred.dbName, user=db_secmaster_cred.dbUser, password=db_secmaster_cred.dbPWD)\n",
    "conn_indicator = psycopg2.connect(host=db_indicator_cred.dbHost , database=db_indicator_cred.dbName, user=db_indicator_cred.dbUser, password=db_indicator_cred.dbPWD)"
   ]
  },
  {
   "cell_type": "code",
   "execution_count": 7,
   "metadata": {},
   "outputs": [],
   "source": [
    "sql=\"\"\"select a.date_price date, a.open_price open, a.high_price high, a.low_price low, a.close_price as close, a.volume \n",
    "from d_data a inner join symbol b on a.symbol_id = b.id where b.ticker='EUR_USD' order by date desc\"\"\"\n",
    "df=pd.read_sql(sql,con=conn_secmaster)"
   ]
  },
  {
   "cell_type": "code",
   "execution_count": 68,
   "metadata": {},
   "outputs": [],
   "source": [
    "test=['EUR_USD','USD_JPY']"
   ]
  },
  {
   "cell_type": "code",
   "execution_count": 99,
   "metadata": {},
   "outputs": [
    {
     "data": {
      "text/plain": [
       "'2020-09-06'"
      ]
     },
     "execution_count": 99,
     "metadata": {},
     "output_type": "execute_result"
    }
   ],
   "source": [
    "str(datetime.datetime.now().date())"
   ]
  },
  {
   "cell_type": "code",
   "execution_count": 95,
   "metadata": {},
   "outputs": [],
   "source": [
    "sql=\"\"\"SELECT max(s.id) as id, s.ticker, s.name, max(d.date_price) as date\n",
    "    FROM symbol s inner join {}_data d on s.id= d.symbol_id where s.instrument='{}'\n",
    "    group by s.ticker,s.name\"\"\".format('w','us_equity')\n",
    "df_symbols=pd.read_sql(sql,con=conn_indicator)"
   ]
  },
  {
   "cell_type": "code",
   "execution_count": 96,
   "metadata": {},
   "outputs": [
    {
     "data": {
      "text/html": [
       "<div>\n",
       "<style scoped>\n",
       "    .dataframe tbody tr th:only-of-type {\n",
       "        vertical-align: middle;\n",
       "    }\n",
       "\n",
       "    .dataframe tbody tr th {\n",
       "        vertical-align: top;\n",
       "    }\n",
       "\n",
       "    .dataframe thead th {\n",
       "        text-align: right;\n",
       "    }\n",
       "</style>\n",
       "<table border=\"1\" class=\"dataframe\">\n",
       "  <thead>\n",
       "    <tr style=\"text-align: right;\">\n",
       "      <th></th>\n",
       "      <th>id</th>\n",
       "      <th>ticker</th>\n",
       "      <th>name</th>\n",
       "      <th>date</th>\n",
       "    </tr>\n",
       "  </thead>\n",
       "  <tbody>\n",
       "    <tr>\n",
       "      <th>0</th>\n",
       "      <td>71</td>\n",
       "      <td>FB</td>\n",
       "      <td>Facebook, Inc. Class A Common Stock</td>\n",
       "      <td>2020-09-04</td>\n",
       "    </tr>\n",
       "    <tr>\n",
       "      <th>1</th>\n",
       "      <td>72</td>\n",
       "      <td>LKQ</td>\n",
       "      <td>LKQ Corporation Common Stock</td>\n",
       "      <td>2020-09-04</td>\n",
       "    </tr>\n",
       "    <tr>\n",
       "      <th>2</th>\n",
       "      <td>73</td>\n",
       "      <td>MDLZ</td>\n",
       "      <td>Mondelez International, Inc. Class A Common Stock</td>\n",
       "      <td>2020-09-04</td>\n",
       "    </tr>\n",
       "    <tr>\n",
       "      <th>3</th>\n",
       "      <td>74</td>\n",
       "      <td>MNST</td>\n",
       "      <td>Monster Beverage Corporation</td>\n",
       "      <td>2020-09-04</td>\n",
       "    </tr>\n",
       "    <tr>\n",
       "      <th>4</th>\n",
       "      <td>75</td>\n",
       "      <td>NAVI</td>\n",
       "      <td>Navient Corporation Common Stock</td>\n",
       "      <td>2020-09-04</td>\n",
       "    </tr>\n",
       "    <tr>\n",
       "      <th>5</th>\n",
       "      <td>76</td>\n",
       "      <td>TRIP</td>\n",
       "      <td>TripAdvisor, Inc. Common Stock</td>\n",
       "      <td>2020-09-04</td>\n",
       "    </tr>\n",
       "  </tbody>\n",
       "</table>\n",
       "</div>"
      ],
      "text/plain": [
       "   id ticker                                               name       date\n",
       "0  71     FB                Facebook, Inc. Class A Common Stock 2020-09-04\n",
       "1  72    LKQ                       LKQ Corporation Common Stock 2020-09-04\n",
       "2  73   MDLZ  Mondelez International, Inc. Class A Common Stock 2020-09-04\n",
       "3  74   MNST                       Monster Beverage Corporation 2020-09-04\n",
       "4  75   NAVI                   Navient Corporation Common Stock 2020-09-04\n",
       "5  76   TRIP                     TripAdvisor, Inc. Common Stock 2020-09-04"
      ]
     },
     "execution_count": 96,
     "metadata": {},
     "output_type": "execute_result"
    }
   ],
   "source": [
    "df_symbols"
   ]
  },
  {
   "cell_type": "code",
   "execution_count": 81,
   "metadata": {},
   "outputs": [],
   "source": [
    "df_symbols.to_csv('test.csv')"
   ]
  },
  {
   "cell_type": "code",
   "execution_count": 70,
   "metadata": {},
   "outputs": [],
   "source": [
    "sql=\"\"\"select ticker, instrument, name, currency,created_date from symbol where ticker in ({})\"\"\".format(str(test)[1:-1])\n",
    "df_symbols=pd.read_sql(sql,con=conn_indicator)"
   ]
  },
  {
   "cell_type": "code",
   "execution_count": 67,
   "metadata": {},
   "outputs": [
    {
     "data": {
      "text/html": [
       "<div>\n",
       "<style scoped>\n",
       "    .dataframe tbody tr th:only-of-type {\n",
       "        vertical-align: middle;\n",
       "    }\n",
       "\n",
       "    .dataframe tbody tr th {\n",
       "        vertical-align: top;\n",
       "    }\n",
       "\n",
       "    .dataframe thead th {\n",
       "        text-align: right;\n",
       "    }\n",
       "</style>\n",
       "<table border=\"1\" class=\"dataframe\">\n",
       "  <thead>\n",
       "    <tr style=\"text-align: right;\">\n",
       "      <th></th>\n",
       "      <th>ticker</th>\n",
       "      <th>instrument</th>\n",
       "      <th>name</th>\n",
       "      <th>currency</th>\n",
       "      <th>created_date</th>\n",
       "    </tr>\n",
       "  </thead>\n",
       "  <tbody>\n",
       "    <tr>\n",
       "      <th>0</th>\n",
       "      <td>EUR_USD</td>\n",
       "      <td>Forex</td>\n",
       "      <td>EUR/USD</td>\n",
       "      <td>None</td>\n",
       "      <td>2020-07-05 18:03:27.106059</td>\n",
       "    </tr>\n",
       "    <tr>\n",
       "      <th>1</th>\n",
       "      <td>USD_JPY</td>\n",
       "      <td>Forex</td>\n",
       "      <td>USD/JPY</td>\n",
       "      <td>None</td>\n",
       "      <td>2020-07-05 18:03:27.106059</td>\n",
       "    </tr>\n",
       "  </tbody>\n",
       "</table>\n",
       "</div>"
      ],
      "text/plain": [
       "    ticker instrument     name currency               created_date\n",
       "0  EUR_USD      Forex  EUR/USD     None 2020-07-05 18:03:27.106059\n",
       "1  USD_JPY      Forex  USD/JPY     None 2020-07-05 18:03:27.106059"
      ]
     },
     "execution_count": 67,
     "metadata": {},
     "output_type": "execute_result"
    }
   ],
   "source": [
    "df_symbols"
   ]
  },
  {
   "cell_type": "code",
   "execution_count": 25,
   "metadata": {},
   "outputs": [
    {
     "name": "stdout",
     "output_type": "stream",
     "text": [
      "{'fromdate': datetime.datetime(2016, 1, 1, 0, 0)}\n",
      "no indicator data for AUD_USD\n",
      "no indicator data for EUR_JPY\n",
      "no indicator data for EUR_USD\n",
      "no indicator data for GBP_JPY\n",
      "no indicator data for GBP_USD\n",
      "no indicator data for NZD_USD\n",
      "no indicator data for USD_CAD\n",
      "no indicator data for USD_CHF\n",
      "no indicator data for USD_JPY\n",
      "SYMBOLS= ['AUD_USD', 'EUR_JPY', 'EUR_USD', 'GBP_JPY', 'GBP_USD', 'NZD_USD', 'USD_CAD', 'USD_CHF', 'USD_JPY']\n",
      "Strategy run finished with Run ID: None\n",
      "Profit ... or Loss: 0.00\n",
      "CPU times: user 424 ms, sys: 136 ms, total: 560 ms\n",
      "Wall time: 17.8 s\n"
     ]
    }
   ],
   "source": [
    "%%time\n",
    "!python q_pack/q_run/run_BT.py --fromdate='2016-1-1' --timeframe='w' --load_symbol='True' --strat_param \"use_level=yes,use_db=yes,ml_serving=no\""
   ]
  },
  {
   "cell_type": "code",
   "execution_count": 93,
   "metadata": {},
   "outputs": [
    {
     "name": "stdout",
     "output_type": "stream",
     "text": [
      "{'fromdate': datetime.datetime(2016, 1, 1, 0, 0)}\n",
      "no indicator data for NAVI\n",
      "no indicator data for MSFT\n",
      "no indicator data for MDLZ\n",
      "no indicator data for LKQ\n",
      "no indicator data for FB\n",
      "no indicator data for MNST\n",
      "no indicator data for TRIP\n",
      "Strategy run finished with Run ID: None\n",
      "w_data 1 75 NAVI\n",
      "SELECT max(date_price) FROM w_data WHERE indicator_id = 1 and symbol_id = 75\n",
      "w_data 2 75 NAVI\n",
      "SELECT max(date_price) FROM w_data WHERE indicator_id = 2 and symbol_id = 75\n",
      "w_data 3 75 NAVI\n",
      "SELECT max(date_price) FROM w_data WHERE indicator_id = 3 and symbol_id = 75\n",
      "w_data 4 75 NAVI\n",
      "SELECT max(date_price) FROM w_data WHERE indicator_id = 4 and symbol_id = 75\n",
      "w_data 5 75 NAVI\n",
      "SELECT max(date_price) FROM w_data WHERE indicator_id = 5 and symbol_id = 75\n",
      "w_data 1 77 MSFT\n",
      "SELECT max(date_price) FROM w_data WHERE indicator_id = 1 and symbol_id = 77\n",
      "w_data 2 77 MSFT\n",
      "SELECT max(date_price) FROM w_data WHERE indicator_id = 2 and symbol_id = 77\n",
      "w_data 3 77 MSFT\n",
      "SELECT max(date_price) FROM w_data WHERE indicator_id = 3 and symbol_id = 77\n",
      "w_data 4 77 MSFT\n",
      "SELECT max(date_price) FROM w_data WHERE indicator_id = 4 and symbol_id = 77\n",
      "w_data 5 77 MSFT\n",
      "SELECT max(date_price) FROM w_data WHERE indicator_id = 5 and symbol_id = 77\n",
      "w_data 1 73 MDLZ\n",
      "SELECT max(date_price) FROM w_data WHERE indicator_id = 1 and symbol_id = 73\n",
      "w_data 2 73 MDLZ\n",
      "SELECT max(date_price) FROM w_data WHERE indicator_id = 2 and symbol_id = 73\n",
      "w_data 3 73 MDLZ\n",
      "SELECT max(date_price) FROM w_data WHERE indicator_id = 3 and symbol_id = 73\n",
      "w_data 4 73 MDLZ\n",
      "SELECT max(date_price) FROM w_data WHERE indicator_id = 4 and symbol_id = 73\n",
      "w_data 5 73 MDLZ\n",
      "SELECT max(date_price) FROM w_data WHERE indicator_id = 5 and symbol_id = 73\n",
      "w_data 1 72 LKQ\n",
      "SELECT max(date_price) FROM w_data WHERE indicator_id = 1 and symbol_id = 72\n",
      "w_data 2 72 LKQ\n",
      "SELECT max(date_price) FROM w_data WHERE indicator_id = 2 and symbol_id = 72\n",
      "w_data 3 72 LKQ\n",
      "SELECT max(date_price) FROM w_data WHERE indicator_id = 3 and symbol_id = 72\n",
      "w_data 4 72 LKQ\n",
      "SELECT max(date_price) FROM w_data WHERE indicator_id = 4 and symbol_id = 72\n",
      "w_data 5 72 LKQ\n",
      "SELECT max(date_price) FROM w_data WHERE indicator_id = 5 and symbol_id = 72\n",
      "w_data 1 71 FB\n",
      "SELECT max(date_price) FROM w_data WHERE indicator_id = 1 and symbol_id = 71\n",
      "w_data 2 71 FB\n",
      "SELECT max(date_price) FROM w_data WHERE indicator_id = 2 and symbol_id = 71\n",
      "w_data 3 71 FB\n",
      "SELECT max(date_price) FROM w_data WHERE indicator_id = 3 and symbol_id = 71\n",
      "w_data 4 71 FB\n",
      "SELECT max(date_price) FROM w_data WHERE indicator_id = 4 and symbol_id = 71\n",
      "w_data 5 71 FB\n",
      "SELECT max(date_price) FROM w_data WHERE indicator_id = 5 and symbol_id = 71\n",
      "w_data 1 74 MNST\n",
      "SELECT max(date_price) FROM w_data WHERE indicator_id = 1 and symbol_id = 74\n",
      "w_data 2 74 MNST\n",
      "SELECT max(date_price) FROM w_data WHERE indicator_id = 2 and symbol_id = 74\n",
      "w_data 3 74 MNST\n",
      "SELECT max(date_price) FROM w_data WHERE indicator_id = 3 and symbol_id = 74\n",
      "w_data 4 74 MNST\n",
      "SELECT max(date_price) FROM w_data WHERE indicator_id = 4 and symbol_id = 74\n",
      "w_data 5 74 MNST\n",
      "SELECT max(date_price) FROM w_data WHERE indicator_id = 5 and symbol_id = 74\n",
      "w_data 1 76 TRIP\n",
      "SELECT max(date_price) FROM w_data WHERE indicator_id = 1 and symbol_id = 76\n",
      "w_data 2 76 TRIP\n",
      "SELECT max(date_price) FROM w_data WHERE indicator_id = 2 and symbol_id = 76\n",
      "w_data 3 76 TRIP\n",
      "SELECT max(date_price) FROM w_data WHERE indicator_id = 3 and symbol_id = 76\n",
      "w_data 4 76 TRIP\n",
      "SELECT max(date_price) FROM w_data WHERE indicator_id = 4 and symbol_id = 76\n",
      "w_data 5 76 TRIP\n",
      "SELECT max(date_price) FROM w_data WHERE indicator_id = 5 and symbol_id = 76\n",
      "Profit ... or Loss: 0.00\n",
      "CPU times: user 399 ms, sys: 153 ms, total: 552 ms\n",
      "Wall time: 16.9 s\n"
     ]
    }
   ],
   "source": [
    "%%time\n",
    "!python q_pack/q_run/run_BT.py --fromdate='2016-1-1' --timeframe='w' --load_symbol='True' --universe='US Equity' --strat_param \"use_level=yes,use_db=yes,ml_serving=no\""
   ]
  },
  {
   "cell_type": "code",
   "execution_count": null,
   "metadata": {},
   "outputs": [],
   "source": []
  }
 ],
 "metadata": {
  "kernelspec": {
   "display_name": "Python 3",
   "language": "python",
   "name": "python3"
  },
  "language_info": {
   "codemirror_mode": {
    "name": "ipython",
    "version": 3
   },
   "file_extension": ".py",
   "mimetype": "text/x-python",
   "name": "python",
   "nbconvert_exporter": "python",
   "pygments_lexer": "ipython3",
   "version": "3.8.5"
  }
 },
 "nbformat": 4,
 "nbformat_minor": 4
}
