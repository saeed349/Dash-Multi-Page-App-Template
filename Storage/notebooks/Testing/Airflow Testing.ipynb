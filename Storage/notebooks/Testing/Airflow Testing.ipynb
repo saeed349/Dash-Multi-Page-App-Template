{
 "cells": [
  {
   "cell_type": "code",
   "execution_count": 1,
   "metadata": {},
   "outputs": [],
   "source": [
    "import pandas as pd\n",
    "import boto3"
   ]
  },
  {
   "cell_type": "code",
   "execution_count": 12,
   "metadata": {},
   "outputs": [],
   "source": [
    "s3 = boto3.client('s3',endpoint_url=\"http://minio-image:9000\",aws_access_key_id=\"minio-image\",aws_secret_access_key=\"minio-image-pass\")\n",
    "Bucket=\"airflow-files\"\n",
    "Key=\"indicator_loading.csv\"\n",
    "read_file = s3.get_object(Bucket=Bucket, Key=Key)\n",
    "df = pd.read_csv(read_file['Body'],sep=',')\n",
    "\n",
    "df.fillna('', inplace=True)"
   ]
  },
  {
   "cell_type": "code",
   "execution_count": 13,
   "metadata": {},
   "outputs": [
    {
     "data": {
      "text/html": [
       "<div>\n",
       "<style scoped>\n",
       "    .dataframe tbody tr th:only-of-type {\n",
       "        vertical-align: middle;\n",
       "    }\n",
       "\n",
       "    .dataframe tbody tr th {\n",
       "        vertical-align: top;\n",
       "    }\n",
       "\n",
       "    .dataframe thead th {\n",
       "        text-align: right;\n",
       "    }\n",
       "</style>\n",
       "<table border=\"1\" class=\"dataframe\">\n",
       "  <thead>\n",
       "    <tr style=\"text-align: right;\">\n",
       "      <th></th>\n",
       "      <th>Strategy</th>\n",
       "      <th>Mode</th>\n",
       "      <th>Securities</th>\n",
       "      <th>Timeframe</th>\n",
       "      <th>Strategy Parameters</th>\n",
       "    </tr>\n",
       "  </thead>\n",
       "  <tbody>\n",
       "    <tr>\n",
       "      <th>0</th>\n",
       "      <td>simple_strategy_3</td>\n",
       "      <td>backtest</td>\n",
       "      <td>AUD_USD,EUR_JPY,EUR_USD,GBP_JPY,GBP_USD,NZD_US...</td>\n",
       "      <td>daily</td>\n",
       "      <td>use_level=yes,use_db=yes</td>\n",
       "    </tr>\n",
       "    <tr>\n",
       "      <th>1</th>\n",
       "      <td>simple_strategy_3</td>\n",
       "      <td>backtest</td>\n",
       "      <td>AUD_USD,EUR_JPY,EUR_USD,GBP_JPY,GBP_USD,NZD_US...</td>\n",
       "      <td>daily</td>\n",
       "      <td>use_level=no,use_db=yes</td>\n",
       "    </tr>\n",
       "  </tbody>\n",
       "</table>\n",
       "</div>"
      ],
      "text/plain": [
       "            Strategy      Mode  \\\n",
       "0  simple_strategy_3  backtest   \n",
       "1  simple_strategy_3  backtest   \n",
       "\n",
       "                                          Securities Timeframe  \\\n",
       "0  AUD_USD,EUR_JPY,EUR_USD,GBP_JPY,GBP_USD,NZD_US...     daily   \n",
       "1  AUD_USD,EUR_JPY,EUR_USD,GBP_JPY,GBP_USD,NZD_US...     daily   \n",
       "\n",
       "        Strategy Parameters  \n",
       "0  use_level=yes,use_db=yes  \n",
       "1   use_level=no,use_db=yes  "
      ]
     },
     "execution_count": 13,
     "metadata": {},
     "output_type": "execute_result"
    }
   ],
   "source": [
    "df"
   ]
  },
  {
   "cell_type": "code",
   "execution_count": 14,
   "metadata": {},
   "outputs": [
    {
     "name": "stdout",
     "output_type": "stream",
     "text": [
      "python /usr/local/airflow/dags/q_pack/q_run/run_BT.py --strat_name=simple_strategy_3 --mode=backtest --tickers=AUD_USD,EUR_JPY,EUR_USD,GBP_JPY,GBP_USD,NZD_USD,USD_CAD,USD_CHF,USD_JPY --timeframe=daily --strat_param=use_level=yes,use_db=yes\n",
      "python /usr/local/airflow/dags/q_pack/q_run/run_BT.py --strat_name=simple_strategy_3 --mode=backtest --tickers=AUD_USD,EUR_JPY,EUR_USD,GBP_JPY,GBP_USD,NZD_USD,USD_CAD,USD_CHF,USD_JPY --timeframe=daily --strat_param=use_level=no,use_db=yes\n"
     ]
    }
   ],
   "source": [
    "for i,row in df.iterrows():\n",
    "            command={}\n",
    "            command['--strat_name']=row['Strategy']\n",
    "            command['--mode']=str(row['Mode'])\n",
    "            command['--tickers']=row['Securities']\n",
    "            command['--timeframe']=row['Timeframe']\n",
    "            command['--strat_param']=row['Strategy Parameters']\n",
    "            final_command='python /usr/local/airflow/dags/q_pack/q_run/run_BT.py '+' '.join([(k+\"=\"+v) for k, v in command.items() if v!=''])\n",
    "            print(final_command)"
   ]
  },
  {
   "cell_type": "code",
   "execution_count": 9,
   "metadata": {},
   "outputs": [
    {
     "data": {
      "text/plain": [
       "'python /usr/local/airflow/dags/q_pack/q_run/run_BT.py --strat_name=simple_strategy_3 --mode=backtest --tickers=AUD_USD,EUR_JPY,EUR_USD,GBP_JPY,GBP_USD,NZD_USD,USD_CAD,USD_CHF,USD_JPY --timeframe=daily --strat_param=use_level=yes,use_db=yes'"
      ]
     },
     "execution_count": 9,
     "metadata": {},
     "output_type": "execute_result"
    }
   ],
   "source": [
    "final_commmand"
   ]
  },
  {
   "cell_type": "code",
   "execution_count": 1,
   "metadata": {},
   "outputs": [],
   "source": [
    "import json\n",
    "import pandas as pd\n",
    "import boto3\n",
    "import io\n",
    "import numpy as np\n",
    "\n",
    "from db_pack.zerodha import zerodha_historical\n",
    "import q_run.run_BT_dynamic as run_BT_dynamic\n",
    "\n",
    "import q_credentials.db_secmaster_cred as db_secmaster_cred\n",
    "import psycopg2\n",
    "db_host=db_secmaster_cred.dbHost \n",
    "db_user=db_secmaster_cred.dbUser\n",
    "db_password=db_secmaster_cred.dbPWD\n",
    "db_name=db_secmaster_cred.dbName\n",
    "\n",
    "\n"
   ]
  },
  {
   "cell_type": "code",
   "execution_count": 2,
   "metadata": {},
   "outputs": [
    {
     "name": "stderr",
     "output_type": "stream",
     "text": [
      "/opt/conda/lib/python3.8/site-packages/ipykernel/ipkernel.py:287: DeprecationWarning: `should_run_async` will not call `transform_cell` automatically in the future. Please pass the result to `transformed_cell` argument and any exception that happen during thetransform in `preprocessing_exc_tuple` in IPython 7.17 and above.\n",
      "  and should_run_async(code)\n",
      "/opt/conda/lib/python3.8/site-packages/xlrd/xlsx.py:266: DeprecationWarning: This method will be removed in future versions.  Use 'tree.iter()' or 'list(tree.iter())' instead.\n",
      "  for elem in self.tree.iter() if Element_has_iter else self.tree.getiterator():\n"
     ]
    }
   ],
   "source": [
    "\n",
    "dag_id = \"alpaca_dynamic_new\"\n",
    "universe='US Equity'\n",
    "s3 = boto3.client('s3',endpoint_url=\"http://minio-image:9000\",aws_access_key_id=\"minio-image\",aws_secret_access_key=\"minio-image-pass\")\n",
    "Bucket=\"airflow-files\"\n",
    "if universe=='US Equity':\n",
    "    Key=\"interested_tickers_alpaca.xlsx\"\n",
    "elif universe=='Forex':\n",
    "    Key=\"interested_tickers_oanda.xlsx\"\n",
    "elif universe=='Indian Equity':\n",
    "    Key=\"interested_tickers_india.xlsx\"\n",
    "read_file = s3.get_object(Bucket=Bucket, Key=Key)\n",
    "df = pd.read_excel(io.BytesIO(read_file['Body'].read()),sheet_name=\"d\")\n",
    "\n",
    "ticker_list = list(df['Tickers'])\n",
    "\n",
    "# Getting the last date for each interested tickers\n",
    "conn = psycopg2.connect(host=db_host, database=db_name, user=db_user, password=db_password)\n",
    "sql=\"\"\"select a.min_date, a.max_date, b.id as symbol_id, b.ticker from\n",
    "    (select min(date_price) as min_date, max(date_price) as max_date, symbol_id\n",
    "    from {}_data \n",
    "    group by symbol_id) a right join symbol b on a.symbol_id = b.id \n",
    "    where b.ticker in {} \"\"\".format('d',str(tuple(df['Tickers'])).replace(\",)\", \")\"))\n",
    "df_ticker_last_day=pd.read_sql(sql,con=conn)\n"
   ]
  },
  {
   "cell_type": "code",
   "execution_count": 3,
   "metadata": {},
   "outputs": [
    {
     "name": "stderr",
     "output_type": "stream",
     "text": [
      "/opt/conda/lib/python3.8/site-packages/ipykernel/ipkernel.py:287: DeprecationWarning: `should_run_async` will not call `transform_cell` automatically in the future. Please pass the result to `transformed_cell` argument and any exception that happen during thetransform in `preprocessing_exc_tuple` in IPython 7.17 and above.\n",
      "  and should_run_async(code)\n"
     ]
    }
   ],
   "source": [
    "df_ticker_last_day.to_csv('alpaca_airflow.csv')"
   ]
  },
  {
   "cell_type": "code",
   "execution_count": null,
   "metadata": {},
   "outputs": [],
   "source": []
  }
 ],
 "metadata": {
  "kernelspec": {
   "display_name": "Python 3",
   "language": "python",
   "name": "python3"
  },
  "language_info": {
   "codemirror_mode": {
    "name": "ipython",
    "version": 3
   },
   "file_extension": ".py",
   "mimetype": "text/x-python",
   "name": "python",
   "nbconvert_exporter": "python",
   "pygments_lexer": "ipython3",
   "version": "3.8.5"
  }
 },
 "nbformat": 4,
 "nbformat_minor": 4
}
