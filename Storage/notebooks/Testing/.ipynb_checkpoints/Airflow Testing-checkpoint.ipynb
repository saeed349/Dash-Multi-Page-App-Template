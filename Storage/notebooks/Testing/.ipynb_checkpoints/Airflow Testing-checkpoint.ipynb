{
 "cells": [
  {
   "cell_type": "code",
   "execution_count": 1,
   "metadata": {},
   "outputs": [],
   "source": [
    "import pandas as pd\n",
    "import boto3"
   ]
  },
  {
   "cell_type": "code",
   "execution_count": 2,
   "metadata": {},
   "outputs": [],
   "source": [
    "s3 = boto3.client('s3',endpoint_url=\"http://minio-image:9000\",aws_access_key_id=\"minio-image\",aws_secret_access_key=\"minio-image-pass\")\n",
    "Bucket=\"airflow-files\"\n",
    "Key=\"indicator_loading.csv\"\n",
    "read_file = s3.get_object(Bucket=Bucket, Key=Key)\n",
    "df = pd.read_csv(read_file['Body'],sep=',')\n",
    "\n",
    "df.fillna('', inplace=True)"
   ]
  },
  {
   "cell_type": "code",
   "execution_count": 3,
   "metadata": {},
   "outputs": [
    {
     "data": {
      "text/html": [
       "<div>\n",
       "<style scoped>\n",
       "    .dataframe tbody tr th:only-of-type {\n",
       "        vertical-align: middle;\n",
       "    }\n",
       "\n",
       "    .dataframe tbody tr th {\n",
       "        vertical-align: top;\n",
       "    }\n",
       "\n",
       "    .dataframe thead th {\n",
       "        text-align: right;\n",
       "    }\n",
       "</style>\n",
       "<table border=\"1\" class=\"dataframe\">\n",
       "  <thead>\n",
       "    <tr style=\"text-align: right;\">\n",
       "      <th></th>\n",
       "      <th>Strategy</th>\n",
       "      <th>Mode</th>\n",
       "      <th>Securities</th>\n",
       "      <th>Timeframe</th>\n",
       "      <th>Strategy Parameters</th>\n",
       "    </tr>\n",
       "  </thead>\n",
       "  <tbody>\n",
       "    <tr>\n",
       "      <th>0</th>\n",
       "      <td>simple_strategy_3</td>\n",
       "      <td>backtest</td>\n",
       "      <td>AUD_USD,EUR_JPY,EUR_USD,GBP_JPY,GBP_USD,NZD_US...</td>\n",
       "      <td>daily</td>\n",
       "      <td>use_level=yes,use_db=yes</td>\n",
       "    </tr>\n",
       "  </tbody>\n",
       "</table>\n",
       "</div>"
      ],
      "text/plain": [
       "            Strategy      Mode  \\\n",
       "0  simple_strategy_3  backtest   \n",
       "\n",
       "                                          Securities Timeframe  \\\n",
       "0  AUD_USD,EUR_JPY,EUR_USD,GBP_JPY,GBP_USD,NZD_US...     daily   \n",
       "\n",
       "        Strategy Parameters  \n",
       "0  use_level=yes,use_db=yes  "
      ]
     },
     "execution_count": 3,
     "metadata": {},
     "output_type": "execute_result"
    }
   ],
   "source": [
    "df"
   ]
  },
  {
   "cell_type": "code",
   "execution_count": 6,
   "metadata": {},
   "outputs": [
    {
     "name": "stdout",
     "output_type": "stream",
     "text": [
      "['use_level=yes', 'use_db=yes']\n"
     ]
    }
   ],
   "source": [
    "for i,row in df.iterrows():\n",
    "            command={}\n",
    "            command['--strat_name']=row['Strategy']\n",
    "            command['--mode']=str(row['Mode'])\n",
    "            command['--tickers']=row['Securities']\n",
    "            command['--timeframe']=row['Timeframe']\n",
    "            if row[\"Strategy Parameters\"]!=\"\":\n",
    "                print(row[\"Strategy Parameters\"].split(','))\n",
    "#                 command['--strat_param']=(\"model_uri=\"+row['Model ID']+\",\"+row[\"Strategy Parameters\"]) if row[\"Strategy Parameters\"]!=\"\" else (\"model_uri=\"+row['Model ID'])\n",
    "            final_commmand='python /usr/local/airflow/dags/q_pack/q_run/run_BT.py '+' '.join([(k+\"=\"+v) for k, v in command.items() if v!=''])"
   ]
  },
  {
   "cell_type": "code",
   "execution_count": 7,
   "metadata": {},
   "outputs": [
    {
     "data": {
      "text/plain": [
       "'python /usr/local/airflow/dags/q_pack/q_run/run_BT.py --strat_name=simple_strategy_3 --mode=backtest --tickers=AUD_USD,EUR_JPY,EUR_USD,GBP_JPY,GBP_USD,NZD_USD,USD_CAD,USD_CHF,USD_JPY'"
      ]
     },
     "execution_count": 7,
     "metadata": {},
     "output_type": "execute_result"
    }
   ],
   "source": [
    "final_commmand"
   ]
  },
  {
   "cell_type": "code",
   "execution_count": null,
   "metadata": {},
   "outputs": [],
   "source": []
  }
 ],
 "metadata": {
  "kernelspec": {
   "display_name": "Python 3",
   "language": "python",
   "name": "python3"
  },
  "language_info": {
   "codemirror_mode": {
    "name": "ipython",
    "version": 3
   },
   "file_extension": ".py",
   "mimetype": "text/x-python",
   "name": "python",
   "nbconvert_exporter": "python",
   "pygments_lexer": "ipython3",
   "version": "3.7.6"
  }
 },
 "nbformat": 4,
 "nbformat_minor": 4
}
