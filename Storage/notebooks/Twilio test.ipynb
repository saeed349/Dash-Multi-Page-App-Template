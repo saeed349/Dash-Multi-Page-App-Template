{
 "cells": [
  {
   "cell_type": "code",
   "execution_count": 1,
   "metadata": {},
   "outputs": [
    {
     "name": "stdout",
     "output_type": "stream",
     "text": [
      "\u001b[33mWARNING: The directory '/home/jovyan/.cache/pip' or its parent directory is not owned or is not writable by the current user. The cache has been disabled. Check the permissions and owner of that directory. If executing pip with sudo, you may want sudo's -H flag.\u001b[0m\n",
      "Collecting twilio\n",
      "  Downloading twilio-6.42.0.tar.gz (437 kB)\n",
      "\u001b[K     |████████████████████████████████| 437 kB 5.2 MB/s eta 0:00:01\n",
      "\u001b[?25hRequirement already satisfied: six in /opt/conda/lib/python3.7/site-packages (from twilio) (1.14.0)\n",
      "Requirement already satisfied: pytz in /opt/conda/lib/python3.7/site-packages (from twilio) (2019.3)\n",
      "Requirement already satisfied: PyJWT>=1.4.2 in /opt/conda/lib/python3.7/site-packages (from twilio) (1.7.1)\n",
      "Requirement already satisfied: requests>=2.0.0 in /opt/conda/lib/python3.7/site-packages (from twilio) (2.23.0)\n",
      "Requirement already satisfied: urllib3!=1.25.0,!=1.25.1,<1.26,>=1.21.1 in /opt/conda/lib/python3.7/site-packages (from requests>=2.0.0->twilio) (1.25.7)\n",
      "Requirement already satisfied: idna<3,>=2.5 in /opt/conda/lib/python3.7/site-packages (from requests>=2.0.0->twilio) (2.9)\n",
      "Requirement already satisfied: certifi>=2017.4.17 in /opt/conda/lib/python3.7/site-packages (from requests>=2.0.0->twilio) (2019.11.28)\n",
      "Requirement already satisfied: chardet<4,>=3.0.2 in /opt/conda/lib/python3.7/site-packages (from requests>=2.0.0->twilio) (3.0.4)\n",
      "Building wheels for collected packages: twilio\n",
      "  Building wheel for twilio (setup.py) ... \u001b[?25ldone\n",
      "\u001b[?25h  Created wheel for twilio: filename=twilio-6.42.0-py2.py3-none-any.whl size=1155037 sha256=04e47cf77a2a358458edb46703610624901f7797a786eb7997a2df14e6a3c7df\n",
      "  Stored in directory: /tmp/pip-ephem-wheel-cache-eazm2kwe/wheels/8f/d9/85/67781a1e50902adc0e2316077e4607e42a91d19aec11506da6\n",
      "Successfully built twilio\n",
      "Installing collected packages: twilio\n",
      "Successfully installed twilio-6.42.0\n",
      "Note: you may need to restart the kernel to use updated packages.\n"
     ]
    }
   ],
   "source": [
    "pip install twilio"
   ]
  },
  {
   "cell_type": "code",
   "execution_count": 2,
   "metadata": {},
   "outputs": [],
   "source": [
    "from twilio.rest import Client"
   ]
  },
  {
   "cell_type": "code",
   "execution_count": 3,
   "metadata": {},
   "outputs": [],
   "source": [
    "account_sid = 'AC212a9d358d91860c6ad2d96d892ba62f' # Found on Twilio Console Dashboard\n",
    "auth_token = '3679727df6a1cefb275c11382c94fb0f' # Found on Twilio Console Dashboard\n",
    "\n",
    "myPhone = '+15512083809'\n",
    "TwilioNumber = '+12058467764' # Phone number given to you by Twilio\n",
    "\n",
    "client = Client(account_sid, auth_token)\n"
   ]
  },
  {
   "cell_type": "code",
   "execution_count": 4,
   "metadata": {},
   "outputs": [
    {
     "data": {
      "text/plain": [
       "<Twilio.Api.V2010.MessageInstance account_sid=AC212a9d358d91860c6ad2d96d892ba62f sid=SM88f20dd14ada45c6ad520ec4cefbe9cf>"
      ]
     },
     "execution_count": 4,
     "metadata": {},
     "output_type": "execute_result"
    }
   ],
   "source": [
    "client.messages.create(\n",
    "  to=myPhone,\n",
    "  from_=TwilioNumber,\n",
    "  body='I sent a text message from Python! ' + u'\\U0001f680')"
   ]
  },
  {
   "cell_type": "code",
   "execution_count": null,
   "metadata": {},
   "outputs": [],
   "source": []
  }
 ],
 "metadata": {
  "kernelspec": {
   "display_name": "Python 3",
   "language": "python",
   "name": "python3"
  },
  "language_info": {
   "codemirror_mode": {
    "name": "ipython",
    "version": 3
   },
   "file_extension": ".py",
   "mimetype": "text/x-python",
   "name": "python",
   "nbconvert_exporter": "python",
   "pygments_lexer": "ipython3",
   "version": "3.7.6"
  }
 },
 "nbformat": 4,
 "nbformat_minor": 4
}
